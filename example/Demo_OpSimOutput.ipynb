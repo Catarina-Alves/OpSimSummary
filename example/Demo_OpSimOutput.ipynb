{
 "cells": [
  {
   "cell_type": "markdown",
   "metadata": {},
   "source": [
    "# Demonstrate the use of OpSimOutput"
   ]
  },
  {
   "cell_type": "markdown",
   "metadata": {},
   "source": [
    "This demo notebook demonstrates the following:\n",
    "- recommended way of reading in from an OpSim database\n",
    "- zeroDDFdither = True or False options"
   ]
  },
  {
   "cell_type": "code",
   "execution_count": 4,
   "metadata": {
    "collapsed": true
   },
   "outputs": [],
   "source": [
    "import opsimsummary as oss"
   ]
  },
  {
   "cell_type": "code",
   "execution_count": 1,
   "metadata": {
    "collapsed": true
   },
   "outputs": [],
   "source": [
    "from opsimsummary import OpSimOutput"
   ]
  },
  {
   "cell_type": "code",
   "execution_count": 25,
   "metadata": {
    "collapsed": true
   },
   "outputs": [],
   "source": [
    "import os"
   ]
  },
  {
   "cell_type": "markdown",
   "metadata": {},
   "source": [
    "We use a small opsim output package for demonstration that is shipped with the package."
   ]
  },
  {
   "cell_type": "code",
   "execution_count": 10,
   "metadata": {
    "collapsed": false
   },
   "outputs": [],
   "source": [
    "opsimdb = os.path.join(oss.__path__[0], 'example_data', 'enigma_1189_micro.db')"
   ]
  },
  {
   "cell_type": "code",
   "execution_count": null,
   "metadata": {
    "collapsed": true
   },
   "outputs": [],
   "source": []
  },
  {
   "cell_type": "code",
   "execution_count": 12,
   "metadata": {
    "collapsed": false
   },
   "outputs": [
    {
     "name": "stdout",
     "output_type": "stream",
     "text": [
      " reading from database sqlite:////Users/rbiswas/.local/lib/python2.7/site-packages/opsimsummary/example_data/enigma_1189_micro.db\n"
     ]
    },
    {
     "name": "stderr",
     "output_type": "stream",
     "text": [
      "/usr/local/miniconda/lib/python2.7/site-packages/pandas/core/indexing.py:476: SettingWithCopyWarning: \n",
      "A value is trying to be set on a copy of a slice from a DataFrame.\n",
      "Try using .loc[row_indexer,col_indexer] = value instead\n",
      "\n",
      "See the caveats in the documentation: http://pandas.pydata.org/pandas-docs/stable/indexing.html#indexing-view-versus-copy\n",
      "  self.obj[item] = s\n"
     ]
    }
   ],
   "source": [
    "opsout = OpSimOutput.fromOpSimDB(opsimdb, subset='unique_all')"
   ]
  },
  {
   "cell_type": "code",
   "execution_count": 13,
   "metadata": {
    "collapsed": false
   },
   "outputs": [
    {
     "data": {
      "text/plain": [
       "{u'../conf/survey/galacticplaneprop.conf': 362,\n",
       " u'../conf/survey/northeclipticspur-18c.conf': 365,\n",
       " u'../conf/survey/southcelestialpole-18.conf': 363,\n",
       " 'ddf': 366,\n",
       " 'wfd': 364}"
      ]
     },
     "execution_count": 13,
     "metadata": {},
     "output_type": "execute_result"
    }
   ],
   "source": [
    "opsout.propIDDict"
   ]
  },
  {
   "cell_type": "code",
   "execution_count": 14,
   "metadata": {
    "collapsed": true
   },
   "outputs": [],
   "source": [
    "opsout.summary['ditherInRA'] = opsout.summary.ditheredRA -opsout.summary.fieldRA\n",
    "opsout.summary['ditherInDec'] = opsout.summary.ditheredDec -opsout.summary.fieldDec"
   ]
  },
  {
   "cell_type": "code",
   "execution_count": 16,
   "metadata": {
    "collapsed": false
   },
   "outputs": [
    {
     "data": {
      "text/plain": [
       "array([ 0.])"
      ]
     },
     "execution_count": 16,
     "metadata": {},
     "output_type": "execute_result"
    }
   ],
   "source": [
    "opsout.summary.query('propID == 366').ditherInRA.unique()"
   ]
  },
  {
   "cell_type": "code",
   "execution_count": 17,
   "metadata": {
    "collapsed": false
   },
   "outputs": [
    {
     "data": {
      "text/plain": [
       "array([ 0.])"
      ]
     },
     "execution_count": 17,
     "metadata": {},
     "output_type": "execute_result"
    }
   ],
   "source": [
    "opsout.summary.query('propID == 366').ditherInDec.unique()"
   ]
  },
  {
   "cell_type": "code",
   "execution_count": 18,
   "metadata": {
    "collapsed": false
   },
   "outputs": [
    {
     "data": {
      "text/plain": [
       "array([-0.00693527, -0.00671326, -0.00669524, ..., -0.01606634,\n",
       "       -0.01629516, -0.01603056])"
      ]
     },
     "execution_count": 18,
     "metadata": {},
     "output_type": "execute_result"
    }
   ],
   "source": [
    "opsout.summary.query('propID == 364').ditherInRA.unique()"
   ]
  },
  {
   "cell_type": "code",
   "execution_count": 19,
   "metadata": {
    "collapsed": false
   },
   "outputs": [
    {
     "data": {
      "text/plain": [
       "array([-0.003306, -0.003306, -0.003306, -0.003306, -0.003306, -0.003306,\n",
       "       -0.003306, -0.003306, -0.003306, -0.003306, -0.003306,  0.      ,\n",
       "       -0.006613, -0.006613, -0.006613, -0.006613, -0.006613, -0.006613,\n",
       "       -0.006613, -0.006613, -0.006613, -0.006613, -0.006613, -0.006613,\n",
       "       -0.009919, -0.009919, -0.009919, -0.009919, -0.009919, -0.009919,\n",
       "       -0.009919, -0.009919,  0.006613,  0.006613,  0.006613,  0.006613,\n",
       "        0.006613,  0.006613,  0.006613,  0.006613,  0.006613,  0.006613,\n",
       "        0.006613,  0.003306,  0.003306,  0.003306,  0.003306,  0.003306,\n",
       "        0.003306,  0.003306,  0.003306,  0.003306,  0.003306,  0.003306,\n",
       "        0.009919,  0.009919,  0.009919,  0.009919,  0.009919,  0.009919,\n",
       "        0.009919,  0.009919,  0.009919,  0.006613, -0.026451, -0.019838,\n",
       "       -0.019838, -0.019838, -0.019838, -0.019838, -0.019838, -0.019838,\n",
       "       -0.019838, -0.023145, -0.023145, -0.023145, -0.023145, -0.023145,\n",
       "       -0.023145, -0.023145, -0.023145, -0.023145, -0.023145, -0.023145,\n",
       "       -0.016532, -0.016532, -0.016532, -0.016532, -0.016532, -0.016532,\n",
       "       -0.016532, -0.016532, -0.016532, -0.016532, -0.026451, -0.026451,\n",
       "       -0.026451, -0.026451, -0.026451, -0.026451, -0.026451, -0.026451,\n",
       "       -0.026451, -0.009919, -0.013226, -0.013226, -0.013226, -0.013226,\n",
       "       -0.013226, -0.013226, -0.013226, -0.013226, -0.013226, -0.016532])"
      ]
     },
     "execution_count": 19,
     "metadata": {},
     "output_type": "execute_result"
    }
   ],
   "source": [
    "opsout.summary.query('propID == 364').ditherInDec.unique()"
   ]
  },
  {
   "cell_type": "code",
   "execution_count": 20,
   "metadata": {
    "collapsed": false
   },
   "outputs": [
    {
     "name": "stdout",
     "output_type": "stream",
     "text": [
      " reading from database sqlite:////Users/rbiswas/.local/lib/python2.7/site-packages/opsimsummary/example_data/enigma_1189_micro.db\n"
     ]
    }
   ],
   "source": [
    "opsout_likemaf = OpSimOutput.fromOpSimDB(opsimdb, subset='unique_all', zeroDDFDithers=False)"
   ]
  },
  {
   "cell_type": "code",
   "execution_count": 21,
   "metadata": {
    "collapsed": true
   },
   "outputs": [],
   "source": [
    "opsout_likemaf.summary['ditherInRA'] = opsout_likemaf.summary.ditheredRA -opsout_likemaf.summary.fieldRA\n",
    "opsout_likemaf.summary['ditherInDec'] = opsout_likemaf.summary.ditheredDec -opsout_likemaf.summary.fieldDec"
   ]
  },
  {
   "cell_type": "code",
   "execution_count": 24,
   "metadata": {
    "collapsed": false
   },
   "outputs": [
    {
     "data": {
      "text/plain": [
       "array([ -2.48464412e-02,   4.08704610e-02,  -4.30196047e-03,\n",
       "        -1.27552534e-02,  -1.07549012e-02,   6.27501093e+00,\n",
       "        -9.58279400e-03,  -6.45294071e-03,  -5.74967640e-03,\n",
       "         8.60392095e-03,   1.14993528e-02,   6.26956134e+00,\n",
       "         0.00000000e+00,  -4.67670351e-02,   6.25321402e+00,\n",
       "        -2.10811428e-02,  -3.22635768e-02,   6.26411176e+00,\n",
       "        -2.97622578e-02,  -1.34159116e-02,  -1.93588221e-02,\n",
       "        -1.72490292e-02,  -2.12587556e-02,  -1.50568617e-02,\n",
       "         6.25866217e+00,  -3.82657601e-02,  -1.29058814e-02,\n",
       "         1.50568617e-02,   5.74967640e-03,   2.15098024e-03,\n",
       "         4.30196047e-03,   2.58106361e-02,   1.72078419e-02,\n",
       "         3.01125966e-02,  -2.79616163e-02,   2.67577829e-02,\n",
       "         2.29977017e-02,   3.44145570e-02,  -2.87473781e-02,\n",
       "         3.06639369e-02,   2.15098024e-02,  -2.36596558e-02,\n",
       "        -2.49142605e-02])"
      ]
     },
     "execution_count": 24,
     "metadata": {},
     "output_type": "execute_result"
    }
   ],
   "source": [
    "opsout_likemaf.summary.query('propID == 366').ditherInRA.unique()"
   ]
  },
  {
   "cell_type": "code",
   "execution_count": null,
   "metadata": {
    "collapsed": true
   },
   "outputs": [],
   "source": []
  }
 ],
 "metadata": {
  "anaconda-cloud": {},
  "kernelspec": {
   "display_name": "Python [conda root]",
   "language": "python",
   "name": "conda-root-py"
  },
  "language_info": {
   "codemirror_mode": {
    "name": "ipython",
    "version": 2
   },
   "file_extension": ".py",
   "mimetype": "text/x-python",
   "name": "python",
   "nbconvert_exporter": "python",
   "pygments_lexer": "ipython2",
   "version": "2.7.12"
  }
 },
 "nbformat": 4,
 "nbformat_minor": 1
}
