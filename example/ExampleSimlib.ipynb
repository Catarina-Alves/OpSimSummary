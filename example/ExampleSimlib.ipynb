{
 "metadata": {
  "name": "",
  "signature": "sha256:56eb1601b6ca84bc652ddb6b2e72ce21f0ac5f01ec34fad9f221c0f6a6361f7c"
 },
 "nbformat": 3,
 "nbformat_minor": 0,
 "worksheets": [
  {
   "cells": [
    {
     "cell_type": "code",
     "collapsed": false,
     "input": [
      "# Required packages sqlachemy, pandas (both are part of anaconda distribution, or can be installed with a python installer)\n",
      "# One step requires the LSST stack, can be skipped for the particular OPSIM database in question\n",
      "import simlibs.summarize_opsim as so\n",
      "from sqlalchemy import create_engine\n",
      "import pandas as pd"
     ],
     "language": "python",
     "metadata": {},
     "outputs": [],
     "prompt_number": 1
    },
    {
     "cell_type": "markdown",
     "metadata": {},
     "source": [
      "Description of OpSim outputs are available on the page https://confluence.lsstcorp.org/display/SIM/OpSim+Datasets+for+Cadence+Workshop+LSST2015http://tusken.astro.washington.edu:8080\n",
      "Here we will use the opsim output http://ops2.tuc.noao.edu/runs/enigma_1189/data/enigma_1189_sqlite.db.gz\n",
      "I have downloaded this database, unzipped and use the variable dbname to point to its location"
     ]
    },
    {
     "cell_type": "code",
     "collapsed": false,
     "input": [
      "# This step requires LSST SIMS package MAF. The main goal of this step is to set DD and WFD to integer keys that \n",
      "# label an observation as Deep Drilling or for Wide Fast Deep.\n",
      "# If you want to skip this step, you can use the next cell by uncommenting it, and commenting out this cell, if all you\n",
      "# care about is the database used in this example. But there is no guarantee that the numbers in the cell below will work\n",
      "# on other versions of opsim database outputs\n",
      "\n",
      "from lsst.sims.maf import db\n",
      "from lsst.sims.maf.utils import opsimUtils"
     ],
     "language": "python",
     "metadata": {},
     "outputs": []
    },
    {
     "cell_type": "code",
     "collapsed": false,
     "input": [
      "# DD = 366\n",
      "# WFD = 364"
     ],
     "language": "python",
     "metadata": {},
     "outputs": [],
     "prompt_number": 4
    },
    {
     "cell_type": "heading",
     "level": 2,
     "metadata": {},
     "source": [
      "Read in OpSim output for later sqlite formats"
     ]
    },
    {
     "cell_type": "code",
     "collapsed": false,
     "input": [
      "dbname = 'sqlite:////Users/rbiswas/data/LSST/OpSimData/enigma_1189_sqlite.db'\n",
      "opsdb = db.OpsimDatabase(dbname)\n",
      "propID, propTags = opsdb.fetchPropInfo()\n",
      "DD = propTags['DD'][0]\n",
      "WFD = propTags['DD'][0]"
     ],
     "language": "python",
     "metadata": {},
     "outputs": [],
     "prompt_number": 4
    },
    {
     "cell_type": "code",
     "collapsed": false,
     "input": [
      "engine = create_engine(dbname)"
     ],
     "language": "python",
     "metadata": {},
     "outputs": [],
     "prompt_number": 5
    },
    {
     "cell_type": "heading",
     "level": 3,
     "metadata": {},
     "source": [
      "Read in OpSim output for 2.168 cast in sqlite format (even though there are some differences)"
     ]
    },
    {
     "cell_type": "code",
     "collapsed": false,
     "input": [
      "dbname_2168 = 'sqlite:////Users/rbiswas/data/LSST/OpSimData/opsim2_168_sqlite.db'\n",
      "engine_2168 = create_engine(dbname_2168)\n",
      "dbAddressDict = {'dbAddress': dbname_2168, 'Summary':'summary'}\n",
      "print dbAddressDict\n",
      "opsimDb2168 = opsimUtils.connectOpsimDb(dbAddressDict)"
     ],
     "language": "python",
     "metadata": {},
     "outputs": [
      {
       "output_type": "stream",
       "stream": "stdout",
       "text": [
        "{'Summary': 'summary', 'dbAddress': 'sqlite:////Users/rbiswas/data/LSST/OpSimData/opsim2_168_sqlite.db'}\n"
       ]
      }
     ],
     "prompt_number": 7
    },
    {
     "cell_type": "code",
     "collapsed": false,
     "input": [
      "propID, propTags = opsimDb2168.fetchPropInfo()"
     ],
     "language": "python",
     "metadata": {},
     "outputs": [],
     "prompt_number": 8
    },
    {
     "cell_type": "code",
     "collapsed": false,
     "input": [
      "propTags"
     ],
     "language": "python",
     "metadata": {},
     "outputs": [
      {
       "metadata": {},
       "output_type": "pyout",
       "prompt_number": 9,
       "text": [
        "{'DD': [], 'WFD': []}"
       ]
      }
     ],
     "prompt_number": 9
    },
    {
     "cell_type": "markdown",
     "metadata": {},
     "source": [
      "This does not work for the old format. Read the SSTar document: http://opsimcvs.tuc.noao.edu/runs/opsim2.168/SSTAR-opsim2-168.pdf and find the deep drilling propIDs from Table 1."
     ]
    },
    {
     "cell_type": "code",
     "collapsed": false,
     "input": [
      "DDold = 359, 360"
     ],
     "language": "python",
     "metadata": {},
     "outputs": [],
     "prompt_number": 10
    },
    {
     "cell_type": "heading",
     "level": 2,
     "metadata": {},
     "source": [
      "Read in the OpSim DataBase into a pandas dataFrame"
     ]
    },
    {
     "cell_type": "heading",
     "level": 3,
     "metadata": {},
     "source": [
      "This is a subsection of later versions of OpSims (eg. Enigma_1189 used here)"
     ]
    },
    {
     "cell_type": "markdown",
     "metadata": {},
     "source": [
      "The opsim database is a large file (approx 4.0 GB), but still possible to read into memory on new computers. You usually only need the Summary Table, which is about 900 MB. If you are only interested in the Deep Drilling Fields, you can use the read_sql_query to only select information pertaining to Deep Drilling Observations. This has a memory footprint of about 40 MB.\n",
      "Obviously, you can reduce this further by narrowing down the columns to those of interest only. For the entire Summary Table, this step takes a few minutes on my computer. "
     ]
    },
    {
     "cell_type": "code",
     "collapsed": true,
     "input": [
      "# Load to a dataframe\n",
      "# Summary = pd.read_hdf('storage.h5', 'table')\n",
      "# Summary = pd.read_sql_table('Summary', engine)\n",
      "EnigmaDeep  = pd.read_sql_query('SELECT * FROM SUMMARY WHERE PROPID is 366', engine)"
     ],
     "language": "python",
     "metadata": {},
     "outputs": [],
     "prompt_number": 14
    },
    {
     "cell_type": "code",
     "collapsed": false,
     "input": [
      "# List columns \n",
      "EnigmaDeep.columns"
     ],
     "language": "python",
     "metadata": {},
     "outputs": [
      {
       "metadata": {},
       "output_type": "pyout",
       "prompt_number": 13,
       "text": [
        "Index([u'obsHistID', u'sessionID', u'propID', u'fieldID', u'fieldRA', u'fieldDec', u'filter', u'expDate', u'expMJD', u'night', u'visitTime', u'visitExpTime', u'finRank', u'finSeeing', u'transparency', u'airmass', u'vSkyBright', u'filtSkyBrightness', u'rotSkyPos', u'lst', u'altitude', u'azimuth', u'dist2Moon', u'solarElong', u'moonRA', u'moonDec', u'moonAlt', u'moonAZ', u'moonPhase', u'sunAlt', u'sunAz', u'phaseAngle', u'rScatter', u'mieScatter', u'moonIllum', u'moonBright', u'darkBright', u'rawSeeing', u'wind', u'humidity', u'slewDist', u'slewTime', u'fiveSigmaDepth', u'ditheredRA', u'ditheredDec'], dtype='object')"
       ]
      }
     ],
     "prompt_number": 13
    },
    {
     "cell_type": "code",
     "collapsed": false,
     "input": [
      "# Alternatively, you can use Summary to read the entire table, and then slice using pandas\n",
      "\n",
      "# DeepFields = Summary[Summary['propID'] == 366]\n",
      "# WFD = Summary[Summary['propID'] == 364]\n",
      "# season1Deep = DeepFields[DeepFields['night'] < 366]"
     ],
     "language": "python",
     "metadata": {},
     "outputs": [],
     "prompt_number": 8
    },
    {
     "cell_type": "markdown",
     "metadata": {},
     "source": [
      "We can read information about the Enigma Deep field summary table downloaded from Opsim with the command below to summarize the table. There are 110114 rows, and a total of 45 columns. The total memory on disk used is 38.6 MB"
     ]
    },
    {
     "cell_type": "code",
     "collapsed": false,
     "input": [
      "EnigmaDeep.info()"
     ],
     "language": "python",
     "metadata": {},
     "outputs": [
      {
       "output_type": "stream",
       "stream": "stdout",
       "text": [
        "<class 'pandas.core.frame.DataFrame'>\n",
        "Int64Index: 110114 entries, 0 to 110113\n",
        "Data columns (total 45 columns):\n",
        "obsHistID            110114 non-null int64\n",
        "sessionID            110114 non-null int64\n",
        "propID               110114 non-null int64\n",
        "fieldID              110114 non-null int64\n",
        "fieldRA              110114 non-null float64\n",
        "fieldDec             110114 non-null float64\n",
        "filter               110114 non-null object\n",
        "expDate              110114 non-null int64\n",
        "expMJD               110114 non-null float64\n",
        "night                110114 non-null int64\n",
        "visitTime            110114 non-null float64\n",
        "visitExpTime         110114 non-null float64\n",
        "finRank              110114 non-null float64\n",
        "finSeeing            110114 non-null float64\n",
        "transparency         110114 non-null float64\n",
        "airmass              110114 non-null float64\n",
        "vSkyBright           110114 non-null float64\n",
        "filtSkyBrightness    110114 non-null float64\n",
        "rotSkyPos            110114 non-null float64\n",
        "lst                  110114 non-null float64\n",
        "altitude             110114 non-null float64\n",
        "azimuth              110114 non-null float64\n",
        "dist2Moon            110114 non-null float64\n",
        "solarElong           110114 non-null float64\n",
        "moonRA               110114 non-null float64\n",
        "moonDec              110114 non-null float64\n",
        "moonAlt              110114 non-null float64\n",
        "moonAZ               110114 non-null float64\n",
        "moonPhase            110114 non-null float64\n",
        "sunAlt               110114 non-null float64\n",
        "sunAz                110114 non-null float64\n",
        "phaseAngle           110114 non-null float64\n",
        "rScatter             110114 non-null float64\n",
        "mieScatter           110114 non-null float64\n",
        "moonIllum            110114 non-null float64\n",
        "moonBright           110114 non-null float64\n",
        "darkBright           110114 non-null float64\n",
        "rawSeeing            110114 non-null float64\n",
        "wind                 110114 non-null float64\n",
        "humidity             110114 non-null float64\n",
        "slewDist             110114 non-null float64\n",
        "slewTime             110114 non-null float64\n",
        "fiveSigmaDepth       110114 non-null float64\n",
        "ditheredRA           110114 non-null float64\n",
        "ditheredDec          110114 non-null float64\n",
        "dtypes: float64(38), int64(6), object(1)\n",
        "memory usage: 38.6+ MB\n"
       ]
      }
     ],
     "prompt_number": 17
    },
    {
     "cell_type": "heading",
     "level": 3,
     "metadata": {},
     "source": [
      "This subsection is for sqlite transforms of old Versions of OpSim Outputs (eg. 2.168)"
     ]
    },
    {
     "cell_type": "code",
     "collapsed": false,
     "input": [
      "OpSim_2168_Deep = pd.read_sql_query('SELECT * FROM SUMMARY WHERE PROPID is 359 or PROPID is 360', engine_2168)"
     ],
     "language": "python",
     "metadata": {},
     "outputs": [],
     "prompt_number": 18
    },
    {
     "cell_type": "markdown",
     "metadata": {},
     "source": [
      "As shown from a similar command as above this OpSim database has 197332 rows (close to about twice as the enigma case) and 46 columns. The memory on disc is also larger by a similar factor and is 70 MB"
     ]
    },
    {
     "cell_type": "code",
     "collapsed": false,
     "input": [
      "OpSim_2168_Deep.info()"
     ],
     "language": "python",
     "metadata": {},
     "outputs": [
      {
       "output_type": "stream",
       "stream": "stdout",
       "text": [
        "<class 'pandas.core.frame.DataFrame'>\n",
        "Int64Index: 197332 entries, 0 to 197331\n",
        "Data columns (total 46 columns):\n",
        "airmass              197332 non-null float64\n",
        "altitude             197332 non-null float64\n",
        "azimuth              197332 non-null float64\n",
        "darkBright           197332 non-null float64\n",
        "dist2Moon            197332 non-null float64\n",
        "ditheredDec          197332 non-null float64\n",
        "ditheredRA           197332 non-null float64\n",
        "expDate              197332 non-null int64\n",
        "expMJD               197332 non-null float64\n",
        "fieldDec             197332 non-null float64\n",
        "fieldID              197332 non-null int64\n",
        "fieldRA              197332 non-null float64\n",
        "filtSkyBrightness    197332 non-null float64\n",
        "filter               197332 non-null object\n",
        "finRank              197332 non-null float64\n",
        "finSeeing            197332 non-null float64\n",
        "fiveSigmaDepth       197332 non-null float64\n",
        "humidity             197332 non-null float64\n",
        "lst                  197332 non-null float64\n",
        "mieScatter           197332 non-null float64\n",
        "moonAZ               197332 non-null float64\n",
        "moonAlt              197332 non-null float64\n",
        "moonBright           197332 non-null float64\n",
        "moonDec              197332 non-null float64\n",
        "moonIllum            197332 non-null float64\n",
        "moonPhase            197332 non-null float64\n",
        "moonRA               197332 non-null float64\n",
        "night                197332 non-null int64\n",
        "obsHistID            197332 non-null int64\n",
        "phaseAngle           197332 non-null float64\n",
        "propID               197332 non-null int64\n",
        "rScatter             197332 non-null float64\n",
        "rawSeeing            197332 non-null float64\n",
        "rotSkyPos            197332 non-null float64\n",
        "rotTelPos            197332 non-null float64\n",
        "sessionID            197332 non-null int64\n",
        "slewDist             197332 non-null float64\n",
        "slewTime             197332 non-null float64\n",
        "solarElong           197332 non-null float64\n",
        "sunAlt               197332 non-null float64\n",
        "sunAz                197332 non-null float64\n",
        "transparency         197332 non-null float64\n",
        "vSkyBright           197332 non-null float64\n",
        "visitExpTime         197332 non-null float64\n",
        "visitTime            197332 non-null int64\n",
        "wind                 197332 non-null float64\n",
        "dtypes: float64(38), int64(7), object(1)\n",
        "memory usage: 70.8+ MB\n"
       ]
      }
     ],
     "prompt_number": 19
    },
    {
     "cell_type": "code",
     "collapsed": true,
     "input": [
      "OpSim_2168_Deep['propID'].unique()"
     ],
     "language": "python",
     "metadata": {},
     "outputs": [
      {
       "metadata": {},
       "output_type": "pyout",
       "prompt_number": 20,
       "text": [
        "array([360, 359])"
       ]
      }
     ],
     "prompt_number": 20
    },
    {
     "cell_type": "markdown",
     "metadata": {},
     "source": [
      "We can select a season, for example the first season by the following method. It would be trivial to add a column giving a season by dividing the night variable by 365."
     ]
    },
    {
     "cell_type": "code",
     "collapsed": false,
     "input": [
      "Season0_2_168 = OpSim_2168_Deep[OpSim_2168_Deep['night'] < 366]"
     ],
     "language": "python",
     "metadata": {},
     "outputs": [],
     "prompt_number": 21
    },
    {
     "cell_type": "code",
     "collapsed": false,
     "input": [
      "OpSim_2168_Deep.fieldID.unique()"
     ],
     "language": "python",
     "metadata": {},
     "outputs": [
      {
       "metadata": {},
       "output_type": "pyout",
       "prompt_number": 22,
       "text": [
        "array([ 311,  519,  526,  764, 1427, 2082, 2412, 2712, 2731, 2786])"
       ]
      }
     ],
     "prompt_number": 22
    },
    {
     "cell_type": "heading",
     "level": 2,
     "metadata": {},
     "source": [
      "Write out Full 10 year Simlib"
     ]
    },
    {
     "cell_type": "markdown",
     "metadata": {},
     "source": [
      "This is the point, where we start using this package. The stuff before was simply interacting with OpSim"
     ]
    },
    {
     "cell_type": "heading",
     "level": 4,
     "metadata": {},
     "source": [
      "OpSim 2.168"
     ]
    },
    {
     "cell_type": "code",
     "collapsed": false,
     "input": [
      "OpSim_2_168_DeepFull = so.SummaryOpsim(OpSim_2168_Deep)"
     ],
     "language": "python",
     "metadata": {},
     "outputs": [],
     "prompt_number": 24
    },
    {
     "cell_type": "markdown",
     "metadata": {},
     "source": [
      "We can view the summary for a particular field"
     ]
    },
    {
     "cell_type": "code",
     "collapsed": false,
     "input": [
      "OpSim_2_168_DeepFull.simlib(2082)[['expMJD','obsHistID','filter', 'night']].head()"
     ],
     "language": "python",
     "metadata": {},
     "outputs": [
      {
       "html": [
        "<div style=\"max-height:1000px;max-width:1500px;overflow:auto;\">\n",
        "<table border=\"1\" class=\"dataframe\">\n",
        "  <thead>\n",
        "    <tr style=\"text-align: right;\">\n",
        "      <th></th>\n",
        "      <th>expMJD</th>\n",
        "      <th>obsHistID</th>\n",
        "      <th>filter</th>\n",
        "      <th>night</th>\n",
        "    </tr>\n",
        "  </thead>\n",
        "  <tbody>\n",
        "    <tr>\n",
        "      <th>103088</th>\n",
        "      <td>49400.275853</td>\n",
        "      <td>38713156</td>\n",
        "      <td>g</td>\n",
        "      <td>47</td>\n",
        "    </tr>\n",
        "    <tr>\n",
        "      <th>103089</th>\n",
        "      <td>49400.276270</td>\n",
        "      <td>38713158</td>\n",
        "      <td>g</td>\n",
        "      <td>47</td>\n",
        "    </tr>\n",
        "    <tr>\n",
        "      <th>103090</th>\n",
        "      <td>49400.276687</td>\n",
        "      <td>38713159</td>\n",
        "      <td>g</td>\n",
        "      <td>47</td>\n",
        "    </tr>\n",
        "    <tr>\n",
        "      <th>103091</th>\n",
        "      <td>49400.277103</td>\n",
        "      <td>38713160</td>\n",
        "      <td>g</td>\n",
        "      <td>47</td>\n",
        "    </tr>\n",
        "    <tr>\n",
        "      <th>103092</th>\n",
        "      <td>49400.277520</td>\n",
        "      <td>38713161</td>\n",
        "      <td>g</td>\n",
        "      <td>47</td>\n",
        "    </tr>\n",
        "  </tbody>\n",
        "</table>\n",
        "</div>"
       ],
       "metadata": {},
       "output_type": "pyout",
       "prompt_number": 35,
       "text": [
        "              expMJD  obsHistID filter  night\n",
        "103088  49400.275853   38713156      g     47\n",
        "103089  49400.276270   38713158      g     47\n",
        "103090  49400.276687   38713159      g     47\n",
        "103091  49400.277103   38713160      g     47\n",
        "103092  49400.277520   38713161      g     47"
       ]
      }
     ],
     "prompt_number": 35
    },
    {
     "cell_type": "code",
     "collapsed": false,
     "input": [
      "OpSim_2_168_DeepFull.writeSimlib('OpSim_2.168.DEEP.Full')"
     ],
     "language": "python",
     "metadata": {},
     "outputs": [],
     "prompt_number": 24
    },
    {
     "cell_type": "heading",
     "level": 3,
     "metadata": {},
     "source": [
      "Enigma"
     ]
    },
    {
     "cell_type": "code",
     "collapsed": false,
     "input": [
      "EnigmaDeepSummary = so.SummaryOpsim(EnigmaDeep)"
     ],
     "language": "python",
     "metadata": {},
     "outputs": [],
     "prompt_number": 61
    },
    {
     "cell_type": "code",
     "collapsed": false,
     "input": [
      "EnigmaDeepSummary.fieldIds"
     ],
     "language": "python",
     "metadata": {},
     "outputs": [
      {
       "metadata": {},
       "output_type": "pyout",
       "prompt_number": 62,
       "text": [
        "[744, 2786, 1427, 2412, 290]"
       ]
      }
     ],
     "prompt_number": 62
    },
    {
     "cell_type": "code",
     "collapsed": false,
     "input": [
      "EnigmaDeepSummary.simlib(290).head()"
     ],
     "language": "python",
     "metadata": {},
     "outputs": [
      {
       "html": [
        "<div style=\"max-height:1000px;max-width:1500px;overflow:auto;\">\n",
        "<table border=\"1\" class=\"dataframe\">\n",
        "  <thead>\n",
        "    <tr style=\"text-align: right;\">\n",
        "      <th></th>\n",
        "      <th>obsHistID</th>\n",
        "      <th>sessionID</th>\n",
        "      <th>propID</th>\n",
        "      <th>fieldID</th>\n",
        "      <th>fieldRA</th>\n",
        "      <th>fieldDec</th>\n",
        "      <th>filter</th>\n",
        "      <th>expDate</th>\n",
        "      <th>expMJD</th>\n",
        "      <th>night</th>\n",
        "      <th>...</th>\n",
        "      <th>wind</th>\n",
        "      <th>humidity</th>\n",
        "      <th>slewDist</th>\n",
        "      <th>slewTime</th>\n",
        "      <th>fiveSigmaDepth</th>\n",
        "      <th>ditheredRA</th>\n",
        "      <th>ditheredDec</th>\n",
        "      <th>simLibPsf</th>\n",
        "      <th>simLibZPTAVG</th>\n",
        "      <th>simLibSkySig</th>\n",
        "    </tr>\n",
        "  </thead>\n",
        "  <tbody>\n",
        "    <tr>\n",
        "      <th>2036</th>\n",
        "      <td>140297</td>\n",
        "      <td>1189</td>\n",
        "      <td>366</td>\n",
        "      <td>290</td>\n",
        "      <td>6.097944</td>\n",
        "      <td>-1.10516</td>\n",
        "      <td>r</td>\n",
        "      <td>15402156</td>\n",
        "      <td>49531.265704</td>\n",
        "      <td>178</td>\n",
        "      <td>...</td>\n",
        "      <td>0</td>\n",
        "      <td>0</td>\n",
        "      <td>0.93277</td>\n",
        "      <td>83.261838</td>\n",
        "      <td>23.364830</td>\n",
        "      <td>6.076685</td>\n",
        "      <td>-1.088628</td>\n",
        "      <td>2.457219</td>\n",
        "      <td>31.682579</td>\n",
        "      <td>9.216794</td>\n",
        "    </tr>\n",
        "    <tr>\n",
        "      <th>2037</th>\n",
        "      <td>140298</td>\n",
        "      <td>1189</td>\n",
        "      <td>366</td>\n",
        "      <td>290</td>\n",
        "      <td>6.097944</td>\n",
        "      <td>-1.10516</td>\n",
        "      <td>r</td>\n",
        "      <td>15402193</td>\n",
        "      <td>49531.266133</td>\n",
        "      <td>178</td>\n",
        "      <td>...</td>\n",
        "      <td>0</td>\n",
        "      <td>0</td>\n",
        "      <td>0.00000</td>\n",
        "      <td>3.000000</td>\n",
        "      <td>23.294772</td>\n",
        "      <td>6.076685</td>\n",
        "      <td>-1.088628</td>\n",
        "      <td>2.625730</td>\n",
        "      <td>31.682781</td>\n",
        "      <td>9.519887</td>\n",
        "    </tr>\n",
        "    <tr>\n",
        "      <th>2038</th>\n",
        "      <td>140299</td>\n",
        "      <td>1189</td>\n",
        "      <td>366</td>\n",
        "      <td>290</td>\n",
        "      <td>6.097944</td>\n",
        "      <td>-1.10516</td>\n",
        "      <td>r</td>\n",
        "      <td>15402229</td>\n",
        "      <td>49531.266549</td>\n",
        "      <td>178</td>\n",
        "      <td>...</td>\n",
        "      <td>0</td>\n",
        "      <td>0</td>\n",
        "      <td>0.00000</td>\n",
        "      <td>2.000000</td>\n",
        "      <td>23.296010</td>\n",
        "      <td>6.076685</td>\n",
        "      <td>-1.088628</td>\n",
        "      <td>2.624079</td>\n",
        "      <td>31.683107</td>\n",
        "      <td>9.515891</td>\n",
        "    </tr>\n",
        "    <tr>\n",
        "      <th>2039</th>\n",
        "      <td>140300</td>\n",
        "      <td>1189</td>\n",
        "      <td>366</td>\n",
        "      <td>290</td>\n",
        "      <td>6.097944</td>\n",
        "      <td>-1.10516</td>\n",
        "      <td>r</td>\n",
        "      <td>15402266</td>\n",
        "      <td>49531.266978</td>\n",
        "      <td>178</td>\n",
        "      <td>...</td>\n",
        "      <td>0</td>\n",
        "      <td>0</td>\n",
        "      <td>0.00000</td>\n",
        "      <td>3.000000</td>\n",
        "      <td>23.297206</td>\n",
        "      <td>6.076685</td>\n",
        "      <td>-1.088628</td>\n",
        "      <td>2.622481</td>\n",
        "      <td>31.683424</td>\n",
        "      <td>9.512040</td>\n",
        "    </tr>\n",
        "    <tr>\n",
        "      <th>2040</th>\n",
        "      <td>140301</td>\n",
        "      <td>1189</td>\n",
        "      <td>366</td>\n",
        "      <td>290</td>\n",
        "      <td>6.097944</td>\n",
        "      <td>-1.10516</td>\n",
        "      <td>r</td>\n",
        "      <td>15402303</td>\n",
        "      <td>49531.267406</td>\n",
        "      <td>178</td>\n",
        "      <td>...</td>\n",
        "      <td>0</td>\n",
        "      <td>0</td>\n",
        "      <td>0.00000</td>\n",
        "      <td>3.000000</td>\n",
        "      <td>23.298434</td>\n",
        "      <td>6.076685</td>\n",
        "      <td>-1.088628</td>\n",
        "      <td>2.620845</td>\n",
        "      <td>31.683747</td>\n",
        "      <td>9.508076</td>\n",
        "    </tr>\n",
        "  </tbody>\n",
        "</table>\n",
        "<p>5 rows \u00d7 48 columns</p>\n",
        "</div>"
       ],
       "metadata": {},
       "output_type": "pyout",
       "prompt_number": 64,
       "text": [
        "      obsHistID  sessionID  propID  fieldID   fieldRA  fieldDec filter  \\\n",
        "2036     140297       1189     366      290  6.097944  -1.10516      r   \n",
        "2037     140298       1189     366      290  6.097944  -1.10516      r   \n",
        "2038     140299       1189     366      290  6.097944  -1.10516      r   \n",
        "2039     140300       1189     366      290  6.097944  -1.10516      r   \n",
        "2040     140301       1189     366      290  6.097944  -1.10516      r   \n",
        "\n",
        "       expDate        expMJD  night      ...       wind  humidity  slewDist  \\\n",
        "2036  15402156  49531.265704    178      ...          0         0   0.93277   \n",
        "2037  15402193  49531.266133    178      ...          0         0   0.00000   \n",
        "2038  15402229  49531.266549    178      ...          0         0   0.00000   \n",
        "2039  15402266  49531.266978    178      ...          0         0   0.00000   \n",
        "2040  15402303  49531.267406    178      ...          0         0   0.00000   \n",
        "\n",
        "       slewTime  fiveSigmaDepth  ditheredRA  ditheredDec  simLibPsf  \\\n",
        "2036  83.261838       23.364830    6.076685    -1.088628   2.457219   \n",
        "2037   3.000000       23.294772    6.076685    -1.088628   2.625730   \n",
        "2038   2.000000       23.296010    6.076685    -1.088628   2.624079   \n",
        "2039   3.000000       23.297206    6.076685    -1.088628   2.622481   \n",
        "2040   3.000000       23.298434    6.076685    -1.088628   2.620845   \n",
        "\n",
        "      simLibZPTAVG  simLibSkySig  \n",
        "2036     31.682579      9.216794  \n",
        "2037     31.682781      9.519887  \n",
        "2038     31.683107      9.515891  \n",
        "2039     31.683424      9.512040  \n",
        "2040     31.683747      9.508076  \n",
        "\n",
        "[5 rows x 48 columns]"
       ]
      }
     ],
     "prompt_number": 64
    },
    {
     "cell_type": "heading",
     "level": 2,
     "metadata": {},
     "source": [
      "Write out SIMLIB for Season 1"
     ]
    },
    {
     "cell_type": "code",
     "collapsed": false,
     "input": [
      "season = season1Deep.copy(deep=True)"
     ],
     "language": "python",
     "metadata": {},
     "outputs": [],
     "prompt_number": 11
    },
    {
     "cell_type": "code",
     "collapsed": false,
     "input": [
      "oldseason = Season0_2_168.copy(deep=True)"
     ],
     "language": "python",
     "metadata": {},
     "outputs": [
      {
       "ename": "NameError",
       "evalue": "name 'Season0_2_168' is not defined",
       "output_type": "pyerr",
       "traceback": [
        "\u001b[0;31m---------------------------------------------------------------------------\u001b[0m\n\u001b[0;31mNameError\u001b[0m                                 Traceback (most recent call last)",
        "\u001b[0;32m<ipython-input-10-133b00793512>\u001b[0m in \u001b[0;36m<module>\u001b[0;34m()\u001b[0m\n\u001b[0;32m----> 1\u001b[0;31m \u001b[0moldseason\u001b[0m \u001b[0;34m=\u001b[0m \u001b[0mSeason0_2_168\u001b[0m\u001b[0;34m.\u001b[0m\u001b[0mcopy\u001b[0m\u001b[0;34m(\u001b[0m\u001b[0mdeep\u001b[0m\u001b[0;34m=\u001b[0m\u001b[0mTrue\u001b[0m\u001b[0;34m)\u001b[0m\u001b[0;34m\u001b[0m\u001b[0m\n\u001b[0m",
        "\u001b[0;31mNameError\u001b[0m: name 'Season0_2_168' is not defined"
       ]
      }
     ],
     "prompt_number": 10
    },
    {
     "cell_type": "code",
     "collapsed": false,
     "input": [
      "simlib_opsim_2_168 = so.SummaryOpsim(oldseason)"
     ],
     "language": "python",
     "metadata": {},
     "outputs": [
      {
       "ename": "NameError",
       "evalue": "name 'oldseason' is not defined",
       "output_type": "pyerr",
       "traceback": [
        "\u001b[0;31m---------------------------------------------------------------------------\u001b[0m\n\u001b[0;31mNameError\u001b[0m                                 Traceback (most recent call last)",
        "\u001b[0;32m<ipython-input-9-21d89fcb60db>\u001b[0m in \u001b[0;36m<module>\u001b[0;34m()\u001b[0m\n\u001b[0;32m----> 1\u001b[0;31m \u001b[0msimlib_opsim_2_168\u001b[0m \u001b[0;34m=\u001b[0m \u001b[0mso\u001b[0m\u001b[0;34m.\u001b[0m\u001b[0mSummaryOpsim\u001b[0m\u001b[0;34m(\u001b[0m\u001b[0moldseason\u001b[0m\u001b[0;34m)\u001b[0m\u001b[0;34m\u001b[0m\u001b[0m\n\u001b[0m",
        "\u001b[0;31mNameError\u001b[0m: name 'oldseason' is not defined"
       ]
      }
     ],
     "prompt_number": 9
    },
    {
     "cell_type": "code",
     "collapsed": false,
     "input": [
      "simlib_opsim_2_168.fieldIds"
     ],
     "language": "python",
     "metadata": {},
     "outputs": [
      {
       "metadata": {},
       "output_type": "pyout",
       "prompt_number": 35,
       "text": [
        "[2082, 519, 2731, 2412, 2786, 526, 1427, 311, 2712, 764]"
       ]
      }
     ],
     "prompt_number": 35
    },
    {
     "cell_type": "code",
     "collapsed": false,
     "input": [
      "simlib_opsim_2_168.writeSimlib('Opsim.2.168.Simlib')"
     ],
     "language": "python",
     "metadata": {},
     "outputs": [],
     "prompt_number": 36
    },
    {
     "cell_type": "code",
     "collapsed": false,
     "input": [
      "simlib = so.SummaryOpsim(season)"
     ],
     "language": "python",
     "metadata": {},
     "outputs": [],
     "prompt_number": 12
    },
    {
     "cell_type": "code",
     "collapsed": false,
     "input": [
      "simlib.df['filter'].unique()"
     ],
     "language": "python",
     "metadata": {},
     "outputs": [
      {
       "metadata": {},
       "output_type": "pyout",
       "prompt_number": 13,
       "text": [
        "array([u'r', u'g', u'i', u'z', u'Y', u'u'], dtype=object)"
       ]
      }
     ],
     "prompt_number": 13
    },
    {
     "cell_type": "code",
     "collapsed": false,
     "input": [
      "simlib.fieldIds"
     ],
     "language": "python",
     "metadata": {},
     "outputs": [
      {
       "metadata": {},
       "output_type": "pyout",
       "prompt_number": 14,
       "text": [
        "[744, 2786, 1427, 2412, 290]"
       ]
      }
     ],
     "prompt_number": 14
    },
    {
     "cell_type": "code",
     "collapsed": false,
     "input": [
      "simlib.writeSimlib('test_out.simlib')"
     ],
     "language": "python",
     "metadata": {},
     "outputs": [],
     "prompt_number": 15
    },
    {
     "cell_type": "code",
     "collapsed": false,
     "input": [
      "import numpy as np"
     ],
     "language": "python",
     "metadata": {},
     "outputs": [],
     "prompt_number": 30
    },
    {
     "cell_type": "code",
     "collapsed": false,
     "input": [
      "x "
     ],
     "language": "python",
     "metadata": {},
     "outputs": []
    },
    {
     "cell_type": "heading",
     "level": 1,
     "metadata": {},
     "source": [
      "Scratch"
     ]
    },
    {
     "cell_type": "code",
     "collapsed": false,
     "input": [
      "import numpy as np\n",
      "%matplotlib inline \n",
      "import matplotlib.pyplot as plt"
     ],
     "language": "python",
     "metadata": {},
     "outputs": [],
     "prompt_number": 51
    },
    {
     "cell_type": "code",
     "collapsed": false,
     "input": [
      "def filterDiff(summary, fieldID, filter):\n",
      "    x = summary.simlib(fieldID).groupby('filter').get_group(filter).night.unique()\n",
      "    return np.diff(x)"
     ],
     "language": "python",
     "metadata": {},
     "outputs": [],
     "prompt_number": 59
    },
    {
     "cell_type": "code",
     "collapsed": false,
     "input": [
      "plt.hist(filterDiff(OpSim_2_168_DeepFull, 2082, 'g'), histtype='step', bins=20, color='g')\n",
      "plt.hist(filterDiff(OpSim_2_168_DeepFull, 2082, 'u'), histtype='step', bins=20, color='r')\n",
      "plt.hist(filterDiff(OpSim_2_168_DeepFull, 2082, 'Y'), histtype='step', bins=20, color='k')"
     ],
     "language": "python",
     "metadata": {},
     "outputs": [
      {
       "metadata": {},
       "output_type": "pyout",
       "prompt_number": 60,
       "text": [
        "(array([ 155.,   17.,    5.,    0.,    0.,    0.,    0.,    0.,    0.,\n",
        "           0.,    0.,    0.,    0.,    0.,    0.,    1.,    1.,    4.,\n",
        "           2.,    1.]),\n",
        " array([   1. ,   13.5,   26. ,   38.5,   51. ,   63.5,   76. ,   88.5,\n",
        "         101. ,  113.5,  126. ,  138.5,  151. ,  163.5,  176. ,  188.5,\n",
        "         201. ,  213.5,  226. ,  238.5,  251. ]),\n",
        " <a list of 1 Patch objects>)"
       ]
      },
      {
       "metadata": {},
       "output_type": "display_data",
       "png": "[encoded data removed]",
       "text": [
        "<matplotlib.figure.Figure at 0x1120ca490>"
       ]
      }
     ],
     "prompt_number": 60
    }
   ],
   "metadata": {}
  }
 ]
}