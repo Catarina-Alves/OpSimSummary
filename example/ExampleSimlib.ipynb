{
 "metadata": {
  "name": "",
  "signature": "sha256:9e40f9a1a522b77e84af4d7652a85e5b6d88002bd3d9e4a742247d7fe763a508"
 },
 "nbformat": 3,
 "nbformat_minor": 0,
 "worksheets": [
  {
   "cells": [
    {
     "cell_type": "code",
     "collapsed": false,
     "input": [
      "import numpy as np\n",
      "%matplotlib inline \n",
      "import matplotlib.pyplot as plt"
     ],
     "language": "python",
     "metadata": {},
     "outputs": [],
     "prompt_number": 1
    },
    {
     "cell_type": "code",
     "collapsed": false,
     "input": [
      "# Required packages sqlachemy, pandas (both are part of anaconda distribution, or can be installed with a python installer)\n",
      "# One step requires the LSST stack, can be skipped for the particular OPSIM database in question\n",
      "import simlibs.summarize_opsim as so\n",
      "from sqlalchemy import create_engine\n",
      "import pandas as pd\n",
      "print so.__file__"
     ],
     "language": "python",
     "metadata": {},
     "outputs": [
      {
       "output_type": "stream",
       "stream": "stdout",
       "text": [
        "/Users/rbiswas/doc/projects/supernovae/LSST/simlib/build/lib/simlibs/summarize_opsim.pyc\n"
       ]
      }
     ],
     "prompt_number": 2
    },
    {
     "cell_type": "markdown",
     "metadata": {},
     "source": [
      "Description of OpSim outputs are available on the page https://confluence.lsstcorp.org/display/SIM/OpSim+Datasets+for+Cadence+Workshop+LSST2015http://tusken.astro.washington.edu:8080\n",
      "Here we will use the opsim output http://ops2.tuc.noao.edu/runs/enigma_1189/data/enigma_1189_sqlite.db.gz\n",
      "I have downloaded this database, unzipped and use the variable dbname to point to its location"
     ]
    },
    {
     "cell_type": "code",
     "collapsed": false,
     "input": [
      "# This step requires LSST SIMS package MAF. The main goal of this step is to set DD and WFD to integer keys that \n",
      "# label an observation as Deep Drilling or for Wide Fast Deep.\n",
      "# If you want to skip this step, you can use the next cell by uncommenting it, and commenting out this cell, if all you\n",
      "# care about is the database used in this example. But there is no guarantee that the numbers in the cell below will work\n",
      "# on other versions of opsim database outputs\n",
      "\n",
      "from lsst.sims.maf import db\n",
      "from lsst.sims.maf.utils import opsimUtils"
     ],
     "language": "python",
     "metadata": {},
     "outputs": [],
     "prompt_number": 3
    },
    {
     "cell_type": "code",
     "collapsed": false,
     "input": [
      "# DD = 366\n",
      "# WFD = 364"
     ],
     "language": "python",
     "metadata": {},
     "outputs": [],
     "prompt_number": 4
    },
    {
     "cell_type": "heading",
     "level": 2,
     "metadata": {},
     "source": [
      "Read in OpSim output for later sqlite formats"
     ]
    },
    {
     "cell_type": "code",
     "collapsed": false,
     "input": [
      "dbname = 'sqlite:////Users/rbiswas/data/LSST/OpSimData/enigma_1189_sqlite.db'\n",
      "opsdb = db.OpsimDatabase(dbname)\n",
      "propID, propTags = opsdb.fetchPropInfo()\n",
      "DD = propTags['DD'][0]\n",
      "WFD = propTags['DD'][0]"
     ],
     "language": "python",
     "metadata": {},
     "outputs": [],
     "prompt_number": 5
    },
    {
     "cell_type": "code",
     "collapsed": false,
     "input": [
      "engine = create_engine(dbname)"
     ],
     "language": "python",
     "metadata": {},
     "outputs": [],
     "prompt_number": 6
    },
    {
     "cell_type": "heading",
     "level": 3,
     "metadata": {},
     "source": [
      "Read in OpSim output for 2.168 cast in sqlite format (even though there are some differences)"
     ]
    },
    {
     "cell_type": "code",
     "collapsed": false,
     "input": [
      "dbname_2168 = 'sqlite:////Users/rbiswas/data/LSST/OpSimData/opsim2_168_sqlite.db'\n",
      "engine_2168 = create_engine(dbname_2168)\n",
      "dbAddressDict = {'dbAddress': dbname_2168, 'Summary':'summary'}\n",
      "print dbAddressDict\n",
      "opsimDb2168 = opsimUtils.connectOpsimDb(dbAddressDict)"
     ],
     "language": "python",
     "metadata": {},
     "outputs": [
      {
       "output_type": "stream",
       "stream": "stdout",
       "text": [
        "{'Summary': 'summary', 'dbAddress': 'sqlite:////Users/rbiswas/data/LSST/OpSimData/opsim2_168_sqlite.db'}\n"
       ]
      }
     ],
     "prompt_number": 7
    },
    {
     "cell_type": "code",
     "collapsed": false,
     "input": [
      "propID, propTags = opsimDb2168.fetchPropInfo()"
     ],
     "language": "python",
     "metadata": {},
     "outputs": [],
     "prompt_number": 8
    },
    {
     "cell_type": "code",
     "collapsed": false,
     "input": [
      "propTags"
     ],
     "language": "python",
     "metadata": {},
     "outputs": [
      {
       "metadata": {},
       "output_type": "pyout",
       "prompt_number": 9,
       "text": [
        "{'DD': [], 'WFD': []}"
       ]
      }
     ],
     "prompt_number": 9
    },
    {
     "cell_type": "markdown",
     "metadata": {},
     "source": [
      "This does not work for the old format. Read the SSTar document: http://opsimcvs.tuc.noao.edu/runs/opsim2.168/SSTAR-opsim2-168.pdf and find the deep drilling propIDs from Table 1."
     ]
    },
    {
     "cell_type": "code",
     "collapsed": false,
     "input": [
      "DDold = 359, 360"
     ],
     "language": "python",
     "metadata": {},
     "outputs": [],
     "prompt_number": 10
    },
    {
     "cell_type": "heading",
     "level": 2,
     "metadata": {},
     "source": [
      "Read in the OpSim DataBase into a pandas dataFrame"
     ]
    },
    {
     "cell_type": "heading",
     "level": 3,
     "metadata": {},
     "source": [
      "This is a subsection of later versions of OpSims (eg. Enigma_1189 used here)"
     ]
    },
    {
     "cell_type": "markdown",
     "metadata": {},
     "source": [
      "The opsim database is a large file (approx 4.0 GB), but still possible to read into memory on new computers. You usually only need the Summary Table, which is about 900 MB. If you are only interested in the Deep Drilling Fields, you can use the read_sql_query to only select information pertaining to Deep Drilling Observations. This has a memory footprint of about 40 MB.\n",
      "Obviously, you can reduce this further by narrowing down the columns to those of interest only. For the entire Summary Table, this step takes a few minutes on my computer. "
     ]
    },
    {
     "cell_type": "code",
     "collapsed": true,
     "input": [
      "# Load to a dataframe\n",
      "# Summary = pd.read_hdf('storage.h5', 'table')\n",
      "# Summary = pd.read_sql_table('Summary', engine)\n",
      "EnigmaDeep  = pd.read_sql_query('SELECT * FROM SUMMARY WHERE PROPID is 366', engine)"
     ],
     "language": "python",
     "metadata": {},
     "outputs": [],
     "prompt_number": 11
    },
    {
     "cell_type": "code",
     "collapsed": false,
     "input": [
      "# List columns \n",
      "EnigmaDeep.columns"
     ],
     "language": "python",
     "metadata": {},
     "outputs": [
      {
       "metadata": {},
       "output_type": "pyout",
       "prompt_number": 12,
       "text": [
        "Index([u'obsHistID', u'sessionID', u'propID', u'fieldID', u'fieldRA', u'fieldDec', u'filter', u'expDate', u'expMJD', u'night', u'visitTime', u'visitExpTime', u'finRank', u'finSeeing', u'transparency', u'airmass', u'vSkyBright', u'filtSkyBrightness', u'rotSkyPos', u'lst', u'altitude', u'azimuth', u'dist2Moon', u'solarElong', u'moonRA', u'moonDec', u'moonAlt', u'moonAZ', u'moonPhase', u'sunAlt', u'sunAz', u'phaseAngle', u'rScatter', u'mieScatter', u'moonIllum', u'moonBright', u'darkBright', u'rawSeeing', u'wind', u'humidity', u'slewDist', u'slewTime', u'fiveSigmaDepth', u'ditheredRA', u'ditheredDec'], dtype='object')"
       ]
      }
     ],
     "prompt_number": 12
    },
    {
     "cell_type": "code",
     "collapsed": false,
     "input": [
      "# Alternatively, you can use Summary to read the entire table, and then slice using pandas\n",
      "\n",
      "# DeepFields = Summary[Summary['propID'] == 366]\n",
      "# WFD = Summary[Summary['propID'] == 364]\n",
      "# season1Deep = DeepFields[DeepFields['night'] < 366]"
     ],
     "language": "python",
     "metadata": {},
     "outputs": [],
     "prompt_number": 13
    },
    {
     "cell_type": "markdown",
     "metadata": {},
     "source": [
      "We can read information about the Enigma Deep field summary table downloaded from Opsim with the command below to summarize the table. There are 110114 rows, and a total of 45 columns. The total memory on disk used is 38.6 MB"
     ]
    },
    {
     "cell_type": "code",
     "collapsed": false,
     "input": [
      "EnigmaDeep.fieldID.unique()"
     ],
     "language": "python",
     "metadata": {},
     "outputs": [
      {
       "metadata": {},
       "output_type": "pyout",
       "prompt_number": 14,
       "text": [
        "array([1427, 2786,  290,  744, 2412])"
       ]
      }
     ],
     "prompt_number": 14
    },
    {
     "cell_type": "heading",
     "level": 3,
     "metadata": {},
     "source": [
      "This subsection is for sqlite transforms of old Versions of OpSim Outputs (eg. 2.168)"
     ]
    },
    {
     "cell_type": "code",
     "collapsed": false,
     "input": [
      "OpSim_2168_Deep = pd.read_sql_query('SELECT * FROM SUMMARY WHERE PROPID is 359 or PROPID is 360', engine_2168)"
     ],
     "language": "python",
     "metadata": {},
     "outputs": [],
     "prompt_number": 15
    },
    {
     "cell_type": "markdown",
     "metadata": {},
     "source": [
      "As shown from a similar command as above this OpSim database has 197332 rows (close to about twice as the enigma case) and 46 columns. The memory on disc is also larger by a similar factor and is 70 MB"
     ]
    },
    {
     "cell_type": "code",
     "collapsed": false,
     "input": [
      "OpSim_2168_Deep.info()"
     ],
     "language": "python",
     "metadata": {},
     "outputs": [
      {
       "output_type": "stream",
       "stream": "stdout",
       "text": [
        "<class 'pandas.core.frame.DataFrame'>\n",
        "Int64Index: 197332 entries, 0 to 197331\n",
        "Data columns (total 46 columns):\n",
        "airmass              197332 non-null float64\n",
        "altitude             197332 non-null float64\n",
        "azimuth              197332 non-null float64\n",
        "darkBright           197332 non-null float64\n",
        "dist2Moon            197332 non-null float64\n",
        "ditheredDec          197332 non-null float64\n",
        "ditheredRA           197332 non-null float64\n",
        "expDate              197332 non-null int64\n",
        "expMJD               197332 non-null float64\n",
        "fieldDec             197332 non-null float64\n",
        "fieldID              197332 non-null int64\n",
        "fieldRA              197332 non-null float64\n",
        "filtSkyBrightness    197332 non-null float64\n",
        "filter               197332 non-null object\n",
        "finRank              197332 non-null float64\n",
        "finSeeing            197332 non-null float64\n",
        "fiveSigmaDepth       197332 non-null float64\n",
        "humidity             197332 non-null float64\n",
        "lst                  197332 non-null float64\n",
        "mieScatter           197332 non-null float64\n",
        "moonAZ               197332 non-null float64\n",
        "moonAlt              197332 non-null float64\n",
        "moonBright           197332 non-null float64\n",
        "moonDec              197332 non-null float64\n",
        "moonIllum            197332 non-null float64\n",
        "moonPhase            197332 non-null float64\n",
        "moonRA               197332 non-null float64\n",
        "night                197332 non-null int64\n",
        "obsHistID            197332 non-null int64\n",
        "phaseAngle           197332 non-null float64\n",
        "propID               197332 non-null int64\n",
        "rScatter             197332 non-null float64\n",
        "rawSeeing            197332 non-null float64\n",
        "rotSkyPos            197332 non-null float64\n",
        "rotTelPos            197332 non-null float64\n",
        "sessionID            197332 non-null int64\n",
        "slewDist             197332 non-null float64\n",
        "slewTime             197332 non-null float64\n",
        "solarElong           197332 non-null float64\n",
        "sunAlt               197332 non-null float64\n",
        "sunAz                197332 non-null float64\n",
        "transparency         197332 non-null float64\n",
        "vSkyBright           197332 non-null float64\n",
        "visitExpTime         197332 non-null float64\n",
        "visitTime            197332 non-null int64\n",
        "wind                 197332 non-null float64\n",
        "dtypes: float64(38), int64(7), object(1)\n",
        "memory usage: 70.8+ MB\n"
       ]
      }
     ],
     "prompt_number": 16
    },
    {
     "cell_type": "code",
     "collapsed": true,
     "input": [
      "OpSim_2168_Deep['propID'].unique()"
     ],
     "language": "python",
     "metadata": {},
     "outputs": [
      {
       "metadata": {},
       "output_type": "pyout",
       "prompt_number": 17,
       "text": [
        "array([360, 359])"
       ]
      }
     ],
     "prompt_number": 17
    },
    {
     "cell_type": "markdown",
     "metadata": {},
     "source": [
      "We can select a season, for example the first season by the following method. It would be trivial to add a column giving a season by dividing the night variable by 365."
     ]
    },
    {
     "cell_type": "code",
     "collapsed": false,
     "input": [
      "Season0_2_168 = OpSim_2168_Deep[OpSim_2168_Deep['night'] < 366]"
     ],
     "language": "python",
     "metadata": {},
     "outputs": [],
     "prompt_number": 18
    },
    {
     "cell_type": "code",
     "collapsed": false,
     "input": [
      "OpSim_2168_Deep.fieldID.unique()"
     ],
     "language": "python",
     "metadata": {},
     "outputs": [
      {
       "metadata": {},
       "output_type": "pyout",
       "prompt_number": 19,
       "text": [
        "array([ 311,  519,  526,  764, 1427, 2082, 2412, 2712, 2731, 2786])"
       ]
      }
     ],
     "prompt_number": 19
    },
    {
     "cell_type": "heading",
     "level": 2,
     "metadata": {},
     "source": [
      "Write out Full 10 year Simlib"
     ]
    },
    {
     "cell_type": "markdown",
     "metadata": {},
     "source": [
      "This is the point, where we start using this package. The stuff before was simply interacting with OpSim"
     ]
    },
    {
     "cell_type": "heading",
     "level": 4,
     "metadata": {},
     "source": [
      "OpSim 2.168"
     ]
    },
    {
     "cell_type": "code",
     "collapsed": false,
     "input": [
      "OpSim_2_168_DeepFull = so.SummaryOpsim(OpSim_2168_Deep)"
     ],
     "language": "python",
     "metadata": {},
     "outputs": [],
     "prompt_number": 20
    },
    {
     "cell_type": "markdown",
     "metadata": {},
     "source": [
      "We can view the summary for a particular field"
     ]
    },
    {
     "cell_type": "code",
     "collapsed": false,
     "input": [
      "OpSim_2_168_DeepFull.simlib(2082)[['expMJD','obsHistID','filter', 'night']].head()"
     ],
     "language": "python",
     "metadata": {},
     "outputs": [
      {
       "html": [
        "<div style=\"max-height:1000px;max-width:1500px;overflow:auto;\">\n",
        "<table border=\"1\" class=\"dataframe\">\n",
        "  <thead>\n",
        "    <tr style=\"text-align: right;\">\n",
        "      <th></th>\n",
        "      <th>expMJD</th>\n",
        "      <th>obsHistID</th>\n",
        "      <th>filter</th>\n",
        "      <th>night</th>\n",
        "    </tr>\n",
        "  </thead>\n",
        "  <tbody>\n",
        "    <tr>\n",
        "      <th>103088</th>\n",
        "      <td>49400.275853</td>\n",
        "      <td>38713156</td>\n",
        "      <td>g</td>\n",
        "      <td>47</td>\n",
        "    </tr>\n",
        "    <tr>\n",
        "      <th>103089</th>\n",
        "      <td>49400.276270</td>\n",
        "      <td>38713158</td>\n",
        "      <td>g</td>\n",
        "      <td>47</td>\n",
        "    </tr>\n",
        "    <tr>\n",
        "      <th>103090</th>\n",
        "      <td>49400.276687</td>\n",
        "      <td>38713159</td>\n",
        "      <td>g</td>\n",
        "      <td>47</td>\n",
        "    </tr>\n",
        "    <tr>\n",
        "      <th>103091</th>\n",
        "      <td>49400.277103</td>\n",
        "      <td>38713160</td>\n",
        "      <td>g</td>\n",
        "      <td>47</td>\n",
        "    </tr>\n",
        "    <tr>\n",
        "      <th>103092</th>\n",
        "      <td>49400.277520</td>\n",
        "      <td>38713161</td>\n",
        "      <td>g</td>\n",
        "      <td>47</td>\n",
        "    </tr>\n",
        "  </tbody>\n",
        "</table>\n",
        "</div>"
       ],
       "metadata": {},
       "output_type": "pyout",
       "prompt_number": 21,
       "text": [
        "              expMJD  obsHistID filter  night\n",
        "103088  49400.275853   38713156      g     47\n",
        "103089  49400.276270   38713158      g     47\n",
        "103090  49400.276687   38713159      g     47\n",
        "103091  49400.277103   38713160      g     47\n",
        "103092  49400.277520   38713161      g     47"
       ]
      }
     ],
     "prompt_number": 21
    },
    {
     "cell_type": "code",
     "collapsed": false,
     "input": [
      "OpSim_2_168_DeepFull.writeSimlib('OpSim_2.168.DEEP.Full')"
     ],
     "language": "python",
     "metadata": {},
     "outputs": [],
     "prompt_number": 22
    },
    {
     "cell_type": "heading",
     "level": 3,
     "metadata": {},
     "source": [
      "Enigma"
     ]
    },
    {
     "cell_type": "code",
     "collapsed": false,
     "input": [
      "EnigmaDeepSummary = so.SummaryOpsim(EnigmaDeep)"
     ],
     "language": "python",
     "metadata": {},
     "outputs": [],
     "prompt_number": 23
    },
    {
     "cell_type": "code",
     "collapsed": false,
     "input": [
      "np.degrees(6.097944)"
     ],
     "language": "python",
     "metadata": {},
     "outputs": [
      {
       "metadata": {},
       "output_type": "pyout",
       "prompt_number": 24,
       "text": [
        "349.38645490712327"
       ]
      }
     ],
     "prompt_number": 24
    },
    {
     "cell_type": "code",
     "collapsed": false,
     "input": [
      "fig = plt.figure(figsize=(10, 5))\n",
      "ax = fig.add_subplot(111, projection='mollweide');\n",
      "fig = OpSim_2_168_DeepFull.showFields(ax=fig.axes[0], marker='o', s=80)"
     ],
     "language": "python",
     "metadata": {},
     "outputs": [
      {
       "metadata": {},
       "output_type": "display_data",
       "png": "[encoded data removed]",
       "text": [
        "<matplotlib.figure.Figure at 0x10bc361d0>"
       ]
      }
     ],
     "prompt_number": 25
    },
    {
     "cell_type": "code",
     "collapsed": false,
     "input": [
      "fig = EnigmaDeepSummary.showFields(ax=fig.axes[0], marker='s', color='r')"
     ],
     "language": "python",
     "metadata": {},
     "outputs": [],
     "prompt_number": 26
    },
    {
     "cell_type": "code",
     "collapsed": false,
     "input": [
      "fig"
     ],
     "language": "python",
     "metadata": {},
     "outputs": [
      {
       "metadata": {},
       "output_type": "pyout",
       "png": "[encoded data removed]",
       "prompt_number": 27,
       "text": [
        "<matplotlib.figure.Figure at 0x10bc361d0>"
       ]
      }
     ],
     "prompt_number": 27
    },
    {
     "cell_type": "code",
     "collapsed": false,
     "input": [
      "EnigmaDeepSummary.simlib(290).head()"
     ],
     "language": "python",
     "metadata": {},
     "outputs": [
      {
       "html": [
        "<div style=\"max-height:1000px;max-width:1500px;overflow:auto;\">\n",
        "<table border=\"1\" class=\"dataframe\">\n",
        "  <thead>\n",
        "    <tr style=\"text-align: right;\">\n",
        "      <th></th>\n",
        "      <th>obsHistID</th>\n",
        "      <th>sessionID</th>\n",
        "      <th>propID</th>\n",
        "      <th>fieldID</th>\n",
        "      <th>fieldRA</th>\n",
        "      <th>fieldDec</th>\n",
        "      <th>filter</th>\n",
        "      <th>expDate</th>\n",
        "      <th>expMJD</th>\n",
        "      <th>night</th>\n",
        "      <th>...</th>\n",
        "      <th>wind</th>\n",
        "      <th>humidity</th>\n",
        "      <th>slewDist</th>\n",
        "      <th>slewTime</th>\n",
        "      <th>fiveSigmaDepth</th>\n",
        "      <th>ditheredRA</th>\n",
        "      <th>ditheredDec</th>\n",
        "      <th>simLibPsf</th>\n",
        "      <th>simLibZPTAVG</th>\n",
        "      <th>simLibSkySig</th>\n",
        "    </tr>\n",
        "  </thead>\n",
        "  <tbody>\n",
        "    <tr>\n",
        "      <th>2036</th>\n",
        "      <td>140297</td>\n",
        "      <td>1189</td>\n",
        "      <td>366</td>\n",
        "      <td>290</td>\n",
        "      <td>6.097944</td>\n",
        "      <td>-1.10516</td>\n",
        "      <td>r</td>\n",
        "      <td>15402156</td>\n",
        "      <td>49531.265704</td>\n",
        "      <td>178</td>\n",
        "      <td>...</td>\n",
        "      <td>0</td>\n",
        "      <td>0</td>\n",
        "      <td>0.93277</td>\n",
        "      <td>83.261838</td>\n",
        "      <td>23.364830</td>\n",
        "      <td>6.076685</td>\n",
        "      <td>-1.088628</td>\n",
        "      <td>2.457219</td>\n",
        "      <td>31.682579</td>\n",
        "      <td>9.216794</td>\n",
        "    </tr>\n",
        "    <tr>\n",
        "      <th>2037</th>\n",
        "      <td>140298</td>\n",
        "      <td>1189</td>\n",
        "      <td>366</td>\n",
        "      <td>290</td>\n",
        "      <td>6.097944</td>\n",
        "      <td>-1.10516</td>\n",
        "      <td>r</td>\n",
        "      <td>15402193</td>\n",
        "      <td>49531.266133</td>\n",
        "      <td>178</td>\n",
        "      <td>...</td>\n",
        "      <td>0</td>\n",
        "      <td>0</td>\n",
        "      <td>0.00000</td>\n",
        "      <td>3.000000</td>\n",
        "      <td>23.294772</td>\n",
        "      <td>6.076685</td>\n",
        "      <td>-1.088628</td>\n",
        "      <td>2.625730</td>\n",
        "      <td>31.682781</td>\n",
        "      <td>9.519887</td>\n",
        "    </tr>\n",
        "    <tr>\n",
        "      <th>2038</th>\n",
        "      <td>140299</td>\n",
        "      <td>1189</td>\n",
        "      <td>366</td>\n",
        "      <td>290</td>\n",
        "      <td>6.097944</td>\n",
        "      <td>-1.10516</td>\n",
        "      <td>r</td>\n",
        "      <td>15402229</td>\n",
        "      <td>49531.266549</td>\n",
        "      <td>178</td>\n",
        "      <td>...</td>\n",
        "      <td>0</td>\n",
        "      <td>0</td>\n",
        "      <td>0.00000</td>\n",
        "      <td>2.000000</td>\n",
        "      <td>23.296010</td>\n",
        "      <td>6.076685</td>\n",
        "      <td>-1.088628</td>\n",
        "      <td>2.624079</td>\n",
        "      <td>31.683107</td>\n",
        "      <td>9.515891</td>\n",
        "    </tr>\n",
        "    <tr>\n",
        "      <th>2039</th>\n",
        "      <td>140300</td>\n",
        "      <td>1189</td>\n",
        "      <td>366</td>\n",
        "      <td>290</td>\n",
        "      <td>6.097944</td>\n",
        "      <td>-1.10516</td>\n",
        "      <td>r</td>\n",
        "      <td>15402266</td>\n",
        "      <td>49531.266978</td>\n",
        "      <td>178</td>\n",
        "      <td>...</td>\n",
        "      <td>0</td>\n",
        "      <td>0</td>\n",
        "      <td>0.00000</td>\n",
        "      <td>3.000000</td>\n",
        "      <td>23.297206</td>\n",
        "      <td>6.076685</td>\n",
        "      <td>-1.088628</td>\n",
        "      <td>2.622481</td>\n",
        "      <td>31.683424</td>\n",
        "      <td>9.512040</td>\n",
        "    </tr>\n",
        "    <tr>\n",
        "      <th>2040</th>\n",
        "      <td>140301</td>\n",
        "      <td>1189</td>\n",
        "      <td>366</td>\n",
        "      <td>290</td>\n",
        "      <td>6.097944</td>\n",
        "      <td>-1.10516</td>\n",
        "      <td>r</td>\n",
        "      <td>15402303</td>\n",
        "      <td>49531.267406</td>\n",
        "      <td>178</td>\n",
        "      <td>...</td>\n",
        "      <td>0</td>\n",
        "      <td>0</td>\n",
        "      <td>0.00000</td>\n",
        "      <td>3.000000</td>\n",
        "      <td>23.298434</td>\n",
        "      <td>6.076685</td>\n",
        "      <td>-1.088628</td>\n",
        "      <td>2.620845</td>\n",
        "      <td>31.683747</td>\n",
        "      <td>9.508076</td>\n",
        "    </tr>\n",
        "  </tbody>\n",
        "</table>\n",
        "<p>5 rows \u00d7 48 columns</p>\n",
        "</div>"
       ],
       "metadata": {},
       "output_type": "pyout",
       "prompt_number": 28,
       "text": [
        "      obsHistID  sessionID  propID  fieldID   fieldRA  fieldDec filter  \\\n",
        "2036     140297       1189     366      290  6.097944  -1.10516      r   \n",
        "2037     140298       1189     366      290  6.097944  -1.10516      r   \n",
        "2038     140299       1189     366      290  6.097944  -1.10516      r   \n",
        "2039     140300       1189     366      290  6.097944  -1.10516      r   \n",
        "2040     140301       1189     366      290  6.097944  -1.10516      r   \n",
        "\n",
        "       expDate        expMJD  night      ...       wind  humidity  slewDist  \\\n",
        "2036  15402156  49531.265704    178      ...          0         0   0.93277   \n",
        "2037  15402193  49531.266133    178      ...          0         0   0.00000   \n",
        "2038  15402229  49531.266549    178      ...          0         0   0.00000   \n",
        "2039  15402266  49531.266978    178      ...          0         0   0.00000   \n",
        "2040  15402303  49531.267406    178      ...          0         0   0.00000   \n",
        "\n",
        "       slewTime  fiveSigmaDepth  ditheredRA  ditheredDec  simLibPsf  \\\n",
        "2036  83.261838       23.364830    6.076685    -1.088628   2.457219   \n",
        "2037   3.000000       23.294772    6.076685    -1.088628   2.625730   \n",
        "2038   2.000000       23.296010    6.076685    -1.088628   2.624079   \n",
        "2039   3.000000       23.297206    6.076685    -1.088628   2.622481   \n",
        "2040   3.000000       23.298434    6.076685    -1.088628   2.620845   \n",
        "\n",
        "      simLibZPTAVG  simLibSkySig  \n",
        "2036     31.682579      9.216794  \n",
        "2037     31.682781      9.519887  \n",
        "2038     31.683107      9.515891  \n",
        "2039     31.683424      9.512040  \n",
        "2040     31.683747      9.508076  \n",
        "\n",
        "[5 rows x 48 columns]"
       ]
      }
     ],
     "prompt_number": 28
    },
    {
     "cell_type": "heading",
     "level": 2,
     "metadata": {},
     "source": [
      "Write out SIMLIB for Season 1"
     ]
    },
    {
     "cell_type": "code",
     "collapsed": false,
     "input": [
      "season = season1Deep.copy(deep=True)"
     ],
     "language": "python",
     "metadata": {},
     "outputs": [
      {
       "ename": "NameError",
       "evalue": "name 'season1Deep' is not defined",
       "output_type": "pyerr",
       "traceback": [
        "\u001b[0;31m---------------------------------------------------------------------------\u001b[0m\n\u001b[0;31mNameError\u001b[0m                                 Traceback (most recent call last)",
        "\u001b[0;32m<ipython-input-29-6e352b67a34c>\u001b[0m in \u001b[0;36m<module>\u001b[0;34m()\u001b[0m\n\u001b[0;32m----> 1\u001b[0;31m \u001b[0mseason\u001b[0m \u001b[0;34m=\u001b[0m \u001b[0mseason1Deep\u001b[0m\u001b[0;34m.\u001b[0m\u001b[0mcopy\u001b[0m\u001b[0;34m(\u001b[0m\u001b[0mdeep\u001b[0m\u001b[0;34m=\u001b[0m\u001b[0mTrue\u001b[0m\u001b[0;34m)\u001b[0m\u001b[0;34m\u001b[0m\u001b[0m\n\u001b[0m",
        "\u001b[0;31mNameError\u001b[0m: name 'season1Deep' is not defined"
       ]
      }
     ],
     "prompt_number": 29
    },
    {
     "cell_type": "code",
     "collapsed": false,
     "input": [
      "oldseason = Season0_2_168.copy(deep=True)"
     ],
     "language": "python",
     "metadata": {},
     "outputs": []
    },
    {
     "cell_type": "code",
     "collapsed": false,
     "input": [
      "simlib_opsim_2_168 = so.SummaryOpsim(oldseason)"
     ],
     "language": "python",
     "metadata": {},
     "outputs": []
    },
    {
     "cell_type": "code",
     "collapsed": false,
     "input": [
      "simlib_opsim_2_168.fieldIds"
     ],
     "language": "python",
     "metadata": {},
     "outputs": []
    },
    {
     "cell_type": "code",
     "collapsed": false,
     "input": [
      "simlib_opsim_2_168.writeSimlib('Opsim.2.168.Simlib')"
     ],
     "language": "python",
     "metadata": {},
     "outputs": []
    },
    {
     "cell_type": "code",
     "collapsed": false,
     "input": [
      "simlib = so.SummaryOpsim(season)"
     ],
     "language": "python",
     "metadata": {},
     "outputs": []
    },
    {
     "cell_type": "code",
     "collapsed": false,
     "input": [
      "simlib.df['filter'].unique()"
     ],
     "language": "python",
     "metadata": {},
     "outputs": []
    },
    {
     "cell_type": "code",
     "collapsed": false,
     "input": [
      "simlib.fieldIds"
     ],
     "language": "python",
     "metadata": {},
     "outputs": []
    },
    {
     "cell_type": "code",
     "collapsed": false,
     "input": [
      "simlib.writeSimlib('test_out.simlib')"
     ],
     "language": "python",
     "metadata": {},
     "outputs": []
    },
    {
     "cell_type": "heading",
     "level": 1,
     "metadata": {},
     "source": [
      "Scratch"
     ]
    },
    {
     "cell_type": "code",
     "collapsed": false,
     "input": [
      "filtergroups = EnigmaDeepSummary.simlib(290).query('night < 366').groupby('filter')"
     ],
     "language": "python",
     "metadata": {},
     "outputs": []
    },
    {
     "cell_type": "code",
     "collapsed": false,
     "input": [
      "filters = filtergroups.groups.keys()\n",
      "Filters = [u'u', u'g', u'r', u'i', u'z', u'Y']"
     ],
     "language": "python",
     "metadata": {},
     "outputs": []
    },
    {
     "cell_type": "code",
     "collapsed": false,
     "input": [
      "filtered = map(lambda x: filtergroups.get_group(x).copy(deep=True), filters)"
     ],
     "language": "python",
     "metadata": {},
     "outputs": []
    },
    {
     "cell_type": "code",
     "collapsed": false,
     "input": [
      "def cadence_plot(dd, fieldID, sql_query='night < 366', Filters=[u'u', u'g', u'r', u'i', u'z', u'Y'], nightMin=0, nightMax=365):\n",
      "    filtergroups = dd.simlib(fieldID).query(sql_query).groupby('filter')\n",
      "    times = dict()\n",
      "    numExps = dict()\n",
      "    numDays = nightMax - nightMin\n",
      "    H = np.zeros(shape=(len(Filters), numDays))\n",
      "    for i, filt in enumerate(Filters):\n",
      "        expVals = np.zeros(numDays, dtype=int)\n",
      "        filtered = map(lambda x: filtergroups.get_group(x).copy(deep=True), Filters)\n",
      "        # filtered[i]['timeIndex'] = filtered[i].expMJD // deltaT\n",
      "        timeBinned = filtered[i].groupby('night')\n",
      "        timeKeys = timeBinned.groups.keys()\n",
      "        times = map(int, timeBinned.night.apply(np.mean))\n",
      "        times = np.array(times) - nightMin\n",
      "        # print times\n",
      "        # times = map(lambda x: timeBinned.get_group(x).expMJD.mean(), timeKeys)\n",
      "        numExps = timeBinned.apply(len)\n",
      "        expVals[times] = numExps\n",
      "        H[i, :] = expVals\n",
      "    \n",
      "    #fig = plt.figure()\n",
      "    # ax = fig.add_subplot(111)\n",
      "    ax = plt.matshow(H, aspect='auto')\n",
      "    plt.colorbar(orientation='horizontal', cmap=cm.gray_r)\n",
      "    # ax.axhline(1,0, 365)\n",
      "    fig = ax.figure\n",
      "    # ax.grid(True)\n",
      "    # fig = ax.figure\n",
      "    \n",
      "    return fig"
     ],
     "language": "python",
     "metadata": {},
     "outputs": []
    },
    {
     "cell_type": "code",
     "collapsed": false,
     "input": [
      "OpSim_2_168_DeepFull.fieldIds"
     ],
     "language": "python",
     "metadata": {},
     "outputs": []
    },
    {
     "cell_type": "code",
     "collapsed": false,
     "input": [
      "fig = EnigmaDeepSummary.cadence_plot(744, sql_query='night > 366 and night < 732', nightMin=365, nightMax=732)"
     ],
     "language": "python",
     "metadata": {},
     "outputs": []
    },
    {
     "cell_type": "code",
     "collapsed": false,
     "input": [
      "help(plt.matshow)"
     ],
     "language": "python",
     "metadata": {},
     "outputs": []
    },
    {
     "cell_type": "code",
     "collapsed": false,
     "input": [
      "np.shape(H)"
     ],
     "language": "python",
     "metadata": {},
     "outputs": []
    },
    {
     "cell_type": "code",
     "collapsed": false,
     "input": [
      "plt.matshow(H, aspect='auto')\n",
      "plt.colorbar(orientation='horizontal', cmap = cm.gray_r)"
     ],
     "language": "python",
     "metadata": {},
     "outputs": []
    },
    {
     "cell_type": "code",
     "collapsed": false,
     "input": [
      "help(plt.matshow)"
     ],
     "language": "python",
     "metadata": {},
     "outputs": []
    },
    {
     "cell_type": "code",
     "collapsed": false,
     "input": [
      "import matplotlib.cm as cm"
     ],
     "language": "python",
     "metadata": {},
     "outputs": []
    },
    {
     "cell_type": "code",
     "collapsed": false,
     "input": [
      "plt.colormaps()"
     ],
     "language": "python",
     "metadata": {},
     "outputs": []
    },
    {
     "cell_type": "code",
     "collapsed": false,
     "input": [
      "%matplotlib inline\n",
      "import matplotlib.pyplot as plt\n",
      "plt.plot(times[u'g'], numExps[u'g'])"
     ],
     "language": "python",
     "metadata": {},
     "outputs": []
    },
    {
     "cell_type": "code",
     "collapsed": false,
     "input": [
      "expVals = np.zeros(365)"
     ],
     "language": "python",
     "metadata": {},
     "outputs": []
    },
    {
     "cell_type": "code",
     "collapsed": false,
     "input": [
      "expVals"
     ],
     "language": "python",
     "metadata": {},
     "outputs": []
    },
    {
     "cell_type": "code",
     "collapsed": false,
     "input": [
      "times[u'g']"
     ],
     "language": "python",
     "metadata": {},
     "outputs": []
    },
    {
     "cell_type": "code",
     "collapsed": false,
     "input": [
      "t = np.zeros(len(times[u'g'].values), dtype=int)"
     ],
     "language": "python",
     "metadata": {},
     "outputs": []
    },
    {
     "cell_type": "code",
     "collapsed": false,
     "input": [
      "t = times[u'g'].values"
     ],
     "language": "python",
     "metadata": {},
     "outputs": []
    },
    {
     "cell_type": "code",
     "collapsed": false,
     "input": [
      "t = map(int, times[u'g'].values)"
     ],
     "language": "python",
     "metadata": {},
     "outputs": []
    },
    {
     "cell_type": "code",
     "collapsed": false,
     "input": [
      "expVals[t] = numExps[u'g']"
     ],
     "language": "python",
     "metadata": {},
     "outputs": []
    },
    {
     "cell_type": "code",
     "collapsed": false,
     "input": [
      "expVals"
     ],
     "language": "python",
     "metadata": {},
     "outputs": []
    },
    {
     "cell_type": "code",
     "collapsed": false,
     "input": [
      "numExps[u'g'].dtype"
     ],
     "language": "python",
     "metadata": {},
     "outputs": []
    },
    {
     "cell_type": "code",
     "collapsed": false,
     "input": [
      "cadence = filtergroups.get_group(u'g')"
     ],
     "language": "python",
     "metadata": {},
     "outputs": []
    },
    {
     "cell_type": "code",
     "collapsed": false,
     "input": [
      "cad = cadence.copy(deep=True)"
     ],
     "language": "python",
     "metadata": {},
     "outputs": []
    },
    {
     "cell_type": "code",
     "collapsed": false,
     "input": [
      "deltaT = 1\n",
      "cad['timeIndex'] = cad.expMJD // deltaT "
     ],
     "language": "python",
     "metadata": {},
     "outputs": []
    },
    {
     "cell_type": "code",
     "collapsed": false,
     "input": [
      "gg = cad.groupby('timeIndex').apply(len)"
     ],
     "language": "python",
     "metadata": {},
     "outputs": []
    },
    {
     "cell_type": "code",
     "collapsed": false,
     "input": [
      "filters"
     ],
     "language": "python",
     "metadata": {},
     "outputs": []
    },
    {
     "cell_type": "code",
     "collapsed": false,
     "input": [
      "filtered[0]"
     ],
     "language": "python",
     "metadata": {},
     "outputs": []
    },
    {
     "cell_type": "code",
     "collapsed": false,
     "input": [
      "map(len,gg.values())"
     ],
     "language": "python",
     "metadata": {},
     "outputs": []
    },
    {
     "cell_type": "code",
     "collapsed": false,
     "input": [
      "obs = cadence.groupby('night')"
     ],
     "language": "python",
     "metadata": {},
     "outputs": []
    },
    {
     "cell_type": "code",
     "collapsed": false,
     "input": [],
     "language": "python",
     "metadata": {},
     "outputs": []
    },
    {
     "cell_type": "code",
     "collapsed": false,
     "input": [
      "map(lambda x: EnigmaDeepSummary.ra(x), EnigmaDeepSummary.fieldIds)"
     ],
     "language": "python",
     "metadata": {},
     "outputs": []
    },
    {
     "cell_type": "code",
     "collapsed": false,
     "input": [
      "EnigmaDeepSummary.ra(290)"
     ],
     "language": "python",
     "metadata": {},
     "outputs": []
    },
    {
     "cell_type": "code",
     "collapsed": false,
     "input": [
      "fieldSummary = EnigmaDeepSummary.simlib(290)"
     ],
     "language": "python",
     "metadata": {},
     "outputs": []
    },
    {
     "cell_type": "code",
     "collapsed": false,
     "input": [
      "dd = fieldSummary[fieldSummary['night'] < 366 ]"
     ],
     "language": "python",
     "metadata": {},
     "outputs": []
    },
    {
     "cell_type": "code",
     "collapsed": false,
     "input": [
      "xx = fieldSummary.query('night < 366')"
     ],
     "language": "python",
     "metadata": {},
     "outputs": []
    },
    {
     "cell_type": "code",
     "collapsed": false,
     "input": [
      "all(xx == dd)"
     ],
     "language": "python",
     "metadata": {},
     "outputs": []
    },
    {
     "cell_type": "code",
     "collapsed": false,
     "input": [
      "def nightsObserved(dd, band, color='k', ax=None):\n",
      "    xx = dd.groupby(dd['filter']).get_group(band).groupby('night')\n",
      "    yy = np.sort(xx.groups.keys())\n",
      "    if ax is None:\n",
      "        fig, ax = plt.subplots()\n",
      "    ax.bar(yy, np.ones(len(yy)), color=color)"
     ],
     "language": "python",
     "metadata": {},
     "outputs": []
    },
    {
     "cell_type": "code",
     "collapsed": false,
     "input": [
      "def plotnightsObserved(dd):\n",
      "    nightsObserved(dd, u'u', color='y')\n",
      "    nightsObserved(dd, u'g', color='g')\n",
      "    nightsObserved(dd, u'r', color='b')\n",
      "    nightsObserved(dd, u'i', color ='k')\n",
      "    nightsObserved(dd, u'z', color='red')\n",
      "    nightsObserved(dd, u'Y', color='magenta')"
     ],
     "language": "python",
     "metadata": {},
     "outputs": []
    },
    {
     "cell_type": "code",
     "collapsed": false,
     "input": [
      "def plotnightsDeep()"
     ],
     "language": "python",
     "metadata": {},
     "outputs": []
    },
    {
     "cell_type": "code",
     "collapsed": false,
     "input": [
      "nightsObserved(dd, u'g')"
     ],
     "language": "python",
     "metadata": {},
     "outputs": []
    },
    {
     "cell_type": "code",
     "collapsed": false,
     "input": [
      "plotnightsObserved(EnigmaDeepSummary.simlib(744)[EnigmaDeepSummary.simlib(744)['night']<730])"
     ],
     "language": "python",
     "metadata": {},
     "outputs": []
    },
    {
     "cell_type": "code",
     "collapsed": false,
     "input": [
      "dd.night.hist(by=dd['filter'], bins=365, histtype='step', sharex=True)"
     ],
     "language": "python",
     "metadata": {},
     "outputs": []
    },
    {
     "cell_type": "code",
     "collapsed": false,
     "input": [
      "help(dd.night.hist)"
     ],
     "language": "python",
     "metadata": {},
     "outputs": []
    },
    {
     "cell_type": "code",
     "collapsed": false,
     "input": [
      "fd  = dd.groupby('filter')"
     ],
     "language": "python",
     "metadata": {},
     "outputs": []
    },
    {
     "cell_type": "code",
     "collapsed": false,
     "input": [
      "dp=fd.get_group(u'g')"
     ],
     "language": "python",
     "metadata": {},
     "outputs": []
    },
    {
     "cell_type": "code",
     "collapsed": false,
     "input": [
      "dd.groups.keys()"
     ],
     "language": "python",
     "metadata": {},
     "outputs": []
    },
    {
     "cell_type": "code",
     "collapsed": false,
     "input": [
      "dp.plot(dp['night'], bins=365, histtype='step')"
     ],
     "language": "python",
     "metadata": {},
     "outputs": []
    },
    {
     "cell_type": "code",
     "collapsed": false,
     "input": [
      "dd.get_group(u'g').night.plot(kind='bar')"
     ],
     "language": "python",
     "metadata": {},
     "outputs": []
    },
    {
     "cell_type": "code",
     "collapsed": false,
     "input": [
      "xd = dd.get_group(u'g').('expMJD', kind='bar')"
     ],
     "language": "python",
     "metadata": {},
     "outputs": []
    },
    {
     "cell_type": "code",
     "collapsed": false,
     "input": [
      "np.sort(xd.groups.keys())"
     ],
     "language": "python",
     "metadata": {},
     "outputs": []
    },
    {
     "cell_type": "code",
     "collapsed": false,
     "input": [
      "(map(lambda x: xd.get_group(x).obsHistID.size, xd.groups.keys()))"
     ],
     "language": "python",
     "metadata": {},
     "outputs": []
    },
    {
     "cell_type": "code",
     "collapsed": false,
     "input": [
      "def filterDiff(summary, fieldID, filter):\n",
      "    x = summary.simlib(fieldID).groupby('filter').get_group(filter).night.unique()\n",
      "    return np.diff(x)"
     ],
     "language": "python",
     "metadata": {},
     "outputs": []
    },
    {
     "cell_type": "code",
     "collapsed": false,
     "input": [
      "plt.hist(filterDiff(OpSim_2_168_DeepFull, 2082, 'g'), histtype='step', bins=20, color='g')\n",
      "plt.hist(filterDiff(OpSim_2_168_DeepFull, 2082, 'u'), histtype='step', bins=20, color='r')\n",
      "plt.hist(filterDiff(OpSim_2_168_DeepFull, 2082, 'Y'), histtype='step', bins=20, color='k')"
     ],
     "language": "python",
     "metadata": {},
     "outputs": []
    },
    {
     "cell_type": "code",
     "collapsed": false,
     "input": [
      "def drawfields(summ, ax=None, marker=None):\n",
      "    if ax is None:\n",
      "        fig = plt.figure()\n",
      "        ax = fig.add_subplot(111, projection='mollweide')\n",
      "    if marker is None:\n",
      "        marker = 'o'\n",
      "    ax.plot(summ.coords()[0], summ.coords()[1], marker);\n",
      "    ax.grid(True)\n",
      "    fig  = ax.figure;\n",
      "    return fig\n",
      "#ax.plot(np.radians([30., 45.]), np.radians([75, 45.]),'o')"
     ],
     "language": "python",
     "metadata": {},
     "outputs": []
    },
    {
     "cell_type": "code",
     "collapsed": false,
     "input": [
      "import seaborn as sns\n",
      "sns.set()\n",
      "\n",
      "# Load the example flights dataset and conver to long-form\n",
      "flights_long = sns.load_dataset(\"flights\")\n",
      "flights = flights_long.pivot(\"month\", \"year\", \"passengers\")\n",
      "\n",
      "# Draw a heatmap with the numeric values in each cell\n",
      "sns.heatmap(flights, annot=True, fmt=\"d\", linewidths=.5)"
     ],
     "language": "python",
     "metadata": {},
     "outputs": [
      {
       "metadata": {},
       "output_type": "pyout",
       "prompt_number": 30,
       "text": [
        "<matplotlib.axes._subplots.AxesSubplot at 0x111e01bd0>"
       ]
      },
      {
       "metadata": {},
       "output_type": "display_data",
       "png": "[encoded data removed]",
       "text": [
        "<matplotlib.figure.Figure at 0x111e2b3d0>"
       ]
      }
     ],
     "prompt_number": 30
    },
    {
     "cell_type": "code",
     "collapsed": false,
     "input": [
      "type(flights_long)"
     ],
     "language": "python",
     "metadata": {},
     "outputs": [
      {
       "metadata": {},
       "output_type": "pyout",
       "prompt_number": 31,
       "text": [
        "pandas.core.frame.DataFrame"
       ]
      }
     ],
     "prompt_number": 31
    },
    {
     "cell_type": "code",
     "collapsed": false,
     "input": [
      "flights_long"
     ],
     "language": "python",
     "metadata": {},
     "outputs": [
      {
       "html": [
        "<div style=\"max-height:1000px;max-width:1500px;overflow:auto;\">\n",
        "<table border=\"1\" class=\"dataframe\">\n",
        "  <thead>\n",
        "    <tr style=\"text-align: right;\">\n",
        "      <th></th>\n",
        "      <th>year</th>\n",
        "      <th>month</th>\n",
        "      <th>passengers</th>\n",
        "    </tr>\n",
        "  </thead>\n",
        "  <tbody>\n",
        "    <tr>\n",
        "      <th>0</th>\n",
        "      <td>1949</td>\n",
        "      <td>January</td>\n",
        "      <td>112</td>\n",
        "    </tr>\n",
        "    <tr>\n",
        "      <th>1</th>\n",
        "      <td>1949</td>\n",
        "      <td>February</td>\n",
        "      <td>118</td>\n",
        "    </tr>\n",
        "    <tr>\n",
        "      <th>2</th>\n",
        "      <td>1949</td>\n",
        "      <td>March</td>\n",
        "      <td>132</td>\n",
        "    </tr>\n",
        "    <tr>\n",
        "      <th>3</th>\n",
        "      <td>1949</td>\n",
        "      <td>April</td>\n",
        "      <td>129</td>\n",
        "    </tr>\n",
        "    <tr>\n",
        "      <th>4</th>\n",
        "      <td>1949</td>\n",
        "      <td>May</td>\n",
        "      <td>121</td>\n",
        "    </tr>\n",
        "    <tr>\n",
        "      <th>5</th>\n",
        "      <td>1949</td>\n",
        "      <td>June</td>\n",
        "      <td>135</td>\n",
        "    </tr>\n",
        "    <tr>\n",
        "      <th>6</th>\n",
        "      <td>1949</td>\n",
        "      <td>July</td>\n",
        "      <td>148</td>\n",
        "    </tr>\n",
        "    <tr>\n",
        "      <th>7</th>\n",
        "      <td>1949</td>\n",
        "      <td>August</td>\n",
        "      <td>148</td>\n",
        "    </tr>\n",
        "    <tr>\n",
        "      <th>8</th>\n",
        "      <td>1949</td>\n",
        "      <td>September</td>\n",
        "      <td>136</td>\n",
        "    </tr>\n",
        "    <tr>\n",
        "      <th>9</th>\n",
        "      <td>1949</td>\n",
        "      <td>October</td>\n",
        "      <td>119</td>\n",
        "    </tr>\n",
        "    <tr>\n",
        "      <th>10</th>\n",
        "      <td>1949</td>\n",
        "      <td>November</td>\n",
        "      <td>104</td>\n",
        "    </tr>\n",
        "    <tr>\n",
        "      <th>11</th>\n",
        "      <td>1949</td>\n",
        "      <td>December</td>\n",
        "      <td>118</td>\n",
        "    </tr>\n",
        "    <tr>\n",
        "      <th>12</th>\n",
        "      <td>1950</td>\n",
        "      <td>January</td>\n",
        "      <td>115</td>\n",
        "    </tr>\n",
        "    <tr>\n",
        "      <th>13</th>\n",
        "      <td>1950</td>\n",
        "      <td>February</td>\n",
        "      <td>126</td>\n",
        "    </tr>\n",
        "    <tr>\n",
        "      <th>14</th>\n",
        "      <td>1950</td>\n",
        "      <td>March</td>\n",
        "      <td>141</td>\n",
        "    </tr>\n",
        "    <tr>\n",
        "      <th>15</th>\n",
        "      <td>1950</td>\n",
        "      <td>April</td>\n",
        "      <td>135</td>\n",
        "    </tr>\n",
        "    <tr>\n",
        "      <th>16</th>\n",
        "      <td>1950</td>\n",
        "      <td>May</td>\n",
        "      <td>125</td>\n",
        "    </tr>\n",
        "    <tr>\n",
        "      <th>17</th>\n",
        "      <td>1950</td>\n",
        "      <td>June</td>\n",
        "      <td>149</td>\n",
        "    </tr>\n",
        "    <tr>\n",
        "      <th>18</th>\n",
        "      <td>1950</td>\n",
        "      <td>July</td>\n",
        "      <td>170</td>\n",
        "    </tr>\n",
        "    <tr>\n",
        "      <th>19</th>\n",
        "      <td>1950</td>\n",
        "      <td>August</td>\n",
        "      <td>170</td>\n",
        "    </tr>\n",
        "    <tr>\n",
        "      <th>20</th>\n",
        "      <td>1950</td>\n",
        "      <td>September</td>\n",
        "      <td>158</td>\n",
        "    </tr>\n",
        "    <tr>\n",
        "      <th>21</th>\n",
        "      <td>1950</td>\n",
        "      <td>October</td>\n",
        "      <td>133</td>\n",
        "    </tr>\n",
        "    <tr>\n",
        "      <th>22</th>\n",
        "      <td>1950</td>\n",
        "      <td>November</td>\n",
        "      <td>114</td>\n",
        "    </tr>\n",
        "    <tr>\n",
        "      <th>23</th>\n",
        "      <td>1950</td>\n",
        "      <td>December</td>\n",
        "      <td>140</td>\n",
        "    </tr>\n",
        "    <tr>\n",
        "      <th>24</th>\n",
        "      <td>1951</td>\n",
        "      <td>January</td>\n",
        "      <td>145</td>\n",
        "    </tr>\n",
        "    <tr>\n",
        "      <th>25</th>\n",
        "      <td>1951</td>\n",
        "      <td>February</td>\n",
        "      <td>150</td>\n",
        "    </tr>\n",
        "    <tr>\n",
        "      <th>26</th>\n",
        "      <td>1951</td>\n",
        "      <td>March</td>\n",
        "      <td>178</td>\n",
        "    </tr>\n",
        "    <tr>\n",
        "      <th>27</th>\n",
        "      <td>1951</td>\n",
        "      <td>April</td>\n",
        "      <td>163</td>\n",
        "    </tr>\n",
        "    <tr>\n",
        "      <th>28</th>\n",
        "      <td>1951</td>\n",
        "      <td>May</td>\n",
        "      <td>172</td>\n",
        "    </tr>\n",
        "    <tr>\n",
        "      <th>29</th>\n",
        "      <td>1951</td>\n",
        "      <td>June</td>\n",
        "      <td>178</td>\n",
        "    </tr>\n",
        "    <tr>\n",
        "      <th>...</th>\n",
        "      <td>...</td>\n",
        "      <td>...</td>\n",
        "      <td>...</td>\n",
        "    </tr>\n",
        "    <tr>\n",
        "      <th>114</th>\n",
        "      <td>1958</td>\n",
        "      <td>July</td>\n",
        "      <td>491</td>\n",
        "    </tr>\n",
        "    <tr>\n",
        "      <th>115</th>\n",
        "      <td>1958</td>\n",
        "      <td>August</td>\n",
        "      <td>505</td>\n",
        "    </tr>\n",
        "    <tr>\n",
        "      <th>116</th>\n",
        "      <td>1958</td>\n",
        "      <td>September</td>\n",
        "      <td>404</td>\n",
        "    </tr>\n",
        "    <tr>\n",
        "      <th>117</th>\n",
        "      <td>1958</td>\n",
        "      <td>October</td>\n",
        "      <td>359</td>\n",
        "    </tr>\n",
        "    <tr>\n",
        "      <th>118</th>\n",
        "      <td>1958</td>\n",
        "      <td>November</td>\n",
        "      <td>310</td>\n",
        "    </tr>\n",
        "    <tr>\n",
        "      <th>119</th>\n",
        "      <td>1958</td>\n",
        "      <td>December</td>\n",
        "      <td>337</td>\n",
        "    </tr>\n",
        "    <tr>\n",
        "      <th>120</th>\n",
        "      <td>1959</td>\n",
        "      <td>January</td>\n",
        "      <td>360</td>\n",
        "    </tr>\n",
        "    <tr>\n",
        "      <th>121</th>\n",
        "      <td>1959</td>\n",
        "      <td>February</td>\n",
        "      <td>342</td>\n",
        "    </tr>\n",
        "    <tr>\n",
        "      <th>122</th>\n",
        "      <td>1959</td>\n",
        "      <td>March</td>\n",
        "      <td>406</td>\n",
        "    </tr>\n",
        "    <tr>\n",
        "      <th>123</th>\n",
        "      <td>1959</td>\n",
        "      <td>April</td>\n",
        "      <td>396</td>\n",
        "    </tr>\n",
        "    <tr>\n",
        "      <th>124</th>\n",
        "      <td>1959</td>\n",
        "      <td>May</td>\n",
        "      <td>420</td>\n",
        "    </tr>\n",
        "    <tr>\n",
        "      <th>125</th>\n",
        "      <td>1959</td>\n",
        "      <td>June</td>\n",
        "      <td>472</td>\n",
        "    </tr>\n",
        "    <tr>\n",
        "      <th>126</th>\n",
        "      <td>1959</td>\n",
        "      <td>July</td>\n",
        "      <td>548</td>\n",
        "    </tr>\n",
        "    <tr>\n",
        "      <th>127</th>\n",
        "      <td>1959</td>\n",
        "      <td>August</td>\n",
        "      <td>559</td>\n",
        "    </tr>\n",
        "    <tr>\n",
        "      <th>128</th>\n",
        "      <td>1959</td>\n",
        "      <td>September</td>\n",
        "      <td>463</td>\n",
        "    </tr>\n",
        "    <tr>\n",
        "      <th>129</th>\n",
        "      <td>1959</td>\n",
        "      <td>October</td>\n",
        "      <td>407</td>\n",
        "    </tr>\n",
        "    <tr>\n",
        "      <th>130</th>\n",
        "      <td>1959</td>\n",
        "      <td>November</td>\n",
        "      <td>362</td>\n",
        "    </tr>\n",
        "    <tr>\n",
        "      <th>131</th>\n",
        "      <td>1959</td>\n",
        "      <td>December</td>\n",
        "      <td>405</td>\n",
        "    </tr>\n",
        "    <tr>\n",
        "      <th>132</th>\n",
        "      <td>1960</td>\n",
        "      <td>January</td>\n",
        "      <td>417</td>\n",
        "    </tr>\n",
        "    <tr>\n",
        "      <th>133</th>\n",
        "      <td>1960</td>\n",
        "      <td>February</td>\n",
        "      <td>391</td>\n",
        "    </tr>\n",
        "    <tr>\n",
        "      <th>134</th>\n",
        "      <td>1960</td>\n",
        "      <td>March</td>\n",
        "      <td>419</td>\n",
        "    </tr>\n",
        "    <tr>\n",
        "      <th>135</th>\n",
        "      <td>1960</td>\n",
        "      <td>April</td>\n",
        "      <td>461</td>\n",
        "    </tr>\n",
        "    <tr>\n",
        "      <th>136</th>\n",
        "      <td>1960</td>\n",
        "      <td>May</td>\n",
        "      <td>472</td>\n",
        "    </tr>\n",
        "    <tr>\n",
        "      <th>137</th>\n",
        "      <td>1960</td>\n",
        "      <td>June</td>\n",
        "      <td>535</td>\n",
        "    </tr>\n",
        "    <tr>\n",
        "      <th>138</th>\n",
        "      <td>1960</td>\n",
        "      <td>July</td>\n",
        "      <td>622</td>\n",
        "    </tr>\n",
        "    <tr>\n",
        "      <th>139</th>\n",
        "      <td>1960</td>\n",
        "      <td>August</td>\n",
        "      <td>606</td>\n",
        "    </tr>\n",
        "    <tr>\n",
        "      <th>140</th>\n",
        "      <td>1960</td>\n",
        "      <td>September</td>\n",
        "      <td>508</td>\n",
        "    </tr>\n",
        "    <tr>\n",
        "      <th>141</th>\n",
        "      <td>1960</td>\n",
        "      <td>October</td>\n",
        "      <td>461</td>\n",
        "    </tr>\n",
        "    <tr>\n",
        "      <th>142</th>\n",
        "      <td>1960</td>\n",
        "      <td>November</td>\n",
        "      <td>390</td>\n",
        "    </tr>\n",
        "    <tr>\n",
        "      <th>143</th>\n",
        "      <td>1960</td>\n",
        "      <td>December</td>\n",
        "      <td>432</td>\n",
        "    </tr>\n",
        "  </tbody>\n",
        "</table>\n",
        "<p>144 rows \u00d7 3 columns</p>\n",
        "</div>"
       ],
       "metadata": {},
       "output_type": "pyout",
       "prompt_number": 32,
       "text": [
        "     year      month  passengers\n",
        "0    1949    January         112\n",
        "1    1949   February         118\n",
        "2    1949      March         132\n",
        "3    1949      April         129\n",
        "4    1949        May         121\n",
        "5    1949       June         135\n",
        "6    1949       July         148\n",
        "7    1949     August         148\n",
        "8    1949  September         136\n",
        "9    1949    October         119\n",
        "10   1949   November         104\n",
        "11   1949   December         118\n",
        "12   1950    January         115\n",
        "13   1950   February         126\n",
        "14   1950      March         141\n",
        "15   1950      April         135\n",
        "16   1950        May         125\n",
        "17   1950       June         149\n",
        "18   1950       July         170\n",
        "19   1950     August         170\n",
        "20   1950  September         158\n",
        "21   1950    October         133\n",
        "22   1950   November         114\n",
        "23   1950   December         140\n",
        "24   1951    January         145\n",
        "25   1951   February         150\n",
        "26   1951      March         178\n",
        "27   1951      April         163\n",
        "28   1951        May         172\n",
        "29   1951       June         178\n",
        "..    ...        ...         ...\n",
        "114  1958       July         491\n",
        "115  1958     August         505\n",
        "116  1958  September         404\n",
        "117  1958    October         359\n",
        "118  1958   November         310\n",
        "119  1958   December         337\n",
        "120  1959    January         360\n",
        "121  1959   February         342\n",
        "122  1959      March         406\n",
        "123  1959      April         396\n",
        "124  1959        May         420\n",
        "125  1959       June         472\n",
        "126  1959       July         548\n",
        "127  1959     August         559\n",
        "128  1959  September         463\n",
        "129  1959    October         407\n",
        "130  1959   November         362\n",
        "131  1959   December         405\n",
        "132  1960    January         417\n",
        "133  1960   February         391\n",
        "134  1960      March         419\n",
        "135  1960      April         461\n",
        "136  1960        May         472\n",
        "137  1960       June         535\n",
        "138  1960       July         622\n",
        "139  1960     August         606\n",
        "140  1960  September         508\n",
        "141  1960    October         461\n",
        "142  1960   November         390\n",
        "143  1960   December         432\n",
        "\n",
        "[144 rows x 3 columns]"
       ]
      }
     ],
     "prompt_number": 32
    },
    {
     "cell_type": "code",
     "collapsed": false,
     "input": [
      "type(flights)"
     ],
     "language": "python",
     "metadata": {},
     "outputs": [
      {
       "metadata": {},
       "output_type": "pyout",
       "prompt_number": 33,
       "text": [
        "pandas.core.frame.DataFrame"
       ]
      }
     ],
     "prompt_number": 33
    },
    {
     "cell_type": "code",
     "collapsed": false,
     "input": [
      "flights"
     ],
     "language": "python",
     "metadata": {},
     "outputs": [
      {
       "html": [
        "<div style=\"max-height:1000px;max-width:1500px;overflow:auto;\">\n",
        "<table border=\"1\" class=\"dataframe\">\n",
        "  <thead>\n",
        "    <tr style=\"text-align: right;\">\n",
        "      <th>year</th>\n",
        "      <th>1949</th>\n",
        "      <th>1950</th>\n",
        "      <th>1951</th>\n",
        "      <th>1952</th>\n",
        "      <th>1953</th>\n",
        "      <th>1954</th>\n",
        "      <th>1955</th>\n",
        "      <th>1956</th>\n",
        "      <th>1957</th>\n",
        "      <th>1958</th>\n",
        "      <th>1959</th>\n",
        "      <th>1960</th>\n",
        "    </tr>\n",
        "    <tr>\n",
        "      <th>month</th>\n",
        "      <th></th>\n",
        "      <th></th>\n",
        "      <th></th>\n",
        "      <th></th>\n",
        "      <th></th>\n",
        "      <th></th>\n",
        "      <th></th>\n",
        "      <th></th>\n",
        "      <th></th>\n",
        "      <th></th>\n",
        "      <th></th>\n",
        "      <th></th>\n",
        "    </tr>\n",
        "  </thead>\n",
        "  <tbody>\n",
        "    <tr>\n",
        "      <th>April</th>\n",
        "      <td>129</td>\n",
        "      <td>135</td>\n",
        "      <td>163</td>\n",
        "      <td>181</td>\n",
        "      <td>235</td>\n",
        "      <td>227</td>\n",
        "      <td>269</td>\n",
        "      <td>313</td>\n",
        "      <td>348</td>\n",
        "      <td>348</td>\n",
        "      <td>396</td>\n",
        "      <td>461</td>\n",
        "    </tr>\n",
        "    <tr>\n",
        "      <th>August</th>\n",
        "      <td>148</td>\n",
        "      <td>170</td>\n",
        "      <td>199</td>\n",
        "      <td>242</td>\n",
        "      <td>272</td>\n",
        "      <td>293</td>\n",
        "      <td>347</td>\n",
        "      <td>405</td>\n",
        "      <td>467</td>\n",
        "      <td>505</td>\n",
        "      <td>559</td>\n",
        "      <td>606</td>\n",
        "    </tr>\n",
        "    <tr>\n",
        "      <th>December</th>\n",
        "      <td>118</td>\n",
        "      <td>140</td>\n",
        "      <td>166</td>\n",
        "      <td>194</td>\n",
        "      <td>201</td>\n",
        "      <td>229</td>\n",
        "      <td>278</td>\n",
        "      <td>306</td>\n",
        "      <td>336</td>\n",
        "      <td>337</td>\n",
        "      <td>405</td>\n",
        "      <td>432</td>\n",
        "    </tr>\n",
        "    <tr>\n",
        "      <th>February</th>\n",
        "      <td>118</td>\n",
        "      <td>126</td>\n",
        "      <td>150</td>\n",
        "      <td>180</td>\n",
        "      <td>196</td>\n",
        "      <td>188</td>\n",
        "      <td>233</td>\n",
        "      <td>277</td>\n",
        "      <td>301</td>\n",
        "      <td>318</td>\n",
        "      <td>342</td>\n",
        "      <td>391</td>\n",
        "    </tr>\n",
        "    <tr>\n",
        "      <th>January</th>\n",
        "      <td>112</td>\n",
        "      <td>115</td>\n",
        "      <td>145</td>\n",
        "      <td>171</td>\n",
        "      <td>196</td>\n",
        "      <td>204</td>\n",
        "      <td>242</td>\n",
        "      <td>284</td>\n",
        "      <td>315</td>\n",
        "      <td>340</td>\n",
        "      <td>360</td>\n",
        "      <td>417</td>\n",
        "    </tr>\n",
        "    <tr>\n",
        "      <th>July</th>\n",
        "      <td>148</td>\n",
        "      <td>170</td>\n",
        "      <td>199</td>\n",
        "      <td>230</td>\n",
        "      <td>264</td>\n",
        "      <td>302</td>\n",
        "      <td>364</td>\n",
        "      <td>413</td>\n",
        "      <td>465</td>\n",
        "      <td>491</td>\n",
        "      <td>548</td>\n",
        "      <td>622</td>\n",
        "    </tr>\n",
        "    <tr>\n",
        "      <th>June</th>\n",
        "      <td>135</td>\n",
        "      <td>149</td>\n",
        "      <td>178</td>\n",
        "      <td>218</td>\n",
        "      <td>243</td>\n",
        "      <td>264</td>\n",
        "      <td>315</td>\n",
        "      <td>374</td>\n",
        "      <td>422</td>\n",
        "      <td>435</td>\n",
        "      <td>472</td>\n",
        "      <td>535</td>\n",
        "    </tr>\n",
        "    <tr>\n",
        "      <th>March</th>\n",
        "      <td>132</td>\n",
        "      <td>141</td>\n",
        "      <td>178</td>\n",
        "      <td>193</td>\n",
        "      <td>236</td>\n",
        "      <td>235</td>\n",
        "      <td>267</td>\n",
        "      <td>317</td>\n",
        "      <td>356</td>\n",
        "      <td>362</td>\n",
        "      <td>406</td>\n",
        "      <td>419</td>\n",
        "    </tr>\n",
        "    <tr>\n",
        "      <th>May</th>\n",
        "      <td>121</td>\n",
        "      <td>125</td>\n",
        "      <td>172</td>\n",
        "      <td>183</td>\n",
        "      <td>229</td>\n",
        "      <td>234</td>\n",
        "      <td>270</td>\n",
        "      <td>318</td>\n",
        "      <td>355</td>\n",
        "      <td>363</td>\n",
        "      <td>420</td>\n",
        "      <td>472</td>\n",
        "    </tr>\n",
        "    <tr>\n",
        "      <th>November</th>\n",
        "      <td>104</td>\n",
        "      <td>114</td>\n",
        "      <td>146</td>\n",
        "      <td>172</td>\n",
        "      <td>180</td>\n",
        "      <td>203</td>\n",
        "      <td>237</td>\n",
        "      <td>271</td>\n",
        "      <td>305</td>\n",
        "      <td>310</td>\n",
        "      <td>362</td>\n",
        "      <td>390</td>\n",
        "    </tr>\n",
        "    <tr>\n",
        "      <th>October</th>\n",
        "      <td>119</td>\n",
        "      <td>133</td>\n",
        "      <td>162</td>\n",
        "      <td>191</td>\n",
        "      <td>211</td>\n",
        "      <td>229</td>\n",
        "      <td>274</td>\n",
        "      <td>306</td>\n",
        "      <td>347</td>\n",
        "      <td>359</td>\n",
        "      <td>407</td>\n",
        "      <td>461</td>\n",
        "    </tr>\n",
        "    <tr>\n",
        "      <th>September</th>\n",
        "      <td>136</td>\n",
        "      <td>158</td>\n",
        "      <td>184</td>\n",
        "      <td>209</td>\n",
        "      <td>237</td>\n",
        "      <td>259</td>\n",
        "      <td>312</td>\n",
        "      <td>355</td>\n",
        "      <td>404</td>\n",
        "      <td>404</td>\n",
        "      <td>463</td>\n",
        "      <td>508</td>\n",
        "    </tr>\n",
        "  </tbody>\n",
        "</table>\n",
        "</div>"
       ],
       "metadata": {},
       "output_type": "pyout",
       "prompt_number": 34,
       "text": [
        "year       1949  1950  1951  1952  1953  1954  1955  1956  1957  1958  1959  \\\n",
        "month                                                                         \n",
        "April       129   135   163   181   235   227   269   313   348   348   396   \n",
        "August      148   170   199   242   272   293   347   405   467   505   559   \n",
        "December    118   140   166   194   201   229   278   306   336   337   405   \n",
        "February    118   126   150   180   196   188   233   277   301   318   342   \n",
        "January     112   115   145   171   196   204   242   284   315   340   360   \n",
        "July        148   170   199   230   264   302   364   413   465   491   548   \n",
        "June        135   149   178   218   243   264   315   374   422   435   472   \n",
        "March       132   141   178   193   236   235   267   317   356   362   406   \n",
        "May         121   125   172   183   229   234   270   318   355   363   420   \n",
        "November    104   114   146   172   180   203   237   271   305   310   362   \n",
        "October     119   133   162   191   211   229   274   306   347   359   407   \n",
        "September   136   158   184   209   237   259   312   355   404   404   463   \n",
        "\n",
        "year       1960  \n",
        "month            \n",
        "April       461  \n",
        "August      606  \n",
        "December    432  \n",
        "February    391  \n",
        "January     417  \n",
        "July        622  \n",
        "June        535  \n",
        "March       419  \n",
        "May         472  \n",
        "November    390  \n",
        "October     461  \n",
        "September   508  "
       ]
      }
     ],
     "prompt_number": 34
    },
    {
     "cell_type": "code",
     "collapsed": false,
     "input": [
      "gg = EnigmaDeepSummary.simlib(744).groupby(['filter', 'night'])"
     ],
     "language": "python",
     "metadata": {},
     "outputs": [],
     "prompt_number": 67
    },
    {
     "cell_type": "code",
     "collapsed": false,
     "input": [
      "f1, nt = zip(*gg.groups.keys())"
     ],
     "language": "python",
     "metadata": {},
     "outputs": [],
     "prompt_number": 51
    },
    {
     "cell_type": "code",
     "collapsed": false,
     "input": [
      "gg.apply(len).values"
     ],
     "language": "python",
     "metadata": {},
     "outputs": [
      {
       "metadata": {},
       "output_type": "pyout",
       "prompt_number": 57,
       "text": [
        "array([20, 20, 20, ..., 26, 26, 26])"
       ]
      }
     ],
     "prompt_number": 57
    },
    {
     "cell_type": "code",
     "collapsed": false,
     "input": [
      "filts, nights = zip( *gg.groups.keys())\n",
      "nums = gg.apply(len).values\n",
      "df = pd.DataFrame({'filts': list(filts), 'nights': list(nights), 'nums': nums})"
     ],
     "language": "python",
     "metadata": {},
     "outputs": [],
     "prompt_number": 76
    },
    {
     "cell_type": "code",
     "collapsed": false,
     "input": [
      "dd = df.pivot('filts','nights','nums' )"
     ],
     "language": "python",
     "metadata": {},
     "outputs": [],
     "prompt_number": 82
    },
    {
     "cell_type": "code",
     "collapsed": false,
     "input": [
      "ddd = dd.fillna(0).transpose()"
     ],
     "language": "python",
     "metadata": {},
     "outputs": [],
     "prompt_number": 119
    },
    {
     "cell_type": "code",
     "collapsed": false,
     "input": [
      "ss = pd.Series(np.arange(0,365))"
     ],
     "language": "python",
     "metadata": {},
     "outputs": [],
     "prompt_number": 113
    },
    {
     "cell_type": "code",
     "collapsed": false,
     "input": [
      "ddd.index"
     ],
     "language": "python",
     "metadata": {},
     "outputs": [
      {
       "metadata": {},
       "output_type": "pyout",
       "prompt_number": 120,
       "text": [
        "Int64Index([181, 208, 211, 220, 221, 222, 223, 237, 240, 243, 246, 256, 266, 269, 273, 274, 275, 276, 277, 278, 279, 280, 283, 286, 295, 300, 303, 304, 305, 306, 307, 316, 549, 562, 565, 568, 569, 570, 571, 579, 582, 585, 595, 598, 599, 600, 601, 602, 603, 604, 605, 612, 620, 623, 626, 632, 636, 637, 641, 649, 652, 656, 658, 659, 660, 661, 662, 663, 664, 667, 670, 681, 684, 687, 688, 689, 690, 691, 692, 693, 694, 917, 920, 923, 935, 938, 954, 955, 956, 957, 958, 962, 965, 968, 975, 978, 981, 985, 986, 987, ...], dtype='int64')"
       ]
      }
     ],
     "prompt_number": 120
    },
    {
     "cell_type": "code",
     "collapsed": false,
     "input": [
      "ddd = ddd.reindex(ss, fill_value=0)"
     ],
     "language": "python",
     "metadata": {},
     "outputs": [],
     "prompt_number": 121
    },
    {
     "cell_type": "code",
     "collapsed": false,
     "input": [
      "ddd.iloc[200:250]"
     ],
     "language": "python",
     "metadata": {},
     "outputs": [
      {
       "html": [
        "<div style=\"max-height:1000px;max-width:1500px;overflow:auto;\">\n",
        "<table border=\"1\" class=\"dataframe\">\n",
        "  <thead>\n",
        "    <tr style=\"text-align: right;\">\n",
        "      <th>filts</th>\n",
        "      <th>Y</th>\n",
        "      <th>g</th>\n",
        "      <th>i</th>\n",
        "      <th>r</th>\n",
        "      <th>u</th>\n",
        "      <th>z</th>\n",
        "    </tr>\n",
        "  </thead>\n",
        "  <tbody>\n",
        "    <tr>\n",
        "      <th>200</th>\n",
        "      <td>0</td>\n",
        "      <td>0</td>\n",
        "      <td>0</td>\n",
        "      <td>0</td>\n",
        "      <td>0</td>\n",
        "      <td>0</td>\n",
        "    </tr>\n",
        "    <tr>\n",
        "      <th>201</th>\n",
        "      <td>0</td>\n",
        "      <td>0</td>\n",
        "      <td>0</td>\n",
        "      <td>0</td>\n",
        "      <td>0</td>\n",
        "      <td>0</td>\n",
        "    </tr>\n",
        "    <tr>\n",
        "      <th>202</th>\n",
        "      <td>0</td>\n",
        "      <td>0</td>\n",
        "      <td>0</td>\n",
        "      <td>0</td>\n",
        "      <td>0</td>\n",
        "      <td>0</td>\n",
        "    </tr>\n",
        "    <tr>\n",
        "      <th>203</th>\n",
        "      <td>0</td>\n",
        "      <td>0</td>\n",
        "      <td>0</td>\n",
        "      <td>0</td>\n",
        "      <td>0</td>\n",
        "      <td>0</td>\n",
        "    </tr>\n",
        "    <tr>\n",
        "      <th>204</th>\n",
        "      <td>0</td>\n",
        "      <td>0</td>\n",
        "      <td>0</td>\n",
        "      <td>0</td>\n",
        "      <td>0</td>\n",
        "      <td>0</td>\n",
        "    </tr>\n",
        "    <tr>\n",
        "      <th>205</th>\n",
        "      <td>0</td>\n",
        "      <td>0</td>\n",
        "      <td>0</td>\n",
        "      <td>0</td>\n",
        "      <td>0</td>\n",
        "      <td>0</td>\n",
        "    </tr>\n",
        "    <tr>\n",
        "      <th>206</th>\n",
        "      <td>0</td>\n",
        "      <td>0</td>\n",
        "      <td>0</td>\n",
        "      <td>0</td>\n",
        "      <td>0</td>\n",
        "      <td>0</td>\n",
        "    </tr>\n",
        "    <tr>\n",
        "      <th>207</th>\n",
        "      <td>0</td>\n",
        "      <td>0</td>\n",
        "      <td>0</td>\n",
        "      <td>0</td>\n",
        "      <td>0</td>\n",
        "      <td>0</td>\n",
        "    </tr>\n",
        "    <tr>\n",
        "      <th>208</th>\n",
        "      <td>0</td>\n",
        "      <td>20</td>\n",
        "      <td>20</td>\n",
        "      <td>10</td>\n",
        "      <td>0</td>\n",
        "      <td>20</td>\n",
        "    </tr>\n",
        "    <tr>\n",
        "      <th>209</th>\n",
        "      <td>0</td>\n",
        "      <td>0</td>\n",
        "      <td>0</td>\n",
        "      <td>0</td>\n",
        "      <td>0</td>\n",
        "      <td>0</td>\n",
        "    </tr>\n",
        "    <tr>\n",
        "      <th>210</th>\n",
        "      <td>0</td>\n",
        "      <td>0</td>\n",
        "      <td>0</td>\n",
        "      <td>0</td>\n",
        "      <td>0</td>\n",
        "      <td>0</td>\n",
        "    </tr>\n",
        "    <tr>\n",
        "      <th>211</th>\n",
        "      <td>10</td>\n",
        "      <td>10</td>\n",
        "      <td>20</td>\n",
        "      <td>20</td>\n",
        "      <td>0</td>\n",
        "      <td>10</td>\n",
        "    </tr>\n",
        "    <tr>\n",
        "      <th>212</th>\n",
        "      <td>0</td>\n",
        "      <td>0</td>\n",
        "      <td>0</td>\n",
        "      <td>0</td>\n",
        "      <td>0</td>\n",
        "      <td>0</td>\n",
        "    </tr>\n",
        "    <tr>\n",
        "      <th>213</th>\n",
        "      <td>0</td>\n",
        "      <td>0</td>\n",
        "      <td>0</td>\n",
        "      <td>0</td>\n",
        "      <td>0</td>\n",
        "      <td>0</td>\n",
        "    </tr>\n",
        "    <tr>\n",
        "      <th>214</th>\n",
        "      <td>0</td>\n",
        "      <td>0</td>\n",
        "      <td>0</td>\n",
        "      <td>0</td>\n",
        "      <td>0</td>\n",
        "      <td>0</td>\n",
        "    </tr>\n",
        "    <tr>\n",
        "      <th>215</th>\n",
        "      <td>0</td>\n",
        "      <td>0</td>\n",
        "      <td>0</td>\n",
        "      <td>0</td>\n",
        "      <td>0</td>\n",
        "      <td>0</td>\n",
        "    </tr>\n",
        "    <tr>\n",
        "      <th>216</th>\n",
        "      <td>0</td>\n",
        "      <td>0</td>\n",
        "      <td>0</td>\n",
        "      <td>0</td>\n",
        "      <td>0</td>\n",
        "      <td>0</td>\n",
        "    </tr>\n",
        "    <tr>\n",
        "      <th>217</th>\n",
        "      <td>0</td>\n",
        "      <td>0</td>\n",
        "      <td>0</td>\n",
        "      <td>0</td>\n",
        "      <td>0</td>\n",
        "      <td>0</td>\n",
        "    </tr>\n",
        "    <tr>\n",
        "      <th>218</th>\n",
        "      <td>0</td>\n",
        "      <td>0</td>\n",
        "      <td>0</td>\n",
        "      <td>0</td>\n",
        "      <td>0</td>\n",
        "      <td>0</td>\n",
        "    </tr>\n",
        "    <tr>\n",
        "      <th>219</th>\n",
        "      <td>0</td>\n",
        "      <td>0</td>\n",
        "      <td>0</td>\n",
        "      <td>0</td>\n",
        "      <td>0</td>\n",
        "      <td>0</td>\n",
        "    </tr>\n",
        "    <tr>\n",
        "      <th>220</th>\n",
        "      <td>0</td>\n",
        "      <td>0</td>\n",
        "      <td>0</td>\n",
        "      <td>0</td>\n",
        "      <td>10</td>\n",
        "      <td>0</td>\n",
        "    </tr>\n",
        "    <tr>\n",
        "      <th>221</th>\n",
        "      <td>0</td>\n",
        "      <td>0</td>\n",
        "      <td>0</td>\n",
        "      <td>0</td>\n",
        "      <td>20</td>\n",
        "      <td>0</td>\n",
        "    </tr>\n",
        "    <tr>\n",
        "      <th>222</th>\n",
        "      <td>0</td>\n",
        "      <td>0</td>\n",
        "      <td>0</td>\n",
        "      <td>0</td>\n",
        "      <td>20</td>\n",
        "      <td>0</td>\n",
        "    </tr>\n",
        "    <tr>\n",
        "      <th>223</th>\n",
        "      <td>0</td>\n",
        "      <td>0</td>\n",
        "      <td>0</td>\n",
        "      <td>0</td>\n",
        "      <td>26</td>\n",
        "      <td>0</td>\n",
        "    </tr>\n",
        "    <tr>\n",
        "      <th>224</th>\n",
        "      <td>0</td>\n",
        "      <td>0</td>\n",
        "      <td>0</td>\n",
        "      <td>0</td>\n",
        "      <td>0</td>\n",
        "      <td>0</td>\n",
        "    </tr>\n",
        "    <tr>\n",
        "      <th>225</th>\n",
        "      <td>0</td>\n",
        "      <td>0</td>\n",
        "      <td>0</td>\n",
        "      <td>0</td>\n",
        "      <td>0</td>\n",
        "      <td>0</td>\n",
        "    </tr>\n",
        "    <tr>\n",
        "      <th>226</th>\n",
        "      <td>0</td>\n",
        "      <td>0</td>\n",
        "      <td>0</td>\n",
        "      <td>0</td>\n",
        "      <td>0</td>\n",
        "      <td>0</td>\n",
        "    </tr>\n",
        "    <tr>\n",
        "      <th>227</th>\n",
        "      <td>0</td>\n",
        "      <td>0</td>\n",
        "      <td>0</td>\n",
        "      <td>0</td>\n",
        "      <td>0</td>\n",
        "      <td>0</td>\n",
        "    </tr>\n",
        "    <tr>\n",
        "      <th>228</th>\n",
        "      <td>0</td>\n",
        "      <td>0</td>\n",
        "      <td>0</td>\n",
        "      <td>0</td>\n",
        "      <td>0</td>\n",
        "      <td>0</td>\n",
        "    </tr>\n",
        "    <tr>\n",
        "      <th>229</th>\n",
        "      <td>0</td>\n",
        "      <td>0</td>\n",
        "      <td>0</td>\n",
        "      <td>0</td>\n",
        "      <td>0</td>\n",
        "      <td>0</td>\n",
        "    </tr>\n",
        "    <tr>\n",
        "      <th>230</th>\n",
        "      <td>0</td>\n",
        "      <td>0</td>\n",
        "      <td>0</td>\n",
        "      <td>0</td>\n",
        "      <td>0</td>\n",
        "      <td>0</td>\n",
        "    </tr>\n",
        "    <tr>\n",
        "      <th>231</th>\n",
        "      <td>0</td>\n",
        "      <td>0</td>\n",
        "      <td>0</td>\n",
        "      <td>0</td>\n",
        "      <td>0</td>\n",
        "      <td>0</td>\n",
        "    </tr>\n",
        "    <tr>\n",
        "      <th>232</th>\n",
        "      <td>0</td>\n",
        "      <td>0</td>\n",
        "      <td>0</td>\n",
        "      <td>0</td>\n",
        "      <td>0</td>\n",
        "      <td>0</td>\n",
        "    </tr>\n",
        "    <tr>\n",
        "      <th>233</th>\n",
        "      <td>0</td>\n",
        "      <td>0</td>\n",
        "      <td>0</td>\n",
        "      <td>0</td>\n",
        "      <td>0</td>\n",
        "      <td>0</td>\n",
        "    </tr>\n",
        "    <tr>\n",
        "      <th>234</th>\n",
        "      <td>0</td>\n",
        "      <td>0</td>\n",
        "      <td>0</td>\n",
        "      <td>0</td>\n",
        "      <td>0</td>\n",
        "      <td>0</td>\n",
        "    </tr>\n",
        "    <tr>\n",
        "      <th>235</th>\n",
        "      <td>0</td>\n",
        "      <td>0</td>\n",
        "      <td>0</td>\n",
        "      <td>0</td>\n",
        "      <td>0</td>\n",
        "      <td>0</td>\n",
        "    </tr>\n",
        "    <tr>\n",
        "      <th>236</th>\n",
        "      <td>0</td>\n",
        "      <td>0</td>\n",
        "      <td>0</td>\n",
        "      <td>0</td>\n",
        "      <td>0</td>\n",
        "      <td>0</td>\n",
        "    </tr>\n",
        "    <tr>\n",
        "      <th>237</th>\n",
        "      <td>20</td>\n",
        "      <td>20</td>\n",
        "      <td>20</td>\n",
        "      <td>26</td>\n",
        "      <td>0</td>\n",
        "      <td>20</td>\n",
        "    </tr>\n",
        "    <tr>\n",
        "      <th>238</th>\n",
        "      <td>0</td>\n",
        "      <td>0</td>\n",
        "      <td>0</td>\n",
        "      <td>0</td>\n",
        "      <td>0</td>\n",
        "      <td>0</td>\n",
        "    </tr>\n",
        "    <tr>\n",
        "      <th>239</th>\n",
        "      <td>0</td>\n",
        "      <td>0</td>\n",
        "      <td>0</td>\n",
        "      <td>0</td>\n",
        "      <td>0</td>\n",
        "      <td>0</td>\n",
        "    </tr>\n",
        "    <tr>\n",
        "      <th>240</th>\n",
        "      <td>20</td>\n",
        "      <td>10</td>\n",
        "      <td>10</td>\n",
        "      <td>20</td>\n",
        "      <td>0</td>\n",
        "      <td>20</td>\n",
        "    </tr>\n",
        "    <tr>\n",
        "      <th>241</th>\n",
        "      <td>0</td>\n",
        "      <td>0</td>\n",
        "      <td>0</td>\n",
        "      <td>0</td>\n",
        "      <td>0</td>\n",
        "      <td>0</td>\n",
        "    </tr>\n",
        "    <tr>\n",
        "      <th>242</th>\n",
        "      <td>0</td>\n",
        "      <td>0</td>\n",
        "      <td>0</td>\n",
        "      <td>0</td>\n",
        "      <td>0</td>\n",
        "      <td>0</td>\n",
        "    </tr>\n",
        "    <tr>\n",
        "      <th>243</th>\n",
        "      <td>20</td>\n",
        "      <td>20</td>\n",
        "      <td>20</td>\n",
        "      <td>20</td>\n",
        "      <td>0</td>\n",
        "      <td>20</td>\n",
        "    </tr>\n",
        "    <tr>\n",
        "      <th>244</th>\n",
        "      <td>0</td>\n",
        "      <td>0</td>\n",
        "      <td>0</td>\n",
        "      <td>0</td>\n",
        "      <td>0</td>\n",
        "      <td>0</td>\n",
        "    </tr>\n",
        "    <tr>\n",
        "      <th>245</th>\n",
        "      <td>0</td>\n",
        "      <td>0</td>\n",
        "      <td>0</td>\n",
        "      <td>0</td>\n",
        "      <td>0</td>\n",
        "      <td>0</td>\n",
        "    </tr>\n",
        "    <tr>\n",
        "      <th>246</th>\n",
        "      <td>0</td>\n",
        "      <td>0</td>\n",
        "      <td>0</td>\n",
        "      <td>0</td>\n",
        "      <td>10</td>\n",
        "      <td>0</td>\n",
        "    </tr>\n",
        "    <tr>\n",
        "      <th>247</th>\n",
        "      <td>0</td>\n",
        "      <td>0</td>\n",
        "      <td>0</td>\n",
        "      <td>0</td>\n",
        "      <td>0</td>\n",
        "      <td>0</td>\n",
        "    </tr>\n",
        "    <tr>\n",
        "      <th>248</th>\n",
        "      <td>0</td>\n",
        "      <td>0</td>\n",
        "      <td>0</td>\n",
        "      <td>0</td>\n",
        "      <td>0</td>\n",
        "      <td>0</td>\n",
        "    </tr>\n",
        "    <tr>\n",
        "      <th>249</th>\n",
        "      <td>0</td>\n",
        "      <td>0</td>\n",
        "      <td>0</td>\n",
        "      <td>0</td>\n",
        "      <td>0</td>\n",
        "      <td>0</td>\n",
        "    </tr>\n",
        "  </tbody>\n",
        "</table>\n",
        "</div>"
       ],
       "metadata": {},
       "output_type": "pyout",
       "prompt_number": 135,
       "text": [
        "filts   Y   g   i   r   u   z\n",
        "200     0   0   0   0   0   0\n",
        "201     0   0   0   0   0   0\n",
        "202     0   0   0   0   0   0\n",
        "203     0   0   0   0   0   0\n",
        "204     0   0   0   0   0   0\n",
        "205     0   0   0   0   0   0\n",
        "206     0   0   0   0   0   0\n",
        "207     0   0   0   0   0   0\n",
        "208     0  20  20  10   0  20\n",
        "209     0   0   0   0   0   0\n",
        "210     0   0   0   0   0   0\n",
        "211    10  10  20  20   0  10\n",
        "212     0   0   0   0   0   0\n",
        "213     0   0   0   0   0   0\n",
        "214     0   0   0   0   0   0\n",
        "215     0   0   0   0   0   0\n",
        "216     0   0   0   0   0   0\n",
        "217     0   0   0   0   0   0\n",
        "218     0   0   0   0   0   0\n",
        "219     0   0   0   0   0   0\n",
        "220     0   0   0   0  10   0\n",
        "221     0   0   0   0  20   0\n",
        "222     0   0   0   0  20   0\n",
        "223     0   0   0   0  26   0\n",
        "224     0   0   0   0   0   0\n",
        "225     0   0   0   0   0   0\n",
        "226     0   0   0   0   0   0\n",
        "227     0   0   0   0   0   0\n",
        "228     0   0   0   0   0   0\n",
        "229     0   0   0   0   0   0\n",
        "230     0   0   0   0   0   0\n",
        "231     0   0   0   0   0   0\n",
        "232     0   0   0   0   0   0\n",
        "233     0   0   0   0   0   0\n",
        "234     0   0   0   0   0   0\n",
        "235     0   0   0   0   0   0\n",
        "236     0   0   0   0   0   0\n",
        "237    20  20  20  26   0  20\n",
        "238     0   0   0   0   0   0\n",
        "239     0   0   0   0   0   0\n",
        "240    20  10  10  20   0  20\n",
        "241     0   0   0   0   0   0\n",
        "242     0   0   0   0   0   0\n",
        "243    20  20  20  20   0  20\n",
        "244     0   0   0   0   0   0\n",
        "245     0   0   0   0   0   0\n",
        "246     0   0   0   0  10   0\n",
        "247     0   0   0   0   0   0\n",
        "248     0   0   0   0   0   0\n",
        "249     0   0   0   0   0   0"
       ]
      }
     ],
     "prompt_number": 135
    },
    {
     "cell_type": "code",
     "collapsed": false,
     "input": [
      "import seaborn as sns\n",
      "sns.set_style('whitegrid')"
     ],
     "language": "python",
     "metadata": {},
     "outputs": [],
     "prompt_number": 141
    },
    {
     "cell_type": "code",
     "collapsed": false,
     "input": [
      "fig = plt.matshow(ddd.transpose(), aspect='auto')\n",
      "plt.colorbar(orientation='horizontal')"
     ],
     "language": "python",
     "metadata": {},
     "outputs": [
      {
       "metadata": {},
       "output_type": "pyout",
       "prompt_number": 142,
       "text": [
        "<matplotlib.colorbar.Colorbar instance at 0x131235e60>"
       ]
      },
      {
       "metadata": {},
       "output_type": "display_data",
       "png": "[encoded data removed]",
       "text": [
        "<matplotlib.figure.Figure at 0x13e313890>"
       ]
      }
     ],
     "prompt_number": 142
    },
    {
     "cell_type": "code",
     "collapsed": false,
     "input": [
      "gg.apply(len).values"
     ],
     "language": "python",
     "metadata": {},
     "outputs": [
      {
       "metadata": {},
       "output_type": "pyout",
       "prompt_number": 75,
       "text": [
        "array([20, 20, 20, ..., 26, 26, 26])"
       ]
      }
     ],
     "prompt_number": 75
    },
    {
     "cell_type": "code",
     "collapsed": false,
     "input": [
      "fig = sns.heatmap(ddd.transpose(), annot=True, fmt='.2g', linewidth=0.5)"
     ],
     "language": "python",
     "metadata": {},
     "outputs": [
      {
       "metadata": {},
       "output_type": "display_data",
       "png": "[encoded data removed]",
       "text": [
        "<matplotlib.figure.Figure at 0x13e196590>"
       ]
      }
     ],
     "prompt_number": 132
    },
    {
     "cell_type": "code",
     "collapsed": false,
     "input": [],
     "language": "python",
     "metadata": {},
     "outputs": []
    }
   ],
   "metadata": {}
  }
 ]
}