{
 "metadata": {
  "name": "",
  "signature": "sha256:c8a0845049486a8f750107478efbbf6579cbfd5c74f05e57a598f5a2cee8ccf1"
 },
 "nbformat": 3,
 "nbformat_minor": 0,
 "worksheets": [
  {
   "cells": [
    {
     "cell_type": "code",
     "collapsed": false,
     "input": [
      "# Required packages sqlachemy, pandas (both are part of anaconda distribution, or can be installed with a python installer)\n",
      "# One step requires the LSST stack, can be skipped for the particular OPSIM database in question\n",
      "import summarize_opsim as so\n",
      "from sqlalchemy import create_engine\n",
      "import pandas as pd"
     ],
     "language": "python",
     "metadata": {},
     "outputs": [],
     "prompt_number": 1
    },
    {
     "cell_type": "markdown",
     "metadata": {},
     "source": [
      "Description of OpSim outputs are available on the page https://confluence.lsstcorp.org/display/SIM/OpSim+Datasets+for+Cadence+Workshop+LSST2015http://tusken.astro.washington.edu:8080\n",
      "Here we will use the opsim output http://ops2.tuc.noao.edu/runs/enigma_1189/data/enigma_1189_sqlite.db.gz\n",
      "I have downloaded this database, unzipped and use the variable dbname to point to its location"
     ]
    },
    {
     "cell_type": "code",
     "collapsed": false,
     "input": [
      "dbname = 'sqlite:////Users/rbiswas/data/LSST/OpSimData/enigma_1189_sqlite.db'"
     ],
     "language": "python",
     "metadata": {},
     "outputs": [],
     "prompt_number": 2
    },
    {
     "cell_type": "code",
     "collapsed": false,
     "input": [
      "# This step requires LSST SIMS package MAF. The main goal of this step is to set DD and WFD to integer keys that \n",
      "# label an observation as Deep Drilling or for Wide Fast Deep.\n",
      "# If you want to skip this step, you can use the next cell by uncommenting it, and commenting out this cell, if all you\n",
      "# care about is the database used in this example. But there is no guarantee that the numbers in the cell below will work\n",
      "# on other versions of opsim database outputs\n",
      "\n",
      "from lsst.sims.maf import db\n",
      "opsdb = db.OpsimDatabase(dbname)\n",
      "propID, propTags = opsdb.fetchPropInfo()\n",
      "DD = propTags['DD'][0]\n",
      "WFD = propTags['DD'][0]"
     ],
     "language": "python",
     "metadata": {},
     "outputs": [],
     "prompt_number": 3
    },
    {
     "cell_type": "code",
     "collapsed": false,
     "input": [
      "# DD = 366\n",
      "# WFD = 364"
     ],
     "language": "python",
     "metadata": {},
     "outputs": [],
     "prompt_number": 4
    },
    {
     "cell_type": "code",
     "collapsed": false,
     "input": [
      "engine = create_engine(dbname)"
     ],
     "language": "python",
     "metadata": {},
     "outputs": [],
     "prompt_number": 4
    },
    {
     "cell_type": "code",
     "collapsed": false,
     "input": [
      "Summary = pd.read_hdf('storage.h5', 'table')\n",
      "# Summary  = pd.read_sql_table('Summary', engine)"
     ],
     "language": "python",
     "metadata": {},
     "outputs": [],
     "prompt_number": 5
    },
    {
     "cell_type": "code",
     "collapsed": false,
     "input": [
      "Summary.columns"
     ],
     "language": "python",
     "metadata": {},
     "outputs": [
      {
       "metadata": {},
       "output_type": "pyout",
       "prompt_number": 6,
       "text": [
        "Index([u'obsHistID', u'sessionID', u'propID', u'fieldID', u'fieldRA', u'fieldDec', u'filter', u'expDate', u'expMJD', u'night', u'visitTime', u'visitExpTime', u'finRank', u'finSeeing', u'transparency', u'airmass', u'vSkyBright', u'filtSkyBrightness', u'rotSkyPos', u'lst', u'altitude', u'azimuth', u'dist2Moon', u'solarElong', u'moonRA', u'moonDec', u'moonAlt', u'moonAZ', u'moonPhase', u'sunAlt', u'sunAz', u'phaseAngle', u'rScatter', u'mieScatter', u'moonIllum', u'moonBright', u'darkBright', u'rawSeeing', u'wind', u'humidity', u'slewDist', u'slewTime', u'fiveSigmaDepth', u'ditheredRA', u'ditheredDec', u'gamma', u'N0sq', u'alpha'], dtype='object')"
       ]
      }
     ],
     "prompt_number": 6
    },
    {
     "cell_type": "code",
     "collapsed": false,
     "input": [
      "DeepFields = Summary[Summary['propID'] == 366]\n",
      "WFD = Summary[Summary['propID'] == 364]\n",
      "season1Deep = DeepFields[DeepFields['night'] < 366]"
     ],
     "language": "python",
     "metadata": {},
     "outputs": [],
     "prompt_number": 7
    },
    {
     "cell_type": "code",
     "collapsed": false,
     "input": [
      "WFD.size"
     ],
     "language": "python",
     "metadata": {},
     "outputs": [
      {
       "metadata": {},
       "output_type": "pyout",
       "prompt_number": 8,
       "text": [
        "101275152"
       ]
      }
     ],
     "prompt_number": 8
    },
    {
     "cell_type": "code",
     "collapsed": false,
     "input": [
      "DeepFields.size"
     ],
     "language": "python",
     "metadata": {},
     "outputs": [
      {
       "metadata": {},
       "output_type": "pyout",
       "prompt_number": 9,
       "text": [
        "5103168"
       ]
      }
     ],
     "prompt_number": 9
    },
    {
     "cell_type": "code",
     "collapsed": false,
     "input": [
      "season = season1Deep.copy(deep=True)"
     ],
     "language": "python",
     "metadata": {},
     "outputs": [],
     "prompt_number": 10
    },
    {
     "cell_type": "code",
     "collapsed": false,
     "input": [
      "simlib = so.SummaryOpsim(season)"
     ],
     "language": "python",
     "metadata": {},
     "outputs": [],
     "prompt_number": 11
    },
    {
     "cell_type": "code",
     "collapsed": false,
     "input": [
      "simlib.df['filter'].unique()"
     ],
     "language": "python",
     "metadata": {},
     "outputs": [
      {
       "metadata": {},
       "output_type": "pyout",
       "prompt_number": 12,
       "text": [
        "array([u'r', u'g', u'i', u'z', u'Y', u'u'], dtype=object)"
       ]
      }
     ],
     "prompt_number": 12
    },
    {
     "cell_type": "code",
     "collapsed": false,
     "input": [
      "simlib.fieldIds"
     ],
     "language": "python",
     "metadata": {},
     "outputs": [
      {
       "metadata": {},
       "output_type": "pyout",
       "prompt_number": 43,
       "text": [
        "[744, 2786, 1427, 2412, 290]"
       ]
      }
     ],
     "prompt_number": 43
    },
    {
     "cell_type": "code",
     "collapsed": false,
     "input": [
      "simlib.writeSimlib('test_out.simlib')"
     ],
     "language": "python",
     "metadata": {},
     "outputs": [],
     "prompt_number": 42
    }
   ],
   "metadata": {}
  }
 ]
}