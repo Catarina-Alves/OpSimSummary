{
 "metadata": {
  "name": "",
  "signature": "sha256:7e875e2cda832e9bb76cf1b35036d18052025340d275ff0205a88b45d0707094"
 },
 "nbformat": 3,
 "nbformat_minor": 0,
 "worksheets": [
  {
   "cells": [
    {
     "cell_type": "code",
     "collapsed": false,
     "input": [
      "import simlibs.Simlib as sl\n",
      "import os\n",
      "import numpy as np\n",
      "import pandas as pd"
     ],
     "language": "python",
     "metadata": {},
     "outputs": [],
     "prompt_number": 30
    },
    {
     "cell_type": "code",
     "collapsed": false,
     "input": [
      "loc = '/Users/rbiswas/data/SNDATA/INTERNAL/LSST/simlibs/2_168'"
     ],
     "language": "python",
     "metadata": {},
     "outputs": [],
     "prompt_number": 5
    },
    {
     "cell_type": "code",
     "collapsed": false,
     "input": [
      "snanaDeepFileName = os.path.join(loc,'output_opsim2_168.SIMLIB.COADD.DEEP')\n",
      "snanaDeep =  sl.simlib(snanaDeepFileName)"
     ],
     "language": "python",
     "metadata": {},
     "outputs": [],
     "prompt_number": 6
    },
    {
     "cell_type": "code",
     "collapsed": false,
     "input": [
      "snanaDeep.fieldIDs"
     ],
     "language": "python",
     "metadata": {},
     "outputs": [
      {
       "metadata": {},
       "output_type": "pyout",
       "prompt_number": 7,
       "text": [
        "[2786, 519, 2731, 2412, 2082, 526, 1427, 311, 2712, 764]"
       ]
      }
     ],
     "prompt_number": 7
    },
    {
     "cell_type": "code",
     "collapsed": false,
     "input": [
      "snanaDeep.simlibData(2786).meta['RA']"
     ],
     "language": "python",
     "metadata": {},
     "outputs": [
      {
       "metadata": {},
       "output_type": "pyout",
       "prompt_number": 9,
       "text": [
        "150.361542"
       ]
      }
     ],
     "prompt_number": 9
    },
    {
     "cell_type": "code",
     "collapsed": false,
     "input": [
      "opsimSimlib = sl.simlib('Opsim.2.168.Simlib')"
     ],
     "language": "python",
     "metadata": {},
     "outputs": [],
     "prompt_number": 10
    },
    {
     "cell_type": "code",
     "collapsed": false,
     "input": [
      "fieldIds = opsimSimlib.fieldIDs"
     ],
     "language": "python",
     "metadata": {},
     "outputs": [],
     "prompt_number": 12
    },
    {
     "cell_type": "code",
     "collapsed": false,
     "input": [
      "lst = []\n",
      "for fieldID in fieldIds:\n",
      "    opsimNobs = opsimSimlib.simlibData(fieldID).meta['NOBS']\n",
      "    snanaData = snanaDeep.simlibData(fieldID).data\n",
      "    snanaData = snanaData[snanaData['MJD'] < 49561]\n",
      "    snanaNobs = int(snanaDeep.simlibData(fieldID).data.NOISE.apply(lambda x: round((x / 0.25)**2.)).sum())\n",
      "    print fieldID, opsimNobs, snanaNobs,  float(opsimNobs) / float(snanaNobs)\n",
      "    lst.append([fieldID, opsimNobs, snanaNobs,  float(opsimNobs) / float(snanaNobs)])"
     ],
     "language": "python",
     "metadata": {},
     "outputs": [
      {
       "output_type": "stream",
       "stream": "stdout",
       "text": [
        "2082 1995 21830 0.0913879981677\n",
        "519 2111 21671 0.0974112869734\n",
        "2731 1095 16765 0.0653146436027\n",
        "2412 1762 19434 0.0906658433673\n",
        "2786 1709 22314 0.0765886887156\n",
        "526 1859 20116 0.0924139988069\n",
        "1427 1762 21854 0.080625972362\n",
        "311 1781 19758 0.0901407025003\n",
        "2712 2062 19789 0.104199302643\n",
        "764 2779 25991 0.106921626717\n"
       ]
      }
     ],
     "prompt_number": 28
    },
    {
     "cell_type": "code",
     "collapsed": false,
     "input": [
      "df = pd.DataFrame(np.array(lst), columns=['fieldID', 'OpSimVisits', 'SNANAVisits', 'frac'])\n",
      "df"
     ],
     "language": "python",
     "metadata": {},
     "outputs": [
      {
       "html": [
        "<div style=\"max-height:1000px;max-width:1500px;overflow:auto;\">\n",
        "<table border=\"1\" class=\"dataframe\">\n",
        "  <thead>\n",
        "    <tr style=\"text-align: right;\">\n",
        "      <th></th>\n",
        "      <th>fieldID</th>\n",
        "      <th>OpSimVisits</th>\n",
        "      <th>SNANAVisits</th>\n",
        "      <th>frac</th>\n",
        "    </tr>\n",
        "  </thead>\n",
        "  <tbody>\n",
        "    <tr>\n",
        "      <th>0</th>\n",
        "      <td>2082</td>\n",
        "      <td>1995</td>\n",
        "      <td>21830</td>\n",
        "      <td>0.091388</td>\n",
        "    </tr>\n",
        "    <tr>\n",
        "      <th>1</th>\n",
        "      <td>519</td>\n",
        "      <td>2111</td>\n",
        "      <td>21671</td>\n",
        "      <td>0.097411</td>\n",
        "    </tr>\n",
        "    <tr>\n",
        "      <th>2</th>\n",
        "      <td>2731</td>\n",
        "      <td>1095</td>\n",
        "      <td>16765</td>\n",
        "      <td>0.065315</td>\n",
        "    </tr>\n",
        "    <tr>\n",
        "      <th>3</th>\n",
        "      <td>2412</td>\n",
        "      <td>1762</td>\n",
        "      <td>19434</td>\n",
        "      <td>0.090666</td>\n",
        "    </tr>\n",
        "    <tr>\n",
        "      <th>4</th>\n",
        "      <td>2786</td>\n",
        "      <td>1709</td>\n",
        "      <td>22314</td>\n",
        "      <td>0.076589</td>\n",
        "    </tr>\n",
        "    <tr>\n",
        "      <th>5</th>\n",
        "      <td>526</td>\n",
        "      <td>1859</td>\n",
        "      <td>20116</td>\n",
        "      <td>0.092414</td>\n",
        "    </tr>\n",
        "    <tr>\n",
        "      <th>6</th>\n",
        "      <td>1427</td>\n",
        "      <td>1762</td>\n",
        "      <td>21854</td>\n",
        "      <td>0.080626</td>\n",
        "    </tr>\n",
        "    <tr>\n",
        "      <th>7</th>\n",
        "      <td>311</td>\n",
        "      <td>1781</td>\n",
        "      <td>19758</td>\n",
        "      <td>0.090141</td>\n",
        "    </tr>\n",
        "    <tr>\n",
        "      <th>8</th>\n",
        "      <td>2712</td>\n",
        "      <td>2062</td>\n",
        "      <td>19789</td>\n",
        "      <td>0.104199</td>\n",
        "    </tr>\n",
        "    <tr>\n",
        "      <th>9</th>\n",
        "      <td>764</td>\n",
        "      <td>2779</td>\n",
        "      <td>25991</td>\n",
        "      <td>0.106922</td>\n",
        "    </tr>\n",
        "  </tbody>\n",
        "</table>\n",
        "</div>"
       ],
       "metadata": {},
       "output_type": "pyout",
       "prompt_number": 38,
       "text": [
        "   fieldID  OpSimVisits  SNANAVisits      frac\n",
        "0     2082         1995        21830  0.091388\n",
        "1      519         2111        21671  0.097411\n",
        "2     2731         1095        16765  0.065315\n",
        "3     2412         1762        19434  0.090666\n",
        "4     2786         1709        22314  0.076589\n",
        "5      526         1859        20116  0.092414\n",
        "6     1427         1762        21854  0.080626\n",
        "7      311         1781        19758  0.090141\n",
        "8     2712         2062        19789  0.104199\n",
        "9      764         2779        25991  0.106922"
       ]
      }
     ],
     "prompt_number": 38
    },
    {
     "cell_type": "code",
     "collapsed": false,
     "input": [
      "opsimSimlib.simlibData(fieldID).data.MJD.max()"
     ],
     "language": "python",
     "metadata": {},
     "outputs": [
      {
       "metadata": {},
       "output_type": "pyout",
       "prompt_number": 19,
       "text": [
        "49560.983"
       ]
      }
     ],
     "prompt_number": 19
    },
    {
     "cell_type": "code",
     "collapsed": false,
     "input": [
      "snanaDeep.simlibData(fieldID).data.MJD.max()"
     ],
     "language": "python",
     "metadata": {},
     "outputs": [
      {
       "metadata": {},
       "output_type": "pyout",
       "prompt_number": 20,
       "text": [
        "52825.082000000002"
       ]
      }
     ],
     "prompt_number": 20
    },
    {
     "cell_type": "code",
     "collapsed": false,
     "input": [
      "snanaData.MJD.max()"
     ],
     "language": "python",
     "metadata": {},
     "outputs": [
      {
       "metadata": {},
       "output_type": "pyout",
       "prompt_number": 25,
       "text": [
        "49552.277000000002"
       ]
      }
     ],
     "prompt_number": 25
    },
    {
     "cell_type": "code",
     "collapsed": false,
     "input": [],
     "language": "python",
     "metadata": {},
     "outputs": []
    }
   ],
   "metadata": {}
  }
 ]
}