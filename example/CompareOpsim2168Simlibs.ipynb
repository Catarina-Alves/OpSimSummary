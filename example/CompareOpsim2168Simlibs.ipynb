{
 "metadata": {
  "name": "",
  "signature": "sha256:906c0a185eced00f0701b210b2b34995e4b8a0c8d1e9ce12b275fdec09e7b601"
 },
 "nbformat": 3,
 "nbformat_minor": 0,
 "worksheets": [
  {
   "cells": [
    {
     "cell_type": "code",
     "collapsed": false,
     "input": [
      "import simlibs.Simlib as sl\n",
      "import os"
     ],
     "language": "python",
     "metadata": {},
     "outputs": [],
     "prompt_number": 2
    },
    {
     "cell_type": "code",
     "collapsed": false,
     "input": [
      "loc = '/Users/rbiswas/data/SNDATA/INTERNAL/LSST/simlibs/2_168'"
     ],
     "language": "python",
     "metadata": {},
     "outputs": [],
     "prompt_number": 5
    },
    {
     "cell_type": "code",
     "collapsed": false,
     "input": [
      "snanaDeepFileName = os.path.join(loc,'output_opsim2_168.SIMLIB.COADD.DEEP')\n",
      "snanaDeep =  sl.simlib(snanaDeepFileName)"
     ],
     "language": "python",
     "metadata": {},
     "outputs": [],
     "prompt_number": 6
    },
    {
     "cell_type": "code",
     "collapsed": false,
     "input": [
      "snanaDeep.fieldIDs"
     ],
     "language": "python",
     "metadata": {},
     "outputs": [
      {
       "metadata": {},
       "output_type": "pyout",
       "prompt_number": 7,
       "text": [
        "[2786, 519, 2731, 2412, 2082, 526, 1427, 311, 2712, 764]"
       ]
      }
     ],
     "prompt_number": 7
    },
    {
     "cell_type": "code",
     "collapsed": false,
     "input": [
      "snanaDeep.simlibData(2786).meta['RA']"
     ],
     "language": "python",
     "metadata": {},
     "outputs": [
      {
       "metadata": {},
       "output_type": "pyout",
       "prompt_number": 9,
       "text": [
        "150.361542"
       ]
      }
     ],
     "prompt_number": 9
    },
    {
     "cell_type": "code",
     "collapsed": false,
     "input": [
      "opsimSimlib = sl.simlib('Opsim.2.168.Simlib')"
     ],
     "language": "python",
     "metadata": {},
     "outputs": [],
     "prompt_number": 10
    },
    {
     "cell_type": "code",
     "collapsed": false,
     "input": [
      "fieldIds = opsimSimlib.fieldIDs"
     ],
     "language": "python",
     "metadata": {},
     "outputs": [],
     "prompt_number": 12
    },
    {
     "cell_type": "code",
     "collapsed": false,
     "input": [
      "for fieldID in fieldIds:\n",
      "    opsimNobs = opsimSimlib.simlibData(fieldID).meta['NOBS']\n",
      "    snanaData = snanaDeep.simlibData(fieldID).data\n",
      "    snanaData = snanaData[snanaData['MJD'] < 49561]\n",
      "    snanaNobs = int(snanaDeep.simlibData(fieldID).data.NOISE.apply(lambda x: round((x / 0.25)**2.)).sum())\n",
      "    print fieldID, opsimNobs, snanaNobs,  float(opsimNobs) / float(snanaNobs)"
     ],
     "language": "python",
     "metadata": {},
     "outputs": [
      {
       "output_type": "stream",
       "stream": "stdout",
       "text": [
        "2082 1995 21830 0.0913879981677\n",
        "519 2111 21671 0.0974112869734\n",
        "2731 1095 16765 0.0653146436027\n",
        "2412 1762 19434 0.0906658433673\n",
        "2786 1709 22314 0.0765886887156\n",
        "526 1859 20116 0.0924139988069\n",
        "1427 1762 21854 0.080625972362\n",
        "311 1781 19758 0.0901407025003\n",
        "2712 2062 19789 0.104199302643\n",
        "764 2779 25991 0.106921626717\n"
       ]
      }
     ],
     "prompt_number": 26
    },
    {
     "cell_type": "code",
     "collapsed": false,
     "input": [
      "opsimSimlib.simlibData(fieldID).data.MJD.max()"
     ],
     "language": "python",
     "metadata": {},
     "outputs": [
      {
       "metadata": {},
       "output_type": "pyout",
       "prompt_number": 19,
       "text": [
        "49560.983"
       ]
      }
     ],
     "prompt_number": 19
    },
    {
     "cell_type": "code",
     "collapsed": false,
     "input": [
      "snanaDeep.simlibData(fieldID).data.MJD.max()"
     ],
     "language": "python",
     "metadata": {},
     "outputs": [
      {
       "metadata": {},
       "output_type": "pyout",
       "prompt_number": 20,
       "text": [
        "52825.082000000002"
       ]
      }
     ],
     "prompt_number": 20
    },
    {
     "cell_type": "code",
     "collapsed": false,
     "input": [
      "snanaData.MJD.max()"
     ],
     "language": "python",
     "metadata": {},
     "outputs": [
      {
       "metadata": {},
       "output_type": "pyout",
       "prompt_number": 25,
       "text": [
        "49552.277000000002"
       ]
      }
     ],
     "prompt_number": 25
    },
    {
     "cell_type": "code",
     "collapsed": false,
     "input": [],
     "language": "python",
     "metadata": {},
     "outputs": []
    }
   ],
   "metadata": {}
  }
 ]
}