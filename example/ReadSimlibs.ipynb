{
 "metadata": {
  "name": "",
  "signature": "sha256:e14eb93cda838981278787593050e74623a714ed55c33dc7ca123a2754713183"
 },
 "nbformat": 3,
 "nbformat_minor": 0,
 "worksheets": [
  {
   "cells": [
    {
     "cell_type": "code",
     "collapsed": false,
     "input": [
      "import simlibs.Simlib as sl"
     ],
     "language": "python",
     "metadata": {},
     "outputs": [],
     "prompt_number": 1
    },
    {
     "cell_type": "heading",
     "level": 3,
     "metadata": {},
     "source": [
      "Examples on simlib files I have written out"
     ]
    },
    {
     "cell_type": "code",
     "collapsed": false,
     "input": [
      "s = sl.simlib('test_out.simlib')"
     ],
     "language": "python",
     "metadata": {},
     "outputs": [],
     "prompt_number": 2
    },
    {
     "cell_type": "code",
     "collapsed": false,
     "input": [
      "s.fieldIDs"
     ],
     "language": "python",
     "metadata": {},
     "outputs": [
      {
       "metadata": {},
       "output_type": "pyout",
       "prompt_number": 3,
       "text": [
        "[744, 2786, 1427, 2412, 290]"
       ]
      }
     ],
     "prompt_number": 3
    },
    {
     "cell_type": "code",
     "collapsed": false,
     "input": [
      "len(s.simlibData(744).data)"
     ],
     "language": "python",
     "metadata": {},
     "outputs": [
      {
       "metadata": {},
       "output_type": "pyout",
       "prompt_number": 4,
       "text": [
        "1824"
       ]
      }
     ],
     "prompt_number": 4
    },
    {
     "cell_type": "code",
     "collapsed": false,
     "input": [
      "s.simlibdicts[744].meta"
     ],
     "language": "python",
     "metadata": {},
     "outputs": [
      {
       "metadata": {},
       "output_type": "pyout",
       "prompt_number": 5,
       "text": [
        "{'DECL': -0.794553,\n",
        " 'LIBID': 744,\n",
        " 'MWEBV': 0.01,\n",
        " 'NOBS': 1824,\n",
        " 'PIXSIZE': 0.2,\n",
        " 'RA': 0.0}"
       ]
      }
     ],
     "prompt_number": 5
    },
    {
     "cell_type": "heading",
     "level": 3,
     "metadata": {},
     "source": [
      "Examples on SIMLIB COADDs written out by SNANA"
     ]
    },
    {
     "cell_type": "code",
     "collapsed": false,
     "input": [
      "d = sl.simlib('test_out.simlib.COADD')"
     ],
     "language": "python",
     "metadata": {},
     "outputs": [],
     "prompt_number": 7
    },
    {
     "cell_type": "code",
     "collapsed": false,
     "input": [
      "d.fieldIDs"
     ],
     "language": "python",
     "metadata": {},
     "outputs": [
      {
       "metadata": {},
       "output_type": "pyout",
       "prompt_number": 8,
       "text": [
        "[744, 2786, 1427, 2412, 290]"
       ]
      }
     ],
     "prompt_number": 8
    },
    {
     "cell_type": "code",
     "collapsed": false,
     "input": [
      "data = d.simlibData(744).data"
     ],
     "language": "python",
     "metadata": {},
     "outputs": [],
     "prompt_number": 9
    },
    {
     "cell_type": "code",
     "collapsed": false,
     "input": [
      "data.head()"
     ],
     "language": "python",
     "metadata": {},
     "outputs": [
      {
       "html": [
        "<div style=\"max-height:1000px;max-width:1500px;overflow:auto;\">\n",
        "<table border=\"1\" class=\"dataframe\">\n",
        "  <thead>\n",
        "    <tr style=\"text-align: right;\">\n",
        "      <th></th>\n",
        "      <th>MJD</th>\n",
        "      <th>IDEXPT</th>\n",
        "      <th>FLT</th>\n",
        "      <th>GAIN</th>\n",
        "      <th>NOISE</th>\n",
        "      <th>SKYSIG</th>\n",
        "      <th>PSF1</th>\n",
        "      <th>PSF2</th>\n",
        "      <th>PSFRatio</th>\n",
        "      <th>ZPTAVG</th>\n",
        "      <th>ZPTERR</th>\n",
        "      <th>MAG</th>\n",
        "    </tr>\n",
        "  </thead>\n",
        "  <tbody>\n",
        "    <tr>\n",
        "      <th>0</th>\n",
        "      <td>49534.363</td>\n",
        "      <td>142365</td>\n",
        "      <td>r</td>\n",
        "      <td>1</td>\n",
        "      <td>1.12</td>\n",
        "      <td>31.23</td>\n",
        "      <td>2.06</td>\n",
        "      <td>0</td>\n",
        "      <td>0</td>\n",
        "      <td>35.01</td>\n",
        "      <td>0.005</td>\n",
        "      <td>-99</td>\n",
        "    </tr>\n",
        "    <tr>\n",
        "      <th>1</th>\n",
        "      <td>49534.371</td>\n",
        "      <td>142385</td>\n",
        "      <td>g</td>\n",
        "      <td>1</td>\n",
        "      <td>0.79</td>\n",
        "      <td>22.55</td>\n",
        "      <td>2.26</td>\n",
        "      <td>0</td>\n",
        "      <td>0</td>\n",
        "      <td>34.25</td>\n",
        "      <td>0.005</td>\n",
        "      <td>-99</td>\n",
        "    </tr>\n",
        "    <tr>\n",
        "      <th>2</th>\n",
        "      <td>49534.379</td>\n",
        "      <td>142395</td>\n",
        "      <td>i</td>\n",
        "      <td>1</td>\n",
        "      <td>1.12</td>\n",
        "      <td>38.58</td>\n",
        "      <td>2.21</td>\n",
        "      <td>0</td>\n",
        "      <td>0</td>\n",
        "      <td>34.81</td>\n",
        "      <td>0.005</td>\n",
        "      <td>-99</td>\n",
        "    </tr>\n",
        "    <tr>\n",
        "      <th>3</th>\n",
        "      <td>49534.391</td>\n",
        "      <td>142415</td>\n",
        "      <td>z</td>\n",
        "      <td>1</td>\n",
        "      <td>1.27</td>\n",
        "      <td>44.64</td>\n",
        "      <td>2.03</td>\n",
        "      <td>0</td>\n",
        "      <td>0</td>\n",
        "      <td>34.54</td>\n",
        "      <td>0.005</td>\n",
        "      <td>-99</td>\n",
        "    </tr>\n",
        "    <tr>\n",
        "      <th>4</th>\n",
        "      <td>49534.402</td>\n",
        "      <td>142441</td>\n",
        "      <td>Y</td>\n",
        "      <td>1</td>\n",
        "      <td>1.12</td>\n",
        "      <td>41.99</td>\n",
        "      <td>2.22</td>\n",
        "      <td>0</td>\n",
        "      <td>0</td>\n",
        "      <td>32.77</td>\n",
        "      <td>0.005</td>\n",
        "      <td>-99</td>\n",
        "    </tr>\n",
        "  </tbody>\n",
        "</table>\n",
        "</div>"
       ],
       "metadata": {},
       "output_type": "pyout",
       "prompt_number": 10,
       "text": [
        "         MJD  IDEXPT FLT  GAIN  NOISE  SKYSIG  PSF1  PSF2  PSFRatio  ZPTAVG  \\\n",
        "0  49534.363  142365   r     1   1.12   31.23  2.06     0         0   35.01   \n",
        "1  49534.371  142385   g     1   0.79   22.55  2.26     0         0   34.25   \n",
        "2  49534.379  142395   i     1   1.12   38.58  2.21     0         0   34.81   \n",
        "3  49534.391  142415   z     1   1.27   44.64  2.03     0         0   34.54   \n",
        "4  49534.402  142441   Y     1   1.12   41.99  2.22     0         0   32.77   \n",
        "\n",
        "   ZPTERR  MAG  \n",
        "0   0.005  -99  \n",
        "1   0.005  -99  \n",
        "2   0.005  -99  \n",
        "3   0.005  -99  \n",
        "4   0.005  -99  "
       ]
      }
     ],
     "prompt_number": 10
    },
    {
     "cell_type": "heading",
     "level": 3,
     "metadata": {},
     "source": [
      "Obtaining the Number of observations coadded to get this"
     ]
    },
    {
     "cell_type": "code",
     "collapsed": false,
     "input": [
      "data.NOISE.apply(lambda x: round((x/0.25)**2.)).sum()"
     ],
     "language": "python",
     "metadata": {},
     "outputs": [
      {
       "metadata": {},
       "output_type": "pyout",
       "prompt_number": 11,
       "text": [
        "1824.0"
       ]
      }
     ],
     "prompt_number": 11
    }
   ],
   "metadata": {}
  }
 ]
}