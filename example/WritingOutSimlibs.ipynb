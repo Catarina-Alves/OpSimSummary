{
 "metadata": {
  "name": "",
  "signature": "sha256:da925021fd076d5b476c5168ec8724fe73a639fc3c4a1b996dc613fb2959630c"
 },
 "nbformat": 3,
 "nbformat_minor": 0,
 "worksheets": [
  {
   "cells": [
    {
     "cell_type": "heading",
     "level": 1,
     "metadata": {},
     "source": [
      "Write out SNANA Simlibs"
     ]
    },
    {
     "cell_type": "markdown",
     "metadata": {},
     "source": [
      "SNANA simlibs are an input to SNANA simulations and summarize the LSST OpSIM output. This notebook illustrates how to create these files from OpSim outputs. "
     ]
    },
    {
     "cell_type": "code",
     "collapsed": false,
     "input": [
      "import numpy as np\n",
      "%matplotlib inline \n",
      "import matplotlib.pyplot as plt\n",
      "\n",
      "import os"
     ],
     "language": "python",
     "metadata": {},
     "outputs": [],
     "prompt_number": 1
    },
    {
     "cell_type": "code",
     "collapsed": false,
     "input": [
      "# Required packages sqlachemy, pandas (both are part of anaconda distribution, or can be installed with a python installer)\n",
      "# One step requires the LSST stack, can be skipped for a particular OPSIM database in question\n",
      "import OpSimSummary.summarize_opsim as so\n",
      "from sqlalchemy import create_engine\n",
      "import pandas as pd\n",
      "print so.__file__"
     ],
     "language": "python",
     "metadata": {},
     "outputs": [
      {
       "output_type": "stream",
       "stream": "stdout",
       "text": [
        "/Users/rbiswas/.local/lib/python2.7/site-packages/OpSimSummary-0.0.1.dev0-py2.7.egg/OpSimSummary/summarize_opsim.pyc\n"
       ]
      }
     ],
     "prompt_number": 2
    },
    {
     "cell_type": "code",
     "collapsed": false,
     "input": [
      "!ls /Users/rbiswas/.local/lib/python2.7/site-packages/OpSimSummary-0.0.1.dev0-py2.7.egg/OpSimSummary/summarize_opsim.pyc"
     ],
     "language": "python",
     "metadata": {},
     "outputs": [
      {
       "output_type": "stream",
       "stream": "stdout",
       "text": [
        "ls: /Users/rbiswas/.local/lib/python2.7/site-packages/OpSimSummary-0.0.1.dev0-py2.7.egg/OpSimSummary/summarize_opsim.pyc: Not a directory\r\n"
       ]
      }
     ],
     "prompt_number": 3
    },
    {
     "cell_type": "code",
     "collapsed": false,
     "input": [
      "# This step requires LSST SIMS package MAF. The main goal of this step is to set DD and WFD to integer keys that \n",
      "# label an observation as Deep Drilling or for Wide Fast Deep.\n",
      "# If you want to skip this step, you can use the next cell by uncommenting it, and commenting out this cell, if all you\n",
      "# care about is the database used in this example. But there is no guarantee that the numbers in the cell below will work\n",
      "# on other versions of opsim database outputs\n",
      "\n",
      "from lsst.sims.maf import db\n",
      "from lsst.sims.maf.utils import opsimUtils"
     ],
     "language": "python",
     "metadata": {},
     "outputs": [],
     "prompt_number": 4
    },
    {
     "cell_type": "code",
     "collapsed": false,
     "input": [
      "# DD = 366\n",
      "# WFD = 364"
     ],
     "language": "python",
     "metadata": {},
     "outputs": [],
     "prompt_number": 5
    },
    {
     "cell_type": "heading",
     "level": 2,
     "metadata": {},
     "source": [
      "Read in OpSim output for modern versions: (sqlite formats)"
     ]
    },
    {
     "cell_type": "markdown",
     "metadata": {},
     "source": [
      "Description of OpSim outputs are available on the page https://confluence.lsstcorp.org/display/SIM/OpSim+Datasets+for+Cadence+Workshop+LSST2015http://tusken.astro.washington.edu:8080\n",
      "Here we will use the opsim output http://ops2.tuc.noao.edu/runs/enigma_1189/data/enigma_1189_sqlite.db.gz\n",
      "I have downloaded this database, unzipped and use the variable dbname to point to its location"
     ]
    },
    {
     "cell_type": "code",
     "collapsed": false,
     "input": [
      "dbname = '/Users/rbiswas/data/LSST/OpSimData/enigma_1189_sqlite.db'\n",
      "opsdb = db.OpsimDatabase(dbname)\n",
      "propID, propTags = opsdb.fetchPropInfo()\n",
      "DD = propTags['DD'][0]\n",
      "WFD = propTags['WFD'][0]"
     ],
     "language": "python",
     "metadata": {},
     "outputs": [],
     "prompt_number": 6
    },
    {
     "cell_type": "code",
     "collapsed": false,
     "input": [
      "WFD"
     ],
     "language": "python",
     "metadata": {},
     "outputs": [
      {
       "metadata": {},
       "output_type": "pyout",
       "prompt_number": 7,
       "text": [
        "364"
       ]
      }
     ],
     "prompt_number": 7
    },
    {
     "cell_type": "code",
     "collapsed": false,
     "input": [
      "enginefile = 'sqlite:///' + dbname"
     ],
     "language": "python",
     "metadata": {},
     "outputs": [],
     "prompt_number": 7
    },
    {
     "cell_type": "code",
     "collapsed": false,
     "input": [
      "engine = create_engine(enginefile)"
     ],
     "language": "python",
     "metadata": {},
     "outputs": [],
     "prompt_number": 8
    },
    {
     "cell_type": "heading",
     "level": 2,
     "metadata": {},
     "source": [
      "Read in the OpSim DataBase into a pandas dataFrame"
     ]
    },
    {
     "cell_type": "markdown",
     "metadata": {},
     "source": [
      "The opsim database is a large file (approx 4.0 GB), but still possible to read into memory on new computers. You usually only need the Summary Table, which is about 900 MB. If you are only interested in the Deep Drilling Fields, you can use the read_sql_query to only select information pertaining to Deep Drilling Observations. This has a memory footprint of about 40 MB.\n",
      "Obviously, you can reduce this further by narrowing down the columns to those of interest only. For the entire Summary Table, this step takes a few minutes on my computer. "
     ]
    },
    {
     "cell_type": "code",
     "collapsed": false,
     "input": [
      "# Load to a dataframe\n",
      "# Summary = pd.read_hdf('storage.h5', 'table')\n",
      "Summary = pd.read_sql_table('Summary', engine)"
     ],
     "language": "python",
     "metadata": {},
     "outputs": [],
     "prompt_number": 9
    },
    {
     "cell_type": "code",
     "collapsed": false,
     "input": [
      "EnigmaMain = Summary.query('propID == [364]')"
     ],
     "language": "python",
     "metadata": {},
     "outputs": [],
     "prompt_number": 10
    },
    {
     "cell_type": "code",
     "collapsed": false,
     "input": [
      "EnigmaMainSummary = so.SummaryOpsim(EnigmaMain)"
     ],
     "language": "python",
     "metadata": {},
     "outputs": [],
     "prompt_number": 11
    },
    {
     "cell_type": "code",
     "collapsed": false,
     "input": [
      "len(EnigmaMainSummary.fieldIds)"
     ],
     "language": "python",
     "metadata": {},
     "outputs": [
      {
       "metadata": {},
       "output_type": "pyout",
       "prompt_number": 12,
       "text": [
        "2293"
       ]
      }
     ],
     "prompt_number": 12
    },
    {
     "cell_type": "code",
     "collapsed": false,
     "input": [
      "EnigmaMainSummary.writeSimlib('Enigma_1189.SIMLIB.MAIN.FULL')"
     ],
     "language": "python",
     "metadata": {},
     "outputs": [],
     "prompt_number": 13
    },
    {
     "cell_type": "code",
     "collapsed": false,
     "input": [
      "clear(EnigmaMain, EnigmaMainSummary)"
     ],
     "language": "python",
     "metadata": {},
     "outputs": [
      {
       "output_type": "stream",
       "stream": "stdout",
       "text": [
        "\u001b[H\u001b[2J"
       ]
      }
     ],
     "prompt_number": 14
    },
    {
     "cell_type": "code",
     "collapsed": false,
     "input": [
      "EnigmaMain = None"
     ],
     "language": "python",
     "metadata": {},
     "outputs": [],
     "prompt_number": 15
    },
    {
     "cell_type": "code",
     "collapsed": false,
     "input": [
      "EnigmaMainSummary = None"
     ],
     "language": "python",
     "metadata": {},
     "outputs": [],
     "prompt_number": 16
    },
    {
     "cell_type": "code",
     "collapsed": false,
     "input": [
      "EnigmaDeep = Summary.query('propID == [366]')"
     ],
     "language": "python",
     "metadata": {},
     "outputs": [],
     "prompt_number": 17
    },
    {
     "cell_type": "code",
     "collapsed": false,
     "input": [
      "EnigmaDeepSummary = so.SummaryOpsim(EnigmaDeep)"
     ],
     "language": "python",
     "metadata": {},
     "outputs": [],
     "prompt_number": 18
    },
    {
     "cell_type": "code",
     "collapsed": false,
     "input": [
      "EnigmaDeepSummary.writeSimlib('Enigma_1189.SIMLIB.DEEP.FULL')"
     ],
     "language": "python",
     "metadata": {},
     "outputs": [],
     "prompt_number": 19
    },
    {
     "cell_type": "code",
     "collapsed": false,
     "input": [
      "DeepFields = EnigmaDeepSummary.fieldIds"
     ],
     "language": "python",
     "metadata": {},
     "outputs": [],
     "prompt_number": 20
    },
    {
     "cell_type": "code",
     "collapsed": false,
     "input": [
      "EnigmaCombined = Summary.query('propID == [364,366]')"
     ],
     "language": "python",
     "metadata": {},
     "outputs": [],
     "prompt_number": 21
    },
    {
     "cell_type": "code",
     "collapsed": false,
     "input": [
      "EnigmaCombined = EnigmaCombined[EnigmaCombined['fieldID'].isin(DeepFields)]"
     ],
     "language": "python",
     "metadata": {},
     "outputs": [],
     "prompt_number": 22
    },
    {
     "cell_type": "code",
     "collapsed": false,
     "input": [
      "EnigmaCombined.drop_duplicates('expMJD', inplace=True)"
     ],
     "language": "python",
     "metadata": {},
     "outputs": [],
     "prompt_number": 23
    },
    {
     "cell_type": "code",
     "collapsed": false,
     "input": [
      "EnigmaCombinedSummary = so.SummaryOpsim(EnigmaCombined)"
     ],
     "language": "python",
     "metadata": {},
     "outputs": [],
     "prompt_number": 24
    },
    {
     "cell_type": "code",
     "collapsed": false,
     "input": [
      "EnigmaCombinedSummary.writeSimlib('Enigma_1189.SIMLIB.DEEP.COMBINED')"
     ],
     "language": "python",
     "metadata": {},
     "outputs": [],
     "prompt_number": 25
    },
    {
     "cell_type": "heading",
     "level": 3,
     "metadata": {},
     "source": [
      "Read in OpSim output for 2.168 cast in sqlite format (even though there are some differences)"
     ]
    },
    {
     "cell_type": "code",
     "collapsed": false,
     "input": [
      "dbname_2168 = '/Users/rbiswas/data/LSST/OpSimData/opsim2_168_sqlite.db'\n",
      "engine_name_2168 = 'sqlite:///' + dbname\n",
      "engine_2168 = create_engine(engine_name_2168)\n",
      "# dbAddressDict = {'dbAddress': dbname_2168, 'Summary':'summary'}\n",
      "# print dbAddressDict\n",
      "opsimDb2168 = opsimUtils.connectOpsimDb(engine_name_2168)"
     ],
     "language": "python",
     "metadata": {},
     "outputs": [
      {
       "output_type": "stream",
       "stream": "stderr",
       "text": [
        "/Users/rbiswas/src/LSST/sims_catalogs_generation/python/lsst/sims/catalogs/generation/db/dbConnection.py:119: FutureWarning: Database name 'sqlite:////Users/rbiswas/data/LSST/OpSimData/enigma_1189_sqlite.db' is invalid but looks like a dbAddress. Attempting to convert to database, driver, host, and port parameters. Any usernames and passwords are ignored and must be in the db-auth.paf policy file. \n",
        "  \"be in the db-auth.paf policy file. \"%(self.database), FutureWarning)\n"
       ]
      }
     ],
     "prompt_number": 26
    },
    {
     "cell_type": "code",
     "collapsed": false,
     "input": [
      "propID, propTags = opsimDb2168.fetchPropInfo()"
     ],
     "language": "python",
     "metadata": {},
     "outputs": [],
     "prompt_number": 27
    },
    {
     "cell_type": "code",
     "collapsed": false,
     "input": [
      "propTags"
     ],
     "language": "python",
     "metadata": {},
     "outputs": [
      {
       "metadata": {},
       "output_type": "pyout",
       "prompt_number": 28,
       "text": [
        "{'DD': [366], 'WFD': [364]}"
       ]
      }
     ],
     "prompt_number": 28
    },
    {
     "cell_type": "markdown",
     "metadata": {},
     "source": [
      "This does not work for the old format. Read the SSTar document: http://opsimcvs.tuc.noao.edu/runs/opsim2.168/SSTAR-opsim2-168.pdf and find the deep drilling propIDs from Table 1."
     ]
    },
    {
     "cell_type": "code",
     "collapsed": false,
     "input": [
      "DDold = 359, 360"
     ],
     "language": "python",
     "metadata": {},
     "outputs": [],
     "prompt_number": 29
    },
    {
     "cell_type": "heading",
     "level": 3,
     "metadata": {},
     "source": [
      "This subsection is for sqlite transforms of old Versions of OpSim Outputs (eg. 2.168)"
     ]
    },
    {
     "cell_type": "code",
     "collapsed": false,
     "input": [
      "OpSim_2168_all = pd.read_sql_query('SELECT * FROM SUMMARY WHERE PROPID is 359 or PROPID is 360 or PROPID is 361', engine_2168)"
     ],
     "language": "python",
     "metadata": {},
     "outputs": [],
     "prompt_number": 30
    },
    {
     "cell_type": "markdown",
     "metadata": {},
     "source": [
      "As shown from a similar command as above this OpSim database has 197332 rows (close to about twice as the enigma case) and 46 columns. The memory on disc is also larger by a similar factor and is 70 MB"
     ]
    },
    {
     "cell_type": "code",
     "collapsed": false,
     "input": [
      "OpSim_2168_all.columns"
     ],
     "language": "python",
     "metadata": {},
     "outputs": [
      {
       "metadata": {},
       "output_type": "pyout",
       "prompt_number": 31,
       "text": [
        "Index([u'obsHistID', u'sessionID', u'propID', u'fieldID', u'fieldRA', u'fieldDec', u'filter', u'expDate', u'expMJD', u'night', u'visitTime', u'visitExpTime', u'finRank', u'finSeeing', u'transparency', u'airmass', u'vSkyBright', u'filtSkyBrightness', u'rotSkyPos', u'lst', u'altitude', u'azimuth', u'dist2Moon', u'solarElong', u'moonRA', u'moonDec', u'moonAlt', u'moonAZ', u'moonPhase', u'sunAlt', u'sunAz', u'phaseAngle', u'rScatter', u'mieScatter', u'moonIllum', u'moonBright', u'darkBright', u'rawSeeing', u'wind', u'humidity', u'slewDist', u'slewTime', u'fiveSigmaDepth', u'ditheredRA', u'ditheredDec'], dtype='object')"
       ]
      }
     ],
     "prompt_number": 31
    },
    {
     "cell_type": "code",
     "collapsed": false,
     "input": [
      "OpSim_2168_Deep = OpSim_2168_all.query('propID == [359, 360]')"
     ],
     "language": "python",
     "metadata": {},
     "outputs": [],
     "prompt_number": 32
    },
    {
     "cell_type": "code",
     "collapsed": false,
     "input": [
      "Opsim2168_Deep_FI = OpSim_2168_Deep.fieldID.unique()"
     ],
     "language": "python",
     "metadata": {},
     "outputs": [],
     "prompt_number": 33
    },
    {
     "cell_type": "code",
     "collapsed": false,
     "input": [
      "Opsim_2168_Main = OpSim_2168_all.query('propID == [361]')"
     ],
     "language": "python",
     "metadata": {},
     "outputs": [],
     "prompt_number": 34
    },
    {
     "cell_type": "code",
     "collapsed": false,
     "input": [
      "OpSim_2168_Main_summary = so.SummaryOpsim(Opsim_2168_Main)"
     ],
     "language": "python",
     "metadata": {},
     "outputs": [],
     "prompt_number": 35
    },
    {
     "cell_type": "code",
     "collapsed": false,
     "input": [
      "OpSim_2168_Main_summary.writeSimlib('opsim_2168.SIMLIB.MAIN.FULL')"
     ],
     "language": "python",
     "metadata": {},
     "outputs": [],
     "prompt_number": 36
    },
    {
     "cell_type": "code",
     "collapsed": false,
     "input": [
      "OpSim_2168_Main = None\n",
      "Opsim_2168_Main_summary = None"
     ],
     "language": "python",
     "metadata": {},
     "outputs": [],
     "prompt_number": 37
    },
    {
     "cell_type": "code",
     "collapsed": true,
     "input": [
      "OpSim_2168_Combined = OpSim_2168_all[OpSim_2168_all['fieldID'].isin(Opsim2168_Deep_FI)]"
     ],
     "language": "python",
     "metadata": {},
     "outputs": [],
     "prompt_number": 38
    },
    {
     "cell_type": "code",
     "collapsed": false,
     "input": [
      "OpSim_2168_Deep_Summary = so.SummaryOpsim(OpSim_2168_Deep)"
     ],
     "language": "python",
     "metadata": {},
     "outputs": [],
     "prompt_number": 39
    },
    {
     "cell_type": "code",
     "collapsed": false,
     "input": [
      "OpSim_2168_Deep_Summary.writeSimlib('opsim_2168.SIMLIB.DEEP.FULL_new')"
     ],
     "language": "python",
     "metadata": {},
     "outputs": [],
     "prompt_number": 40
    },
    {
     "cell_type": "code",
     "collapsed": false,
     "input": [
      "OpSim_2168_Deep_Summary = None\n",
      "OpSim_2168_Deep = None"
     ],
     "language": "python",
     "metadata": {},
     "outputs": [],
     "prompt_number": 41
    },
    {
     "cell_type": "code",
     "collapsed": false,
     "input": [
      "OpSim_2168_Combined_Summary = so.SummaryOpsim(OpSim_2168_Combined)"
     ],
     "language": "python",
     "metadata": {},
     "outputs": [],
     "prompt_number": 42
    },
    {
     "cell_type": "code",
     "collapsed": false,
     "input": [
      "OpSim_2168_Combined_Summary.writeSimlib('opsim_2168.SIMLIB.COMBINED.FULL')"
     ],
     "language": "python",
     "metadata": {},
     "outputs": [],
     "prompt_number": 43
    },
    {
     "cell_type": "code",
     "collapsed": false,
     "input": [
      "opsim_test_df = pd.read_csv('test_opsimObsData.dat', delimiter='\\s+')"
     ],
     "language": "python",
     "metadata": {},
     "outputs": [],
     "prompt_number": 49
    },
    {
     "cell_type": "code",
     "collapsed": false,
     "input": [
      "opsim_test_df"
     ],
     "language": "python",
     "metadata": {},
     "outputs": [
      {
       "html": [
        "<div style=\"max-height:1000px;max-width:1500px;overflow:auto;\">\n",
        "<table border=\"1\" class=\"dataframe\">\n",
        "  <thead>\n",
        "    <tr style=\"text-align: right;\">\n",
        "      <th></th>\n",
        "      <th>RA</th>\n",
        "      <th>Dec</th>\n",
        "      <th>MJD</th>\n",
        "      <th>filter</th>\n",
        "      <th>Alt</th>\n",
        "      <th>Az</th>\n",
        "      <th>Airmass</th>\n",
        "      <th>Cloud</th>\n",
        "      <th>RawSeeing</th>\n",
        "      <th>finSeeing</th>\n",
        "      <th>...</th>\n",
        "      <th>SunAz</th>\n",
        "      <th>MoonAlt</th>\n",
        "      <th>MoonAz</th>\n",
        "      <th>MoonPhase</th>\n",
        "      <th>MoonPhase(opsim)</th>\n",
        "      <th>filtSkyBrightness</th>\n",
        "      <th>fiveSigmaDepth</th>\n",
        "      <th>SurveyNight</th>\n",
        "      <th>Downtime</th>\n",
        "      <th>fieldID</th>\n",
        "    </tr>\n",
        "  </thead>\n",
        "  <tbody>\n",
        "    <tr>\n",
        "      <th>0</th>\n",
        "      <td>69.45379</td>\n",
        "      <td>-53.47048</td>\n",
        "      <td>49353.114583</td>\n",
        "      <td>i</td>\n",
        "      <td>66.16264</td>\n",
        "      <td>182.5537</td>\n",
        "      <td>1.089</td>\n",
        "      <td>0</td>\n",
        "      <td>0.729</td>\n",
        "      <td>0.802</td>\n",
        "      <td>...</td>\n",
        "      <td>210.640</td>\n",
        "      <td>11.377</td>\n",
        "      <td>70.72</td>\n",
        "      <td>41.63</td>\n",
        "      <td>87.37</td>\n",
        "      <td>19.58</td>\n",
        "      <td>25.26</td>\n",
        "      <td>0</td>\n",
        "      <td>0</td>\n",
        "      <td>519</td>\n",
        "    </tr>\n",
        "    <tr>\n",
        "      <th>1</th>\n",
        "      <td>69.45379</td>\n",
        "      <td>-53.47048</td>\n",
        "      <td>49353.123877</td>\n",
        "      <td>r</td>\n",
        "      <td>65.90848</td>\n",
        "      <td>187.4313</td>\n",
        "      <td>1.091</td>\n",
        "      <td>0</td>\n",
        "      <td>0.839</td>\n",
        "      <td>0.928</td>\n",
        "      <td>...</td>\n",
        "      <td>207.446</td>\n",
        "      <td>14.046</td>\n",
        "      <td>68.92</td>\n",
        "      <td>41.73</td>\n",
        "      <td>87.32</td>\n",
        "      <td>19.98</td>\n",
        "      <td>25.46</td>\n",
        "      <td>0</td>\n",
        "      <td>0</td>\n",
        "      <td>519</td>\n",
        "    </tr>\n",
        "  </tbody>\n",
        "</table>\n",
        "<p>2 rows \u00d7 21 columns</p>\n",
        "</div>"
       ],
       "metadata": {},
       "output_type": "pyout",
       "prompt_number": 50,
       "text": [
        "         RA       Dec           MJD filter       Alt        Az  Airmass  \\\n",
        "0  69.45379 -53.47048  49353.114583      i  66.16264  182.5537    1.089   \n",
        "1  69.45379 -53.47048  49353.123877      r  65.90848  187.4313    1.091   \n",
        "\n",
        "   Cloud  RawSeeing  finSeeing   ...       SunAz  MoonAlt  MoonAz  MoonPhase  \\\n",
        "0      0      0.729      0.802   ...     210.640   11.377   70.72      41.63   \n",
        "1      0      0.839      0.928   ...     207.446   14.046   68.92      41.73   \n",
        "\n",
        "   MoonPhase(opsim)  filtSkyBrightness  fiveSigmaDepth  SurveyNight  Downtime  \\\n",
        "0             87.37              19.58           25.26            0         0   \n",
        "1             87.32              19.98           25.46            0         0   \n",
        "\n",
        "   fieldID  \n",
        "0      519  \n",
        "1      519  \n",
        "\n",
        "[2 rows x 21 columns]"
       ]
      }
     ],
     "prompt_number": 50
    },
    {
     "cell_type": "code",
     "collapsed": false,
     "input": [
      "testopsim = so.SummaryOpsim(opsim_test_df)"
     ],
     "language": "python",
     "metadata": {},
     "outputs": [],
     "prompt_number": 52
    },
    {
     "cell_type": "code",
     "collapsed": false,
     "input": [
      "testopsim.simlib(519)"
     ],
     "language": "python",
     "metadata": {},
     "outputs": [
      {
       "html": [
        "<div style=\"max-height:1000px;max-width:1500px;overflow:auto;\">\n",
        "<table border=\"1\" class=\"dataframe\">\n",
        "  <thead>\n",
        "    <tr style=\"text-align: right;\">\n",
        "      <th></th>\n",
        "      <th>RA</th>\n",
        "      <th>Dec</th>\n",
        "      <th>MJD</th>\n",
        "      <th>filter</th>\n",
        "      <th>Alt</th>\n",
        "      <th>Az</th>\n",
        "      <th>Airmass</th>\n",
        "      <th>Cloud</th>\n",
        "      <th>RawSeeing</th>\n",
        "      <th>finSeeing</th>\n",
        "      <th>...</th>\n",
        "      <th>MoonPhase</th>\n",
        "      <th>MoonPhase(opsim)</th>\n",
        "      <th>filtSkyBrightness</th>\n",
        "      <th>fiveSigmaDepth</th>\n",
        "      <th>SurveyNight</th>\n",
        "      <th>Downtime</th>\n",
        "      <th>fieldID</th>\n",
        "      <th>simLibPsf</th>\n",
        "      <th>simLibZPTAVG</th>\n",
        "      <th>simLibSkySig</th>\n",
        "    </tr>\n",
        "  </thead>\n",
        "  <tbody>\n",
        "    <tr>\n",
        "      <th>0</th>\n",
        "      <td>69.45379</td>\n",
        "      <td>-53.47048</td>\n",
        "      <td>49353.114583</td>\n",
        "      <td>i</td>\n",
        "      <td>66.16264</td>\n",
        "      <td>182.5537</td>\n",
        "      <td>1.089</td>\n",
        "      <td>0</td>\n",
        "      <td>0.729</td>\n",
        "      <td>0.802</td>\n",
        "      <td>...</td>\n",
        "      <td>41.63</td>\n",
        "      <td>87.37</td>\n",
        "      <td>19.58</td>\n",
        "      <td>25.26</td>\n",
        "      <td>0</td>\n",
        "      <td>0</td>\n",
        "      <td>519</td>\n",
        "      <td>1.706383</td>\n",
        "      <td>34.854557</td>\n",
        "      <td>226.955848</td>\n",
        "    </tr>\n",
        "    <tr>\n",
        "      <th>1</th>\n",
        "      <td>69.45379</td>\n",
        "      <td>-53.47048</td>\n",
        "      <td>49353.123877</td>\n",
        "      <td>r</td>\n",
        "      <td>65.90848</td>\n",
        "      <td>187.4313</td>\n",
        "      <td>1.091</td>\n",
        "      <td>0</td>\n",
        "      <td>0.839</td>\n",
        "      <td>0.928</td>\n",
        "      <td>...</td>\n",
        "      <td>41.73</td>\n",
        "      <td>87.32</td>\n",
        "      <td>19.98</td>\n",
        "      <td>25.46</td>\n",
        "      <td>0</td>\n",
        "      <td>0</td>\n",
        "      <td>519</td>\n",
        "      <td>1.974468</td>\n",
        "      <td>35.171022</td>\n",
        "      <td>218.390877</td>\n",
        "    </tr>\n",
        "  </tbody>\n",
        "</table>\n",
        "<p>2 rows \u00d7 24 columns</p>\n",
        "</div>"
       ],
       "metadata": {},
       "output_type": "pyout",
       "prompt_number": 55,
       "text": [
        "         RA       Dec           MJD filter       Alt        Az  Airmass  \\\n",
        "0  69.45379 -53.47048  49353.114583      i  66.16264  182.5537    1.089   \n",
        "1  69.45379 -53.47048  49353.123877      r  65.90848  187.4313    1.091   \n",
        "\n",
        "   Cloud  RawSeeing  finSeeing      ...       MoonPhase  MoonPhase(opsim)  \\\n",
        "0      0      0.729      0.802      ...           41.63             87.37   \n",
        "1      0      0.839      0.928      ...           41.73             87.32   \n",
        "\n",
        "   filtSkyBrightness  fiveSigmaDepth  SurveyNight  Downtime  fieldID  \\\n",
        "0              19.58           25.26            0         0      519   \n",
        "1              19.98           25.46            0         0      519   \n",
        "\n",
        "   simLibPsf  simLibZPTAVG  simLibSkySig  \n",
        "0   1.706383     34.854557    226.955848  \n",
        "1   1.974468     35.171022    218.390877  \n",
        "\n",
        "[2 rows x 24 columns]"
       ]
      }
     ],
     "prompt_number": 55
    },
    {
     "cell_type": "code",
     "collapsed": false,
     "input": [
      "EnigmaDeepSummary.df.simLibSkySig.max()"
     ],
     "language": "python",
     "metadata": {},
     "outputs": [
      {
       "metadata": {},
       "output_type": "pyout",
       "prompt_number": 58,
       "text": [
        "269.33638549970993"
       ]
      }
     ],
     "prompt_number": 58
    },
    {
     "cell_type": "code",
     "collapsed": false,
     "input": [],
     "language": "python",
     "metadata": {},
     "outputs": []
    }
   ],
   "metadata": {}
  }
 ]
}