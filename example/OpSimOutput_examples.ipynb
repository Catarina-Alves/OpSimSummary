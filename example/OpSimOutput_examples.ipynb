{
 "cells": [
  {
   "cell_type": "code",
   "execution_count": 1,
   "metadata": {
    "collapsed": false
   },
   "outputs": [],
   "source": [
    "import opsimsummary as oss"
   ]
  },
  {
   "cell_type": "code",
   "execution_count": 2,
   "metadata": {
    "collapsed": true
   },
   "outputs": [],
   "source": [
    "import os"
   ]
  },
  {
   "cell_type": "code",
   "execution_count": 3,
   "metadata": {
    "collapsed": false
   },
   "outputs": [],
   "source": [
    "example_dir = os.path.join(oss.__path__[0], 'example_data')"
   ]
  },
  {
   "cell_type": "code",
   "execution_count": 4,
   "metadata": {
    "collapsed": true
   },
   "outputs": [],
   "source": [
    "dbName = os.path.join(example_dir, 'enigma_1189_micro.db')"
   ]
  },
  {
   "cell_type": "code",
   "execution_count": 5,
   "metadata": {
    "collapsed": false
   },
   "outputs": [],
   "source": [
    "from sqlalchemy import create_engine as create_engine"
   ]
  },
  {
   "cell_type": "code",
   "execution_count": 6,
   "metadata": {
    "collapsed": true
   },
   "outputs": [],
   "source": [
    "from opsimsummary import OpSimOutput"
   ]
  },
  {
   "cell_type": "markdown",
   "metadata": {},
   "source": [
    "# From the OpSim Output (sqlite database)"
   ]
  },
  {
   "cell_type": "code",
   "execution_count": 7,
   "metadata": {
    "collapsed": false
   },
   "outputs": [
    {
     "name": "stdout",
     "output_type": "stream",
     "text": [
      " reading from database sqlite:////Users/rbiswas/.local/lib/python2.7/site-packages/opsimsummary/example_data/enigma_1189_micro.db\n"
     ]
    }
   ],
   "source": [
    "opout = OpSimOutput.fromOpSimDB(dbname=dbName, subset='_all')"
   ]
  },
  {
   "cell_type": "code",
   "execution_count": 8,
   "metadata": {
    "collapsed": false
   },
   "outputs": [
    {
     "data": {
      "text/html": [
       "<div>\n",
       "<table border=\"1\" class=\"dataframe\">\n",
       "  <thead>\n",
       "    <tr style=\"text-align: right;\">\n",
       "      <th></th>\n",
       "      <th>propID</th>\n",
       "      <th>propConf</th>\n",
       "      <th>propName</th>\n",
       "      <th>objectID</th>\n",
       "      <th>objectHost</th>\n",
       "      <th>Session_sessionID</th>\n",
       "    </tr>\n",
       "  </thead>\n",
       "  <tbody>\n",
       "    <tr>\n",
       "      <th>0</th>\n",
       "      <td>362</td>\n",
       "      <td>../conf/survey/GalacticPlaneProp.conf</td>\n",
       "      <td>WL</td>\n",
       "      <td>27692624</td>\n",
       "      <td>enigma</td>\n",
       "      <td>1189</td>\n",
       "    </tr>\n",
       "    <tr>\n",
       "      <th>1</th>\n",
       "      <td>363</td>\n",
       "      <td>../conf/survey/SouthCelestialPole-18.conf</td>\n",
       "      <td>WL</td>\n",
       "      <td>27692368</td>\n",
       "      <td>enigma</td>\n",
       "      <td>1189</td>\n",
       "    </tr>\n",
       "    <tr>\n",
       "      <th>2</th>\n",
       "      <td>364</td>\n",
       "      <td>../conf/survey/Universal-18-0824B.conf</td>\n",
       "      <td>WLTSS</td>\n",
       "      <td>27692112</td>\n",
       "      <td>enigma</td>\n",
       "      <td>1189</td>\n",
       "    </tr>\n",
       "    <tr>\n",
       "      <th>3</th>\n",
       "      <td>365</td>\n",
       "      <td>../conf/survey/NorthEclipticSpur-18c.conf</td>\n",
       "      <td>WLTSS</td>\n",
       "      <td>27692240</td>\n",
       "      <td>enigma</td>\n",
       "      <td>1189</td>\n",
       "    </tr>\n",
       "    <tr>\n",
       "      <th>4</th>\n",
       "      <td>366</td>\n",
       "      <td>../conf/survey/DDcosmology1.conf</td>\n",
       "      <td>WLTSS</td>\n",
       "      <td>29065424</td>\n",
       "      <td>enigma</td>\n",
       "      <td>1189</td>\n",
       "    </tr>\n",
       "  </tbody>\n",
       "</table>\n",
       "</div>"
      ],
      "text/plain": [
       "   propID                                   propConf propName  objectID  \\\n",
       "0     362      ../conf/survey/GalacticPlaneProp.conf       WL  27692624   \n",
       "1     363  ../conf/survey/SouthCelestialPole-18.conf       WL  27692368   \n",
       "2     364     ../conf/survey/Universal-18-0824B.conf    WLTSS  27692112   \n",
       "3     365  ../conf/survey/NorthEclipticSpur-18c.conf    WLTSS  27692240   \n",
       "4     366           ../conf/survey/DDcosmology1.conf    WLTSS  29065424   \n",
       "\n",
       "  objectHost  Session_sessionID  \n",
       "0     enigma               1189  \n",
       "1     enigma               1189  \n",
       "2     enigma               1189  \n",
       "3     enigma               1189  \n",
       "4     enigma               1189  "
      ]
     },
     "execution_count": 8,
     "metadata": {},
     "output_type": "execute_result"
    }
   ],
   "source": [
    "opout.proposalTable"
   ]
  },
  {
   "cell_type": "code",
   "execution_count": 9,
   "metadata": {
    "collapsed": false
   },
   "outputs": [
    {
     "data": {
      "text/plain": [
       "{u'../conf/survey/galacticplaneprop.conf': 362,\n",
       " u'../conf/survey/northeclipticspur-18c.conf': 365,\n",
       " u'../conf/survey/southcelestialpole-18.conf': 363,\n",
       " 'ddf': 366,\n",
       " 'wfd': 364}"
      ]
     },
     "execution_count": 9,
     "metadata": {},
     "output_type": "execute_result"
    }
   ],
   "source": [
    "opout.propIDDict"
   ]
  },
  {
   "cell_type": "code",
   "execution_count": 10,
   "metadata": {
    "collapsed": false
   },
   "outputs": [
    {
     "data": {
      "text/plain": [
       "array([364, 366])"
      ]
     },
     "execution_count": 10,
     "metadata": {},
     "output_type": "execute_result"
    }
   ],
   "source": [
    "opout.summary.propID.unique()"
   ]
  },
  {
   "cell_type": "code",
   "execution_count": 11,
   "metadata": {
    "collapsed": false
   },
   "outputs": [
    {
     "data": {
      "text/plain": [
       "[366, 364]"
      ]
     },
     "execution_count": 11,
     "metadata": {},
     "output_type": "execute_result"
    }
   ],
   "source": [
    "opout.propIDVals('combined', opout.propIDDict, opout.proposalTable)"
   ]
  },
  {
   "cell_type": "code",
   "execution_count": 12,
   "metadata": {
    "collapsed": false
   },
   "outputs": [
    {
     "data": {
      "text/plain": [
       "array([362, 363, 364, 365, 366])"
      ]
     },
     "execution_count": 12,
     "metadata": {},
     "output_type": "execute_result"
    }
   ],
   "source": [
    "opout.propIds"
   ]
  },
  {
   "cell_type": "code",
   "execution_count": 13,
   "metadata": {
    "collapsed": false
   },
   "outputs": [
    {
     "data": {
      "text/plain": [
       "'_all'"
      ]
     },
     "execution_count": 13,
     "metadata": {},
     "output_type": "execute_result"
    }
   ],
   "source": [
    "opout.subset"
   ]
  },
  {
   "cell_type": "code",
   "execution_count": 14,
   "metadata": {
    "collapsed": false
   },
   "outputs": [
    {
     "data": {
      "text/html": [
       "<div>\n",
       "<table border=\"1\" class=\"dataframe\">\n",
       "  <thead>\n",
       "    <tr style=\"text-align: right;\">\n",
       "      <th></th>\n",
       "      <th>sessionID</th>\n",
       "      <th>propID</th>\n",
       "      <th>fieldID</th>\n",
       "      <th>fieldRA</th>\n",
       "      <th>fieldDec</th>\n",
       "      <th>filter</th>\n",
       "      <th>expDate</th>\n",
       "      <th>expMJD</th>\n",
       "      <th>night</th>\n",
       "      <th>visitTime</th>\n",
       "      <th>...</th>\n",
       "      <th>moonBright</th>\n",
       "      <th>darkBright</th>\n",
       "      <th>rawSeeing</th>\n",
       "      <th>wind</th>\n",
       "      <th>humidity</th>\n",
       "      <th>slewDist</th>\n",
       "      <th>slewTime</th>\n",
       "      <th>fiveSigmaDepth</th>\n",
       "      <th>ditheredRA</th>\n",
       "      <th>ditheredDec</th>\n",
       "    </tr>\n",
       "    <tr>\n",
       "      <th>obsHistID</th>\n",
       "      <th></th>\n",
       "      <th></th>\n",
       "      <th></th>\n",
       "      <th></th>\n",
       "      <th></th>\n",
       "      <th></th>\n",
       "      <th></th>\n",
       "      <th></th>\n",
       "      <th></th>\n",
       "      <th></th>\n",
       "      <th></th>\n",
       "      <th></th>\n",
       "      <th></th>\n",
       "      <th></th>\n",
       "      <th></th>\n",
       "      <th></th>\n",
       "      <th></th>\n",
       "      <th></th>\n",
       "      <th></th>\n",
       "      <th></th>\n",
       "      <th></th>\n",
       "    </tr>\n",
       "  </thead>\n",
       "  <tbody>\n",
       "    <tr>\n",
       "      <th>171077</th>\n",
       "      <td>1189</td>\n",
       "      <td>364</td>\n",
       "      <td>2123</td>\n",
       "      <td>3.502578</td>\n",
       "      <td>-0.203741</td>\n",
       "      <td>z</td>\n",
       "      <td>18745559</td>\n",
       "      <td>49569.962492</td>\n",
       "      <td>217</td>\n",
       "      <td>34.0</td>\n",
       "      <td>...</td>\n",
       "      <td>0.0</td>\n",
       "      <td>90.575602</td>\n",
       "      <td>1.395861</td>\n",
       "      <td>0.0</td>\n",
       "      <td>0.0</td>\n",
       "      <td>2.729285</td>\n",
       "      <td>0.000000</td>\n",
       "      <td>21.402429</td>\n",
       "      <td>3.486983</td>\n",
       "      <td>-0.230192</td>\n",
       "    </tr>\n",
       "    <tr>\n",
       "      <th>171078</th>\n",
       "      <td>1189</td>\n",
       "      <td>364</td>\n",
       "      <td>2109</td>\n",
       "      <td>3.556282</td>\n",
       "      <td>-0.208795</td>\n",
       "      <td>z</td>\n",
       "      <td>18745598</td>\n",
       "      <td>49569.962940</td>\n",
       "      <td>217</td>\n",
       "      <td>34.0</td>\n",
       "      <td>...</td>\n",
       "      <td>0.0</td>\n",
       "      <td>88.780090</td>\n",
       "      <td>1.395861</td>\n",
       "      <td>0.0</td>\n",
       "      <td>0.0</td>\n",
       "      <td>0.052807</td>\n",
       "      <td>4.701006</td>\n",
       "      <td>21.420436</td>\n",
       "      <td>3.540671</td>\n",
       "      <td>-0.235246</td>\n",
       "    </tr>\n",
       "    <tr>\n",
       "      <th>171079</th>\n",
       "      <td>1189</td>\n",
       "      <td>364</td>\n",
       "      <td>2103</td>\n",
       "      <td>3.609762</td>\n",
       "      <td>-0.213110</td>\n",
       "      <td>z</td>\n",
       "      <td>18745636</td>\n",
       "      <td>49569.963388</td>\n",
       "      <td>217</td>\n",
       "      <td>34.0</td>\n",
       "      <td>...</td>\n",
       "      <td>0.0</td>\n",
       "      <td>87.241597</td>\n",
       "      <td>1.395861</td>\n",
       "      <td>0.0</td>\n",
       "      <td>0.0</td>\n",
       "      <td>0.052469</td>\n",
       "      <td>4.665852</td>\n",
       "      <td>21.435982</td>\n",
       "      <td>3.594137</td>\n",
       "      <td>-0.239561</td>\n",
       "    </tr>\n",
       "    <tr>\n",
       "      <th>171080</th>\n",
       "      <td>1189</td>\n",
       "      <td>364</td>\n",
       "      <td>2082</td>\n",
       "      <td>3.663150</td>\n",
       "      <td>-0.216431</td>\n",
       "      <td>z</td>\n",
       "      <td>18745675</td>\n",
       "      <td>49569.963837</td>\n",
       "      <td>217</td>\n",
       "      <td>34.0</td>\n",
       "      <td>...</td>\n",
       "      <td>0.0</td>\n",
       "      <td>85.930303</td>\n",
       "      <td>1.395861</td>\n",
       "      <td>0.0</td>\n",
       "      <td>0.0</td>\n",
       "      <td>0.052268</td>\n",
       "      <td>4.820142</td>\n",
       "      <td>21.449321</td>\n",
       "      <td>3.647513</td>\n",
       "      <td>-0.242882</td>\n",
       "    </tr>\n",
       "    <tr>\n",
       "      <th>171081</th>\n",
       "      <td>1189</td>\n",
       "      <td>364</td>\n",
       "      <td>1947</td>\n",
       "      <td>3.690123</td>\n",
       "      <td>-0.263957</td>\n",
       "      <td>z</td>\n",
       "      <td>18745714</td>\n",
       "      <td>49569.964286</td>\n",
       "      <td>217</td>\n",
       "      <td>34.0</td>\n",
       "      <td>...</td>\n",
       "      <td>0.0</td>\n",
       "      <td>84.412797</td>\n",
       "      <td>1.395861</td>\n",
       "      <td>0.0</td>\n",
       "      <td>0.0</td>\n",
       "      <td>0.054263</td>\n",
       "      <td>4.841302</td>\n",
       "      <td>21.464869</td>\n",
       "      <td>3.674303</td>\n",
       "      <td>-0.290408</td>\n",
       "    </tr>\n",
       "  </tbody>\n",
       "</table>\n",
       "<p>5 rows × 44 columns</p>\n",
       "</div>"
      ],
      "text/plain": [
       "           sessionID  propID  fieldID   fieldRA  fieldDec filter   expDate  \\\n",
       "obsHistID                                                                    \n",
       "171077          1189     364     2123  3.502578 -0.203741      z  18745559   \n",
       "171078          1189     364     2109  3.556282 -0.208795      z  18745598   \n",
       "171079          1189     364     2103  3.609762 -0.213110      z  18745636   \n",
       "171080          1189     364     2082  3.663150 -0.216431      z  18745675   \n",
       "171081          1189     364     1947  3.690123 -0.263957      z  18745714   \n",
       "\n",
       "                 expMJD  night  visitTime     ...       moonBright  \\\n",
       "obsHistID                                     ...                    \n",
       "171077     49569.962492    217       34.0     ...              0.0   \n",
       "171078     49569.962940    217       34.0     ...              0.0   \n",
       "171079     49569.963388    217       34.0     ...              0.0   \n",
       "171080     49569.963837    217       34.0     ...              0.0   \n",
       "171081     49569.964286    217       34.0     ...              0.0   \n",
       "\n",
       "           darkBright  rawSeeing  wind  humidity  slewDist  slewTime  \\\n",
       "obsHistID                                                              \n",
       "171077      90.575602   1.395861   0.0       0.0  2.729285  0.000000   \n",
       "171078      88.780090   1.395861   0.0       0.0  0.052807  4.701006   \n",
       "171079      87.241597   1.395861   0.0       0.0  0.052469  4.665852   \n",
       "171080      85.930303   1.395861   0.0       0.0  0.052268  4.820142   \n",
       "171081      84.412797   1.395861   0.0       0.0  0.054263  4.841302   \n",
       "\n",
       "           fiveSigmaDepth  ditheredRA  ditheredDec  \n",
       "obsHistID                                           \n",
       "171077          21.402429    3.486983    -0.230192  \n",
       "171078          21.420436    3.540671    -0.235246  \n",
       "171079          21.435982    3.594137    -0.239561  \n",
       "171080          21.449321    3.647513    -0.242882  \n",
       "171081          21.464869    3.674303    -0.290408  \n",
       "\n",
       "[5 rows x 44 columns]"
      ]
     },
     "execution_count": 14,
     "metadata": {},
     "output_type": "execute_result"
    }
   ],
   "source": [
    "opout.summary.head()"
   ]
  },
  {
   "cell_type": "code",
   "execution_count": 15,
   "metadata": {
    "collapsed": false
   },
   "outputs": [
    {
     "name": "stdout",
     "output_type": "stream",
     "text": [
      "76888\n"
     ]
    }
   ],
   "source": [
    "print(len(opout.summary))"
   ]
  },
  {
   "cell_type": "code",
   "execution_count": 16,
   "metadata": {
    "collapsed": true
   },
   "outputs": [],
   "source": [
    "# Write to hdf file"
   ]
  },
  {
   "cell_type": "code",
   "execution_count": 17,
   "metadata": {
    "collapsed": false
   },
   "outputs": [
    {
     "name": "stderr",
     "output_type": "stream",
     "text": [
      "/usr/local/software/lib/python2.7/site-packages/pandas/io/pytables.py:260: PerformanceWarning: \n",
      "your performance may suffer as PyTables will pickle object types that it cannot\n",
      "map directly to c-types [inferred_type->unicode,key->axis0] [items->None]\n",
      "\n",
      "  f(store)\n",
      "/usr/local/software/lib/python2.7/site-packages/pandas/io/pytables.py:260: PerformanceWarning: \n",
      "your performance may suffer as PyTables will pickle object types that it cannot\n",
      "map directly to c-types [inferred_type->unicode,key->block0_items] [items->None]\n",
      "\n",
      "  f(store)\n",
      "/usr/local/software/lib/python2.7/site-packages/pandas/io/pytables.py:260: PerformanceWarning: \n",
      "your performance may suffer as PyTables will pickle object types that it cannot\n",
      "map directly to c-types [inferred_type->unicode,key->block1_items] [items->None]\n",
      "\n",
      "  f(store)\n",
      "/usr/local/software/lib/python2.7/site-packages/pandas/core/generic.py:1101: PerformanceWarning: \n",
      "your performance may suffer as PyTables will pickle object types that it cannot\n",
      "map directly to c-types [inferred_type->unicode,key->block2_values] [items->['filter']]\n",
      "\n",
      "  return pytables.to_hdf(path_or_buf, key, self, **kwargs)\n",
      "/usr/local/software/lib/python2.7/site-packages/pandas/io/pytables.py:260: PerformanceWarning: \n",
      "your performance may suffer as PyTables will pickle object types that it cannot\n",
      "map directly to c-types [inferred_type->unicode,key->block2_items] [items->None]\n",
      "\n",
      "  f(store)\n",
      "/usr/local/software/lib/python2.7/site-packages/pandas/core/generic.py:1101: PerformanceWarning: \n",
      "your performance may suffer as PyTables will pickle object types that it cannot\n",
      "map directly to c-types [inferred_type->unicode,key->block1_values] [items->['propConf', 'propName', 'objectHost']]\n",
      "\n",
      "  return pytables.to_hdf(path_or_buf, key, self, **kwargs)\n"
     ]
    }
   ],
   "source": [
    "opout.writeOpSimHDF('/tmp/opsim_small.hdf')"
   ]
  },
  {
   "cell_type": "code",
   "execution_count": 22,
   "metadata": {
    "collapsed": false
   },
   "outputs": [
    {
     "name": "stdout",
     "output_type": "stream",
     "text": [
      "read in proposal\n",
      "read in proposal\n",
      "_all {'ddf': 366, u'../conf/survey/galacticplaneprop.conf': 362, u'../conf/survey/northeclipticspur-18c.conf': 365, 'wfd': 364, u'../conf/survey/southcelestialpole-18.conf': 363}\n",
      "propIDs [362, 363, 364, 365, 366] <type 'list'> <type 'int'>\n",
      "summarydf cols Index([        u'obsHistID',         u'sessionID',            u'propID',\n",
      "                 u'fieldID',           u'fieldRA',          u'fieldDec',\n",
      "                  u'filter',           u'expDate',            u'expMJD',\n",
      "                   u'night',         u'visitTime',      u'visitExpTime',\n",
      "                 u'finRank',         u'finSeeing',      u'transparency',\n",
      "                 u'airmass',        u'vSkyBright', u'filtSkyBrightness',\n",
      "               u'rotSkyPos',               u'lst',          u'altitude',\n",
      "                 u'azimuth',         u'dist2Moon',        u'solarElong',\n",
      "                  u'moonRA',           u'moonDec',           u'moonAlt',\n",
      "                  u'moonAZ',         u'moonPhase',            u'sunAlt',\n",
      "                   u'sunAz',        u'phaseAngle',          u'rScatter',\n",
      "              u'mieScatter',         u'moonIllum',        u'moonBright',\n",
      "              u'darkBright',         u'rawSeeing',              u'wind',\n",
      "                u'humidity',          u'slewDist',          u'slewTime',\n",
      "          u'fiveSigmaDepth',        u'ditheredRA',       u'ditheredDec'],\n",
      "      dtype='object')\n",
      "squery_str propID == @propIDs\n",
      " Num entries  76888\n"
     ]
    }
   ],
   "source": [
    "opsim_from_hdf = OpSimOutput.fromOpSimHDF('/tmp/opsim_small.hdf', subset='_all')"
   ]
  },
  {
   "cell_type": "code",
   "execution_count": 20,
   "metadata": {
    "collapsed": true
   },
   "outputs": [],
   "source": [
    "from pandas.util.testing import assert_frame_equal"
   ]
  },
  {
   "cell_type": "code",
   "execution_count": 23,
   "metadata": {
    "collapsed": false
   },
   "outputs": [
    {
     "data": {
      "text/plain": [
       "'_all'"
      ]
     },
     "execution_count": 23,
     "metadata": {},
     "output_type": "execute_result"
    }
   ],
   "source": [
    "opsim_from_hdf.subset"
   ]
  },
  {
   "cell_type": "code",
   "execution_count": 24,
   "metadata": {
    "collapsed": false
   },
   "outputs": [],
   "source": [
    "assert_frame_equal(opsim_from_hdf.summary, opout.summary)"
   ]
  },
  {
   "cell_type": "markdown",
   "metadata": {},
   "source": [
    "#### From OpSimDB but combined (This is WFD and DDF combined)"
   ]
  },
  {
   "cell_type": "code",
   "execution_count": 16,
   "metadata": {
    "collapsed": false
   },
   "outputs": [
    {
     "name": "stdout",
     "output_type": "stream",
     "text": [
      " reading from database sqlite:////Users/rbiswas/.local/lib/python2.7/site-packages/opsimsummary/example_data/enigma_1189_micro.db\n",
      "SELECT * FROM Summary WHERE PROPID in (366, 364)\n"
     ]
    }
   ],
   "source": [
    "opsim_comb = OpSimOutput.fromOpSimDB(dbname=dbName)"
   ]
  },
  {
   "cell_type": "code",
   "execution_count": 17,
   "metadata": {
    "collapsed": false
   },
   "outputs": [
    {
     "ename": "ValueError",
     "evalue": "Should be Done only for self.subset == _all",
     "output_type": "error",
     "traceback": [
      "\u001b[0;31m---------------------------------------------------------------------------\u001b[0m",
      "\u001b[0;31mValueError\u001b[0m                                Traceback (most recent call last)",
      "\u001b[0;32m<ipython-input-17-b5b97aded478>\u001b[0m in \u001b[0;36m<module>\u001b[0;34m()\u001b[0m\n\u001b[0;32m----> 1\u001b[0;31m \u001b[0mopsim_comb\u001b[0m\u001b[0;34m.\u001b[0m\u001b[0mwriteOpSimHDF\u001b[0m\u001b[0;34m(\u001b[0m\u001b[0;34m'tmp/hdfFile.hdf'\u001b[0m\u001b[0;34m)\u001b[0m\u001b[0;34m\u001b[0m\u001b[0m\n\u001b[0m",
      "\u001b[0;32m/Users/rbiswas/.local/lib/python2.7/site-packages/opsimsummary/opsim_out.pyc\u001b[0m in \u001b[0;36mwriteOpSimHDF\u001b[0;34m(self, hdfName)\u001b[0m\n\u001b[1;32m    188\u001b[0m         \"\"\"\n\u001b[1;32m    189\u001b[0m         \u001b[0;32mif\u001b[0m \u001b[0mself\u001b[0m\u001b[0;34m.\u001b[0m\u001b[0msubset\u001b[0m \u001b[0;34m!=\u001b[0m \u001b[0;34m'_all'\u001b[0m\u001b[0;34m:\u001b[0m\u001b[0;34m\u001b[0m\u001b[0m\n\u001b[0;32m--> 190\u001b[0;31m             \u001b[0;32mraise\u001b[0m \u001b[0mValueError\u001b[0m\u001b[0;34m(\u001b[0m\u001b[0;34m'Should be Done only for self.subset == _all'\u001b[0m\u001b[0;34m)\u001b[0m\u001b[0;34m\u001b[0m\u001b[0m\n\u001b[0m\u001b[1;32m    191\u001b[0m         \u001b[0mself\u001b[0m\u001b[0;34m.\u001b[0m\u001b[0msummary\u001b[0m\u001b[0;34m.\u001b[0m\u001b[0mto_hdf\u001b[0m\u001b[0;34m(\u001b[0m\u001b[0mhdfName\u001b[0m\u001b[0;34m,\u001b[0m \u001b[0mkey\u001b[0m\u001b[0;34m=\u001b[0m\u001b[0;34m'Summary'\u001b[0m\u001b[0;34m,\u001b[0m \u001b[0mappend\u001b[0m\u001b[0;34m=\u001b[0m\u001b[0mFalse\u001b[0m\u001b[0;34m)\u001b[0m\u001b[0;34m\u001b[0m\u001b[0m\n\u001b[1;32m    192\u001b[0m         \u001b[0mself\u001b[0m\u001b[0;34m.\u001b[0m\u001b[0mproposalTable\u001b[0m\u001b[0;34m.\u001b[0m\u001b[0mto_hdf\u001b[0m\u001b[0;34m(\u001b[0m\u001b[0mhdfName\u001b[0m\u001b[0;34m,\u001b[0m \u001b[0mkey\u001b[0m\u001b[0;34m=\u001b[0m\u001b[0;34m'Proposal'\u001b[0m\u001b[0;34m,\u001b[0m \u001b[0mappend\u001b[0m\u001b[0;34m=\u001b[0m\u001b[0mFalse\u001b[0m\u001b[0;34m)\u001b[0m\u001b[0;34m\u001b[0m\u001b[0m\n",
      "\u001b[0;31mValueError\u001b[0m: Should be Done only for self.subset == _all"
     ]
    }
   ],
   "source": [
    "opsim_comb.writeOpSimHDF('tmp/hdfFile.hdf')"
   ]
  },
  {
   "cell_type": "markdown",
   "metadata": {},
   "source": [
    "### From OpSimHDF"
   ]
  },
  {
   "cell_type": "code",
   "execution_count": 18,
   "metadata": {
    "collapsed": false
   },
   "outputs": [
    {
     "name": "stdout",
     "output_type": "stream",
     "text": [
      " reading from database sqlite:////Users/rbiswas/.local/lib/python2.7/site-packages/opsimsummary/example_data/enigma_1189_micro.db\n"
     ]
    }
   ],
   "source": [
    "opsim_all = OpSimOutput.fromOpSimDB(dbname=dbName, subset='_all')"
   ]
  },
  {
   "cell_type": "code",
   "execution_count": 20,
   "metadata": {
    "collapsed": false
   },
   "outputs": [
    {
     "name": "stderr",
     "output_type": "stream",
     "text": [
      "/usr/local/software/lib/python2.7/site-packages/pandas/io/pytables.py:260: PerformanceWarning: \n",
      "your performance may suffer as PyTables will pickle object types that it cannot\n",
      "map directly to c-types [inferred_type->unicode,key->axis0] [items->None]\n",
      "\n",
      "  f(store)\n",
      "/usr/local/software/lib/python2.7/site-packages/pandas/io/pytables.py:260: PerformanceWarning: \n",
      "your performance may suffer as PyTables will pickle object types that it cannot\n",
      "map directly to c-types [inferred_type->unicode,key->block0_items] [items->None]\n",
      "\n",
      "  f(store)\n",
      "/usr/local/software/lib/python2.7/site-packages/pandas/io/pytables.py:260: PerformanceWarning: \n",
      "your performance may suffer as PyTables will pickle object types that it cannot\n",
      "map directly to c-types [inferred_type->unicode,key->block1_items] [items->None]\n",
      "\n",
      "  f(store)\n",
      "/usr/local/software/lib/python2.7/site-packages/pandas/core/generic.py:1101: PerformanceWarning: \n",
      "your performance may suffer as PyTables will pickle object types that it cannot\n",
      "map directly to c-types [inferred_type->unicode,key->block2_values] [items->['filter']]\n",
      "\n",
      "  return pytables.to_hdf(path_or_buf, key, self, **kwargs)\n",
      "/usr/local/software/lib/python2.7/site-packages/pandas/io/pytables.py:260: PerformanceWarning: \n",
      "your performance may suffer as PyTables will pickle object types that it cannot\n",
      "map directly to c-types [inferred_type->unicode,key->block2_items] [items->None]\n",
      "\n",
      "  f(store)\n",
      "/usr/local/software/lib/python2.7/site-packages/pandas/core/generic.py:1101: PerformanceWarning: \n",
      "your performance may suffer as PyTables will pickle object types that it cannot\n",
      "map directly to c-types [inferred_type->unicode,key->block1_values] [items->['propConf', 'propName', 'objectHost']]\n",
      "\n",
      "  return pytables.to_hdf(path_or_buf, key, self, **kwargs)\n"
     ]
    }
   ],
   "source": [
    "opsim_all.writeOpSimHDF('test_hdf.hdf')"
   ]
  },
  {
   "cell_type": "code",
   "execution_count": 21,
   "metadata": {
    "collapsed": false
   },
   "outputs": [
    {
     "ename": "AttributeError",
     "evalue": "'DataFrame' object has no attribute 'colums'",
     "output_type": "error",
     "traceback": [
      "\u001b[0;31m---------------------------------------------------------------------------\u001b[0m",
      "\u001b[0;31mAttributeError\u001b[0m                            Traceback (most recent call last)",
      "\u001b[0;32m<ipython-input-21-7473a32603de>\u001b[0m in \u001b[0;36m<module>\u001b[0;34m()\u001b[0m\n\u001b[0;32m----> 1\u001b[0;31m \u001b[0mopsim_fromhdf\u001b[0m \u001b[0;34m=\u001b[0m \u001b[0mOpSimOutput\u001b[0m\u001b[0;34m.\u001b[0m\u001b[0mfromOpSimHDF\u001b[0m\u001b[0;34m(\u001b[0m\u001b[0;34m'test_hdf.hdf'\u001b[0m\u001b[0;34m,\u001b[0m \u001b[0msubset\u001b[0m\u001b[0;34m=\u001b[0m\u001b[0;34m'_all'\u001b[0m\u001b[0;34m)\u001b[0m\u001b[0;34m\u001b[0m\u001b[0m\n\u001b[0m",
      "\u001b[0;32m/Users/rbiswas/.local/lib/python2.7/site-packages/opsimsummary/opsim_out.pyc\u001b[0m in \u001b[0;36mfromOpSimHDF\u001b[0;34m(cls, hdfName, subset, tableNames, propIDs)\u001b[0m\n\u001b[1;32m    142\u001b[0m         \u001b[0msummarydf\u001b[0m \u001b[0;34m=\u001b[0m \u001b[0mpd\u001b[0m\u001b[0;34m.\u001b[0m\u001b[0mread_hdf\u001b[0m\u001b[0;34m(\u001b[0m\u001b[0mhdfName\u001b[0m\u001b[0;34m,\u001b[0m \u001b[0mkey\u001b[0m\u001b[0;34m=\u001b[0m\u001b[0;34m'Summary'\u001b[0m\u001b[0;34m)\u001b[0m\u001b[0;34m\u001b[0m\u001b[0m\n\u001b[1;32m    143\u001b[0m \u001b[0;34m\u001b[0m\u001b[0m\n\u001b[0;32m--> 144\u001b[0;31m         \u001b[0;32mif\u001b[0m \u001b[0;34m'obsHistID'\u001b[0m \u001b[0;32mnot\u001b[0m \u001b[0;32min\u001b[0m \u001b[0msummarydf\u001b[0m\u001b[0;34m.\u001b[0m\u001b[0mcolumns\u001b[0m\u001b[0;34m:\u001b[0m\u001b[0;34m\u001b[0m\u001b[0m\n\u001b[0m\u001b[1;32m    145\u001b[0m             \u001b[0msummarydf\u001b[0m\u001b[0;34m.\u001b[0m\u001b[0mreset_index\u001b[0m\u001b[0;34m(\u001b[0m\u001b[0minplace\u001b[0m\u001b[0;34m=\u001b[0m\u001b[0mTrue\u001b[0m\u001b[0;34m)\u001b[0m\u001b[0;34m\u001b[0m\u001b[0m\n\u001b[1;32m    146\u001b[0m             \u001b[0;32mif\u001b[0m \u001b[0;34m'obsHistID'\u001b[0m \u001b[0;32mnot\u001b[0m \u001b[0;32min\u001b[0m \u001b[0msummarydf\u001b[0m\u001b[0;34m.\u001b[0m\u001b[0mcolumns\u001b[0m\u001b[0;34m:\u001b[0m\u001b[0;34m\u001b[0m\u001b[0m\n",
      "\u001b[0;32m/usr/local/software/lib/python2.7/site-packages/pandas/core/generic.pyc\u001b[0m in \u001b[0;36m__getattr__\u001b[0;34m(self, name)\u001b[0m\n\u001b[1;32m   2670\u001b[0m             \u001b[0;32mif\u001b[0m \u001b[0mname\u001b[0m \u001b[0;32min\u001b[0m \u001b[0mself\u001b[0m\u001b[0;34m.\u001b[0m\u001b[0m_info_axis\u001b[0m\u001b[0;34m:\u001b[0m\u001b[0;34m\u001b[0m\u001b[0m\n\u001b[1;32m   2671\u001b[0m                 \u001b[0;32mreturn\u001b[0m \u001b[0mself\u001b[0m\u001b[0;34m[\u001b[0m\u001b[0mname\u001b[0m\u001b[0;34m]\u001b[0m\u001b[0;34m\u001b[0m\u001b[0m\n\u001b[0;32m-> 2672\u001b[0;31m             \u001b[0;32mreturn\u001b[0m \u001b[0mobject\u001b[0m\u001b[0;34m.\u001b[0m\u001b[0m__getattribute__\u001b[0m\u001b[0;34m(\u001b[0m\u001b[0mself\u001b[0m\u001b[0;34m,\u001b[0m \u001b[0mname\u001b[0m\u001b[0;34m)\u001b[0m\u001b[0;34m\u001b[0m\u001b[0m\n\u001b[0m\u001b[1;32m   2673\u001b[0m \u001b[0;34m\u001b[0m\u001b[0m\n\u001b[1;32m   2674\u001b[0m     \u001b[0;32mdef\u001b[0m \u001b[0m__setattr__\u001b[0m\u001b[0;34m(\u001b[0m\u001b[0mself\u001b[0m\u001b[0;34m,\u001b[0m \u001b[0mname\u001b[0m\u001b[0;34m,\u001b[0m \u001b[0mvalue\u001b[0m\u001b[0;34m)\u001b[0m\u001b[0;34m:\u001b[0m\u001b[0;34m\u001b[0m\u001b[0m\n",
      "\u001b[0;31mAttributeError\u001b[0m: 'DataFrame' object has no attribute 'colums'"
     ]
    }
   ],
   "source": [
    "opsim_fromhdf = OpSimOutput.fromOpSimHDF('test_hdf.hdf', subset='_all')"
   ]
  },
  {
   "cell_type": "code",
   "execution_count": 12,
   "metadata": {
    "collapsed": false
   },
   "outputs": [],
   "source": [
    "from sqlalchemy import create_engine"
   ]
  },
  {
   "cell_type": "code",
   "execution_count": 13,
   "metadata": {
    "collapsed": true
   },
   "outputs": [],
   "source": [
    "engine = create_engine('sqlite:///'+dbName)"
   ]
  },
  {
   "cell_type": "code",
   "execution_count": 14,
   "metadata": {
    "collapsed": true
   },
   "outputs": [],
   "source": [
    "import pandas as pd"
   ]
  },
  {
   "cell_type": "code",
   "execution_count": 15,
   "metadata": {
    "collapsed": false
   },
   "outputs": [],
   "source": [
    "_ = pd.read_sql_query('SELECT * FROM Summary WHERE propID in (364, 366) LIMIT 5', con=engine)"
   ]
  },
  {
   "cell_type": "code",
   "execution_count": 21,
   "metadata": {
    "collapsed": false
   },
   "outputs": [
    {
     "data": {
      "text/html": [
       "<div>\n",
       "<table border=\"1\" class=\"dataframe\">\n",
       "  <thead>\n",
       "    <tr style=\"text-align: right;\">\n",
       "      <th></th>\n",
       "      <th>obsHistID</th>\n",
       "      <th>sessionID</th>\n",
       "      <th>propID</th>\n",
       "      <th>fieldID</th>\n",
       "      <th>fieldRA</th>\n",
       "      <th>fieldDec</th>\n",
       "      <th>filter</th>\n",
       "      <th>expDate</th>\n",
       "      <th>expMJD</th>\n",
       "      <th>night</th>\n",
       "      <th>...</th>\n",
       "      <th>moonBright</th>\n",
       "      <th>darkBright</th>\n",
       "      <th>rawSeeing</th>\n",
       "      <th>wind</th>\n",
       "      <th>humidity</th>\n",
       "      <th>slewDist</th>\n",
       "      <th>slewTime</th>\n",
       "      <th>fiveSigmaDepth</th>\n",
       "      <th>ditheredRA</th>\n",
       "      <th>ditheredDec</th>\n",
       "    </tr>\n",
       "  </thead>\n",
       "  <tbody>\n",
       "    <tr>\n",
       "      <th>0</th>\n",
       "      <td>171077</td>\n",
       "      <td>1189</td>\n",
       "      <td>364</td>\n",
       "      <td>2123</td>\n",
       "      <td>3.502578</td>\n",
       "      <td>-0.203741</td>\n",
       "      <td>z</td>\n",
       "      <td>18745559</td>\n",
       "      <td>49569.962492</td>\n",
       "      <td>217</td>\n",
       "      <td>...</td>\n",
       "      <td>0.0</td>\n",
       "      <td>90.575602</td>\n",
       "      <td>1.395861</td>\n",
       "      <td>0.0</td>\n",
       "      <td>0.0</td>\n",
       "      <td>2.729285</td>\n",
       "      <td>0.000000</td>\n",
       "      <td>21.402429</td>\n",
       "      <td>3.486983</td>\n",
       "      <td>-0.230192</td>\n",
       "    </tr>\n",
       "    <tr>\n",
       "      <th>1</th>\n",
       "      <td>171078</td>\n",
       "      <td>1189</td>\n",
       "      <td>364</td>\n",
       "      <td>2109</td>\n",
       "      <td>3.556282</td>\n",
       "      <td>-0.208795</td>\n",
       "      <td>z</td>\n",
       "      <td>18745598</td>\n",
       "      <td>49569.962940</td>\n",
       "      <td>217</td>\n",
       "      <td>...</td>\n",
       "      <td>0.0</td>\n",
       "      <td>88.780090</td>\n",
       "      <td>1.395861</td>\n",
       "      <td>0.0</td>\n",
       "      <td>0.0</td>\n",
       "      <td>0.052807</td>\n",
       "      <td>4.701006</td>\n",
       "      <td>21.420436</td>\n",
       "      <td>3.540671</td>\n",
       "      <td>-0.235246</td>\n",
       "    </tr>\n",
       "    <tr>\n",
       "      <th>2</th>\n",
       "      <td>171079</td>\n",
       "      <td>1189</td>\n",
       "      <td>364</td>\n",
       "      <td>2103</td>\n",
       "      <td>3.609762</td>\n",
       "      <td>-0.213110</td>\n",
       "      <td>z</td>\n",
       "      <td>18745636</td>\n",
       "      <td>49569.963388</td>\n",
       "      <td>217</td>\n",
       "      <td>...</td>\n",
       "      <td>0.0</td>\n",
       "      <td>87.241597</td>\n",
       "      <td>1.395861</td>\n",
       "      <td>0.0</td>\n",
       "      <td>0.0</td>\n",
       "      <td>0.052469</td>\n",
       "      <td>4.665852</td>\n",
       "      <td>21.435982</td>\n",
       "      <td>3.594137</td>\n",
       "      <td>-0.239561</td>\n",
       "    </tr>\n",
       "    <tr>\n",
       "      <th>3</th>\n",
       "      <td>171080</td>\n",
       "      <td>1189</td>\n",
       "      <td>364</td>\n",
       "      <td>2082</td>\n",
       "      <td>3.663150</td>\n",
       "      <td>-0.216431</td>\n",
       "      <td>z</td>\n",
       "      <td>18745675</td>\n",
       "      <td>49569.963837</td>\n",
       "      <td>217</td>\n",
       "      <td>...</td>\n",
       "      <td>0.0</td>\n",
       "      <td>85.930303</td>\n",
       "      <td>1.395861</td>\n",
       "      <td>0.0</td>\n",
       "      <td>0.0</td>\n",
       "      <td>0.052268</td>\n",
       "      <td>4.820142</td>\n",
       "      <td>21.449321</td>\n",
       "      <td>3.647513</td>\n",
       "      <td>-0.242882</td>\n",
       "    </tr>\n",
       "    <tr>\n",
       "      <th>4</th>\n",
       "      <td>171081</td>\n",
       "      <td>1189</td>\n",
       "      <td>364</td>\n",
       "      <td>1947</td>\n",
       "      <td>3.690123</td>\n",
       "      <td>-0.263957</td>\n",
       "      <td>z</td>\n",
       "      <td>18745714</td>\n",
       "      <td>49569.964286</td>\n",
       "      <td>217</td>\n",
       "      <td>...</td>\n",
       "      <td>0.0</td>\n",
       "      <td>84.412797</td>\n",
       "      <td>1.395861</td>\n",
       "      <td>0.0</td>\n",
       "      <td>0.0</td>\n",
       "      <td>0.054263</td>\n",
       "      <td>4.841302</td>\n",
       "      <td>21.464869</td>\n",
       "      <td>3.674303</td>\n",
       "      <td>-0.290408</td>\n",
       "    </tr>\n",
       "  </tbody>\n",
       "</table>\n",
       "<p>5 rows × 45 columns</p>\n",
       "</div>"
      ],
      "text/plain": [
       "   obsHistID  sessionID  propID  fieldID   fieldRA  fieldDec filter   expDate  \\\n",
       "0     171077       1189     364     2123  3.502578 -0.203741      z  18745559   \n",
       "1     171078       1189     364     2109  3.556282 -0.208795      z  18745598   \n",
       "2     171079       1189     364     2103  3.609762 -0.213110      z  18745636   \n",
       "3     171080       1189     364     2082  3.663150 -0.216431      z  18745675   \n",
       "4     171081       1189     364     1947  3.690123 -0.263957      z  18745714   \n",
       "\n",
       "         expMJD  night     ...       moonBright  darkBright  rawSeeing  wind  \\\n",
       "0  49569.962492    217     ...              0.0   90.575602   1.395861   0.0   \n",
       "1  49569.962940    217     ...              0.0   88.780090   1.395861   0.0   \n",
       "2  49569.963388    217     ...              0.0   87.241597   1.395861   0.0   \n",
       "3  49569.963837    217     ...              0.0   85.930303   1.395861   0.0   \n",
       "4  49569.964286    217     ...              0.0   84.412797   1.395861   0.0   \n",
       "\n",
       "   humidity  slewDist  slewTime  fiveSigmaDepth  ditheredRA  ditheredDec  \n",
       "0       0.0  2.729285  0.000000       21.402429    3.486983    -0.230192  \n",
       "1       0.0  0.052807  4.701006       21.420436    3.540671    -0.235246  \n",
       "2       0.0  0.052469  4.665852       21.435982    3.594137    -0.239561  \n",
       "3       0.0  0.052268  4.820142       21.449321    3.647513    -0.242882  \n",
       "4       0.0  0.054263  4.841302       21.464869    3.674303    -0.290408  \n",
       "\n",
       "[5 rows x 45 columns]"
      ]
     },
     "execution_count": 21,
     "metadata": {},
     "output_type": "execute_result"
    }
   ],
   "source": [
    "_"
   ]
  },
  {
   "cell_type": "code",
   "execution_count": 22,
   "metadata": {
    "collapsed": true
   },
   "outputs": [],
   "source": [
    "pids = [364, 366]"
   ]
  },
  {
   "cell_type": "code",
   "execution_count": 23,
   "metadata": {
    "collapsed": false
   },
   "outputs": [],
   "source": [
    "x = ', '.join(list(str(pid) for pid in pids))"
   ]
  },
  {
   "cell_type": "code",
   "execution_count": 24,
   "metadata": {
    "collapsed": false
   },
   "outputs": [
    {
     "data": {
      "text/plain": [
       "'SELECT * FROM Summary WHERE propID == (364, 366)'"
      ]
     },
     "execution_count": 24,
     "metadata": {},
     "output_type": "execute_result"
    }
   ],
   "source": [
    "'SELECT * FROM Summary WHERE propID == ({})'.format(x)"
   ]
  },
  {
   "cell_type": "code",
   "execution_count": 25,
   "metadata": {
    "collapsed": false
   },
   "outputs": [
    {
     "name": "stdout",
     "output_type": "stream",
     "text": [
      " reading from database sqlite:////Users/rbiswas/.local/lib/python2.7/site-packages/opsimsummary/example_data/enigma_1189_micro.db\n",
      "SELECT * FROM Summary WHERE PROPID in (366, 364)\n"
     ]
    }
   ],
   "source": [
    "opout_comb = oss.OpSimOutput.fromOpSimDB(dbname=dbName, subset='combined')"
   ]
  },
  {
   "cell_type": "code",
   "execution_count": 38,
   "metadata": {
    "collapsed": false
   },
   "outputs": [
    {
     "data": {
      "text/plain": [
       "array([364, 366])"
      ]
     },
     "execution_count": 38,
     "metadata": {},
     "output_type": "execute_result"
    }
   ],
   "source": [
    "opout_comb.summary.propID.unique()"
   ]
  },
  {
   "cell_type": "code",
   "execution_count": 26,
   "metadata": {
    "collapsed": true
   },
   "outputs": [],
   "source": [
    "import pandas as pd"
   ]
  },
  {
   "cell_type": "code",
   "execution_count": 27,
   "metadata": {
    "collapsed": false
   },
   "outputs": [],
   "source": [
    "summarydf = pd.read_hdf('/tmp/opsim_small.hdf', key='Summary')"
   ]
  },
  {
   "cell_type": "code",
   "execution_count": 28,
   "metadata": {
    "collapsed": false
   },
   "outputs": [],
   "source": [
    "from  pandas.util.testing import assert_frame_equal"
   ]
  },
  {
   "cell_type": "code",
   "execution_count": 29,
   "metadata": {
    "collapsed": true
   },
   "outputs": [],
   "source": [
    "assert_frame_equal(summarydf, opout.summary)"
   ]
  },
  {
   "cell_type": "code",
   "execution_count": 30,
   "metadata": {
    "collapsed": true
   },
   "outputs": [],
   "source": [
    "engine = create_engine('sqlite:///' + dbName)"
   ]
  },
  {
   "cell_type": "code",
   "execution_count": 31,
   "metadata": {
    "collapsed": true
   },
   "outputs": [],
   "source": [
    "import pandas as pd"
   ]
  },
  {
   "cell_type": "code",
   "execution_count": 32,
   "metadata": {
    "collapsed": false
   },
   "outputs": [],
   "source": [
    "pids = tuple([366])"
   ]
  },
  {
   "cell_type": "code",
   "execution_count": 33,
   "metadata": {
    "collapsed": false
   },
   "outputs": [],
   "source": [
    "pids = [366, 364]"
   ]
  },
  {
   "cell_type": "code",
   "execution_count": 34,
   "metadata": {
    "collapsed": false
   },
   "outputs": [
    {
     "data": {
      "text/plain": [
       "'366, 364'"
      ]
     },
     "execution_count": 34,
     "metadata": {},
     "output_type": "execute_result"
    }
   ],
   "source": [
    "', '.join('{}'.format(x) for x in pids)"
   ]
  },
  {
   "cell_type": "code",
   "execution_count": 35,
   "metadata": {
    "collapsed": false
   },
   "outputs": [],
   "source": [
    "pids = [344, 366]"
   ]
  },
  {
   "cell_type": "code",
   "execution_count": 36,
   "metadata": {
    "collapsed": true
   },
   "outputs": [],
   "source": [
    "sql_query = \"SELECT * FROM Summary WHERE PROPID == \""
   ]
  },
  {
   "cell_type": "code",
   "execution_count": 37,
   "metadata": {
    "collapsed": false
   },
   "outputs": [
    {
     "ename": "SyntaxError",
     "evalue": "invalid syntax (<ipython-input-37-de1fa48c5cd4>, line 1)",
     "output_type": "error",
     "traceback": [
      "\u001b[0;36m  File \u001b[0;32m\"<ipython-input-37-de1fa48c5cd4>\"\u001b[0;36m, line \u001b[0;32m1\u001b[0m\n\u001b[0;31m    sql_query += \"({})\".format(pid) for pid in pids\u001b[0m\n\u001b[0m                                      ^\u001b[0m\n\u001b[0;31mSyntaxError\u001b[0m\u001b[0;31m:\u001b[0m invalid syntax\n"
     ]
    }
   ],
   "source": [
    "sql_query += \"({})\".format(pid) for pid in pids"
   ]
  },
  {
   "cell_type": "code",
   "execution_count": null,
   "metadata": {
    "collapsed": false
   },
   "outputs": [],
   "source": [
    "sql_query += \", \".join(list(\"({})\".format(pid) for pid in pids))"
   ]
  },
  {
   "cell_type": "code",
   "execution_count": null,
   "metadata": {
    "collapsed": false
   },
   "outputs": [],
   "source": [
    "sql_query"
   ]
  },
  {
   "cell_type": "code",
   "execution_count": null,
   "metadata": {
    "collapsed": false
   },
   "outputs": [],
   "source": [
    "pids"
   ]
  },
  {
   "cell_type": "code",
   "execution_count": null,
   "metadata": {
    "collapsed": false
   },
   "outputs": [],
   "source": [
    "df = pd.read_sql_query(sql_query, con=engine)"
   ]
  },
  {
   "cell_type": "code",
   "execution_count": null,
   "metadata": {
    "collapsed": false
   },
   "outputs": [],
   "source": [
    "df = pd.read_sql_query(\"SELECT * FROM Summary WHERE PROPID in (362, 366)\", con=engine)"
   ]
  },
  {
   "cell_type": "code",
   "execution_count": null,
   "metadata": {
    "collapsed": false
   },
   "outputs": [],
   "source": [
    "df.head()"
   ]
  },
  {
   "cell_type": "code",
   "execution_count": null,
   "metadata": {
    "collapsed": false
   },
   "outputs": [],
   "source": [
    "pids = [366]"
   ]
  },
  {
   "cell_type": "code",
   "execution_count": null,
   "metadata": {
    "collapsed": false
   },
   "outputs": [],
   "source": [
    "df.query('propID == @pids')"
   ]
  },
  {
   "cell_type": "code",
   "execution_count": null,
   "metadata": {
    "collapsed": false
   },
   "outputs": [],
   "source": [
    "df.propID.unique()"
   ]
  },
  {
   "cell_type": "code",
   "execution_count": null,
   "metadata": {
    "collapsed": false
   },
   "outputs": [],
   "source": [
    "df = oss.OpSimOutput.fromOpSimDB(dbName, subset='ddf')"
   ]
  },
  {
   "cell_type": "code",
   "execution_count": null,
   "metadata": {
    "collapsed": true
   },
   "outputs": [],
   "source": []
  },
  {
   "cell_type": "code",
   "execution_count": null,
   "metadata": {
    "collapsed": false
   },
   "outputs": [],
   "source": [
    "df.summary.head()"
   ]
  },
  {
   "cell_type": "code",
   "execution_count": null,
   "metadata": {
    "collapsed": false
   },
   "outputs": [],
   "source": [
    "pids = df.propIDVals('wfd', df.propIDDict, df.proposalTable)"
   ]
  },
  {
   "cell_type": "code",
   "execution_count": null,
   "metadata": {
    "collapsed": false
   },
   "outputs": [],
   "source": [
    "df.summary.query('propID == {}'.format(pids)).propID.unique()"
   ]
  },
  {
   "cell_type": "code",
   "execution_count": null,
   "metadata": {
    "collapsed": true
   },
   "outputs": [],
   "source": [
    "import sqlite3"
   ]
  },
  {
   "cell_type": "code",
   "execution_count": null,
   "metadata": {
    "collapsed": false
   },
   "outputs": [],
   "source": [
    "engine"
   ]
  },
  {
   "cell_type": "code",
   "execution_count": null,
   "metadata": {
    "collapsed": false
   },
   "outputs": [],
   "source": [
    "alldf = oss.summarize_opsim.OpSimOutput.fromOpSimDB(dbName, subset='_all')"
   ]
  },
  {
   "cell_type": "code",
   "execution_count": null,
   "metadata": {
    "collapsed": false
   },
   "outputs": [],
   "source": [
    "len(alldf.summary.drop_duplicates()) "
   ]
  },
  {
   "cell_type": "code",
   "execution_count": null,
   "metadata": {
    "collapsed": false
   },
   "outputs": [],
   "source": [
    "len(alldf.summary.reset_index().drop_duplicates(subset='obsHistID'))== len(alldf.summary)"
   ]
  },
  {
   "cell_type": "code",
   "execution_count": null,
   "metadata": {
    "collapsed": false
   },
   "outputs": [],
   "source": [
    "len(alldf.summary)"
   ]
  },
  {
   "cell_type": "code",
   "execution_count": null,
   "metadata": {
    "collapsed": false
   },
   "outputs": [],
   "source": [
    "unique_alldf = oss.summarize_opsim.OpSimOutput.fromOpSimDB(dbName, subset='unique_all')"
   ]
  },
  {
   "cell_type": "code",
   "execution_count": null,
   "metadata": {
    "collapsed": false
   },
   "outputs": [],
   "source": [
    "len(unique_alldf.summary)"
   ]
  },
  {
   "cell_type": "code",
   "execution_count": null,
   "metadata": {
    "collapsed": false
   },
   "outputs": [],
   "source": [
    "unique_alldf.summary.query('propID == [364, 366]').propID.unique()"
   ]
  },
  {
   "cell_type": "code",
   "execution_count": null,
   "metadata": {
    "collapsed": true
   },
   "outputs": [],
   "source": [
    "def myfunc(*args):\n",
    "    if len\n",
    "    return args[0]**2"
   ]
  },
  {
   "cell_type": "code",
   "execution_count": null,
   "metadata": {
    "collapsed": false
   },
   "outputs": [],
   "source": [
    "myfunc(2)"
   ]
  },
  {
   "cell_type": "code",
   "execution_count": null,
   "metadata": {
    "collapsed": true
   },
   "outputs": [],
   "source": [
    "alldf."
   ]
  },
  {
   "cell_type": "code",
   "execution_count": null,
   "metadata": {
    "collapsed": false
   },
   "outputs": [],
   "source": [
    "alldf.propIDDict"
   ]
  },
  {
   "cell_type": "code",
   "execution_count": null,
   "metadata": {
    "collapsed": false
   },
   "outputs": [],
   "source": [
    "alldf.summary.head()"
   ]
  },
  {
   "cell_type": "code",
   "execution_count": null,
   "metadata": {
    "collapsed": true
   },
   "outputs": [],
   "source": []
  }
 ],
 "metadata": {
  "kernelspec": {
   "display_name": "Python 2",
   "language": "python",
   "name": "python2"
  },
  "language_info": {
   "codemirror_mode": {
    "name": "ipython",
    "version": 2
   },
   "file_extension": ".py",
   "mimetype": "text/x-python",
   "name": "python",
   "nbconvert_exporter": "python",
   "pygments_lexer": "ipython2",
   "version": "2.7.11"
  }
 },
 "nbformat": 4,
 "nbformat_minor": 0
}
