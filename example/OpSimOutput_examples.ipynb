{
 "cells": [
  {
   "cell_type": "code",
   "execution_count": 1,
   "metadata": {
    "collapsed": false
   },
   "outputs": [],
   "source": [
    "import opsimsummary as oss"
   ]
  },
  {
   "cell_type": "code",
   "execution_count": 2,
   "metadata": {
    "collapsed": true
   },
   "outputs": [],
   "source": [
    "import os"
   ]
  },
  {
   "cell_type": "code",
   "execution_count": 3,
   "metadata": {
    "collapsed": false
   },
   "outputs": [],
   "source": [
    "example_dir = os.path.join(oss.__path__[0], 'example_data')"
   ]
  },
  {
   "cell_type": "code",
   "execution_count": 4,
   "metadata": {
    "collapsed": true
   },
   "outputs": [],
   "source": [
    "dbName = os.path.join(example_dir, 'enigma_1189_micro.db')"
   ]
  },
  {
   "cell_type": "code",
   "execution_count": 5,
   "metadata": {
    "collapsed": true
   },
   "outputs": [],
   "source": [
    "hdfName = os.path.join(example_dir, 'enigma_1189_micro.hdf')"
   ]
  },
  {
   "cell_type": "code",
   "execution_count": 6,
   "metadata": {
    "collapsed": false
   },
   "outputs": [],
   "source": [
    "from sqlalchemy import create_engine as create_engine"
   ]
  },
  {
   "cell_type": "code",
   "execution_count": 7,
   "metadata": {
    "collapsed": true
   },
   "outputs": [],
   "source": [
    "from opsimsummary import OpSimOutput"
   ]
  },
  {
   "cell_type": "markdown",
   "metadata": {},
   "source": [
    "# From the OpSim Output (sqlite database)"
   ]
  },
  {
   "cell_type": "code",
   "execution_count": 8,
   "metadata": {
    "collapsed": false
   },
   "outputs": [
    {
     "name": "stdout",
     "output_type": "stream",
     "text": [
      "read in proposal\n",
      "read in proposal\n",
      "combined {'ddf': 366, u'../conf/survey/galacticplaneprop.conf': 362, u'../conf/survey/northeclipticspur-18c.conf': 365, 'wfd': 364, u'../conf/survey/southcelestialpole-18.conf': 363}\n",
      "propIDs [366, 364] <type 'list'> <type 'numpy.int64'>\n",
      "summarydf cols Index([        u'obsHistID',         u'sessionID',            u'propID',\n",
      "                 u'fieldID',           u'fieldRA',          u'fieldDec',\n",
      "                  u'filter',           u'expDate',            u'expMJD',\n",
      "                   u'night',         u'visitTime',      u'visitExpTime',\n",
      "                 u'finRank',         u'finSeeing',      u'transparency',\n",
      "                 u'airmass',        u'vSkyBright', u'filtSkyBrightness',\n",
      "               u'rotSkyPos',               u'lst',          u'altitude',\n",
      "                 u'azimuth',         u'dist2Moon',        u'solarElong',\n",
      "                  u'moonRA',           u'moonDec',           u'moonAlt',\n",
      "                  u'moonAZ',         u'moonPhase',            u'sunAlt',\n",
      "                   u'sunAz',        u'phaseAngle',          u'rScatter',\n",
      "              u'mieScatter',         u'moonIllum',        u'moonBright',\n",
      "              u'darkBright',         u'rawSeeing',              u'wind',\n",
      "                u'humidity',          u'slewDist',          u'slewTime',\n",
      "          u'fiveSigmaDepth',        u'ditheredRA',       u'ditheredDec'],\n",
      "      dtype='object')\n",
      "squery_str propID == @propIDs\n",
      " Num entries  76888\n"
     ]
    }
   ],
   "source": [
    "opout_hdf = OpSimOutput.fromOpSimHDF(hdfName=hdfName, subset='Combined')"
   ]
  },
  {
   "cell_type": "code",
   "execution_count": 7,
   "metadata": {
    "collapsed": false
   },
   "outputs": [
    {
     "name": "stdout",
     "output_type": "stream",
     "text": [
      " reading from database sqlite:////Users/rbiswas/.local/lib/python2.7/site-packages/opsimsummary/example_data/enigma_1189_micro.db\n"
     ]
    }
   ],
   "source": [
    "opout = OpSimOutput.fromOpSimDB(dbname=dbName, subset='_all')"
   ]
  },
  {
   "cell_type": "code",
   "execution_count": 8,
   "metadata": {
    "collapsed": false
   },
   "outputs": [
    {
     "data": {
      "text/html": [
       "<div>\n",
       "<table border=\"1\" class=\"dataframe\">\n",
       "  <thead>\n",
       "    <tr style=\"text-align: right;\">\n",
       "      <th></th>\n",
       "      <th>propID</th>\n",
       "      <th>propConf</th>\n",
       "      <th>propName</th>\n",
       "      <th>objectID</th>\n",
       "      <th>objectHost</th>\n",
       "      <th>Session_sessionID</th>\n",
       "    </tr>\n",
       "  </thead>\n",
       "  <tbody>\n",
       "    <tr>\n",
       "      <th>0</th>\n",
       "      <td>362</td>\n",
       "      <td>../conf/survey/GalacticPlaneProp.conf</td>\n",
       "      <td>WL</td>\n",
       "      <td>27692624</td>\n",
       "      <td>enigma</td>\n",
       "      <td>1189</td>\n",
       "    </tr>\n",
       "    <tr>\n",
       "      <th>1</th>\n",
       "      <td>363</td>\n",
       "      <td>../conf/survey/SouthCelestialPole-18.conf</td>\n",
       "      <td>WL</td>\n",
       "      <td>27692368</td>\n",
       "      <td>enigma</td>\n",
       "      <td>1189</td>\n",
       "    </tr>\n",
       "    <tr>\n",
       "      <th>2</th>\n",
       "      <td>364</td>\n",
       "      <td>../conf/survey/Universal-18-0824B.conf</td>\n",
       "      <td>WLTSS</td>\n",
       "      <td>27692112</td>\n",
       "      <td>enigma</td>\n",
       "      <td>1189</td>\n",
       "    </tr>\n",
       "    <tr>\n",
       "      <th>3</th>\n",
       "      <td>365</td>\n",
       "      <td>../conf/survey/NorthEclipticSpur-18c.conf</td>\n",
       "      <td>WLTSS</td>\n",
       "      <td>27692240</td>\n",
       "      <td>enigma</td>\n",
       "      <td>1189</td>\n",
       "    </tr>\n",
       "    <tr>\n",
       "      <th>4</th>\n",
       "      <td>366</td>\n",
       "      <td>../conf/survey/DDcosmology1.conf</td>\n",
       "      <td>WLTSS</td>\n",
       "      <td>29065424</td>\n",
       "      <td>enigma</td>\n",
       "      <td>1189</td>\n",
       "    </tr>\n",
       "  </tbody>\n",
       "</table>\n",
       "</div>"
      ],
      "text/plain": [
       "   propID                                   propConf propName  objectID  \\\n",
       "0     362      ../conf/survey/GalacticPlaneProp.conf       WL  27692624   \n",
       "1     363  ../conf/survey/SouthCelestialPole-18.conf       WL  27692368   \n",
       "2     364     ../conf/survey/Universal-18-0824B.conf    WLTSS  27692112   \n",
       "3     365  ../conf/survey/NorthEclipticSpur-18c.conf    WLTSS  27692240   \n",
       "4     366           ../conf/survey/DDcosmology1.conf    WLTSS  29065424   \n",
       "\n",
       "  objectHost  Session_sessionID  \n",
       "0     enigma               1189  \n",
       "1     enigma               1189  \n",
       "2     enigma               1189  \n",
       "3     enigma               1189  \n",
       "4     enigma               1189  "
      ]
     },
     "execution_count": 8,
     "metadata": {},
     "output_type": "execute_result"
    }
   ],
   "source": [
    "opout.proposalTable"
   ]
  },
  {
   "cell_type": "code",
   "execution_count": 9,
   "metadata": {
    "collapsed": false
   },
   "outputs": [
    {
     "data": {
      "text/plain": [
       "{u'../conf/survey/galacticplaneprop.conf': 362,\n",
       " u'../conf/survey/northeclipticspur-18c.conf': 365,\n",
       " u'../conf/survey/southcelestialpole-18.conf': 363,\n",
       " 'ddf': 366,\n",
       " 'wfd': 364}"
      ]
     },
     "execution_count": 9,
     "metadata": {},
     "output_type": "execute_result"
    }
   ],
   "source": [
    "opout.propIDDict"
   ]
  },
  {
   "cell_type": "code",
   "execution_count": 10,
   "metadata": {
    "collapsed": false
   },
   "outputs": [
    {
     "data": {
      "text/plain": [
       "array([364, 366])"
      ]
     },
     "execution_count": 10,
     "metadata": {},
     "output_type": "execute_result"
    }
   ],
   "source": [
    "opout.summary.propID.unique()"
   ]
  },
  {
   "cell_type": "code",
   "execution_count": 11,
   "metadata": {
    "collapsed": false
   },
   "outputs": [
    {
     "data": {
      "text/plain": [
       "[366, 364]"
      ]
     },
     "execution_count": 11,
     "metadata": {},
     "output_type": "execute_result"
    }
   ],
   "source": [
    "opout.propIDVals('combined', opout.propIDDict, opout.proposalTable)"
   ]
  },
  {
   "cell_type": "code",
   "execution_count": 12,
   "metadata": {
    "collapsed": false
   },
   "outputs": [
    {
     "data": {
      "text/plain": [
       "array([362, 363, 364, 365, 366])"
      ]
     },
     "execution_count": 12,
     "metadata": {},
     "output_type": "execute_result"
    }
   ],
   "source": [
    "opout.propIds"
   ]
  },
  {
   "cell_type": "code",
   "execution_count": 13,
   "metadata": {
    "collapsed": false
   },
   "outputs": [
    {
     "data": {
      "text/plain": [
       "'_all'"
      ]
     },
     "execution_count": 13,
     "metadata": {},
     "output_type": "execute_result"
    }
   ],
   "source": [
    "opout.subset"
   ]
  },
  {
   "cell_type": "code",
   "execution_count": 14,
   "metadata": {
    "collapsed": false
   },
   "outputs": [
    {
     "data": {
      "text/html": [
       "<div>\n",
       "<table border=\"1\" class=\"dataframe\">\n",
       "  <thead>\n",
       "    <tr style=\"text-align: right;\">\n",
       "      <th></th>\n",
       "      <th>sessionID</th>\n",
       "      <th>propID</th>\n",
       "      <th>fieldID</th>\n",
       "      <th>fieldRA</th>\n",
       "      <th>fieldDec</th>\n",
       "      <th>filter</th>\n",
       "      <th>expDate</th>\n",
       "      <th>expMJD</th>\n",
       "      <th>night</th>\n",
       "      <th>visitTime</th>\n",
       "      <th>...</th>\n",
       "      <th>moonBright</th>\n",
       "      <th>darkBright</th>\n",
       "      <th>rawSeeing</th>\n",
       "      <th>wind</th>\n",
       "      <th>humidity</th>\n",
       "      <th>slewDist</th>\n",
       "      <th>slewTime</th>\n",
       "      <th>fiveSigmaDepth</th>\n",
       "      <th>ditheredRA</th>\n",
       "      <th>ditheredDec</th>\n",
       "    </tr>\n",
       "    <tr>\n",
       "      <th>obsHistID</th>\n",
       "      <th></th>\n",
       "      <th></th>\n",
       "      <th></th>\n",
       "      <th></th>\n",
       "      <th></th>\n",
       "      <th></th>\n",
       "      <th></th>\n",
       "      <th></th>\n",
       "      <th></th>\n",
       "      <th></th>\n",
       "      <th></th>\n",
       "      <th></th>\n",
       "      <th></th>\n",
       "      <th></th>\n",
       "      <th></th>\n",
       "      <th></th>\n",
       "      <th></th>\n",
       "      <th></th>\n",
       "      <th></th>\n",
       "      <th></th>\n",
       "      <th></th>\n",
       "    </tr>\n",
       "  </thead>\n",
       "  <tbody>\n",
       "    <tr>\n",
       "      <th>171077</th>\n",
       "      <td>1189</td>\n",
       "      <td>364</td>\n",
       "      <td>2123</td>\n",
       "      <td>3.502578</td>\n",
       "      <td>-0.203741</td>\n",
       "      <td>z</td>\n",
       "      <td>18745559</td>\n",
       "      <td>49569.962492</td>\n",
       "      <td>217</td>\n",
       "      <td>34.0</td>\n",
       "      <td>...</td>\n",
       "      <td>0.0</td>\n",
       "      <td>90.575602</td>\n",
       "      <td>1.395861</td>\n",
       "      <td>0.0</td>\n",
       "      <td>0.0</td>\n",
       "      <td>2.729285</td>\n",
       "      <td>0.000000</td>\n",
       "      <td>21.402429</td>\n",
       "      <td>3.486983</td>\n",
       "      <td>-0.230192</td>\n",
       "    </tr>\n",
       "    <tr>\n",
       "      <th>171078</th>\n",
       "      <td>1189</td>\n",
       "      <td>364</td>\n",
       "      <td>2109</td>\n",
       "      <td>3.556282</td>\n",
       "      <td>-0.208795</td>\n",
       "      <td>z</td>\n",
       "      <td>18745598</td>\n",
       "      <td>49569.962940</td>\n",
       "      <td>217</td>\n",
       "      <td>34.0</td>\n",
       "      <td>...</td>\n",
       "      <td>0.0</td>\n",
       "      <td>88.780090</td>\n",
       "      <td>1.395861</td>\n",
       "      <td>0.0</td>\n",
       "      <td>0.0</td>\n",
       "      <td>0.052807</td>\n",
       "      <td>4.701006</td>\n",
       "      <td>21.420436</td>\n",
       "      <td>3.540671</td>\n",
       "      <td>-0.235246</td>\n",
       "    </tr>\n",
       "    <tr>\n",
       "      <th>171079</th>\n",
       "      <td>1189</td>\n",
       "      <td>364</td>\n",
       "      <td>2103</td>\n",
       "      <td>3.609762</td>\n",
       "      <td>-0.213110</td>\n",
       "      <td>z</td>\n",
       "      <td>18745636</td>\n",
       "      <td>49569.963388</td>\n",
       "      <td>217</td>\n",
       "      <td>34.0</td>\n",
       "      <td>...</td>\n",
       "      <td>0.0</td>\n",
       "      <td>87.241597</td>\n",
       "      <td>1.395861</td>\n",
       "      <td>0.0</td>\n",
       "      <td>0.0</td>\n",
       "      <td>0.052469</td>\n",
       "      <td>4.665852</td>\n",
       "      <td>21.435982</td>\n",
       "      <td>3.594137</td>\n",
       "      <td>-0.239561</td>\n",
       "    </tr>\n",
       "    <tr>\n",
       "      <th>171080</th>\n",
       "      <td>1189</td>\n",
       "      <td>364</td>\n",
       "      <td>2082</td>\n",
       "      <td>3.663150</td>\n",
       "      <td>-0.216431</td>\n",
       "      <td>z</td>\n",
       "      <td>18745675</td>\n",
       "      <td>49569.963837</td>\n",
       "      <td>217</td>\n",
       "      <td>34.0</td>\n",
       "      <td>...</td>\n",
       "      <td>0.0</td>\n",
       "      <td>85.930303</td>\n",
       "      <td>1.395861</td>\n",
       "      <td>0.0</td>\n",
       "      <td>0.0</td>\n",
       "      <td>0.052268</td>\n",
       "      <td>4.820142</td>\n",
       "      <td>21.449321</td>\n",
       "      <td>3.647513</td>\n",
       "      <td>-0.242882</td>\n",
       "    </tr>\n",
       "    <tr>\n",
       "      <th>171081</th>\n",
       "      <td>1189</td>\n",
       "      <td>364</td>\n",
       "      <td>1947</td>\n",
       "      <td>3.690123</td>\n",
       "      <td>-0.263957</td>\n",
       "      <td>z</td>\n",
       "      <td>18745714</td>\n",
       "      <td>49569.964286</td>\n",
       "      <td>217</td>\n",
       "      <td>34.0</td>\n",
       "      <td>...</td>\n",
       "      <td>0.0</td>\n",
       "      <td>84.412797</td>\n",
       "      <td>1.395861</td>\n",
       "      <td>0.0</td>\n",
       "      <td>0.0</td>\n",
       "      <td>0.054263</td>\n",
       "      <td>4.841302</td>\n",
       "      <td>21.464869</td>\n",
       "      <td>3.674303</td>\n",
       "      <td>-0.290408</td>\n",
       "    </tr>\n",
       "  </tbody>\n",
       "</table>\n",
       "<p>5 rows × 44 columns</p>\n",
       "</div>"
      ],
      "text/plain": [
       "           sessionID  propID  fieldID   fieldRA  fieldDec filter   expDate  \\\n",
       "obsHistID                                                                    \n",
       "171077          1189     364     2123  3.502578 -0.203741      z  18745559   \n",
       "171078          1189     364     2109  3.556282 -0.208795      z  18745598   \n",
       "171079          1189     364     2103  3.609762 -0.213110      z  18745636   \n",
       "171080          1189     364     2082  3.663150 -0.216431      z  18745675   \n",
       "171081          1189     364     1947  3.690123 -0.263957      z  18745714   \n",
       "\n",
       "                 expMJD  night  visitTime     ...       moonBright  \\\n",
       "obsHistID                                     ...                    \n",
       "171077     49569.962492    217       34.0     ...              0.0   \n",
       "171078     49569.962940    217       34.0     ...              0.0   \n",
       "171079     49569.963388    217       34.0     ...              0.0   \n",
       "171080     49569.963837    217       34.0     ...              0.0   \n",
       "171081     49569.964286    217       34.0     ...              0.0   \n",
       "\n",
       "           darkBright  rawSeeing  wind  humidity  slewDist  slewTime  \\\n",
       "obsHistID                                                              \n",
       "171077      90.575602   1.395861   0.0       0.0  2.729285  0.000000   \n",
       "171078      88.780090   1.395861   0.0       0.0  0.052807  4.701006   \n",
       "171079      87.241597   1.395861   0.0       0.0  0.052469  4.665852   \n",
       "171080      85.930303   1.395861   0.0       0.0  0.052268  4.820142   \n",
       "171081      84.412797   1.395861   0.0       0.0  0.054263  4.841302   \n",
       "\n",
       "           fiveSigmaDepth  ditheredRA  ditheredDec  \n",
       "obsHistID                                           \n",
       "171077          21.402429    3.486983    -0.230192  \n",
       "171078          21.420436    3.540671    -0.235246  \n",
       "171079          21.435982    3.594137    -0.239561  \n",
       "171080          21.449321    3.647513    -0.242882  \n",
       "171081          21.464869    3.674303    -0.290408  \n",
       "\n",
       "[5 rows x 44 columns]"
      ]
     },
     "execution_count": 14,
     "metadata": {},
     "output_type": "execute_result"
    }
   ],
   "source": [
    "opout.summary.head()"
   ]
  },
  {
   "cell_type": "code",
   "execution_count": 15,
   "metadata": {
    "collapsed": false
   },
   "outputs": [
    {
     "data": {
      "text/html": [
       "<div>\n",
       "<table border=\"1\" class=\"dataframe\">\n",
       "  <thead>\n",
       "    <tr style=\"text-align: right;\">\n",
       "      <th></th>\n",
       "      <th>fieldID</th>\n",
       "      <th>fieldRA</th>\n",
       "      <th>fieldDec</th>\n",
       "      <th>filter</th>\n",
       "      <th>expMJD</th>\n",
       "      <th>ditheredRA</th>\n",
       "      <th>ditheredDec</th>\n",
       "    </tr>\n",
       "    <tr>\n",
       "      <th>obsHistID</th>\n",
       "      <th></th>\n",
       "      <th></th>\n",
       "      <th></th>\n",
       "      <th></th>\n",
       "      <th></th>\n",
       "      <th></th>\n",
       "      <th></th>\n",
       "    </tr>\n",
       "  </thead>\n",
       "  <tbody>\n",
       "    <tr>\n",
       "      <th>171077</th>\n",
       "      <td>2123</td>\n",
       "      <td>3.502578</td>\n",
       "      <td>-0.203741</td>\n",
       "      <td>z</td>\n",
       "      <td>49569.962492</td>\n",
       "      <td>3.486983</td>\n",
       "      <td>-0.230192</td>\n",
       "    </tr>\n",
       "    <tr>\n",
       "      <th>171078</th>\n",
       "      <td>2109</td>\n",
       "      <td>3.556282</td>\n",
       "      <td>-0.208795</td>\n",
       "      <td>z</td>\n",
       "      <td>49569.962940</td>\n",
       "      <td>3.540671</td>\n",
       "      <td>-0.235246</td>\n",
       "    </tr>\n",
       "    <tr>\n",
       "      <th>171079</th>\n",
       "      <td>2103</td>\n",
       "      <td>3.609762</td>\n",
       "      <td>-0.213110</td>\n",
       "      <td>z</td>\n",
       "      <td>49569.963388</td>\n",
       "      <td>3.594137</td>\n",
       "      <td>-0.239561</td>\n",
       "    </tr>\n",
       "    <tr>\n",
       "      <th>171080</th>\n",
       "      <td>2082</td>\n",
       "      <td>3.663150</td>\n",
       "      <td>-0.216431</td>\n",
       "      <td>z</td>\n",
       "      <td>49569.963837</td>\n",
       "      <td>3.647513</td>\n",
       "      <td>-0.242882</td>\n",
       "    </tr>\n",
       "    <tr>\n",
       "      <th>171081</th>\n",
       "      <td>1947</td>\n",
       "      <td>3.690123</td>\n",
       "      <td>-0.263957</td>\n",
       "      <td>z</td>\n",
       "      <td>49569.964286</td>\n",
       "      <td>3.674303</td>\n",
       "      <td>-0.290408</td>\n",
       "    </tr>\n",
       "    <tr>\n",
       "      <th>171082</th>\n",
       "      <td>1822</td>\n",
       "      <td>3.716717</td>\n",
       "      <td>-0.311837</td>\n",
       "      <td>z</td>\n",
       "      <td>49569.964736</td>\n",
       "      <td>3.700671</td>\n",
       "      <td>-0.338288</td>\n",
       "    </tr>\n",
       "    <tr>\n",
       "      <th>171083</th>\n",
       "      <td>1697</td>\n",
       "      <td>3.743185</td>\n",
       "      <td>-0.359940</td>\n",
       "      <td>z</td>\n",
       "      <td>49569.965185</td>\n",
       "      <td>3.726867</td>\n",
       "      <td>-0.386391</td>\n",
       "    </tr>\n",
       "    <tr>\n",
       "      <th>171084</th>\n",
       "      <td>1709</td>\n",
       "      <td>3.689779</td>\n",
       "      <td>-0.358409</td>\n",
       "      <td>z</td>\n",
       "      <td>49569.965636</td>\n",
       "      <td>3.673471</td>\n",
       "      <td>-0.384860</td>\n",
       "    </tr>\n",
       "    <tr>\n",
       "      <th>171085</th>\n",
       "      <td>1731</td>\n",
       "      <td>3.636496</td>\n",
       "      <td>-0.355408</td>\n",
       "      <td>z</td>\n",
       "      <td>49569.966084</td>\n",
       "      <td>3.620206</td>\n",
       "      <td>-0.381859</td>\n",
       "    </tr>\n",
       "    <tr>\n",
       "      <th>171086</th>\n",
       "      <td>1740</td>\n",
       "      <td>3.583366</td>\n",
       "      <td>-0.351045</td>\n",
       "      <td>z</td>\n",
       "      <td>49569.966533</td>\n",
       "      <td>3.567102</td>\n",
       "      <td>-0.377496</td>\n",
       "    </tr>\n",
       "    <tr>\n",
       "      <th>171087</th>\n",
       "      <td>1878</td>\n",
       "      <td>3.557426</td>\n",
       "      <td>-0.301194</td>\n",
       "      <td>z</td>\n",
       "      <td>49569.966981</td>\n",
       "      <td>3.541434</td>\n",
       "      <td>-0.327645</td>\n",
       "    </tr>\n",
       "    <tr>\n",
       "      <th>171088</th>\n",
       "      <td>1852</td>\n",
       "      <td>3.610495</td>\n",
       "      <td>-0.305999</td>\n",
       "      <td>z</td>\n",
       "      <td>49569.967429</td>\n",
       "      <td>3.594479</td>\n",
       "      <td>-0.332450</td>\n",
       "    </tr>\n",
       "    <tr>\n",
       "      <th>171089</th>\n",
       "      <td>1832</td>\n",
       "      <td>3.663574</td>\n",
       "      <td>-0.309601</td>\n",
       "      <td>z</td>\n",
       "      <td>49569.967877</td>\n",
       "      <td>3.647540</td>\n",
       "      <td>-0.336052</td>\n",
       "    </tr>\n",
       "    <tr>\n",
       "      <th>171090</th>\n",
       "      <td>1967</td>\n",
       "      <td>3.636956</td>\n",
       "      <td>-0.261116</td>\n",
       "      <td>z</td>\n",
       "      <td>49569.968326</td>\n",
       "      <td>3.621148</td>\n",
       "      <td>-0.287567</td>\n",
       "    </tr>\n",
       "    <tr>\n",
       "      <th>171091</th>\n",
       "      <td>1987</td>\n",
       "      <td>3.583766</td>\n",
       "      <td>-0.257075</td>\n",
       "      <td>z</td>\n",
       "      <td>49569.968774</td>\n",
       "      <td>3.567975</td>\n",
       "      <td>-0.283526</td>\n",
       "    </tr>\n",
       "    <tr>\n",
       "      <th>171092</th>\n",
       "      <td>1997</td>\n",
       "      <td>3.530442</td>\n",
       "      <td>-0.252053</td>\n",
       "      <td>z</td>\n",
       "      <td>49569.969222</td>\n",
       "      <td>3.514672</td>\n",
       "      <td>-0.278504</td>\n",
       "    </tr>\n",
       "    <tr>\n",
       "      <th>171093</th>\n",
       "      <td>2007</td>\n",
       "      <td>3.476805</td>\n",
       "      <td>-0.246309</td>\n",
       "      <td>z</td>\n",
       "      <td>49569.969671</td>\n",
       "      <td>3.461058</td>\n",
       "      <td>-0.272760</td>\n",
       "    </tr>\n",
       "    <tr>\n",
       "      <th>171094</th>\n",
       "      <td>1887</td>\n",
       "      <td>3.504231</td>\n",
       "      <td>-0.295396</td>\n",
       "      <td>z</td>\n",
       "      <td>49569.970119</td>\n",
       "      <td>3.488268</td>\n",
       "      <td>-0.321847</td>\n",
       "    </tr>\n",
       "    <tr>\n",
       "      <th>171095</th>\n",
       "      <td>1759</td>\n",
       "      <td>3.530340</td>\n",
       "      <td>-0.345461</td>\n",
       "      <td>z</td>\n",
       "      <td>49569.970567</td>\n",
       "      <td>3.514109</td>\n",
       "      <td>-0.371912</td>\n",
       "    </tr>\n",
       "    <tr>\n",
       "      <th>171096</th>\n",
       "      <td>1783</td>\n",
       "      <td>3.477274</td>\n",
       "      <td>-0.338835</td>\n",
       "      <td>z</td>\n",
       "      <td>49569.971016</td>\n",
       "      <td>3.461081</td>\n",
       "      <td>-0.365286</td>\n",
       "    </tr>\n",
       "    <tr>\n",
       "      <th>171097</th>\n",
       "      <td>1897</td>\n",
       "      <td>3.450679</td>\n",
       "      <td>-0.288856</td>\n",
       "      <td>z</td>\n",
       "      <td>49569.971464</td>\n",
       "      <td>3.434747</td>\n",
       "      <td>-0.315307</td>\n",
       "    </tr>\n",
       "    <tr>\n",
       "      <th>171098</th>\n",
       "      <td>2025</td>\n",
       "      <td>3.422629</td>\n",
       "      <td>-0.240146</td>\n",
       "      <td>z</td>\n",
       "      <td>49569.971913</td>\n",
       "      <td>3.406906</td>\n",
       "      <td>-0.266597</td>\n",
       "    </tr>\n",
       "    <tr>\n",
       "      <th>171099</th>\n",
       "      <td>2141</td>\n",
       "      <td>3.393799</td>\n",
       "      <td>-0.192613</td>\n",
       "      <td>z</td>\n",
       "      <td>49569.972362</td>\n",
       "      <td>3.378239</td>\n",
       "      <td>-0.219064</td>\n",
       "    </tr>\n",
       "    <tr>\n",
       "      <th>171100</th>\n",
       "      <td>2127</td>\n",
       "      <td>3.448477</td>\n",
       "      <td>-0.198239</td>\n",
       "      <td>z</td>\n",
       "      <td>49569.972811</td>\n",
       "      <td>3.432900</td>\n",
       "      <td>-0.224690</td>\n",
       "    </tr>\n",
       "    <tr>\n",
       "      <th>171101</th>\n",
       "      <td>2249</td>\n",
       "      <td>3.419720</td>\n",
       "      <td>-0.151046</td>\n",
       "      <td>z</td>\n",
       "      <td>49569.973260</td>\n",
       "      <td>3.404272</td>\n",
       "      <td>-0.177497</td>\n",
       "    </tr>\n",
       "    <tr>\n",
       "      <th>171102</th>\n",
       "      <td>2237</td>\n",
       "      <td>3.474169</td>\n",
       "      <td>-0.156208</td>\n",
       "      <td>z</td>\n",
       "      <td>49569.973708</td>\n",
       "      <td>3.458709</td>\n",
       "      <td>-0.182659</td>\n",
       "    </tr>\n",
       "    <tr>\n",
       "      <th>171103</th>\n",
       "      <td>2229</td>\n",
       "      <td>3.528220</td>\n",
       "      <td>-0.161175</td>\n",
       "      <td>z</td>\n",
       "      <td>49569.974157</td>\n",
       "      <td>3.512747</td>\n",
       "      <td>-0.187626</td>\n",
       "    </tr>\n",
       "    <tr>\n",
       "      <th>171104</th>\n",
       "      <td>2219</td>\n",
       "      <td>3.582024</td>\n",
       "      <td>-0.165646</td>\n",
       "      <td>z</td>\n",
       "      <td>49569.974604</td>\n",
       "      <td>3.566540</td>\n",
       "      <td>-0.192097</td>\n",
       "    </tr>\n",
       "    <tr>\n",
       "      <th>171105</th>\n",
       "      <td>2207</td>\n",
       "      <td>3.635713</td>\n",
       "      <td>-0.169338</td>\n",
       "      <td>z</td>\n",
       "      <td>49569.975052</td>\n",
       "      <td>3.620219</td>\n",
       "      <td>-0.195789</td>\n",
       "    </tr>\n",
       "    <tr>\n",
       "      <th>171106</th>\n",
       "      <td>2197</td>\n",
       "      <td>3.689379</td>\n",
       "      <td>-0.171989</td>\n",
       "      <td>z</td>\n",
       "      <td>49569.975499</td>\n",
       "      <td>3.673878</td>\n",
       "      <td>-0.198440</td>\n",
       "    </tr>\n",
       "    <tr>\n",
       "      <th>...</th>\n",
       "      <td>...</td>\n",
       "      <td>...</td>\n",
       "      <td>...</td>\n",
       "      <td>...</td>\n",
       "      <td>...</td>\n",
       "      <td>...</td>\n",
       "      <td>...</td>\n",
       "    </tr>\n",
       "    <tr>\n",
       "      <th>272045</th>\n",
       "      <td>1427</td>\n",
       "      <td>0.925184</td>\n",
       "      <td>-0.478900</td>\n",
       "      <td>u</td>\n",
       "      <td>49718.079575</td>\n",
       "      <td>0.897222</td>\n",
       "      <td>-0.468981</td>\n",
       "    </tr>\n",
       "    <tr>\n",
       "      <th>272046</th>\n",
       "      <td>1427</td>\n",
       "      <td>0.925184</td>\n",
       "      <td>-0.478900</td>\n",
       "      <td>u</td>\n",
       "      <td>49718.079992</td>\n",
       "      <td>0.897222</td>\n",
       "      <td>-0.468981</td>\n",
       "    </tr>\n",
       "    <tr>\n",
       "      <th>272047</th>\n",
       "      <td>1427</td>\n",
       "      <td>0.925184</td>\n",
       "      <td>-0.478900</td>\n",
       "      <td>u</td>\n",
       "      <td>49718.080408</td>\n",
       "      <td>0.897222</td>\n",
       "      <td>-0.468981</td>\n",
       "    </tr>\n",
       "    <tr>\n",
       "      <th>272048</th>\n",
       "      <td>1427</td>\n",
       "      <td>0.925184</td>\n",
       "      <td>-0.478900</td>\n",
       "      <td>u</td>\n",
       "      <td>49718.080825</td>\n",
       "      <td>0.897222</td>\n",
       "      <td>-0.468981</td>\n",
       "    </tr>\n",
       "    <tr>\n",
       "      <th>272049</th>\n",
       "      <td>1427</td>\n",
       "      <td>0.925184</td>\n",
       "      <td>-0.478900</td>\n",
       "      <td>u</td>\n",
       "      <td>49718.081242</td>\n",
       "      <td>0.897222</td>\n",
       "      <td>-0.468981</td>\n",
       "    </tr>\n",
       "    <tr>\n",
       "      <th>272050</th>\n",
       "      <td>1427</td>\n",
       "      <td>0.925184</td>\n",
       "      <td>-0.478900</td>\n",
       "      <td>u</td>\n",
       "      <td>49718.081658</td>\n",
       "      <td>0.897222</td>\n",
       "      <td>-0.468981</td>\n",
       "    </tr>\n",
       "    <tr>\n",
       "      <th>272051</th>\n",
       "      <td>1427</td>\n",
       "      <td>0.925184</td>\n",
       "      <td>-0.478900</td>\n",
       "      <td>u</td>\n",
       "      <td>49718.082075</td>\n",
       "      <td>0.897222</td>\n",
       "      <td>-0.468981</td>\n",
       "    </tr>\n",
       "    <tr>\n",
       "      <th>272052</th>\n",
       "      <td>1427</td>\n",
       "      <td>0.925184</td>\n",
       "      <td>-0.478900</td>\n",
       "      <td>u</td>\n",
       "      <td>49718.082492</td>\n",
       "      <td>0.897222</td>\n",
       "      <td>-0.468981</td>\n",
       "    </tr>\n",
       "    <tr>\n",
       "      <th>272053</th>\n",
       "      <td>1427</td>\n",
       "      <td>0.925184</td>\n",
       "      <td>-0.478900</td>\n",
       "      <td>u</td>\n",
       "      <td>49718.082908</td>\n",
       "      <td>0.897222</td>\n",
       "      <td>-0.468981</td>\n",
       "    </tr>\n",
       "    <tr>\n",
       "      <th>272054</th>\n",
       "      <td>1427</td>\n",
       "      <td>0.925184</td>\n",
       "      <td>-0.478900</td>\n",
       "      <td>u</td>\n",
       "      <td>49718.083325</td>\n",
       "      <td>0.897222</td>\n",
       "      <td>-0.468981</td>\n",
       "    </tr>\n",
       "    <tr>\n",
       "      <th>272405</th>\n",
       "      <td>2786</td>\n",
       "      <td>2.624318</td>\n",
       "      <td>0.049506</td>\n",
       "      <td>u</td>\n",
       "      <td>49718.248656</td>\n",
       "      <td>2.599472</td>\n",
       "      <td>0.059425</td>\n",
       "    </tr>\n",
       "    <tr>\n",
       "      <th>272406</th>\n",
       "      <td>2786</td>\n",
       "      <td>2.624318</td>\n",
       "      <td>0.049506</td>\n",
       "      <td>u</td>\n",
       "      <td>49718.249073</td>\n",
       "      <td>2.599472</td>\n",
       "      <td>0.059425</td>\n",
       "    </tr>\n",
       "    <tr>\n",
       "      <th>272407</th>\n",
       "      <td>2786</td>\n",
       "      <td>2.624318</td>\n",
       "      <td>0.049506</td>\n",
       "      <td>u</td>\n",
       "      <td>49718.249490</td>\n",
       "      <td>2.599472</td>\n",
       "      <td>0.059425</td>\n",
       "    </tr>\n",
       "    <tr>\n",
       "      <th>272408</th>\n",
       "      <td>2786</td>\n",
       "      <td>2.624318</td>\n",
       "      <td>0.049506</td>\n",
       "      <td>u</td>\n",
       "      <td>49718.249906</td>\n",
       "      <td>2.599472</td>\n",
       "      <td>0.059425</td>\n",
       "    </tr>\n",
       "    <tr>\n",
       "      <th>272409</th>\n",
       "      <td>2786</td>\n",
       "      <td>2.624318</td>\n",
       "      <td>0.049506</td>\n",
       "      <td>u</td>\n",
       "      <td>49718.250323</td>\n",
       "      <td>2.599472</td>\n",
       "      <td>0.059425</td>\n",
       "    </tr>\n",
       "    <tr>\n",
       "      <th>272410</th>\n",
       "      <td>2786</td>\n",
       "      <td>2.624318</td>\n",
       "      <td>0.049506</td>\n",
       "      <td>u</td>\n",
       "      <td>49718.250740</td>\n",
       "      <td>2.599472</td>\n",
       "      <td>0.059425</td>\n",
       "    </tr>\n",
       "    <tr>\n",
       "      <th>272411</th>\n",
       "      <td>2786</td>\n",
       "      <td>2.624318</td>\n",
       "      <td>0.049506</td>\n",
       "      <td>u</td>\n",
       "      <td>49718.251156</td>\n",
       "      <td>2.599472</td>\n",
       "      <td>0.059425</td>\n",
       "    </tr>\n",
       "    <tr>\n",
       "      <th>272412</th>\n",
       "      <td>2786</td>\n",
       "      <td>2.624318</td>\n",
       "      <td>0.049506</td>\n",
       "      <td>u</td>\n",
       "      <td>49718.251573</td>\n",
       "      <td>2.599472</td>\n",
       "      <td>0.059425</td>\n",
       "    </tr>\n",
       "    <tr>\n",
       "      <th>272413</th>\n",
       "      <td>2786</td>\n",
       "      <td>2.624318</td>\n",
       "      <td>0.049506</td>\n",
       "      <td>u</td>\n",
       "      <td>49718.251990</td>\n",
       "      <td>2.599472</td>\n",
       "      <td>0.059425</td>\n",
       "    </tr>\n",
       "    <tr>\n",
       "      <th>272414</th>\n",
       "      <td>2786</td>\n",
       "      <td>2.624318</td>\n",
       "      <td>0.049506</td>\n",
       "      <td>u</td>\n",
       "      <td>49718.252406</td>\n",
       "      <td>2.599472</td>\n",
       "      <td>0.059425</td>\n",
       "    </tr>\n",
       "    <tr>\n",
       "      <th>272415</th>\n",
       "      <td>2786</td>\n",
       "      <td>2.624318</td>\n",
       "      <td>0.049506</td>\n",
       "      <td>u</td>\n",
       "      <td>49718.252823</td>\n",
       "      <td>2.599472</td>\n",
       "      <td>0.059425</td>\n",
       "    </tr>\n",
       "    <tr>\n",
       "      <th>272416</th>\n",
       "      <td>2786</td>\n",
       "      <td>2.624318</td>\n",
       "      <td>0.049506</td>\n",
       "      <td>u</td>\n",
       "      <td>49718.253240</td>\n",
       "      <td>2.599472</td>\n",
       "      <td>0.059425</td>\n",
       "    </tr>\n",
       "    <tr>\n",
       "      <th>272417</th>\n",
       "      <td>2786</td>\n",
       "      <td>2.624318</td>\n",
       "      <td>0.049506</td>\n",
       "      <td>u</td>\n",
       "      <td>49718.253656</td>\n",
       "      <td>2.599472</td>\n",
       "      <td>0.059425</td>\n",
       "    </tr>\n",
       "    <tr>\n",
       "      <th>272418</th>\n",
       "      <td>2786</td>\n",
       "      <td>2.624318</td>\n",
       "      <td>0.049506</td>\n",
       "      <td>u</td>\n",
       "      <td>49718.254073</td>\n",
       "      <td>2.599472</td>\n",
       "      <td>0.059425</td>\n",
       "    </tr>\n",
       "    <tr>\n",
       "      <th>272419</th>\n",
       "      <td>2786</td>\n",
       "      <td>2.624318</td>\n",
       "      <td>0.049506</td>\n",
       "      <td>u</td>\n",
       "      <td>49718.254490</td>\n",
       "      <td>2.599472</td>\n",
       "      <td>0.059425</td>\n",
       "    </tr>\n",
       "    <tr>\n",
       "      <th>272420</th>\n",
       "      <td>2786</td>\n",
       "      <td>2.624318</td>\n",
       "      <td>0.049506</td>\n",
       "      <td>u</td>\n",
       "      <td>49718.254906</td>\n",
       "      <td>2.599472</td>\n",
       "      <td>0.059425</td>\n",
       "    </tr>\n",
       "    <tr>\n",
       "      <th>272421</th>\n",
       "      <td>2786</td>\n",
       "      <td>2.624318</td>\n",
       "      <td>0.049506</td>\n",
       "      <td>u</td>\n",
       "      <td>49718.255323</td>\n",
       "      <td>2.599472</td>\n",
       "      <td>0.059425</td>\n",
       "    </tr>\n",
       "    <tr>\n",
       "      <th>272422</th>\n",
       "      <td>2786</td>\n",
       "      <td>2.624318</td>\n",
       "      <td>0.049506</td>\n",
       "      <td>u</td>\n",
       "      <td>49718.255740</td>\n",
       "      <td>2.599472</td>\n",
       "      <td>0.059425</td>\n",
       "    </tr>\n",
       "    <tr>\n",
       "      <th>272423</th>\n",
       "      <td>2786</td>\n",
       "      <td>2.624318</td>\n",
       "      <td>0.049506</td>\n",
       "      <td>u</td>\n",
       "      <td>49718.256156</td>\n",
       "      <td>2.599472</td>\n",
       "      <td>0.059425</td>\n",
       "    </tr>\n",
       "    <tr>\n",
       "      <th>272424</th>\n",
       "      <td>2786</td>\n",
       "      <td>2.624318</td>\n",
       "      <td>0.049506</td>\n",
       "      <td>u</td>\n",
       "      <td>49718.256573</td>\n",
       "      <td>2.599472</td>\n",
       "      <td>0.059425</td>\n",
       "    </tr>\n",
       "  </tbody>\n",
       "</table>\n",
       "<p>76888 rows × 7 columns</p>\n",
       "</div>"
      ],
      "text/plain": [
       "           fieldID   fieldRA  fieldDec filter        expMJD  ditheredRA  \\\n",
       "obsHistID                                                                 \n",
       "171077        2123  3.502578 -0.203741      z  49569.962492    3.486983   \n",
       "171078        2109  3.556282 -0.208795      z  49569.962940    3.540671   \n",
       "171079        2103  3.609762 -0.213110      z  49569.963388    3.594137   \n",
       "171080        2082  3.663150 -0.216431      z  49569.963837    3.647513   \n",
       "171081        1947  3.690123 -0.263957      z  49569.964286    3.674303   \n",
       "171082        1822  3.716717 -0.311837      z  49569.964736    3.700671   \n",
       "171083        1697  3.743185 -0.359940      z  49569.965185    3.726867   \n",
       "171084        1709  3.689779 -0.358409      z  49569.965636    3.673471   \n",
       "171085        1731  3.636496 -0.355408      z  49569.966084    3.620206   \n",
       "171086        1740  3.583366 -0.351045      z  49569.966533    3.567102   \n",
       "171087        1878  3.557426 -0.301194      z  49569.966981    3.541434   \n",
       "171088        1852  3.610495 -0.305999      z  49569.967429    3.594479   \n",
       "171089        1832  3.663574 -0.309601      z  49569.967877    3.647540   \n",
       "171090        1967  3.636956 -0.261116      z  49569.968326    3.621148   \n",
       "171091        1987  3.583766 -0.257075      z  49569.968774    3.567975   \n",
       "171092        1997  3.530442 -0.252053      z  49569.969222    3.514672   \n",
       "171093        2007  3.476805 -0.246309      z  49569.969671    3.461058   \n",
       "171094        1887  3.504231 -0.295396      z  49569.970119    3.488268   \n",
       "171095        1759  3.530340 -0.345461      z  49569.970567    3.514109   \n",
       "171096        1783  3.477274 -0.338835      z  49569.971016    3.461081   \n",
       "171097        1897  3.450679 -0.288856      z  49569.971464    3.434747   \n",
       "171098        2025  3.422629 -0.240146      z  49569.971913    3.406906   \n",
       "171099        2141  3.393799 -0.192613      z  49569.972362    3.378239   \n",
       "171100        2127  3.448477 -0.198239      z  49569.972811    3.432900   \n",
       "171101        2249  3.419720 -0.151046      z  49569.973260    3.404272   \n",
       "171102        2237  3.474169 -0.156208      z  49569.973708    3.458709   \n",
       "171103        2229  3.528220 -0.161175      z  49569.974157    3.512747   \n",
       "171104        2219  3.582024 -0.165646      z  49569.974604    3.566540   \n",
       "171105        2207  3.635713 -0.169338      z  49569.975052    3.620219   \n",
       "171106        2197  3.689379 -0.171989      z  49569.975499    3.673878   \n",
       "...            ...       ...       ...    ...           ...         ...   \n",
       "272045        1427  0.925184 -0.478900      u  49718.079575    0.897222   \n",
       "272046        1427  0.925184 -0.478900      u  49718.079992    0.897222   \n",
       "272047        1427  0.925184 -0.478900      u  49718.080408    0.897222   \n",
       "272048        1427  0.925184 -0.478900      u  49718.080825    0.897222   \n",
       "272049        1427  0.925184 -0.478900      u  49718.081242    0.897222   \n",
       "272050        1427  0.925184 -0.478900      u  49718.081658    0.897222   \n",
       "272051        1427  0.925184 -0.478900      u  49718.082075    0.897222   \n",
       "272052        1427  0.925184 -0.478900      u  49718.082492    0.897222   \n",
       "272053        1427  0.925184 -0.478900      u  49718.082908    0.897222   \n",
       "272054        1427  0.925184 -0.478900      u  49718.083325    0.897222   \n",
       "272405        2786  2.624318  0.049506      u  49718.248656    2.599472   \n",
       "272406        2786  2.624318  0.049506      u  49718.249073    2.599472   \n",
       "272407        2786  2.624318  0.049506      u  49718.249490    2.599472   \n",
       "272408        2786  2.624318  0.049506      u  49718.249906    2.599472   \n",
       "272409        2786  2.624318  0.049506      u  49718.250323    2.599472   \n",
       "272410        2786  2.624318  0.049506      u  49718.250740    2.599472   \n",
       "272411        2786  2.624318  0.049506      u  49718.251156    2.599472   \n",
       "272412        2786  2.624318  0.049506      u  49718.251573    2.599472   \n",
       "272413        2786  2.624318  0.049506      u  49718.251990    2.599472   \n",
       "272414        2786  2.624318  0.049506      u  49718.252406    2.599472   \n",
       "272415        2786  2.624318  0.049506      u  49718.252823    2.599472   \n",
       "272416        2786  2.624318  0.049506      u  49718.253240    2.599472   \n",
       "272417        2786  2.624318  0.049506      u  49718.253656    2.599472   \n",
       "272418        2786  2.624318  0.049506      u  49718.254073    2.599472   \n",
       "272419        2786  2.624318  0.049506      u  49718.254490    2.599472   \n",
       "272420        2786  2.624318  0.049506      u  49718.254906    2.599472   \n",
       "272421        2786  2.624318  0.049506      u  49718.255323    2.599472   \n",
       "272422        2786  2.624318  0.049506      u  49718.255740    2.599472   \n",
       "272423        2786  2.624318  0.049506      u  49718.256156    2.599472   \n",
       "272424        2786  2.624318  0.049506      u  49718.256573    2.599472   \n",
       "\n",
       "           ditheredDec  \n",
       "obsHistID               \n",
       "171077       -0.230192  \n",
       "171078       -0.235246  \n",
       "171079       -0.239561  \n",
       "171080       -0.242882  \n",
       "171081       -0.290408  \n",
       "171082       -0.338288  \n",
       "171083       -0.386391  \n",
       "171084       -0.384860  \n",
       "171085       -0.381859  \n",
       "171086       -0.377496  \n",
       "171087       -0.327645  \n",
       "171088       -0.332450  \n",
       "171089       -0.336052  \n",
       "171090       -0.287567  \n",
       "171091       -0.283526  \n",
       "171092       -0.278504  \n",
       "171093       -0.272760  \n",
       "171094       -0.321847  \n",
       "171095       -0.371912  \n",
       "171096       -0.365286  \n",
       "171097       -0.315307  \n",
       "171098       -0.266597  \n",
       "171099       -0.219064  \n",
       "171100       -0.224690  \n",
       "171101       -0.177497  \n",
       "171102       -0.182659  \n",
       "171103       -0.187626  \n",
       "171104       -0.192097  \n",
       "171105       -0.195789  \n",
       "171106       -0.198440  \n",
       "...                ...  \n",
       "272045       -0.468981  \n",
       "272046       -0.468981  \n",
       "272047       -0.468981  \n",
       "272048       -0.468981  \n",
       "272049       -0.468981  \n",
       "272050       -0.468981  \n",
       "272051       -0.468981  \n",
       "272052       -0.468981  \n",
       "272053       -0.468981  \n",
       "272054       -0.468981  \n",
       "272405        0.059425  \n",
       "272406        0.059425  \n",
       "272407        0.059425  \n",
       "272408        0.059425  \n",
       "272409        0.059425  \n",
       "272410        0.059425  \n",
       "272411        0.059425  \n",
       "272412        0.059425  \n",
       "272413        0.059425  \n",
       "272414        0.059425  \n",
       "272415        0.059425  \n",
       "272416        0.059425  \n",
       "272417        0.059425  \n",
       "272418        0.059425  \n",
       "272419        0.059425  \n",
       "272420        0.059425  \n",
       "272421        0.059425  \n",
       "272422        0.059425  \n",
       "272423        0.059425  \n",
       "272424        0.059425  \n",
       "\n",
       "[76888 rows x 7 columns]"
      ]
     },
     "execution_count": 15,
     "metadata": {},
     "output_type": "execute_result"
    }
   ],
   "source": [
    "opout.summary[['fieldID', 'fieldRA', 'fieldDec', 'filter', 'expMJD', 'ditheredRA', 'ditheredDec']]"
   ]
  },
  {
   "cell_type": "code",
   "execution_count": 15,
   "metadata": {
    "collapsed": false
   },
   "outputs": [
    {
     "name": "stdout",
     "output_type": "stream",
     "text": [
      "76888\n"
     ]
    }
   ],
   "source": [
    "print(len(opout.summary))"
   ]
  },
  {
   "cell_type": "code",
   "execution_count": 16,
   "metadata": {
    "collapsed": true
   },
   "outputs": [],
   "source": [
    "# Write to hdf file"
   ]
  },
  {
   "cell_type": "code",
   "execution_count": 17,
   "metadata": {
    "collapsed": false
   },
   "outputs": [
    {
     "name": "stderr",
     "output_type": "stream",
     "text": [
      "/usr/local/software/lib/python2.7/site-packages/pandas/io/pytables.py:260: PerformanceWarning: \n",
      "your performance may suffer as PyTables will pickle object types that it cannot\n",
      "map directly to c-types [inferred_type->unicode,key->axis0] [items->None]\n",
      "\n",
      "  f(store)\n",
      "/usr/local/software/lib/python2.7/site-packages/pandas/io/pytables.py:260: PerformanceWarning: \n",
      "your performance may suffer as PyTables will pickle object types that it cannot\n",
      "map directly to c-types [inferred_type->unicode,key->block0_items] [items->None]\n",
      "\n",
      "  f(store)\n",
      "/usr/local/software/lib/python2.7/site-packages/pandas/io/pytables.py:260: PerformanceWarning: \n",
      "your performance may suffer as PyTables will pickle object types that it cannot\n",
      "map directly to c-types [inferred_type->unicode,key->block1_items] [items->None]\n",
      "\n",
      "  f(store)\n",
      "/usr/local/software/lib/python2.7/site-packages/pandas/core/generic.py:1101: PerformanceWarning: \n",
      "your performance may suffer as PyTables will pickle object types that it cannot\n",
      "map directly to c-types [inferred_type->unicode,key->block2_values] [items->['filter']]\n",
      "\n",
      "  return pytables.to_hdf(path_or_buf, key, self, **kwargs)\n",
      "/usr/local/software/lib/python2.7/site-packages/pandas/io/pytables.py:260: PerformanceWarning: \n",
      "your performance may suffer as PyTables will pickle object types that it cannot\n",
      "map directly to c-types [inferred_type->unicode,key->block2_items] [items->None]\n",
      "\n",
      "  f(store)\n",
      "/usr/local/software/lib/python2.7/site-packages/pandas/core/generic.py:1101: PerformanceWarning: \n",
      "your performance may suffer as PyTables will pickle object types that it cannot\n",
      "map directly to c-types [inferred_type->unicode,key->block1_values] [items->['propConf', 'propName', 'objectHost']]\n",
      "\n",
      "  return pytables.to_hdf(path_or_buf, key, self, **kwargs)\n"
     ]
    }
   ],
   "source": [
    "opout.writeOpSimHDF('/tmp/opsim_small.hdf')"
   ]
  },
  {
   "cell_type": "code",
   "execution_count": 22,
   "metadata": {
    "collapsed": false
   },
   "outputs": [
    {
     "name": "stdout",
     "output_type": "stream",
     "text": [
      "read in proposal\n",
      "read in proposal\n",
      "_all {'ddf': 366, u'../conf/survey/galacticplaneprop.conf': 362, u'../conf/survey/northeclipticspur-18c.conf': 365, 'wfd': 364, u'../conf/survey/southcelestialpole-18.conf': 363}\n",
      "propIDs [362, 363, 364, 365, 366] <type 'list'> <type 'int'>\n",
      "summarydf cols Index([        u'obsHistID',         u'sessionID',            u'propID',\n",
      "                 u'fieldID',           u'fieldRA',          u'fieldDec',\n",
      "                  u'filter',           u'expDate',            u'expMJD',\n",
      "                   u'night',         u'visitTime',      u'visitExpTime',\n",
      "                 u'finRank',         u'finSeeing',      u'transparency',\n",
      "                 u'airmass',        u'vSkyBright', u'filtSkyBrightness',\n",
      "               u'rotSkyPos',               u'lst',          u'altitude',\n",
      "                 u'azimuth',         u'dist2Moon',        u'solarElong',\n",
      "                  u'moonRA',           u'moonDec',           u'moonAlt',\n",
      "                  u'moonAZ',         u'moonPhase',            u'sunAlt',\n",
      "                   u'sunAz',        u'phaseAngle',          u'rScatter',\n",
      "              u'mieScatter',         u'moonIllum',        u'moonBright',\n",
      "              u'darkBright',         u'rawSeeing',              u'wind',\n",
      "                u'humidity',          u'slewDist',          u'slewTime',\n",
      "          u'fiveSigmaDepth',        u'ditheredRA',       u'ditheredDec'],\n",
      "      dtype='object')\n",
      "squery_str propID == @propIDs\n",
      " Num entries  76888\n"
     ]
    }
   ],
   "source": [
    "opsim_from_hdf = OpSimOutput.fromOpSimHDF('/tmp/opsim_small.hdf', subset='_all')"
   ]
  },
  {
   "cell_type": "code",
   "execution_count": 20,
   "metadata": {
    "collapsed": true
   },
   "outputs": [],
   "source": [
    "from pandas.util.testing import assert_frame_equal"
   ]
  },
  {
   "cell_type": "code",
   "execution_count": 23,
   "metadata": {
    "collapsed": false
   },
   "outputs": [
    {
     "data": {
      "text/plain": [
       "'_all'"
      ]
     },
     "execution_count": 23,
     "metadata": {},
     "output_type": "execute_result"
    }
   ],
   "source": [
    "opsim_from_hdf.subset"
   ]
  },
  {
   "cell_type": "code",
   "execution_count": 24,
   "metadata": {
    "collapsed": false
   },
   "outputs": [],
   "source": [
    "assert_frame_equal(opsim_from_hdf.summary, opout.summary)"
   ]
  },
  {
   "cell_type": "markdown",
   "metadata": {},
   "source": [
    "#### From OpSimDB but combined (This is WFD and DDF combined)"
   ]
  },
  {
   "cell_type": "code",
   "execution_count": 16,
   "metadata": {
    "collapsed": false
   },
   "outputs": [
    {
     "name": "stdout",
     "output_type": "stream",
     "text": [
      " reading from database sqlite:////Users/rbiswas/.local/lib/python2.7/site-packages/opsimsummary/example_data/enigma_1189_micro.db\n",
      "SELECT * FROM Summary WHERE PROPID in (366, 364)\n"
     ]
    }
   ],
   "source": [
    "opsim_comb = OpSimOutput.fromOpSimDB(dbname=dbName)"
   ]
  },
  {
   "cell_type": "code",
   "execution_count": 17,
   "metadata": {
    "collapsed": false
   },
   "outputs": [
    {
     "ename": "ValueError",
     "evalue": "Should be Done only for self.subset == _all",
     "output_type": "error",
     "traceback": [
      "\u001b[0;31m---------------------------------------------------------------------------\u001b[0m",
      "\u001b[0;31mValueError\u001b[0m                                Traceback (most recent call last)",
      "\u001b[0;32m<ipython-input-17-b5b97aded478>\u001b[0m in \u001b[0;36m<module>\u001b[0;34m()\u001b[0m\n\u001b[0;32m----> 1\u001b[0;31m \u001b[0mopsim_comb\u001b[0m\u001b[0;34m.\u001b[0m\u001b[0mwriteOpSimHDF\u001b[0m\u001b[0;34m(\u001b[0m\u001b[0;34m'tmp/hdfFile.hdf'\u001b[0m\u001b[0;34m)\u001b[0m\u001b[0;34m\u001b[0m\u001b[0m\n\u001b[0m",
      "\u001b[0;32m/Users/rbiswas/.local/lib/python2.7/site-packages/opsimsummary/opsim_out.pyc\u001b[0m in \u001b[0;36mwriteOpSimHDF\u001b[0;34m(self, hdfName)\u001b[0m\n\u001b[1;32m    188\u001b[0m         \"\"\"\n\u001b[1;32m    189\u001b[0m         \u001b[0;32mif\u001b[0m \u001b[0mself\u001b[0m\u001b[0;34m.\u001b[0m\u001b[0msubset\u001b[0m \u001b[0;34m!=\u001b[0m \u001b[0;34m'_all'\u001b[0m\u001b[0;34m:\u001b[0m\u001b[0;34m\u001b[0m\u001b[0m\n\u001b[0;32m--> 190\u001b[0;31m             \u001b[0;32mraise\u001b[0m \u001b[0mValueError\u001b[0m\u001b[0;34m(\u001b[0m\u001b[0;34m'Should be Done only for self.subset == _all'\u001b[0m\u001b[0;34m)\u001b[0m\u001b[0;34m\u001b[0m\u001b[0m\n\u001b[0m\u001b[1;32m    191\u001b[0m         \u001b[0mself\u001b[0m\u001b[0;34m.\u001b[0m\u001b[0msummary\u001b[0m\u001b[0;34m.\u001b[0m\u001b[0mto_hdf\u001b[0m\u001b[0;34m(\u001b[0m\u001b[0mhdfName\u001b[0m\u001b[0;34m,\u001b[0m \u001b[0mkey\u001b[0m\u001b[0;34m=\u001b[0m\u001b[0;34m'Summary'\u001b[0m\u001b[0;34m,\u001b[0m \u001b[0mappend\u001b[0m\u001b[0;34m=\u001b[0m\u001b[0mFalse\u001b[0m\u001b[0;34m)\u001b[0m\u001b[0;34m\u001b[0m\u001b[0m\n\u001b[1;32m    192\u001b[0m         \u001b[0mself\u001b[0m\u001b[0;34m.\u001b[0m\u001b[0mproposalTable\u001b[0m\u001b[0;34m.\u001b[0m\u001b[0mto_hdf\u001b[0m\u001b[0;34m(\u001b[0m\u001b[0mhdfName\u001b[0m\u001b[0;34m,\u001b[0m \u001b[0mkey\u001b[0m\u001b[0;34m=\u001b[0m\u001b[0;34m'Proposal'\u001b[0m\u001b[0;34m,\u001b[0m \u001b[0mappend\u001b[0m\u001b[0;34m=\u001b[0m\u001b[0mFalse\u001b[0m\u001b[0;34m)\u001b[0m\u001b[0;34m\u001b[0m\u001b[0m\n",
      "\u001b[0;31mValueError\u001b[0m: Should be Done only for self.subset == _all"
     ]
    }
   ],
   "source": [
    "opsim_comb.writeOpSimHDF('tmp/hdfFile.hdf')"
   ]
  },
  {
   "cell_type": "markdown",
   "metadata": {},
   "source": [
    "### From OpSimHDF"
   ]
  },
  {
   "cell_type": "code",
   "execution_count": 18,
   "metadata": {
    "collapsed": false
   },
   "outputs": [
    {
     "name": "stdout",
     "output_type": "stream",
     "text": [
      " reading from database sqlite:////Users/rbiswas/.local/lib/python2.7/site-packages/opsimsummary/example_data/enigma_1189_micro.db\n"
     ]
    }
   ],
   "source": [
    "opsim_all = OpSimOutput.fromOpSimDB(dbname=dbName, subset='_all')"
   ]
  },
  {
   "cell_type": "code",
   "execution_count": 20,
   "metadata": {
    "collapsed": false
   },
   "outputs": [
    {
     "name": "stderr",
     "output_type": "stream",
     "text": [
      "/usr/local/software/lib/python2.7/site-packages/pandas/io/pytables.py:260: PerformanceWarning: \n",
      "your performance may suffer as PyTables will pickle object types that it cannot\n",
      "map directly to c-types [inferred_type->unicode,key->axis0] [items->None]\n",
      "\n",
      "  f(store)\n",
      "/usr/local/software/lib/python2.7/site-packages/pandas/io/pytables.py:260: PerformanceWarning: \n",
      "your performance may suffer as PyTables will pickle object types that it cannot\n",
      "map directly to c-types [inferred_type->unicode,key->block0_items] [items->None]\n",
      "\n",
      "  f(store)\n",
      "/usr/local/software/lib/python2.7/site-packages/pandas/io/pytables.py:260: PerformanceWarning: \n",
      "your performance may suffer as PyTables will pickle object types that it cannot\n",
      "map directly to c-types [inferred_type->unicode,key->block1_items] [items->None]\n",
      "\n",
      "  f(store)\n",
      "/usr/local/software/lib/python2.7/site-packages/pandas/core/generic.py:1101: PerformanceWarning: \n",
      "your performance may suffer as PyTables will pickle object types that it cannot\n",
      "map directly to c-types [inferred_type->unicode,key->block2_values] [items->['filter']]\n",
      "\n",
      "  return pytables.to_hdf(path_or_buf, key, self, **kwargs)\n",
      "/usr/local/software/lib/python2.7/site-packages/pandas/io/pytables.py:260: PerformanceWarning: \n",
      "your performance may suffer as PyTables will pickle object types that it cannot\n",
      "map directly to c-types [inferred_type->unicode,key->block2_items] [items->None]\n",
      "\n",
      "  f(store)\n",
      "/usr/local/software/lib/python2.7/site-packages/pandas/core/generic.py:1101: PerformanceWarning: \n",
      "your performance may suffer as PyTables will pickle object types that it cannot\n",
      "map directly to c-types [inferred_type->unicode,key->block1_values] [items->['propConf', 'propName', 'objectHost']]\n",
      "\n",
      "  return pytables.to_hdf(path_or_buf, key, self, **kwargs)\n"
     ]
    }
   ],
   "source": [
    "opsim_all.writeOpSimHDF('test_hdf.hdf')"
   ]
  },
  {
   "cell_type": "code",
   "execution_count": 21,
   "metadata": {
    "collapsed": false
   },
   "outputs": [
    {
     "ename": "AttributeError",
     "evalue": "'DataFrame' object has no attribute 'colums'",
     "output_type": "error",
     "traceback": [
      "\u001b[0;31m---------------------------------------------------------------------------\u001b[0m",
      "\u001b[0;31mAttributeError\u001b[0m                            Traceback (most recent call last)",
      "\u001b[0;32m<ipython-input-21-7473a32603de>\u001b[0m in \u001b[0;36m<module>\u001b[0;34m()\u001b[0m\n\u001b[0;32m----> 1\u001b[0;31m \u001b[0mopsim_fromhdf\u001b[0m \u001b[0;34m=\u001b[0m \u001b[0mOpSimOutput\u001b[0m\u001b[0;34m.\u001b[0m\u001b[0mfromOpSimHDF\u001b[0m\u001b[0;34m(\u001b[0m\u001b[0;34m'test_hdf.hdf'\u001b[0m\u001b[0;34m,\u001b[0m \u001b[0msubset\u001b[0m\u001b[0;34m=\u001b[0m\u001b[0;34m'_all'\u001b[0m\u001b[0;34m)\u001b[0m\u001b[0;34m\u001b[0m\u001b[0m\n\u001b[0m",
      "\u001b[0;32m/Users/rbiswas/.local/lib/python2.7/site-packages/opsimsummary/opsim_out.pyc\u001b[0m in \u001b[0;36mfromOpSimHDF\u001b[0;34m(cls, hdfName, subset, tableNames, propIDs)\u001b[0m\n\u001b[1;32m    142\u001b[0m         \u001b[0msummarydf\u001b[0m \u001b[0;34m=\u001b[0m \u001b[0mpd\u001b[0m\u001b[0;34m.\u001b[0m\u001b[0mread_hdf\u001b[0m\u001b[0;34m(\u001b[0m\u001b[0mhdfName\u001b[0m\u001b[0;34m,\u001b[0m \u001b[0mkey\u001b[0m\u001b[0;34m=\u001b[0m\u001b[0;34m'Summary'\u001b[0m\u001b[0;34m)\u001b[0m\u001b[0;34m\u001b[0m\u001b[0m\n\u001b[1;32m    143\u001b[0m \u001b[0;34m\u001b[0m\u001b[0m\n\u001b[0;32m--> 144\u001b[0;31m         \u001b[0;32mif\u001b[0m \u001b[0;34m'obsHistID'\u001b[0m \u001b[0;32mnot\u001b[0m \u001b[0;32min\u001b[0m \u001b[0msummarydf\u001b[0m\u001b[0;34m.\u001b[0m\u001b[0mcolumns\u001b[0m\u001b[0;34m:\u001b[0m\u001b[0;34m\u001b[0m\u001b[0m\n\u001b[0m\u001b[1;32m    145\u001b[0m             \u001b[0msummarydf\u001b[0m\u001b[0;34m.\u001b[0m\u001b[0mreset_index\u001b[0m\u001b[0;34m(\u001b[0m\u001b[0minplace\u001b[0m\u001b[0;34m=\u001b[0m\u001b[0mTrue\u001b[0m\u001b[0;34m)\u001b[0m\u001b[0;34m\u001b[0m\u001b[0m\n\u001b[1;32m    146\u001b[0m             \u001b[0;32mif\u001b[0m \u001b[0;34m'obsHistID'\u001b[0m \u001b[0;32mnot\u001b[0m \u001b[0;32min\u001b[0m \u001b[0msummarydf\u001b[0m\u001b[0;34m.\u001b[0m\u001b[0mcolumns\u001b[0m\u001b[0;34m:\u001b[0m\u001b[0;34m\u001b[0m\u001b[0m\n",
      "\u001b[0;32m/usr/local/software/lib/python2.7/site-packages/pandas/core/generic.pyc\u001b[0m in \u001b[0;36m__getattr__\u001b[0;34m(self, name)\u001b[0m\n\u001b[1;32m   2670\u001b[0m             \u001b[0;32mif\u001b[0m \u001b[0mname\u001b[0m \u001b[0;32min\u001b[0m \u001b[0mself\u001b[0m\u001b[0;34m.\u001b[0m\u001b[0m_info_axis\u001b[0m\u001b[0;34m:\u001b[0m\u001b[0;34m\u001b[0m\u001b[0m\n\u001b[1;32m   2671\u001b[0m                 \u001b[0;32mreturn\u001b[0m \u001b[0mself\u001b[0m\u001b[0;34m[\u001b[0m\u001b[0mname\u001b[0m\u001b[0;34m]\u001b[0m\u001b[0;34m\u001b[0m\u001b[0m\n\u001b[0;32m-> 2672\u001b[0;31m             \u001b[0;32mreturn\u001b[0m \u001b[0mobject\u001b[0m\u001b[0;34m.\u001b[0m\u001b[0m__getattribute__\u001b[0m\u001b[0;34m(\u001b[0m\u001b[0mself\u001b[0m\u001b[0;34m,\u001b[0m \u001b[0mname\u001b[0m\u001b[0;34m)\u001b[0m\u001b[0;34m\u001b[0m\u001b[0m\n\u001b[0m\u001b[1;32m   2673\u001b[0m \u001b[0;34m\u001b[0m\u001b[0m\n\u001b[1;32m   2674\u001b[0m     \u001b[0;32mdef\u001b[0m \u001b[0m__setattr__\u001b[0m\u001b[0;34m(\u001b[0m\u001b[0mself\u001b[0m\u001b[0;34m,\u001b[0m \u001b[0mname\u001b[0m\u001b[0;34m,\u001b[0m \u001b[0mvalue\u001b[0m\u001b[0;34m)\u001b[0m\u001b[0;34m:\u001b[0m\u001b[0;34m\u001b[0m\u001b[0m\n",
      "\u001b[0;31mAttributeError\u001b[0m: 'DataFrame' object has no attribute 'colums'"
     ]
    }
   ],
   "source": [
    "opsim_fromhdf = OpSimOutput.fromOpSimHDF('test_hdf.hdf', subset='_all')"
   ]
  },
  {
   "cell_type": "code",
   "execution_count": 12,
   "metadata": {
    "collapsed": false
   },
   "outputs": [],
   "source": [
    "from sqlalchemy import create_engine"
   ]
  },
  {
   "cell_type": "code",
   "execution_count": 13,
   "metadata": {
    "collapsed": true
   },
   "outputs": [],
   "source": [
    "engine = create_engine('sqlite:///'+dbName)"
   ]
  },
  {
   "cell_type": "code",
   "execution_count": 14,
   "metadata": {
    "collapsed": true
   },
   "outputs": [],
   "source": [
    "import pandas as pd"
   ]
  },
  {
   "cell_type": "code",
   "execution_count": 15,
   "metadata": {
    "collapsed": false
   },
   "outputs": [],
   "source": [
    "_ = pd.read_sql_query('SELECT * FROM Summary WHERE propID in (364, 366) LIMIT 5', con=engine)"
   ]
  },
  {
   "cell_type": "code",
   "execution_count": 21,
   "metadata": {
    "collapsed": false
   },
   "outputs": [
    {
     "data": {
      "text/html": [
       "<div>\n",
       "<table border=\"1\" class=\"dataframe\">\n",
       "  <thead>\n",
       "    <tr style=\"text-align: right;\">\n",
       "      <th></th>\n",
       "      <th>obsHistID</th>\n",
       "      <th>sessionID</th>\n",
       "      <th>propID</th>\n",
       "      <th>fieldID</th>\n",
       "      <th>fieldRA</th>\n",
       "      <th>fieldDec</th>\n",
       "      <th>filter</th>\n",
       "      <th>expDate</th>\n",
       "      <th>expMJD</th>\n",
       "      <th>night</th>\n",
       "      <th>...</th>\n",
       "      <th>moonBright</th>\n",
       "      <th>darkBright</th>\n",
       "      <th>rawSeeing</th>\n",
       "      <th>wind</th>\n",
       "      <th>humidity</th>\n",
       "      <th>slewDist</th>\n",
       "      <th>slewTime</th>\n",
       "      <th>fiveSigmaDepth</th>\n",
       "      <th>ditheredRA</th>\n",
       "      <th>ditheredDec</th>\n",
       "    </tr>\n",
       "  </thead>\n",
       "  <tbody>\n",
       "    <tr>\n",
       "      <th>0</th>\n",
       "      <td>171077</td>\n",
       "      <td>1189</td>\n",
       "      <td>364</td>\n",
       "      <td>2123</td>\n",
       "      <td>3.502578</td>\n",
       "      <td>-0.203741</td>\n",
       "      <td>z</td>\n",
       "      <td>18745559</td>\n",
       "      <td>49569.962492</td>\n",
       "      <td>217</td>\n",
       "      <td>...</td>\n",
       "      <td>0.0</td>\n",
       "      <td>90.575602</td>\n",
       "      <td>1.395861</td>\n",
       "      <td>0.0</td>\n",
       "      <td>0.0</td>\n",
       "      <td>2.729285</td>\n",
       "      <td>0.000000</td>\n",
       "      <td>21.402429</td>\n",
       "      <td>3.486983</td>\n",
       "      <td>-0.230192</td>\n",
       "    </tr>\n",
       "    <tr>\n",
       "      <th>1</th>\n",
       "      <td>171078</td>\n",
       "      <td>1189</td>\n",
       "      <td>364</td>\n",
       "      <td>2109</td>\n",
       "      <td>3.556282</td>\n",
       "      <td>-0.208795</td>\n",
       "      <td>z</td>\n",
       "      <td>18745598</td>\n",
       "      <td>49569.962940</td>\n",
       "      <td>217</td>\n",
       "      <td>...</td>\n",
       "      <td>0.0</td>\n",
       "      <td>88.780090</td>\n",
       "      <td>1.395861</td>\n",
       "      <td>0.0</td>\n",
       "      <td>0.0</td>\n",
       "      <td>0.052807</td>\n",
       "      <td>4.701006</td>\n",
       "      <td>21.420436</td>\n",
       "      <td>3.540671</td>\n",
       "      <td>-0.235246</td>\n",
       "    </tr>\n",
       "    <tr>\n",
       "      <th>2</th>\n",
       "      <td>171079</td>\n",
       "      <td>1189</td>\n",
       "      <td>364</td>\n",
       "      <td>2103</td>\n",
       "      <td>3.609762</td>\n",
       "      <td>-0.213110</td>\n",
       "      <td>z</td>\n",
       "      <td>18745636</td>\n",
       "      <td>49569.963388</td>\n",
       "      <td>217</td>\n",
       "      <td>...</td>\n",
       "      <td>0.0</td>\n",
       "      <td>87.241597</td>\n",
       "      <td>1.395861</td>\n",
       "      <td>0.0</td>\n",
       "      <td>0.0</td>\n",
       "      <td>0.052469</td>\n",
       "      <td>4.665852</td>\n",
       "      <td>21.435982</td>\n",
       "      <td>3.594137</td>\n",
       "      <td>-0.239561</td>\n",
       "    </tr>\n",
       "    <tr>\n",
       "      <th>3</th>\n",
       "      <td>171080</td>\n",
       "      <td>1189</td>\n",
       "      <td>364</td>\n",
       "      <td>2082</td>\n",
       "      <td>3.663150</td>\n",
       "      <td>-0.216431</td>\n",
       "      <td>z</td>\n",
       "      <td>18745675</td>\n",
       "      <td>49569.963837</td>\n",
       "      <td>217</td>\n",
       "      <td>...</td>\n",
       "      <td>0.0</td>\n",
       "      <td>85.930303</td>\n",
       "      <td>1.395861</td>\n",
       "      <td>0.0</td>\n",
       "      <td>0.0</td>\n",
       "      <td>0.052268</td>\n",
       "      <td>4.820142</td>\n",
       "      <td>21.449321</td>\n",
       "      <td>3.647513</td>\n",
       "      <td>-0.242882</td>\n",
       "    </tr>\n",
       "    <tr>\n",
       "      <th>4</th>\n",
       "      <td>171081</td>\n",
       "      <td>1189</td>\n",
       "      <td>364</td>\n",
       "      <td>1947</td>\n",
       "      <td>3.690123</td>\n",
       "      <td>-0.263957</td>\n",
       "      <td>z</td>\n",
       "      <td>18745714</td>\n",
       "      <td>49569.964286</td>\n",
       "      <td>217</td>\n",
       "      <td>...</td>\n",
       "      <td>0.0</td>\n",
       "      <td>84.412797</td>\n",
       "      <td>1.395861</td>\n",
       "      <td>0.0</td>\n",
       "      <td>0.0</td>\n",
       "      <td>0.054263</td>\n",
       "      <td>4.841302</td>\n",
       "      <td>21.464869</td>\n",
       "      <td>3.674303</td>\n",
       "      <td>-0.290408</td>\n",
       "    </tr>\n",
       "  </tbody>\n",
       "</table>\n",
       "<p>5 rows × 45 columns</p>\n",
       "</div>"
      ],
      "text/plain": [
       "   obsHistID  sessionID  propID  fieldID   fieldRA  fieldDec filter   expDate  \\\n",
       "0     171077       1189     364     2123  3.502578 -0.203741      z  18745559   \n",
       "1     171078       1189     364     2109  3.556282 -0.208795      z  18745598   \n",
       "2     171079       1189     364     2103  3.609762 -0.213110      z  18745636   \n",
       "3     171080       1189     364     2082  3.663150 -0.216431      z  18745675   \n",
       "4     171081       1189     364     1947  3.690123 -0.263957      z  18745714   \n",
       "\n",
       "         expMJD  night     ...       moonBright  darkBright  rawSeeing  wind  \\\n",
       "0  49569.962492    217     ...              0.0   90.575602   1.395861   0.0   \n",
       "1  49569.962940    217     ...              0.0   88.780090   1.395861   0.0   \n",
       "2  49569.963388    217     ...              0.0   87.241597   1.395861   0.0   \n",
       "3  49569.963837    217     ...              0.0   85.930303   1.395861   0.0   \n",
       "4  49569.964286    217     ...              0.0   84.412797   1.395861   0.0   \n",
       "\n",
       "   humidity  slewDist  slewTime  fiveSigmaDepth  ditheredRA  ditheredDec  \n",
       "0       0.0  2.729285  0.000000       21.402429    3.486983    -0.230192  \n",
       "1       0.0  0.052807  4.701006       21.420436    3.540671    -0.235246  \n",
       "2       0.0  0.052469  4.665852       21.435982    3.594137    -0.239561  \n",
       "3       0.0  0.052268  4.820142       21.449321    3.647513    -0.242882  \n",
       "4       0.0  0.054263  4.841302       21.464869    3.674303    -0.290408  \n",
       "\n",
       "[5 rows x 45 columns]"
      ]
     },
     "execution_count": 21,
     "metadata": {},
     "output_type": "execute_result"
    }
   ],
   "source": [
    "_"
   ]
  },
  {
   "cell_type": "code",
   "execution_count": 22,
   "metadata": {
    "collapsed": true
   },
   "outputs": [],
   "source": [
    "pids = [364, 366]"
   ]
  },
  {
   "cell_type": "code",
   "execution_count": 23,
   "metadata": {
    "collapsed": false
   },
   "outputs": [],
   "source": [
    "x = ', '.join(list(str(pid) for pid in pids))"
   ]
  },
  {
   "cell_type": "code",
   "execution_count": 24,
   "metadata": {
    "collapsed": false
   },
   "outputs": [
    {
     "data": {
      "text/plain": [
       "'SELECT * FROM Summary WHERE propID == (364, 366)'"
      ]
     },
     "execution_count": 24,
     "metadata": {},
     "output_type": "execute_result"
    }
   ],
   "source": [
    "'SELECT * FROM Summary WHERE propID == ({})'.format(x)"
   ]
  },
  {
   "cell_type": "code",
   "execution_count": 25,
   "metadata": {
    "collapsed": false
   },
   "outputs": [
    {
     "name": "stdout",
     "output_type": "stream",
     "text": [
      " reading from database sqlite:////Users/rbiswas/.local/lib/python2.7/site-packages/opsimsummary/example_data/enigma_1189_micro.db\n",
      "SELECT * FROM Summary WHERE PROPID in (366, 364)\n"
     ]
    }
   ],
   "source": [
    "opout_comb = oss.OpSimOutput.fromOpSimDB(dbname=dbName, subset='combined')"
   ]
  },
  {
   "cell_type": "code",
   "execution_count": 38,
   "metadata": {
    "collapsed": false
   },
   "outputs": [
    {
     "data": {
      "text/plain": [
       "array([364, 366])"
      ]
     },
     "execution_count": 38,
     "metadata": {},
     "output_type": "execute_result"
    }
   ],
   "source": [
    "opout_comb.summary.propID.unique()"
   ]
  },
  {
   "cell_type": "code",
   "execution_count": 26,
   "metadata": {
    "collapsed": true
   },
   "outputs": [],
   "source": [
    "import pandas as pd"
   ]
  },
  {
   "cell_type": "code",
   "execution_count": 27,
   "metadata": {
    "collapsed": false
   },
   "outputs": [],
   "source": [
    "summarydf = pd.read_hdf('/tmp/opsim_small.hdf', key='Summary')"
   ]
  },
  {
   "cell_type": "code",
   "execution_count": 28,
   "metadata": {
    "collapsed": false
   },
   "outputs": [],
   "source": [
    "from  pandas.util.testing import assert_frame_equal"
   ]
  },
  {
   "cell_type": "code",
   "execution_count": 29,
   "metadata": {
    "collapsed": true
   },
   "outputs": [],
   "source": [
    "assert_frame_equal(summarydf, opout.summary)"
   ]
  },
  {
   "cell_type": "code",
   "execution_count": 30,
   "metadata": {
    "collapsed": true
   },
   "outputs": [],
   "source": [
    "engine = create_engine('sqlite:///' + dbName)"
   ]
  },
  {
   "cell_type": "code",
   "execution_count": 31,
   "metadata": {
    "collapsed": true
   },
   "outputs": [],
   "source": [
    "import pandas as pd"
   ]
  },
  {
   "cell_type": "code",
   "execution_count": 32,
   "metadata": {
    "collapsed": false
   },
   "outputs": [],
   "source": [
    "pids = tuple([366])"
   ]
  },
  {
   "cell_type": "code",
   "execution_count": 33,
   "metadata": {
    "collapsed": false
   },
   "outputs": [],
   "source": [
    "pids = [366, 364]"
   ]
  },
  {
   "cell_type": "code",
   "execution_count": 34,
   "metadata": {
    "collapsed": false
   },
   "outputs": [
    {
     "data": {
      "text/plain": [
       "'366, 364'"
      ]
     },
     "execution_count": 34,
     "metadata": {},
     "output_type": "execute_result"
    }
   ],
   "source": [
    "', '.join('{}'.format(x) for x in pids)"
   ]
  },
  {
   "cell_type": "code",
   "execution_count": 35,
   "metadata": {
    "collapsed": false
   },
   "outputs": [],
   "source": [
    "pids = [344, 366]"
   ]
  },
  {
   "cell_type": "code",
   "execution_count": 36,
   "metadata": {
    "collapsed": true
   },
   "outputs": [],
   "source": [
    "sql_query = \"SELECT * FROM Summary WHERE PROPID == \""
   ]
  },
  {
   "cell_type": "code",
   "execution_count": 37,
   "metadata": {
    "collapsed": false
   },
   "outputs": [
    {
     "ename": "SyntaxError",
     "evalue": "invalid syntax (<ipython-input-37-de1fa48c5cd4>, line 1)",
     "output_type": "error",
     "traceback": [
      "\u001b[0;36m  File \u001b[0;32m\"<ipython-input-37-de1fa48c5cd4>\"\u001b[0;36m, line \u001b[0;32m1\u001b[0m\n\u001b[0;31m    sql_query += \"({})\".format(pid) for pid in pids\u001b[0m\n\u001b[0m                                      ^\u001b[0m\n\u001b[0;31mSyntaxError\u001b[0m\u001b[0;31m:\u001b[0m invalid syntax\n"
     ]
    }
   ],
   "source": [
    "sql_query += \"({})\".format(pid) for pid in pids"
   ]
  },
  {
   "cell_type": "code",
   "execution_count": null,
   "metadata": {
    "collapsed": false
   },
   "outputs": [],
   "source": [
    "sql_query += \", \".join(list(\"({})\".format(pid) for pid in pids))"
   ]
  },
  {
   "cell_type": "code",
   "execution_count": null,
   "metadata": {
    "collapsed": false
   },
   "outputs": [],
   "source": [
    "sql_query"
   ]
  },
  {
   "cell_type": "code",
   "execution_count": null,
   "metadata": {
    "collapsed": false
   },
   "outputs": [],
   "source": [
    "pids"
   ]
  },
  {
   "cell_type": "code",
   "execution_count": null,
   "metadata": {
    "collapsed": false
   },
   "outputs": [],
   "source": [
    "df = pd.read_sql_query(sql_query, con=engine)"
   ]
  },
  {
   "cell_type": "code",
   "execution_count": null,
   "metadata": {
    "collapsed": false
   },
   "outputs": [],
   "source": [
    "df = pd.read_sql_query(\"SELECT * FROM Summary WHERE PROPID in (362, 366)\", con=engine)"
   ]
  },
  {
   "cell_type": "code",
   "execution_count": null,
   "metadata": {
    "collapsed": false
   },
   "outputs": [],
   "source": [
    "df.head()"
   ]
  },
  {
   "cell_type": "code",
   "execution_count": null,
   "metadata": {
    "collapsed": false
   },
   "outputs": [],
   "source": [
    "pids = [366]"
   ]
  },
  {
   "cell_type": "code",
   "execution_count": null,
   "metadata": {
    "collapsed": false
   },
   "outputs": [],
   "source": [
    "df.query('propID == @pids')"
   ]
  },
  {
   "cell_type": "code",
   "execution_count": null,
   "metadata": {
    "collapsed": false
   },
   "outputs": [],
   "source": [
    "df.propID.unique()"
   ]
  },
  {
   "cell_type": "code",
   "execution_count": null,
   "metadata": {
    "collapsed": false
   },
   "outputs": [],
   "source": [
    "df = oss.OpSimOutput.fromOpSimDB(dbName, subset='ddf')"
   ]
  },
  {
   "cell_type": "code",
   "execution_count": null,
   "metadata": {
    "collapsed": true
   },
   "outputs": [],
   "source": []
  },
  {
   "cell_type": "code",
   "execution_count": null,
   "metadata": {
    "collapsed": false
   },
   "outputs": [],
   "source": [
    "df.summary.head()"
   ]
  },
  {
   "cell_type": "code",
   "execution_count": null,
   "metadata": {
    "collapsed": false
   },
   "outputs": [],
   "source": [
    "pids = df.propIDVals('wfd', df.propIDDict, df.proposalTable)"
   ]
  },
  {
   "cell_type": "code",
   "execution_count": null,
   "metadata": {
    "collapsed": false
   },
   "outputs": [],
   "source": [
    "df.summary.query('propID == {}'.format(pids)).propID.unique()"
   ]
  },
  {
   "cell_type": "code",
   "execution_count": null,
   "metadata": {
    "collapsed": true
   },
   "outputs": [],
   "source": [
    "import sqlite3"
   ]
  },
  {
   "cell_type": "code",
   "execution_count": null,
   "metadata": {
    "collapsed": false
   },
   "outputs": [],
   "source": [
    "engine"
   ]
  },
  {
   "cell_type": "code",
   "execution_count": null,
   "metadata": {
    "collapsed": false
   },
   "outputs": [],
   "source": [
    "alldf = oss.summarize_opsim.OpSimOutput.fromOpSimDB(dbName, subset='_all')"
   ]
  },
  {
   "cell_type": "code",
   "execution_count": null,
   "metadata": {
    "collapsed": false
   },
   "outputs": [],
   "source": [
    "len(alldf.summary.drop_duplicates()) "
   ]
  },
  {
   "cell_type": "code",
   "execution_count": null,
   "metadata": {
    "collapsed": false
   },
   "outputs": [],
   "source": [
    "len(alldf.summary.reset_index().drop_duplicates(subset='obsHistID'))== len(alldf.summary)"
   ]
  },
  {
   "cell_type": "code",
   "execution_count": null,
   "metadata": {
    "collapsed": false
   },
   "outputs": [],
   "source": [
    "len(alldf.summary)"
   ]
  },
  {
   "cell_type": "code",
   "execution_count": null,
   "metadata": {
    "collapsed": false
   },
   "outputs": [],
   "source": [
    "unique_alldf = oss.summarize_opsim.OpSimOutput.fromOpSimDB(dbName, subset='unique_all')"
   ]
  },
  {
   "cell_type": "code",
   "execution_count": null,
   "metadata": {
    "collapsed": false
   },
   "outputs": [],
   "source": [
    "len(unique_alldf.summary)"
   ]
  },
  {
   "cell_type": "code",
   "execution_count": null,
   "metadata": {
    "collapsed": false
   },
   "outputs": [],
   "source": [
    "unique_alldf.summary.query('propID == [364, 366]').propID.unique()"
   ]
  },
  {
   "cell_type": "code",
   "execution_count": null,
   "metadata": {
    "collapsed": true
   },
   "outputs": [],
   "source": [
    "def myfunc(*args):\n",
    "    if len\n",
    "    return args[0]**2"
   ]
  },
  {
   "cell_type": "code",
   "execution_count": null,
   "metadata": {
    "collapsed": false
   },
   "outputs": [],
   "source": [
    "myfunc(2)"
   ]
  },
  {
   "cell_type": "code",
   "execution_count": null,
   "metadata": {
    "collapsed": true
   },
   "outputs": [],
   "source": [
    "alldf."
   ]
  },
  {
   "cell_type": "code",
   "execution_count": null,
   "metadata": {
    "collapsed": false
   },
   "outputs": [],
   "source": [
    "alldf.propIDDict"
   ]
  },
  {
   "cell_type": "code",
   "execution_count": null,
   "metadata": {
    "collapsed": false
   },
   "outputs": [],
   "source": [
    "alldf.summary.head()"
   ]
  },
  {
   "cell_type": "code",
   "execution_count": null,
   "metadata": {
    "collapsed": true
   },
   "outputs": [],
   "source": []
  }
 ],
 "metadata": {
  "anaconda-cloud": {},
  "kernelspec": {
   "display_name": "Python [default]",
   "language": "python",
   "name": "python2"
  },
  "language_info": {
   "codemirror_mode": {
    "name": "ipython",
    "version": 2
   },
   "file_extension": ".py",
   "mimetype": "text/x-python",
   "name": "python",
   "nbconvert_exporter": "python",
   "pygments_lexer": "ipython2",
   "version": "2.7.12"
  }
 },
 "nbformat": 4,
 "nbformat_minor": 0
}
