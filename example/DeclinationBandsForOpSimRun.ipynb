{
 "cells": [
  {
   "cell_type": "markdown",
   "metadata": {},
   "source": [
    "This notebook shows some quantities for the design of a new OpSim run in multiple Declination bands. The idea is to run only the WFD for the last nine years of LSST. We want to obtain\n",
    "- 3 equal area declination bands covering the area surveyed by WFD\n",
    "- Obtain the FieldIDs corresponding to these different bands\n",
    "- Get an estimate of the time spent in WFD vs all proposals in the baseline cadence"
   ]
  },
  {
   "cell_type": "code",
   "execution_count": 1,
   "metadata": {
    "collapsed": true
   },
   "outputs": [],
   "source": [
    "import numpy as np"
   ]
  },
  {
   "cell_type": "code",
   "execution_count": 2,
   "metadata": {
    "collapsed": true
   },
   "outputs": [],
   "source": [
    "from opsimsummary import OpSimOutput"
   ]
  },
  {
   "cell_type": "code",
   "execution_count": 3,
   "metadata": {
    "collapsed": true
   },
   "outputs": [],
   "source": [
    "%matplotlib inline\n",
    "import matplotlib.pyplot as plt\n",
    "from mpl_toolkits.basemap import Basemap\n",
    "import matplotlib.pyplot as plt"
   ]
  },
  {
   "cell_type": "code",
   "execution_count": 4,
   "metadata": {
    "collapsed": false
   },
   "outputs": [
    {
     "name": "stdout",
     "output_type": "stream",
     "text": [
      " reading from database sqlite:////Users/rbiswas/data/LSST/OpSimData/minion_1016_sqlite.db\n"
     ]
    }
   ],
   "source": [
    "opsout = OpSimOutput.fromOpSimDB('/Users/rbiswas/data/LSST/OpSimData/minion_1016_sqlite.db',\n",
    "                                subset='_all')"
   ]
  },
  {
   "cell_type": "code",
   "execution_count": 5,
   "metadata": {
    "collapsed": false
   },
   "outputs": [
    {
     "data": {
      "text/plain": [
       "2448282"
      ]
     },
     "execution_count": 5,
     "metadata": {},
     "output_type": "execute_result"
    }
   ],
   "source": [
    "opsout.summary.expMJD.size"
   ]
  },
  {
   "cell_type": "code",
   "execution_count": 6,
   "metadata": {
    "collapsed": false
   },
   "outputs": [
    {
     "data": {
      "text/plain": [
       "2447931"
      ]
     },
     "execution_count": 6,
     "metadata": {},
     "output_type": "execute_result"
    }
   ],
   "source": [
    "opsout.summary.reset_index().drop_duplicates(subset='obsHistID').expMJD.size"
   ]
  },
  {
   "cell_type": "markdown",
   "metadata": {},
   "source": [
    "## Declination Boundaries for the WFD proposal"
   ]
  },
  {
   "cell_type": "code",
   "execution_count": 7,
   "metadata": {
    "collapsed": false
   },
   "outputs": [],
   "source": [
    "maxdec = opsout.summary.query('propID == 54').fieldDec.max()\n",
    "mindec = opsout.summary.query('propID == 54').fieldDec.min()\n",
    "maxtheta = -  mindec + np.pi /2.0\n",
    "mintheta = -  maxdec + np.pi / 2.0"
   ]
  },
  {
   "cell_type": "markdown",
   "metadata": {},
   "source": [
    "#### Total area covered, should be ~ 0.5 sky"
   ]
  },
  {
   "cell_type": "code",
   "execution_count": 8,
   "metadata": {
    "collapsed": false
   },
   "outputs": [],
   "source": [
    "area = 2 * np.pi * (np.cos(mintheta) - np.cos(maxtheta))"
   ]
  },
  {
   "cell_type": "code",
   "execution_count": 9,
   "metadata": {
    "collapsed": false
   },
   "outputs": [
    {
     "data": {
      "text/plain": [
       "0.46500948237707568"
      ]
     },
     "execution_count": 9,
     "metadata": {},
     "output_type": "execute_result"
    }
   ],
   "source": [
    "# Check that the sky fraction is ~ 0.5\n",
    "area / 4 / np.pi"
   ]
  },
  {
   "cell_type": "markdown",
   "metadata": {},
   "source": [
    "### Equations for the boundary values:\n",
    "\n",
    "We want to divide the area covered by the by the WFD survey by two colatitudes into 3 bands of equal area. Therefore the equations are :"
   ]
  },
  {
   "cell_type": "markdown",
   "metadata": {},
   "source": [
    "2 * np.pi * (np.cos(mintheta) - cosb1) == area / 3.\n",
    "\n",
    "2 * np.pi * (cosb2 - np.cos(maxtheta)) == area / 3."
   ]
  },
  {
   "cell_type": "code",
   "execution_count": 10,
   "metadata": {
    "collapsed": false
   },
   "outputs": [],
   "source": [
    "b1 = np.arccos((2 * np.pi * np.cos(mintheta) - area /3)/ 2 /np.pi)\n",
    "b1dec = - b1 + np.pi/2"
   ]
  },
  {
   "cell_type": "code",
   "execution_count": 11,
   "metadata": {
    "collapsed": false
   },
   "outputs": [
    {
     "data": {
      "text/plain": [
       "-15.254591573425083"
      ]
     },
     "execution_count": 11,
     "metadata": {},
     "output_type": "execute_result"
    }
   ],
   "source": [
    "np.degrees(b1dec)"
   ]
  },
  {
   "cell_type": "code",
   "execution_count": 12,
   "metadata": {
    "collapsed": false
   },
   "outputs": [],
   "source": [
    "b2 = np.arccos(( area /3 + 2 * np.pi * np.cos(maxtheta) )/ 2 /np.pi)\n",
    "b2dec = -b2 + np.pi/2."
   ]
  },
  {
   "cell_type": "code",
   "execution_count": 13,
   "metadata": {
    "collapsed": false
   },
   "outputs": [
    {
     "data": {
      "text/plain": [
       "-34.967720698496933"
      ]
     },
     "execution_count": 13,
     "metadata": {},
     "output_type": "execute_result"
    }
   ],
   "source": [
    "np.degrees(b2dec)"
   ]
  },
  {
   "cell_type": "code",
   "execution_count": 14,
   "metadata": {
    "collapsed": false
   },
   "outputs": [],
   "source": [
    "def numFieldsinPatch(mindecval, maxdecval, patchName=None, propID=54):\n",
    "    #print mindecval, maxdecval#, patchname\n",
    "    if patchName is None:\n",
    "        patchName = ''\n",
    "    query_str ='fieldDec > {0} and fieldDec < {1}'.format(mindecval, maxdecval)\n",
    "    print (query_str)\n",
    "    dfpatch = opsout.summary.query(query_str)\n",
    "    numFields = len(dfpatch.reset_index().drop_duplicates(subset='obsHistID').fieldID.unique())\n",
    "    numFields_WFD = len(dfpatch.query('propID == {}'.format(propID)).fieldID.unique())\n",
    "    print('Total Number of fields in {2} patch is {0} and {1} are in WFD'.format(numFields,\n",
    "                                                                                 numFields_WFD,\n",
    "                                                                                 patchName))\n",
    "    return dfpatch, numFields, numFields_WFD"
   ]
  },
  {
   "cell_type": "code",
   "execution_count": 15,
   "metadata": {
    "collapsed": false
   },
   "outputs": [
    {
     "name": "stdout",
     "output_type": "stream",
     "text": [
      "fieldDec > @b1dec and fieldDec < @maxdec\n",
      "Total Number of fields in North patch is 832 and 795 are in WFD\n"
     ]
    }
   ],
   "source": [
    "dfNorthPatch, numFieldsNorth, numFieldsNorthWFD = numFieldsinPatch('@b1dec', '@maxdec', patchName='North')"
   ]
  },
  {
   "cell_type": "code",
   "execution_count": 16,
   "metadata": {
    "collapsed": false
   },
   "outputs": [
    {
     "name": "stdout",
     "output_type": "stream",
     "text": [
      "fieldDec > @b2dec and fieldDec < @b1dec\n",
      "Total Number of fields in Middle patch is 820 and 767 are in WFD\n"
     ]
    }
   ],
   "source": [
    "dfMiddlePatch, numFieldsMiddle, numFieldsMiddleWFD = numFieldsinPatch('@b2dec', \n",
    "                                                                   '@b1dec', patchName='Middle')"
   ]
  },
  {
   "cell_type": "code",
   "execution_count": 17,
   "metadata": {
    "collapsed": false
   },
   "outputs": [
    {
     "name": "stdout",
     "output_type": "stream",
     "text": [
      "fieldDec > @mindec and fieldDec < @b2dec\n",
      "Total Number of fields in South patch is 806 and 722 are in WFD\n"
     ]
    }
   ],
   "source": [
    "dfSouthPatch, numFieldsSouth, numFieldsSouthWFD = numFieldsinPatch('@mindec', \n",
    "                                                                   '@b2dec', patchName='South')"
   ]
  },
  {
   "cell_type": "code",
   "execution_count": 18,
   "metadata": {
    "collapsed": false
   },
   "outputs": [],
   "source": [
    "NorthFieldIDs = dfNorthPatch.query('propID == 54').fieldID\n",
    "MiddleFielIDs = dfMiddlePatch.query('propID == 54').fieldID\n",
    "SouthFielIDs = dfSouthPatch.query('propID == 54').fieldID"
   ]
  },
  {
   "cell_type": "code",
   "execution_count": 19,
   "metadata": {
    "collapsed": false
   },
   "outputs": [],
   "source": [
    "NorthFieldIDs.to_csv('NorthFieldIDs.csv', header=True, index=False)\n",
    "MiddleFielIDs.to_csv('MiddleFieldIDs.csv', header=True, index=False)\n",
    "SouthFielIDs.to_csv('SouthFieldIDs.csv', header=True, index=False)"
   ]
  },
  {
   "cell_type": "code",
   "execution_count": null,
   "metadata": {
    "collapsed": true
   },
   "outputs": [],
   "source": []
  },
  {
   "cell_type": "markdown",
   "metadata": {},
   "source": [
    "## Plots"
   ]
  },
  {
   "cell_type": "code",
   "execution_count": 20,
   "metadata": {
    "collapsed": false
   },
   "outputs": [
    {
     "data": {
      "text/plain": [
       "<matplotlib.collections.PathCollection at 0x10e454310>"
      ]
     },
     "execution_count": 20,
     "metadata": {},
     "output_type": "execute_result"
    },
    {
     "data": {
      "image/png": "[encoded data removed]",
      "text/plain": [
       "<matplotlib.figure.Figure at 0x1175b27d0>"
      ]
     },
     "metadata": {},
     "output_type": "display_data"
    }
   ],
   "source": [
    "fig, ax = plt.subplots()\n",
    "m = Basemap(#llcrnrlat=-32., llcrnrlon=48.,\n",
    "            #urcrnrlat=-22., urcrnrlon=58,\n",
    "            projection='moll', lon_0=0., lat_0=0., ax=ax)\n",
    "xN, yN = m(dfNorthPatch.fieldRA.apply(np.degrees).values, \n",
    "           dfNorthPatch.fieldDec.apply(np.degrees).values)\n",
    "xM, yM = m(dfMiddlePatch.fieldRA.apply(np.degrees).values, \n",
    "           dfMiddlePatch.fieldDec.apply(np.degrees).values)\n",
    "xS, yS = m(dfSouthPatch.fieldRA.apply(np.degrees).values, \n",
    "           dfSouthPatch.fieldDec.apply(np.degrees).values)\n",
    "\n",
    "\n",
    "\n",
    "m.scatter(xN, yN, marker='.', color='k')\n",
    "m.scatter(xM, yM, marker='.', color='r')\n",
    "m.scatter(xS, yS, marker='.', color='b')\n",
    "\n",
    "\n"
   ]
  },
  {
   "cell_type": "code",
   "execution_count": 21,
   "metadata": {
    "collapsed": false
   },
   "outputs": [],
   "source": [
    "fig.savefig('DecBands.png')"
   ]
  },
  {
   "cell_type": "code",
   "execution_count": null,
   "metadata": {
    "collapsed": true
   },
   "outputs": [],
   "source": []
  },
  {
   "cell_type": "code",
   "execution_count": null,
   "metadata": {
    "collapsed": false
   },
   "outputs": [],
   "source": []
  },
  {
   "cell_type": "code",
   "execution_count": null,
   "metadata": {
    "collapsed": false
   },
   "outputs": [],
   "source": []
  },
  {
   "cell_type": "markdown",
   "metadata": {},
   "source": [
    "## Checks "
   ]
  },
  {
   "cell_type": "markdown",
   "metadata": {},
   "source": [
    "__Check that fieldIDs don't overlap__ in the distinct bands"
   ]
  },
  {
   "cell_type": "code",
   "execution_count": 22,
   "metadata": {
    "collapsed": false
   },
   "outputs": [],
   "source": [
    "NF = set(NorthFieldIDs.values.tolist())\n",
    "MF = set(MiddleFielIDs.values.tolist())\n",
    "SF = set(SouthFielIDs.values.tolist())"
   ]
  },
  {
   "cell_type": "code",
   "execution_count": 23,
   "metadata": {
    "collapsed": false
   },
   "outputs": [
    {
     "name": "stdout",
     "output_type": "stream",
     "text": [
      "set([])\n",
      "set([])\n",
      "set([])\n"
     ]
    }
   ],
   "source": [
    "print(NF.intersection(MF))\n",
    "print(NF.intersection(SF))\n",
    "print(SF.intersection(MF))"
   ]
  },
  {
   "cell_type": "markdown",
   "metadata": {},
   "source": [
    "__Quick approximation__ : Is the total number of fields the same in each of the patches?"
   ]
  },
  {
   "cell_type": "code",
   "execution_count": 24,
   "metadata": {
    "collapsed": false
   },
   "outputs": [
    {
     "data": {
      "text/plain": [
       "(0.9555288461538461, 0.9353658536585366, 0.8957816377171216)"
      ]
     },
     "execution_count": 24,
     "metadata": {},
     "output_type": "execute_result"
    }
   ],
   "source": [
    "numFieldsNorthWFD/np.float(numFieldsNorth), numFieldsMiddleWFD/np.float(numFieldsMiddle), numFieldsSouthWFD/np.float(numFieldsSouth), "
   ]
  },
  {
   "cell_type": "code",
   "execution_count": 25,
   "metadata": {
    "collapsed": false
   },
   "outputs": [
    {
     "data": {
      "text/plain": [
       "(0.9647798742138365, 0.9081761006289308)"
      ]
     },
     "execution_count": 25,
     "metadata": {},
     "output_type": "execute_result"
    }
   ],
   "source": [
    "numFieldsMiddleWFD / np.float(numFieldsNorthWFD) , numFieldsSouthWFD/np.float(numFieldsNorthWFD)"
   ]
  },
  {
   "cell_type": "code",
   "execution_count": 26,
   "metadata": {
    "collapsed": false
   },
   "outputs": [
    {
     "data": {
      "text/plain": [
       "(0.9855769230769231, 0.96875)"
      ]
     },
     "execution_count": 26,
     "metadata": {},
     "output_type": "execute_result"
    }
   ],
   "source": [
    "numFieldsMiddle / np.float(numFieldsNorth) , numFieldsSouth/np.float(numFieldsNorth)"
   ]
  },
  {
   "cell_type": "markdown",
   "metadata": {},
   "source": [
    "So\n",
    "- The number of total unique fields seems to decrease as we go South in bands despite the choice of wider bands in the South to keep the areas equal by about 3 percent (26 fields) in going from the Northern band to the Souther band\n",
    "- The number of WFD deep fields in the dec bands decrease faster as we go South, falling by about 10 percent (approximately 70 fields) as we go from the Northern most band to the Southern most band, implying that the visits in the South are to different proposals\n",
    "- As we check below, this is due to many of the visits being to other proposals. One that accounts for about half of the extra fields is the Galactic plane (propID 52)"
   ]
  },
  {
   "cell_type": "code",
   "execution_count": 27,
   "metadata": {
    "collapsed": false
   },
   "outputs": [
    {
     "name": "stdout",
     "output_type": "stream",
     "text": [
      "fieldDec > @b1dec and fieldDec < @maxdec\n",
      "Total Number of fields in North patch is 832 and 37 are in WFD\n"
     ]
    }
   ],
   "source": [
    "x, nn1, nn2 = numFieldsinPatch('@b1dec', '@maxdec', patchName='North', propID=52)"
   ]
  },
  {
   "cell_type": "code",
   "execution_count": 28,
   "metadata": {
    "collapsed": false
   },
   "outputs": [
    {
     "name": "stdout",
     "output_type": "stream",
     "text": [
      "fieldDec > @b2dec and fieldDec < @b1dec\n",
      "Total Number of fields in Middle patch is 820 and 53 are in WFD\n"
     ]
    }
   ],
   "source": [
    "x, nm1, nm2 = numFieldsinPatch('@b2dec', '@b1dec', patchName='Middle', propID=52)"
   ]
  },
  {
   "cell_type": "code",
   "execution_count": 29,
   "metadata": {
    "collapsed": false
   },
   "outputs": [
    {
     "name": "stdout",
     "output_type": "stream",
     "text": [
      "fieldDec > @mindec and fieldDec < @b2dec\n",
      "Total Number of fields in South patch is 806 and 84 are in WFD\n"
     ]
    }
   ],
   "source": [
    "x, ns1, ns2 = numFieldsinPatch('@mindec','@b2dec', patchName='South', propID=52)"
   ]
  },
  {
   "cell_type": "markdown",
   "metadata": {},
   "source": [
    "We will ignore the smaller number of fields in the Southern bands for now"
   ]
  },
  {
   "cell_type": "markdown",
   "metadata": {},
   "source": [
    "## Time for OpSim\n",
    "\n",
    "We will consider visits in the last nine years of the survey to account for the fact that the first year is likely different."
   ]
  },
  {
   "cell_type": "code",
   "execution_count": 30,
   "metadata": {
    "collapsed": false
   },
   "outputs": [],
   "source": [
    "dfall = opsout.summary.query('night > 365')"
   ]
  },
  {
   "cell_type": "code",
   "execution_count": 31,
   "metadata": {
    "collapsed": false
   },
   "outputs": [],
   "source": [
    "wfd = dfall.query('propID == 54')\n",
    "numWFD = len(wfd)"
   ]
  },
  {
   "cell_type": "code",
   "execution_count": 32,
   "metadata": {
    "collapsed": false
   },
   "outputs": [],
   "source": [
    "numOther = len(dfall) - len(wfd)"
   ]
  },
  {
   "cell_type": "code",
   "execution_count": 33,
   "metadata": {
    "collapsed": false
   },
   "outputs": [
    {
     "data": {
      "text/plain": [
       "0.11913749198460225"
      ]
     },
     "execution_count": 33,
     "metadata": {},
     "output_type": "execute_result"
    }
   ],
   "source": [
    "numOther/ np.float(numWFD) "
   ]
  },
  {
   "cell_type": "code",
   "execution_count": 34,
   "metadata": {
    "collapsed": false
   },
   "outputs": [
    {
     "data": {
      "text/plain": [
       "0.8935452588820593"
      ]
     },
     "execution_count": 34,
     "metadata": {},
     "output_type": "execute_result"
    }
   ],
   "source": [
    "np.float(numWFD) / np.float(len(dfall))"
   ]
  },
  {
   "cell_type": "markdown",
   "metadata": {},
   "source": [
    "So, I suppose a quick approximaton will be to do only the WFD survey during the last three\n",
    "years, and downsample to 89 percent of the vists. Note that galactic plane, south Celestial \n",
    "cap are done in the first year itself. So these 9 years are shared between the WFD, DDF, and \n",
    "North Ecliptic Spur."
   ]
  },
  {
   "cell_type": "markdown",
   "metadata": {},
   "source": [
    "###  Random Fields"
   ]
  },
  {
   "cell_type": "code",
   "execution_count": 39,
   "metadata": {
    "collapsed": false
   },
   "outputs": [
    {
     "data": {
      "text/plain": [
       "0.030543261909900768"
      ]
     },
     "execution_count": 39,
     "metadata": {},
     "output_type": "execute_result"
    }
   ],
   "source": [
    "np.radians(1.75)"
   ]
  },
  {
   "cell_type": "code",
   "execution_count": 35,
   "metadata": {
    "collapsed": false
   },
   "outputs": [
    {
     "data": {
      "text/plain": [
       "Index([u'sessionID', u'propID', u'fieldID', u'fieldRA', u'fieldDec', u'filter',\n",
       "       u'expDate', u'expMJD', u'night', u'visitTime', u'visitExpTime',\n",
       "       u'finRank', u'FWHMeff', u'FWHMgeom', u'transparency', u'airmass',\n",
       "       u'vSkyBright', u'filtSkyBrightness', u'rotSkyPos', u'rotTelPos', u'lst',\n",
       "       u'altitude', u'azimuth', u'dist2Moon', u'solarElong', u'moonRA',\n",
       "       u'moonDec', u'moonAlt', u'moonAZ', u'moonPhase', u'sunAlt', u'sunAz',\n",
       "       u'phaseAngle', u'rScatter', u'mieScatter', u'moonIllum', u'moonBright',\n",
       "       u'darkBright', u'rawSeeing', u'wind', u'humidity', u'slewDist',\n",
       "       u'slewTime', u'fiveSigmaDepth', u'ditheredRA', u'ditheredDec'],\n",
       "      dtype='object')"
      ]
     },
     "execution_count": 35,
     "metadata": {},
     "output_type": "execute_result"
    }
   ],
   "source": [
    "opsout.summary.columns"
   ]
  },
  {
   "cell_type": "code",
   "execution_count": 42,
   "metadata": {
    "collapsed": false
   },
   "outputs": [],
   "source": [
    "FieldIDs = opsout.summary.query('propID == 54').drop_duplicates(subset='fieldID')[['fieldID', 'fieldRA', 'fieldDec']]\n",
    "FieldIDs[['fieldRA', 'fieldDec']] = FieldIDs[['fieldRA', 'fieldDec']].apply(np.degrees) \n",
    "FieldIDs['width'] = 0.03\n",
    "rng = np.random.RandomState(0)\n",
    "FieldIDs = FieldIDs.sample(frac=1, replace=False, random_state=rng)\n",
    "groups = np.array_split(FieldIDs, 3)"
   ]
  },
  {
   "cell_type": "code",
   "execution_count": 43,
   "metadata": {
    "collapsed": false
   },
   "outputs": [
    {
     "data": {
      "text/plain": [
       "765"
      ]
     },
     "execution_count": 43,
     "metadata": {},
     "output_type": "execute_result"
    }
   ],
   "source": [
    "groups[0].fieldID.size"
   ]
  },
  {
   "cell_type": "markdown",
   "metadata": {},
   "source": [
    "#### Check"
   ]
  },
  {
   "cell_type": "code",
   "execution_count": null,
   "metadata": {
    "collapsed": false
   },
   "outputs": [],
   "source": [
    "  - FieldIDs.fieldID.size"
   ]
  },
  {
   "cell_type": "code",
   "execution_count": 44,
   "metadata": {
    "collapsed": false
   },
   "outputs": [
    {
     "data": {
      "text/plain": [
       "<matplotlib.collections.PathCollection at 0x10fba51d0>"
      ]
     },
     "execution_count": 44,
     "metadata": {},
     "output_type": "execute_result"
    },
    {
     "data": {
      "image/png": "[encoded data removed]",
      "text/plain": [
       "<matplotlib.figure.Figure at 0x120c77350>"
      ]
     },
     "metadata": {},
     "output_type": "display_data"
    }
   ],
   "source": [
    "fig, ax = plt.subplots()\n",
    "m = Basemap(#llcrnrlat=-32., llcrnrlon=48.,\n",
    "            #urcrnrlat=-22., urcrnrlon=58,\n",
    "            projection='moll', lon_0=0., lat_0=0., ax=ax)\n",
    "xN, yN = m(groups[0].fieldRA.values, \n",
    "           groups[0].fieldDec.values)\n",
    "xM, yM = m(groups[1].fieldRA.values, \n",
    "           groups[1].fieldDec.values)\n",
    "xS, yS = m(groups[2].fieldRA.values, \n",
    "           groups[2].fieldDec.values)\n",
    "\n",
    "m.scatter(xN, yN, marker='.', color='k')\n",
    "m.scatter(xM, yM, marker='.', color='b')\n",
    "m.scatter(xS, yS, marker='.', color='r')"
   ]
  },
  {
   "cell_type": "code",
   "execution_count": 45,
   "metadata": {
    "collapsed": true
   },
   "outputs": [],
   "source": [
    "fig.savefig('random_fields.png')"
   ]
  },
  {
   "cell_type": "code",
   "execution_count": 46,
   "metadata": {
    "collapsed": true
   },
   "outputs": [],
   "source": [
    "groups[0].to_csv('Group_0.csv')\n",
    "groups[1].to_csv('Group_1.csv')\n",
    "groups[2].to_csv('Group_2.csv')"
   ]
  },
  {
   "cell_type": "markdown",
   "metadata": {},
   "source": [
    "# Scratch"
   ]
  },
  {
   "cell_type": "code",
   "execution_count": null,
   "metadata": {
    "collapsed": false
   },
   "outputs": [],
   "source": [
    "dfall.propID.unique()"
   ]
  },
  {
   "cell_type": "code",
   "execution_count": null,
   "metadata": {
    "collapsed": false
   },
   "outputs": [],
   "source": [
    "opsout.propIDDict"
   ]
  },
  {
   "cell_type": "code",
   "execution_count": null,
   "metadata": {
    "collapsed": false
   },
   "outputs": [],
   "source": [
    "opsout.summary.query('propID == 53').night.max()"
   ]
  },
  {
   "cell_type": "code",
   "execution_count": null,
   "metadata": {
    "collapsed": false
   },
   "outputs": [],
   "source": [
    "\n",
    "fig, ax = plt.subplots()\n",
    "opsout.summary.query('propID == 55').night.hist(histtype='step', \n",
    "                                                bins=np.arange(0., 3650., 10.),\n",
    "                                                lw=2., ax=ax)\n",
    "opsout.summary.query('propID == 52').night.hist(histtype='step', \n",
    "                                                bins=np.arange(0., 3650., 10.),\n",
    "                                                lw=2.,ax =ax)\n",
    "opsout.summary.query('propID == 53').night.hist(histtype='step', \n",
    "                                                bins=np.arange(0., 3650., 10.),\n",
    "                                                lw=2.,ax=ax)\n",
    "opsout.summary.query('propID == 54').night.hist(histtype='step', \n",
    "                                                bins=np.arange(0., 3650., 10.),\n",
    "                                                lw=2., ax=ax)\n",
    "opsout.summary.query('propID == 56').night.hist(histtype='step', \n",
    "                                                bins=np.arange(0., 3650., 10.),\n",
    "                                                lw=2., ax=ax)"
   ]
  },
  {
   "cell_type": "code",
   "execution_count": null,
   "metadata": {
    "collapsed": false
   },
   "outputs": [],
   "source": [
    "fig, ax = plt.subplots()\n",
    "wfd.slewTime.hist(histtype='step', color='k', lw=2., alpha=1., ax=ax, bins=np.arange(0., 160., 5.), normed=1)\n",
    "dfall.query('propID == 52').slewTime.hist(histtype='step', color='r', \n",
    "                                          ls='dashed', lw=2., ax=ax,\n",
    "                                          bins=np.arange(0., 160., 5.), normed=1)"
   ]
  },
  {
   "cell_type": "code",
   "execution_count": null,
   "metadata": {
    "collapsed": false
   },
   "outputs": [],
   "source": [
    "np.pi * 8.4 * 1000 /2."
   ]
  },
  {
   "cell_type": "code",
   "execution_count": null,
   "metadata": {
    "collapsed": false
   },
   "outputs": [],
   "source": [
    "opsout.summary.plot(x='slewDist', y='slewTime', kind='scatter')"
   ]
  },
  {
   "cell_type": "code",
   "execution_count": null,
   "metadata": {
    "collapsed": true
   },
   "outputs": [],
   "source": [
    "import seaborn as sns\n",
    "sns.set_style('whitegrid')"
   ]
  },
  {
   "cell_type": "code",
   "execution_count": null,
   "metadata": {
    "collapsed": false
   },
   "outputs": [],
   "source": [
    "opsout.summary.query('slewTime == 0.')"
   ]
  },
  {
   "cell_type": "code",
   "execution_count": 40,
   "metadata": {
    "collapsed": false
   },
   "outputs": [
    {
     "data": {
      "text/plain": [
       "-62.021191632644268"
      ]
     },
     "execution_count": 40,
     "metadata": {},
     "output_type": "execute_result"
    }
   ],
   "source": [
    "np.degrees(-1.082474)"
   ]
  },
  {
   "cell_type": "code",
   "execution_count": null,
   "metadata": {
    "collapsed": true
   },
   "outputs": [],
   "source": []
  }
 ],
 "metadata": {
  "anaconda-cloud": {},
  "kernelspec": {
   "display_name": "Python [default]",
   "language": "python",
   "name": "python2"
  },
  "language_info": {
   "codemirror_mode": {
    "name": "ipython",
    "version": 2
   },
   "file_extension": ".py",
   "mimetype": "text/x-python",
   "name": "python",
   "nbconvert_exporter": "python",
   "pygments_lexer": "ipython2",
   "version": "2.7.12"
  }
 },
 "nbformat": 4,
 "nbformat_minor": 1
}
