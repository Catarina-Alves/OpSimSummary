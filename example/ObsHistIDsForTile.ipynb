{
 "cells": [
  {
   "cell_type": "code",
   "execution_count": 1,
   "metadata": {
    "collapsed": true
   },
   "outputs": [],
   "source": [
    "# Obtain the OpSim summary in a dataFrame"
   ]
  },
  {
   "cell_type": "code",
   "execution_count": 1,
   "metadata": {
    "collapsed": true
   },
   "outputs": [],
   "source": [
    "import pandas as pd\n",
    "import numpy as np\n",
    "import opsimsummary as oss\n",
    "import os"
   ]
  },
  {
   "cell_type": "code",
   "execution_count": 11,
   "metadata": {
    "collapsed": true
   },
   "outputs": [],
   "source": [
    "pkgDir = os.path.split(oss.__file__)[0]\n",
    "dbname = os.path.join(pkgDir, 'example_data', 'enigma_1189_micro.db')\n"
   ]
  },
  {
   "cell_type": "code",
   "execution_count": 16,
   "metadata": {
    "collapsed": false
   },
   "outputs": [
    {
     "name": "stdout",
     "output_type": "stream",
     "text": [
      " 27M\t/Users/rbiswas/.local/lib/python2.7/site-packages/opsimsummary/example_data/enigma_1189_micro.db\r\n"
     ]
    }
   ],
   "source": [
    "!du -h $dbname"
   ]
  },
  {
   "cell_type": "code",
   "execution_count": 4,
   "metadata": {
    "collapsed": true
   },
   "outputs": [],
   "source": [
    "from sqlalchemy import create_engine"
   ]
  },
  {
   "cell_type": "code",
   "execution_count": 17,
   "metadata": {
    "collapsed": false
   },
   "outputs": [],
   "source": [
    "engine = create_engine('sqlite:///' + dbname)"
   ]
  },
  {
   "cell_type": "code",
   "execution_count": 21,
   "metadata": {
    "collapsed": false
   },
   "outputs": [],
   "source": [
    "df = pd.read_sql_query('SELECT * FROM Summary WHERE PropID is 364' , con=engine, index_col='obsHistID')"
   ]
  },
  {
   "cell_type": "code",
   "execution_count": 22,
   "metadata": {
    "collapsed": false
   },
   "outputs": [
    {
     "data": {
      "text/html": [
       "<div>\n",
       "<table border=\"1\" class=\"dataframe\">\n",
       "  <thead>\n",
       "    <tr style=\"text-align: right;\">\n",
       "      <th></th>\n",
       "      <th>sessionID</th>\n",
       "      <th>propID</th>\n",
       "      <th>fieldID</th>\n",
       "      <th>fieldRA</th>\n",
       "      <th>fieldDec</th>\n",
       "      <th>filter</th>\n",
       "      <th>expDate</th>\n",
       "      <th>expMJD</th>\n",
       "      <th>night</th>\n",
       "      <th>visitTime</th>\n",
       "      <th>...</th>\n",
       "      <th>moonBright</th>\n",
       "      <th>darkBright</th>\n",
       "      <th>rawSeeing</th>\n",
       "      <th>wind</th>\n",
       "      <th>humidity</th>\n",
       "      <th>slewDist</th>\n",
       "      <th>slewTime</th>\n",
       "      <th>fiveSigmaDepth</th>\n",
       "      <th>ditheredRA</th>\n",
       "      <th>ditheredDec</th>\n",
       "    </tr>\n",
       "    <tr>\n",
       "      <th>obsHistID</th>\n",
       "      <th></th>\n",
       "      <th></th>\n",
       "      <th></th>\n",
       "      <th></th>\n",
       "      <th></th>\n",
       "      <th></th>\n",
       "      <th></th>\n",
       "      <th></th>\n",
       "      <th></th>\n",
       "      <th></th>\n",
       "      <th></th>\n",
       "      <th></th>\n",
       "      <th></th>\n",
       "      <th></th>\n",
       "      <th></th>\n",
       "      <th></th>\n",
       "      <th></th>\n",
       "      <th></th>\n",
       "      <th></th>\n",
       "      <th></th>\n",
       "      <th></th>\n",
       "    </tr>\n",
       "  </thead>\n",
       "  <tbody>\n",
       "    <tr>\n",
       "      <th>171077</th>\n",
       "      <td>1189</td>\n",
       "      <td>364</td>\n",
       "      <td>2123</td>\n",
       "      <td>3.502578</td>\n",
       "      <td>-0.203741</td>\n",
       "      <td>z</td>\n",
       "      <td>18745559</td>\n",
       "      <td>49569.962492</td>\n",
       "      <td>217</td>\n",
       "      <td>34.0</td>\n",
       "      <td>...</td>\n",
       "      <td>0.0</td>\n",
       "      <td>90.575602</td>\n",
       "      <td>1.395861</td>\n",
       "      <td>0.0</td>\n",
       "      <td>0.0</td>\n",
       "      <td>2.729285</td>\n",
       "      <td>0.000000</td>\n",
       "      <td>21.402429</td>\n",
       "      <td>3.486983</td>\n",
       "      <td>-0.230192</td>\n",
       "    </tr>\n",
       "    <tr>\n",
       "      <th>171078</th>\n",
       "      <td>1189</td>\n",
       "      <td>364</td>\n",
       "      <td>2109</td>\n",
       "      <td>3.556282</td>\n",
       "      <td>-0.208795</td>\n",
       "      <td>z</td>\n",
       "      <td>18745598</td>\n",
       "      <td>49569.962940</td>\n",
       "      <td>217</td>\n",
       "      <td>34.0</td>\n",
       "      <td>...</td>\n",
       "      <td>0.0</td>\n",
       "      <td>88.780090</td>\n",
       "      <td>1.395861</td>\n",
       "      <td>0.0</td>\n",
       "      <td>0.0</td>\n",
       "      <td>0.052807</td>\n",
       "      <td>4.701006</td>\n",
       "      <td>21.420436</td>\n",
       "      <td>3.540671</td>\n",
       "      <td>-0.235246</td>\n",
       "    </tr>\n",
       "    <tr>\n",
       "      <th>171079</th>\n",
       "      <td>1189</td>\n",
       "      <td>364</td>\n",
       "      <td>2103</td>\n",
       "      <td>3.609762</td>\n",
       "      <td>-0.213110</td>\n",
       "      <td>z</td>\n",
       "      <td>18745636</td>\n",
       "      <td>49569.963388</td>\n",
       "      <td>217</td>\n",
       "      <td>34.0</td>\n",
       "      <td>...</td>\n",
       "      <td>0.0</td>\n",
       "      <td>87.241597</td>\n",
       "      <td>1.395861</td>\n",
       "      <td>0.0</td>\n",
       "      <td>0.0</td>\n",
       "      <td>0.052469</td>\n",
       "      <td>4.665852</td>\n",
       "      <td>21.435982</td>\n",
       "      <td>3.594137</td>\n",
       "      <td>-0.239561</td>\n",
       "    </tr>\n",
       "    <tr>\n",
       "      <th>171080</th>\n",
       "      <td>1189</td>\n",
       "      <td>364</td>\n",
       "      <td>2082</td>\n",
       "      <td>3.663150</td>\n",
       "      <td>-0.216431</td>\n",
       "      <td>z</td>\n",
       "      <td>18745675</td>\n",
       "      <td>49569.963837</td>\n",
       "      <td>217</td>\n",
       "      <td>34.0</td>\n",
       "      <td>...</td>\n",
       "      <td>0.0</td>\n",
       "      <td>85.930303</td>\n",
       "      <td>1.395861</td>\n",
       "      <td>0.0</td>\n",
       "      <td>0.0</td>\n",
       "      <td>0.052268</td>\n",
       "      <td>4.820142</td>\n",
       "      <td>21.449321</td>\n",
       "      <td>3.647513</td>\n",
       "      <td>-0.242882</td>\n",
       "    </tr>\n",
       "    <tr>\n",
       "      <th>171081</th>\n",
       "      <td>1189</td>\n",
       "      <td>364</td>\n",
       "      <td>1947</td>\n",
       "      <td>3.690123</td>\n",
       "      <td>-0.263957</td>\n",
       "      <td>z</td>\n",
       "      <td>18745714</td>\n",
       "      <td>49569.964286</td>\n",
       "      <td>217</td>\n",
       "      <td>34.0</td>\n",
       "      <td>...</td>\n",
       "      <td>0.0</td>\n",
       "      <td>84.412797</td>\n",
       "      <td>1.395861</td>\n",
       "      <td>0.0</td>\n",
       "      <td>0.0</td>\n",
       "      <td>0.054263</td>\n",
       "      <td>4.841302</td>\n",
       "      <td>21.464869</td>\n",
       "      <td>3.674303</td>\n",
       "      <td>-0.290408</td>\n",
       "    </tr>\n",
       "  </tbody>\n",
       "</table>\n",
       "<p>5 rows × 44 columns</p>\n",
       "</div>"
      ],
      "text/plain": [
       "           sessionID  propID  fieldID   fieldRA  fieldDec filter   expDate  \\\n",
       "obsHistID                                                                    \n",
       "171077          1189     364     2123  3.502578 -0.203741      z  18745559   \n",
       "171078          1189     364     2109  3.556282 -0.208795      z  18745598   \n",
       "171079          1189     364     2103  3.609762 -0.213110      z  18745636   \n",
       "171080          1189     364     2082  3.663150 -0.216431      z  18745675   \n",
       "171081          1189     364     1947  3.690123 -0.263957      z  18745714   \n",
       "\n",
       "                 expMJD  night  visitTime     ...       moonBright  \\\n",
       "obsHistID                                     ...                    \n",
       "171077     49569.962492    217       34.0     ...              0.0   \n",
       "171078     49569.962940    217       34.0     ...              0.0   \n",
       "171079     49569.963388    217       34.0     ...              0.0   \n",
       "171080     49569.963837    217       34.0     ...              0.0   \n",
       "171081     49569.964286    217       34.0     ...              0.0   \n",
       "\n",
       "           darkBright  rawSeeing  wind  humidity  slewDist  slewTime  \\\n",
       "obsHistID                                                              \n",
       "171077      90.575602   1.395861   0.0       0.0  2.729285  0.000000   \n",
       "171078      88.780090   1.395861   0.0       0.0  0.052807  4.701006   \n",
       "171079      87.241597   1.395861   0.0       0.0  0.052469  4.665852   \n",
       "171080      85.930303   1.395861   0.0       0.0  0.052268  4.820142   \n",
       "171081      84.412797   1.395861   0.0       0.0  0.054263  4.841302   \n",
       "\n",
       "           fiveSigmaDepth  ditheredRA  ditheredDec  \n",
       "obsHistID                                           \n",
       "171077          21.402429    3.486983    -0.230192  \n",
       "171078          21.420436    3.540671    -0.235246  \n",
       "171079          21.435982    3.594137    -0.239561  \n",
       "171080          21.449321    3.647513    -0.242882  \n",
       "171081          21.464869    3.674303    -0.290408  \n",
       "\n",
       "[5 rows x 44 columns]"
      ]
     },
     "execution_count": 22,
     "metadata": {},
     "output_type": "execute_result"
    }
   ],
   "source": [
    "df.head()"
   ]
  },
  {
   "cell_type": "code",
   "execution_count": 23,
   "metadata": {
    "collapsed": false
   },
   "outputs": [],
   "source": [
    "h = oss.HealPixelizedOpSim(opsimDF=df)"
   ]
  },
  {
   "cell_type": "code",
   "execution_count": 24,
   "metadata": {
    "collapsed": false
   },
   "outputs": [],
   "source": [
    "h.doPreCalcs()"
   ]
  },
  {
   "cell_type": "code",
   "execution_count": 25,
   "metadata": {
    "collapsed": false
   },
   "outputs": [
    {
     "data": {
      "text/plain": [
       "array([172110, 175948, 175949, ..., 269958, 269959, 269960])"
      ]
     },
     "execution_count": 25,
     "metadata": {},
     "output_type": "execute_result"
    }
   ],
   "source": [
    "h.obsHistIdsForTile(0)"
   ]
  },
  {
   "cell_type": "code",
   "execution_count": 27,
   "metadata": {
    "collapsed": true
   },
   "outputs": [],
   "source": [
    "def inhids(lst):\n",
    "    return 9 in lst"
   ]
  },
  {
   "cell_type": "code",
   "execution_count": 28,
   "metadata": {
    "collapsed": false
   },
   "outputs": [
    {
     "data": {
      "text/plain": [
       "True"
      ]
     },
     "execution_count": 28,
     "metadata": {},
     "output_type": "execute_result"
    }
   ],
   "source": [
    "all(h.opsimdf.obsHistID[h.opsimdf.hids.apply(inhids).values].values == h.obsHistIdsForTile(9))"
   ]
  }
 ],
 "metadata": {
  "kernelspec": {
   "display_name": "Python 2",
   "language": "python",
   "name": "python2"
  }
 },
 "nbformat": 4,
 "nbformat_minor": 0
}
