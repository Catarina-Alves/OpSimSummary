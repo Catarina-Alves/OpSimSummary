{
 "cells": [
  {
   "cell_type": "code",
   "execution_count": 1,
   "metadata": {
    "collapsed": false
   },
   "outputs": [],
   "source": [
    "%matplotlib inline\n",
    "import matplotlib.pyplot as plt\n",
    "import seaborn as sns\n",
    "sns.set_style('whitegrid')\n",
    "sns.set_context('notebook')"
   ]
  },
  {
   "cell_type": "code",
   "execution_count": 2,
   "metadata": {
    "collapsed": false
   },
   "outputs": [],
   "source": [
    "import opsimsummary as oss"
   ]
  },
  {
   "cell_type": "code",
   "execution_count": 3,
   "metadata": {
    "collapsed": true
   },
   "outputs": [],
   "source": [
    "from opsimsummary import OpSimOutput, HealpixTiles"
   ]
  },
  {
   "cell_type": "code",
   "execution_count": 4,
   "metadata": {
    "collapsed": true
   },
   "outputs": [],
   "source": [
    "import healpy as hp"
   ]
  },
  {
   "cell_type": "code",
   "execution_count": 5,
   "metadata": {
    "collapsed": true
   },
   "outputs": [],
   "source": [
    "import numpy as np"
   ]
  },
  {
   "cell_type": "code",
   "execution_count": 6,
   "metadata": {
    "collapsed": true
   },
   "outputs": [],
   "source": [
    "import pandas as pd\n",
    "from sqlalchemy import create_engine"
   ]
  },
  {
   "cell_type": "code",
   "execution_count": 7,
   "metadata": {
    "collapsed": true
   },
   "outputs": [],
   "source": [
    "import os"
   ]
  },
  {
   "cell_type": "code",
   "execution_count": 36,
   "metadata": {
    "collapsed": false
   },
   "outputs": [],
   "source": [
    "hptest = os.path.join(os.path.split(oss.__file__)[0], 'example_data', 'healpixels_micro.db')\n",
    "opsimtest = os.path.join(os.path.split(oss.__file__)[0], 'example_data', 'enigma_1189_micro.db')"
   ]
  },
  {
   "cell_type": "code",
   "execution_count": 9,
   "metadata": {
    "collapsed": false
   },
   "outputs": [
    {
     "name": "stdout",
     "output_type": "stream",
     "text": [
      " reading from database sqlite:////Users/rbiswas/.local/lib/python2.7/site-packages/opsimsummary/example_data/enigma_1189_micro.db\n",
      "SELECT * FROM Summary WHERE PROPID in (366, 364)\n"
     ]
    },
    {
     "name": "stderr",
     "output_type": "stream",
     "text": [
      "/Users/rbiswas/soft/LSST/DarwinX86/miniconda2/4.2.12.lsst1/lib/python2.7/site-packages/pandas/core/indexing.py:476: SettingWithCopyWarning: \n",
      "A value is trying to be set on a copy of a slice from a DataFrame.\n",
      "Try using .loc[row_indexer,col_indexer] = value instead\n",
      "\n",
      "See the caveats in the documentation: http://pandas.pydata.org/pandas-docs/stable/indexing.html#indexing-view-versus-copy\n",
      "  self.obj[item] = s\n"
     ]
    }
   ],
   "source": [
    "opsout = OpSimOutput.fromOpSimDB(opsimtest)"
   ]
  },
  {
   "cell_type": "code",
   "execution_count": 10,
   "metadata": {
    "collapsed": false
   },
   "outputs": [],
   "source": [
    "ra_fields = opsout.summary.ditheredRA\n",
    "dec_fields = opsout.summary.ditheredDec"
   ]
  },
  {
   "cell_type": "code",
   "execution_count": 37,
   "metadata": {
    "collapsed": false
   },
   "outputs": [],
   "source": [
    "hpt = HealpixTiles(nside=128, preComputedMap=hptest)"
   ]
  },
  {
   "cell_type": "code",
   "execution_count": 12,
   "metadata": {
    "collapsed": false
   },
   "outputs": [],
   "source": [
    "hpt_ball = HealpixTiles(nside=128, opsimdf=opsout.summary)"
   ]
  },
  {
   "cell_type": "code",
   "execution_count": 13,
   "metadata": {
    "collapsed": false
   },
   "outputs": [],
   "source": [
    "theta, phi = oss.convertToSphericalCoordinates(ra=54., dec=-27.5)\n",
    "ipixval = hp.ang2pix(128, theta[0], phi[0], nest=True)"
   ]
  },
  {
   "cell_type": "code",
   "execution_count": 14,
   "metadata": {
    "collapsed": false
   },
   "outputs": [
    {
     "data": {
      "text/plain": [
       "144424"
      ]
     },
     "execution_count": 14,
     "metadata": {},
     "output_type": "execute_result"
    }
   ],
   "source": [
    "ipixval"
   ]
  },
  {
   "cell_type": "code",
   "execution_count": 15,
   "metadata": {
    "collapsed": false
   },
   "outputs": [
    {
     "data": {
      "text/plain": [
       "array([ 53.00913847, -27.43894881])"
      ]
     },
     "execution_count": 15,
     "metadata": {},
     "output_type": "execute_result"
    }
   ],
   "source": [
    "np.degrees([0.925184, -0.4789])"
   ]
  },
  {
   "cell_type": "code",
   "execution_count": null,
   "metadata": {
    "collapsed": true
   },
   "outputs": [],
   "source": [
    "# Check that the maximal pointings make sense"
   ]
  },
  {
   "cell_type": "code",
   "execution_count": 43,
   "metadata": {
    "collapsed": false
   },
   "outputs": [
    {
     "data": {
      "text/plain": [
       "set()"
      ]
     },
     "execution_count": 43,
     "metadata": {},
     "output_type": "execute_result"
    }
   ],
   "source": [
    "set(np.sort(hpt_ball.pointingTree.pointingsEnclosing(54., -27.5, 0.)[0])) -  set(np.sort(hpt_ball.pointingSequenceForTile(ipixval)[0]))"
   ]
  },
  {
   "cell_type": "code",
   "execution_count": 50,
   "metadata": {
    "collapsed": false
   },
   "outputs": [
    {
     "data": {
      "text/plain": [
       "array([ 0.9424778 , -0.47996554])"
      ]
     },
     "execution_count": 50,
     "metadata": {},
     "output_type": "execute_result"
    }
   ],
   "source": [
    "np.radians([54., -27.5])"
   ]
  },
  {
   "cell_type": "code",
   "execution_count": 16,
   "metadata": {
    "collapsed": false
   },
   "outputs": [
    {
     "data": {
      "text/plain": [
       "{191652,\n",
       " 191684,\n",
       " 193483,\n",
       " 193514,\n",
       " 196390,\n",
       " 203315,\n",
       " 204155,\n",
       " 204200,\n",
       " 206908,\n",
       " 206911,\n",
       " 212016,\n",
       " 212035,\n",
       " 212835,\n",
       " 212837,\n",
       " 212839,\n",
       " 212841,\n",
       " 212843,\n",
       " 212845,\n",
       " 212847,\n",
       " 212849,\n",
       " 212851,\n",
       " 212853,\n",
       " 213818,\n",
       " 213863,\n",
       " 213871,\n",
       " 213895,\n",
       " 217136,\n",
       " 217165,\n",
       " 223826,\n",
       " 223846,\n",
       " 223868,\n",
       " 223870,\n",
       " 223872,\n",
       " 223874,\n",
       " 223876,\n",
       " 223878,\n",
       " 223880,\n",
       " 223882,\n",
       " 223884,\n",
       " 223886,\n",
       " 223888,\n",
       " 223890,\n",
       " 223892,\n",
       " 223922}"
      ]
     },
     "execution_count": 16,
     "metadata": {},
     "output_type": "execute_result"
    }
   ],
   "source": [
    " set(np.sort(hpt_ball.pointingSequenceForTile(ipixval)[0])) - set(np.sort(hpt_ball.pointingTree.pointingsEnclosing(54., -27.5, 0.)[0])) "
   ]
  },
  {
   "cell_type": "code",
   "execution_count": 59,
   "metadata": {
    "collapsed": false
   },
   "outputs": [
    {
     "data": {
      "text/plain": [
       "1230"
      ]
     },
     "execution_count": 59,
     "metadata": {},
     "output_type": "execute_result"
    }
   ],
   "source": [
    "hpt_ball.pointingTree.pointingsEnclosing(54., -27.5, 0.)[0].size"
   ]
  },
  {
   "cell_type": "code",
   "execution_count": 17,
   "metadata": {
    "collapsed": false
   },
   "outputs": [
    {
     "data": {
      "text/html": [
       "<div>\n",
       "<table border=\"1\" class=\"dataframe\">\n",
       "  <thead>\n",
       "    <tr style=\"text-align: right;\">\n",
       "      <th></th>\n",
       "      <th>fieldID</th>\n",
       "      <th>fieldRA</th>\n",
       "      <th>fieldDec</th>\n",
       "    </tr>\n",
       "    <tr>\n",
       "      <th>obsHistID</th>\n",
       "      <th></th>\n",
       "      <th></th>\n",
       "      <th></th>\n",
       "    </tr>\n",
       "  </thead>\n",
       "  <tbody>\n",
       "    <tr>\n",
       "      <th>191578</th>\n",
       "      <td>1427</td>\n",
       "      <td>0.925184</td>\n",
       "      <td>-0.47890</td>\n",
       "    </tr>\n",
       "    <tr>\n",
       "      <th>238641</th>\n",
       "      <td>1419</td>\n",
       "      <td>0.979097</td>\n",
       "      <td>-0.48666</td>\n",
       "    </tr>\n",
       "    <tr>\n",
       "      <th>176071</th>\n",
       "      <td>1546</td>\n",
       "      <td>0.958381</td>\n",
       "      <td>-0.43440</td>\n",
       "    </tr>\n",
       "  </tbody>\n",
       "</table>\n",
       "</div>"
      ],
      "text/plain": [
       "           fieldID   fieldRA  fieldDec\n",
       "obsHistID                             \n",
       "191578        1427  0.925184  -0.47890\n",
       "238641        1419  0.979097  -0.48666\n",
       "176071        1546  0.958381  -0.43440"
      ]
     },
     "execution_count": 17,
     "metadata": {},
     "output_type": "execute_result"
    }
   ],
   "source": [
    "hpt_ball.opsimdf.loc[hpt_ball.pointingTree.pointingsEnclosing(54., -27.5, 0.)[0]][['fieldID', 'fieldRA', 'fieldDec']].drop_duplicates()"
   ]
  },
  {
   "cell_type": "code",
   "execution_count": 57,
   "metadata": {
    "collapsed": false
   },
   "outputs": [
    {
     "data": {
      "text/plain": [
       "1230"
      ]
     },
     "execution_count": 57,
     "metadata": {},
     "output_type": "execute_result"
    }
   ],
   "source": [
    "hpt_ball.opsimdf[hpt_ball.opsimdf.overlap].fieldID.size"
   ]
  },
  {
   "cell_type": "markdown",
   "metadata": {},
   "source": [
    "# Scratch"
   ]
  },
  {
   "cell_type": "markdown",
   "metadata": {},
   "source": [
    "#### Brute Force Calculcation of distances"
   ]
  },
  {
   "cell_type": "code",
   "execution_count": 49,
   "metadata": {
    "collapsed": false
   },
   "outputs": [],
   "source": [
    "vecs = hp.ang2vec(theta, phi)\n",
    "center_ang = np.array([np.radians(theta_degrees), np.radians(phi_degrees)])\n",
    "center_vec = hp.ang2vec(center_ang[0], center_ang[1])"
   ]
  },
  {
   "cell_type": "code",
   "execution_count": 50,
   "metadata": {
    "collapsed": true
   },
   "outputs": [],
   "source": [
    "dists = np.arccos(np.dot(vecs, center_vec))"
   ]
  },
  {
   "cell_type": "code",
   "execution_count": 51,
   "metadata": {
    "collapsed": false
   },
   "outputs": [
    {
     "data": {
      "text/plain": [
       "[<matplotlib.lines.Line2D at 0x110ca3f90>]"
      ]
     },
     "execution_count": 51,
     "metadata": {},
     "output_type": "execute_result"
    },
    {
     "data": {
      "image/png": "[encoded data removed]",
      "text/plain": [
       "<matplotlib.figure.Figure at 0x1139f99d0>"
      ]
     },
     "metadata": {},
     "output_type": "display_data"
    }
   ],
   "source": [
    "fig, axx = plt.subplots(1, 2)\n",
    "ax = axx[0]\n",
    "ay = axx[1]\n",
    "_ = ax.hist(np.degrees(dists), bins=np.arange(0., 4., 0.05),\n",
    "            histtype='step', lw=2, alpha=1)\n",
    "#ax.axvline(1.85)\n",
    "ax.set_xlabel('distance (degrees)')\n",
    "ax.set_ylabel('Number')\n",
    "ay.plot(np.degrees(dists), '.')"
   ]
  },
  {
   "cell_type": "markdown",
   "metadata": {},
   "source": [
    "####  Ball Tree Usage"
   ]
  },
  {
   "cell_type": "code",
   "execution_count": 64,
   "metadata": {
    "collapsed": false
   },
   "outputs": [],
   "source": [
    "tree = BallTree(X, leaf_size=49, metric='haversine')"
   ]
  },
  {
   "cell_type": "code",
   "execution_count": 53,
   "metadata": {
    "collapsed": false
   },
   "outputs": [],
   "source": [
    "ra_center = np.radians(phi_degrees)\n",
    "dec_center = -np.radians(theta_degrees) + np.pi/2."
   ]
  },
  {
   "cell_type": "code",
   "execution_count": 65,
   "metadata": {
    "collapsed": false
   },
   "outputs": [
    {
     "name": "stderr",
     "output_type": "stream",
     "text": [
      "/usr/local/miniconda/lib/python2.7/site-packages/sklearn/utils/validation.py:386: DeprecationWarning: Passing 1d arrays as data is deprecated in 0.17 and willraise ValueError in 0.19. Reshape your data either using X.reshape(-1, 1) if your data has a single feature or X.reshape(1, -1) if it contains a single sample.\n",
      "  DeprecationWarning)\n"
     ]
    }
   ],
   "source": [
    "dist_vals_q, inds = tree.query([dec_center, ra_center], k=1000)"
   ]
  },
  {
   "cell_type": "code",
   "execution_count": 66,
   "metadata": {
    "collapsed": false
   },
   "outputs": [
    {
     "name": "stderr",
     "output_type": "stream",
     "text": [
      "/usr/local/miniconda/lib/python2.7/site-packages/sklearn/utils/validation.py:386: DeprecationWarning: Passing 1d arrays as data is deprecated in 0.17 and willraise ValueError in 0.19. Reshape your data either using X.reshape(-1, 1) if your data has a single feature or X.reshape(1, -1) if it contains a single sample.\n",
      "  DeprecationWarning)\n"
     ]
    }
   ],
   "source": [
    "inds, dist_vals = tree.query_radius([dec_center, ra_center], r=np.radians(1.4), count_only=False, \n",
    "                                    return_distance=True)"
   ]
  },
  {
   "cell_type": "code",
   "execution_count": 74,
   "metadata": {
    "collapsed": false
   },
   "outputs": [
    {
     "data": {
      "text/plain": [
       "sessionID                1189\n",
       "propID                    366\n",
       "fieldID                   744\n",
       "fieldRA                     0\n",
       "fieldDec            -0.794553\n",
       "filter                      z\n",
       "expDate              27311530\n",
       "expMJD                49669.1\n",
       "night                     316\n",
       "visitTime                  34\n",
       "visitExpTime               30\n",
       "finRank               9.73809\n",
       "finSeeing            0.802069\n",
       "transparency                0\n",
       "airmass               1.07843\n",
       "vSkyBright            19.6239\n",
       "filtSkyBrightness      18.062\n",
       "rotSkyPos             6.00103\n",
       "lst                  0.339244\n",
       "altitude              1.18707\n",
       "azimuth               3.81351\n",
       "dist2Moon             0.83442\n",
       "solarElong            103.115\n",
       "moonRA                6.14855\n",
       "moonDec              0.031281\n",
       "moonAlt              0.859187\n",
       "moonAZ                5.50998\n",
       "moonPhase             77.2654\n",
       "sunAlt               -0.61158\n",
       "sunAz                 3.73199\n",
       "phaseAngle            56.9543\n",
       "rScatter               346163\n",
       "mieScatter            90111.8\n",
       "moonIllum            0.007159\n",
       "moonBright            397.928\n",
       "darkBright            83.9234\n",
       "rawSeeing            0.755588\n",
       "wind                        0\n",
       "humidity                    0\n",
       "slewDist                    0\n",
       "slewTime                    2\n",
       "fiveSigmaDepth        22.5685\n",
       "ditheredRA                  0\n",
       "ditheredDec         -0.794553\n",
       "Name: 237805, dtype: object"
      ]
     },
     "execution_count": 74,
     "metadata": {},
     "output_type": "execute_result"
    }
   ],
   "source": [
    "opsout.summary.loc[237805]"
   ]
  },
  {
   "cell_type": "code",
   "execution_count": 68,
   "metadata": {
    "collapsed": false
   },
   "outputs": [
    {
     "data": {
      "text/plain": [
       "(1,)"
      ]
     },
     "execution_count": 68,
     "metadata": {},
     "output_type": "execute_result"
    }
   ],
   "source": [
    "dist_vals.shape"
   ]
  },
  {
   "cell_type": "code",
   "execution_count": 69,
   "metadata": {
    "collapsed": false
   },
   "outputs": [
    {
     "data": {
      "text/plain": [
       "array([ 0.02441608,  0.02437569,  0.02436604, ...,  0.02442384,\n",
       "        0.02442937,  0.0244332 ])"
      ]
     },
     "execution_count": 69,
     "metadata": {},
     "output_type": "execute_result"
    }
   ],
   "source": [
    "dist_vals[0]"
   ]
  },
  {
   "cell_type": "code",
   "execution_count": 70,
   "metadata": {
    "collapsed": false
   },
   "outputs": [
    {
     "data": {
      "text/plain": [
       "array([array([106943, 354299, 528913, ..., 336257, 853764, 925247])], dtype=object)"
      ]
     },
     "execution_count": 70,
     "metadata": {},
     "output_type": "execute_result"
    }
   ],
   "source": [
    "inds"
   ]
  },
  {
   "cell_type": "code",
   "execution_count": 57,
   "metadata": {
    "collapsed": false
   },
   "outputs": [
    {
     "data": {
      "image/png": "[encoded data removed]",
      "text/plain": [
       "<matplotlib.figure.Figure at 0x124c82590>"
      ]
     },
     "metadata": {},
     "output_type": "display_data"
    }
   ],
   "source": [
    "fig, axx = plt.subplots(1, 2)\n",
    "ax = axx[0]\n",
    "ay = axx[1]\n",
    "_ = ax.hist(np.degrees(dists), bins=np.arange(0., 4., 0.05),\n",
    "            histtype='step', lw=2, alpha=1)\n",
    "#_ = ax.hist(dist_vals[0], bins=np.arange(0., 4., 0.05),\n",
    "#            histtype='stepfilled')\n",
    "\n",
    "_ = ax.hist(np.degrees(dist_vals[0]), bins=np.arange(0., 4., 0.05), histtype='stepfilled', color='g',\n",
    "            lw=2, alpha=1)\n",
    "_ = ax.hist(np.degrees(dist_vals_q[0]), bins=np.arange(0., 4., 0.05), histtype='stepfilled', color='r',\n",
    "            lw=2, alpha=1)\n",
    "\n",
    "\n",
    "\n"
   ]
  },
  {
   "cell_type": "code",
   "execution_count": 58,
   "metadata": {
    "collapsed": false
   },
   "outputs": [
    {
     "data": {
      "text/plain": [
       "array([ array([ 0.02441608,  0.02437569,  0.02436604, ...,  0.02442384,\n",
       "        0.02442937,  0.0244332 ])], dtype=object)"
      ]
     },
     "execution_count": 58,
     "metadata": {},
     "output_type": "execute_result"
    }
   ],
   "source": [
    "dist_vals"
   ]
  },
  {
   "cell_type": "markdown",
   "metadata": {},
   "source": [
    "## Dual Trees"
   ]
  },
  {
   "cell_type": "code",
   "execution_count": 127,
   "metadata": {
    "collapsed": true
   },
   "outputs": [],
   "source": [
    "rng = np.random.RandomState(1)\n",
    "rvals = hpt.samplePatchOnSphere(phi=phi_degrees, theta=theta_degrees, delta=1.85, size=10000, rng=rng,\n",
    "                                degrees=True)"
   ]
  },
  {
   "cell_type": "code",
   "execution_count": null,
   "metadata": {
    "collapsed": true
   },
   "outputs": [],
   "source": [
    "inds, dist_vals = tree.query_radius([dec_center, ra_center], r=np.radians(1.4), count_only=False, \n",
    "                                    return_distance=True)"
   ]
  },
  {
   "cell_type": "markdown",
   "metadata": {},
   "source": [
    "# Scratch"
   ]
  },
  {
   "cell_type": "code",
   "execution_count": null,
   "metadata": {
    "collapsed": true
   },
   "outputs": [],
   "source": []
  },
  {
   "cell_type": "code",
   "execution_count": 61,
   "metadata": {
    "collapsed": false
   },
   "outputs": [
    {
     "data": {
      "text/plain": [
       "0.043633231299858237"
      ]
     },
     "execution_count": 61,
     "metadata": {},
     "output_type": "execute_result"
    }
   ],
   "source": [
    "np.radians(2.5)"
   ]
  },
  {
   "cell_type": "code",
   "execution_count": 62,
   "metadata": {
    "collapsed": false
   },
   "outputs": [
    {
     "data": {
      "text/plain": [
       "1000000"
      ]
     },
     "execution_count": 62,
     "metadata": {},
     "output_type": "execute_result"
    }
   ],
   "source": [
    "len(dists)"
   ]
  },
  {
   "cell_type": "code",
   "execution_count": 63,
   "metadata": {
    "collapsed": false
   },
   "outputs": [
    {
     "ename": "NameError",
     "evalue": "name 'ra' is not defined",
     "output_type": "error",
     "traceback": [
      "\u001b[0;31m---------------------------------------------------------------------------\u001b[0m",
      "\u001b[0;31mNameError\u001b[0m                                 Traceback (most recent call last)",
      "\u001b[0;32m<ipython-input-63-299352d0fcf0>\u001b[0m in \u001b[0;36m<module>\u001b[0;34m()\u001b[0m\n\u001b[1;32m      1\u001b[0m \u001b[0mangs\u001b[0m \u001b[0;34m=\u001b[0m \u001b[0mnp\u001b[0m\u001b[0;34m.\u001b[0m\u001b[0mzeros\u001b[0m\u001b[0;34m(\u001b[0m\u001b[0mshape\u001b[0m\u001b[0;34m=\u001b[0m\u001b[0;34m(\u001b[0m\u001b[0mlen\u001b[0m\u001b[0;34m(\u001b[0m\u001b[0mtheta\u001b[0m\u001b[0;34m)\u001b[0m\u001b[0;34m,\u001b[0m \u001b[0;36m2\u001b[0m\u001b[0;34m)\u001b[0m\u001b[0;34m)\u001b[0m\u001b[0;34m\u001b[0m\u001b[0m\n\u001b[0;32m----> 2\u001b[0;31m \u001b[0mangs\u001b[0m\u001b[0;34m[\u001b[0m\u001b[0;34m:\u001b[0m\u001b[0;34m,\u001b[0m \u001b[0;36m0\u001b[0m\u001b[0;34m]\u001b[0m \u001b[0;34m=\u001b[0m \u001b[0mra\u001b[0m\u001b[0;34m\u001b[0m\u001b[0m\n\u001b[0m\u001b[1;32m      3\u001b[0m \u001b[0mangs\u001b[0m\u001b[0;34m[\u001b[0m\u001b[0;34m:\u001b[0m\u001b[0;34m,\u001b[0m \u001b[0;36m1\u001b[0m\u001b[0;34m]\u001b[0m \u001b[0;34m=\u001b[0m \u001b[0mphi\u001b[0m\u001b[0;34m\u001b[0m\u001b[0m\n",
      "\u001b[0;31mNameError\u001b[0m: name 'ra' is not defined"
     ]
    }
   ],
   "source": [
    "angs = np.zeros(shape=(len(theta), 2))\n",
    "angs[:, 0] = ra\n",
    "angs[:, 1] = phi"
   ]
  },
  {
   "cell_type": "code",
   "execution_count": 19,
   "metadata": {
    "collapsed": false
   },
   "outputs": [
    {
     "data": {
      "text/plain": [
       "(786432, 2)"
      ]
     },
     "execution_count": 19,
     "metadata": {},
     "output_type": "execute_result"
    }
   ],
   "source": [
    "np.shape(angs)"
   ]
  },
  {
   "cell_type": "code",
   "execution_count": 34,
   "metadata": {
    "collapsed": false
   },
   "outputs": [],
   "source": [
    "tree = BallTree(angs, leaf_size=200, metric='haversine')"
   ]
  },
  {
   "cell_type": "code",
   "execution_count": 46,
   "metadata": {
    "collapsed": false
   },
   "outputs": [
    {
     "data": {
      "text/plain": [
       "['chebyshev',\n",
       " 'sokalmichener',\n",
       " 'canberra',\n",
       " 'haversine',\n",
       " 'rogerstanimoto',\n",
       " 'matching',\n",
       " 'dice',\n",
       " 'euclidean',\n",
       " 'braycurtis',\n",
       " 'russellrao',\n",
       " 'cityblock',\n",
       " 'manhattan',\n",
       " 'infinity',\n",
       " 'jaccard',\n",
       " 'seuclidean',\n",
       " 'sokalsneath',\n",
       " 'kulsinski',\n",
       " 'minkowski',\n",
       " 'mahalanobis',\n",
       " 'p',\n",
       " 'l2',\n",
       " 'hamming',\n",
       " 'l1',\n",
       " 'wminkowski',\n",
       " 'pyfunc']"
      ]
     },
     "execution_count": 46,
     "metadata": {},
     "output_type": "execute_result"
    }
   ],
   "source": [
    "tree.valid_metrics"
   ]
  },
  {
   "cell_type": "code",
   "execution_count": 36,
   "metadata": {
    "collapsed": false
   },
   "outputs": [],
   "source": [
    "r = tree.query_radius([[0., 0.]], r= 1.75  )"
   ]
  },
  {
   "cell_type": "code",
   "execution_count": 38,
   "metadata": {
    "collapsed": false
   },
   "outputs": [
    {
     "data": {
      "text/plain": [
       "array([array([262144, 262147, 262156, ..., 265465, 262969, 265253])], dtype=object)"
      ]
     },
     "execution_count": 38,
     "metadata": {},
     "output_type": "execute_result"
    }
   ],
   "source": [
    "tree.query()"
   ]
  },
  {
   "cell_type": "code",
   "execution_count": null,
   "metadata": {
    "collapsed": true
   },
   "outputs": [],
   "source": [
    "from opsimsummary"
   ]
  },
  {
   "cell_type": "code",
   "execution_count": 4,
   "metadata": {
    "collapsed": false
   },
   "outputs": [
    {
     "data": {
      "text/plain": [
       "2776"
      ]
     },
     "execution_count": 4,
     "metadata": {},
     "output_type": "execute_result"
    }
   ],
   "source": [
    "opsout.summary.fieldID.max()"
   ]
  },
  {
   "cell_type": "code",
   "execution_count": 5,
   "metadata": {
    "collapsed": false
   },
   "outputs": [
    {
     "data": {
      "text/plain": [
       "array([54])"
      ]
     },
     "execution_count": 5,
     "metadata": {},
     "output_type": "execute_result"
    }
   ],
   "source": [
    "opsout.summary.propID.unique()"
   ]
  },
  {
   "cell_type": "code",
   "execution_count": 7,
   "metadata": {
    "collapsed": false
   },
   "outputs": [
    {
     "data": {
      "text/plain": [
       "3.0"
      ]
     },
     "execution_count": 7,
     "metadata": {},
     "output_type": "execute_result"
    }
   ],
   "source": [
    "94608000 / 60. / 60. / 24. / 365."
   ]
  },
  {
   "cell_type": "code",
   "execution_count": 10,
   "metadata": {
    "collapsed": false
   },
   "outputs": [
    {
     "data": {
      "text/plain": [
       "True"
      ]
     },
     "execution_count": 10,
     "metadata": {},
     "output_type": "execute_result"
    }
   ],
   "source": [
    "callable(np.sin)"
   ]
  },
  {
   "cell_type": "code",
   "execution_count": 9,
   "metadata": {
    "collapsed": true
   },
   "outputs": [],
   "source": [
    "import numpy as np"
   ]
  },
  {
   "cell_type": "code",
   "execution_count": 11,
   "metadata": {
    "collapsed": true
   },
   "outputs": [],
   "source": [
    "import analyzeSN"
   ]
  },
  {
   "cell_type": "code",
   "execution_count": 12,
   "metadata": {
    "collapsed": true
   },
   "outputs": [],
   "source": [
    "import os"
   ]
  },
  {
   "cell_type": "code",
   "execution_count": 13,
   "metadata": {
    "collapsed": true
   },
   "outputs": [],
   "source": [
    "opsimDB = '/Users/rbiswas/data/LSST/OpSimData/minion_1016_sqlite.db'"
   ]
  },
  {
   "cell_type": "code",
   "execution_count": 14,
   "metadata": {
    "collapsed": true
   },
   "outputs": [],
   "source": [
    "from opsimsummary import OpSimOutput"
   ]
  },
  {
   "cell_type": "code",
   "execution_count": 15,
   "metadata": {
    "collapsed": false
   },
   "outputs": [
    {
     "name": "stdout",
     "output_type": "stream",
     "text": [
      " reading from database sqlite:////Users/rbiswas/data/LSST/OpSimData/minion_1016_sqlite.db\n",
      "SELECT * FROM Summary WHERE PROPID in (54)\n"
     ]
    }
   ],
   "source": [
    "opsout = OpSimOutput.fromOpSimDB(opsimDB, subset='wfd')"
   ]
  },
  {
   "cell_type": "code",
   "execution_count": 59,
   "metadata": {
    "collapsed": false
   },
   "outputs": [],
   "source": [
    "angs = opsout.summary[['ditheredRA', 'ditheredDec']].values"
   ]
  },
  {
   "cell_type": "code",
   "execution_count": null,
   "metadata": {
    "collapsed": true
   },
   "outputs": [],
   "source": []
  },
  {
   "cell_type": "code",
   "execution_count": 18,
   "metadata": {
    "collapsed": true
   },
   "outputs": [],
   "source": [
    "dithers = np.random.normal(0., np.radians(1.75) / 10., size=2*len(angs)).reshape(len(angs), 2)"
   ]
  },
  {
   "cell_type": "code",
   "execution_count": 19,
   "metadata": {
    "collapsed": false
   },
   "outputs": [
    {
     "name": "stdout",
     "output_type": "stream",
     "text": [
      "((2083758, 2), (2083758, 2))\n"
     ]
    }
   ],
   "source": [
    "print(np.shape(angs), np.shape(dithers))"
   ]
  },
  {
   "cell_type": "code",
   "execution_count": 20,
   "metadata": {
    "collapsed": true
   },
   "outputs": [],
   "source": [
    "angs += dithers"
   ]
  },
  {
   "cell_type": "code",
   "execution_count": 21,
   "metadata": {
    "collapsed": false
   },
   "outputs": [
    {
     "data": {
      "text/plain": [
       "array([[ 1.64296148, -1.11162568],\n",
       "       [ 2.40356574, -0.63314844],\n",
       "       [ 2.34580619, -0.63043314],\n",
       "       ..., \n",
       "       [ 0.04062848, -0.35833293],\n",
       "       [ 5.92124975, -0.4702836 ],\n",
       "       [ 3.62077156, -0.43463119]])"
      ]
     },
     "execution_count": 21,
     "metadata": {},
     "output_type": "execute_result"
    }
   ],
   "source": [
    "angs"
   ]
  },
  {
   "cell_type": "code",
   "execution_count": 22,
   "metadata": {
    "collapsed": true
   },
   "outputs": [],
   "source": [
    "from scipy.spatial import KDTree"
   ]
  },
  {
   "cell_type": "code",
   "execution_count": 24,
   "metadata": {
    "collapsed": false
   },
   "outputs": [],
   "source": [
    "from opsimsummary import convertToSphericalCoordinates"
   ]
  },
  {
   "cell_type": "code",
   "execution_count": 31,
   "metadata": {
    "collapsed": false
   },
   "outputs": [],
   "source": [
    "theta, phi = convertToSphericalCoordinates(angs[:, 0], angs[:, 1], unit='radians')\n",
    "vecs = hp.ang2vec(theta, phi)"
   ]
  },
  {
   "cell_type": "code",
   "execution_count": 26,
   "metadata": {
    "collapsed": true
   },
   "outputs": [],
   "source": [
    "import healpy as hp"
   ]
  },
  {
   "cell_type": "code",
   "execution_count": 32,
   "metadata": {
    "collapsed": false
   },
   "outputs": [],
   "source": [
    "tree= KDTree(vecs, 100)"
   ]
  },
  {
   "cell_type": "code",
   "execution_count": null,
   "metadata": {
    "collapsed": true
   },
   "outputs": [],
   "source": [
    "tree.query_ball_point()"
   ]
  },
  {
   "cell_type": "code",
   "execution_count": 37,
   "metadata": {
    "collapsed": true
   },
   "outputs": [],
   "source": [
    "theta = np.arange(0., np.radians(1.75), np.radians(1.75)/1000.)"
   ]
  },
  {
   "cell_type": "code",
   "execution_count": 39,
   "metadata": {
    "collapsed": false
   },
   "outputs": [
    {
     "data": {
      "text/plain": [
       "[<matplotlib.lines.Line2D at 0x152f429d0>]"
      ]
     },
     "execution_count": 39,
     "metadata": {},
     "output_type": "execute_result"
    },
    {
     "data": {
      "image/png": "[encoded data removed]",
      "text/plain": [
       "<matplotlib.figure.Figure at 0x152f42990>"
      ]
     },
     "metadata": {},
     "output_type": "display_data"
    }
   ],
   "source": [
    "fig, ax = plt.subplots()\n",
    "ax.plot(theta, theta - 2.0 * np.sin(theta/2.0))"
   ]
  },
  {
   "cell_type": "code",
   "execution_count": 124,
   "metadata": {
    "collapsed": false
   },
   "outputs": [],
   "source": [
    "phi = np.radians(phi)\n",
    "theta = np.radians(theta)"
   ]
  },
  {
   "cell_type": "code",
   "execution_count": 113,
   "metadata": {
    "collapsed": false
   },
   "outputs": [
    {
     "data": {
      "text/plain": [
       "0.49131486302991795"
      ]
     },
     "execution_count": 113,
     "metadata": {},
     "output_type": "execute_result"
    }
   ],
   "source": [
    "theta.min()"
   ]
  },
  {
   "cell_type": "code",
   "execution_count": 127,
   "metadata": {
    "collapsed": false
   },
   "outputs": [],
   "source": [
    "vec = hp.ang2vec(theta, phi)"
   ]
  },
  {
   "cell_type": "code",
   "execution_count": 126,
   "metadata": {
    "collapsed": false
   },
   "outputs": [
    {
     "data": {
      "text/plain": [
       "array([[ 0.52675101, -0.4957897 ],\n",
       "       [ 0.5374951 , -0.45915738],\n",
       "       [ 0.53023494, -0.47254315],\n",
       "       ..., \n",
       "       [ 0.54028743, -0.47624068],\n",
       "       [ 0.49284631, -0.47068543],\n",
       "       [ 0.54384857, -0.48783842]])"
      ]
     },
     "execution_count": 126,
     "metadata": {},
     "output_type": "execute_result"
    }
   ],
   "source": [
    "X"
   ]
  },
  {
   "cell_type": "code",
   "execution_count": 128,
   "metadata": {
    "collapsed": true
   },
   "outputs": [],
   "source": [
    "X = hp.vec2ang(vec)\n"
   ]
  },
  {
   "cell_type": "code",
   "execution_count": 129,
   "metadata": {
    "collapsed": false
   },
   "outputs": [],
   "source": [
    "center_vec = hp.ang2vec(np.radians(117.5), np.radians(30.))"
   ]
  },
  {
   "cell_type": "code",
   "execution_count": 73,
   "metadata": {
    "collapsed": false
   },
   "outputs": [
    {
     "data": {
      "text/plain": [
       "(3, 1)"
      ]
     },
     "execution_count": 73,
     "metadata": {},
     "output_type": "execute_result"
    }
   ],
   "source": [
    "np.shape(center_vec[:, np.newaxis])"
   ]
  },
  {
   "cell_type": "code",
   "execution_count": 74,
   "metadata": {
    "collapsed": false
   },
   "outputs": [
    {
     "data": {
      "text/plain": [
       "(10000, 1, 3)"
      ]
     },
     "execution_count": 74,
     "metadata": {},
     "output_type": "execute_result"
    }
   ],
   "source": [
    "np.shape(vec[:, np.newaxis])"
   ]
  },
  {
   "cell_type": "code",
   "execution_count": 103,
   "metadata": {
    "collapsed": false
   },
   "outputs": [],
   "source": [
    "dists = np.dot( vec, center_vec)"
   ]
  },
  {
   "cell_type": "code",
   "execution_count": 140,
   "metadata": {
    "collapsed": true
   },
   "outputs": [],
   "source": [
    "tree = BallTree(X, leaf_size=40, metric='haversine')"
   ]
  },
  {
   "cell_type": "code",
   "execution_count": 141,
   "metadata": {
    "collapsed": false
   },
   "outputs": [
    {
     "data": {
      "text/plain": [
       "(array([[  8.68925654e-05,   1.57157316e-04]]), array([[ 121, 7196]]))"
      ]
     },
     "execution_count": 141,
     "metadata": {},
     "output_type": "execute_result"
    }
   ],
   "source": [
    "tree.query([[np.radians(-27.5), np.radians(30.)]], 2)"
   ]
  },
  {
   "cell_type": "code",
   "execution_count": 102,
   "metadata": {
    "collapsed": true
   },
   "outputs": [],
   "source": [
    "%matplotlib inline\n",
    "import matplotlib.pyplot as plt"
   ]
  },
  {
   "cell_type": "code",
   "execution_count": 138,
   "metadata": {
    "collapsed": false
   },
   "outputs": [
    {
     "data": {
      "image/png": "[encoded data removed]",
      "text/plain": [
       "<matplotlib.figure.Figure at 0x1344415d0>"
      ]
     },
     "metadata": {},
     "output_type": "display_data"
    }
   ],
   "source": [
    "fig, ax = plt.subplots()\n",
    "_ = ax.hist(np.degrees(dists), np.arange(0., 5., 0.05), histtype='step')"
   ]
  },
  {
   "cell_type": "code",
   "execution_count": 106,
   "metadata": {
    "collapsed": false
   },
   "outputs": [
    {
     "data": {
      "text/plain": [
       "0.99907333283147137"
      ]
     },
     "execution_count": 106,
     "metadata": {},
     "output_type": "execute_result"
    }
   ],
   "source": [
    "dists.min()"
   ]
  },
  {
   "cell_type": "code",
   "execution_count": 125,
   "metadata": {
    "collapsed": false
   },
   "outputs": [
    {
     "data": {
      "text/plain": [
       "<matplotlib.text.Text at 0x12a5fdcd0>"
      ]
     },
     "execution_count": 125,
     "metadata": {},
     "output_type": "execute_result"
    },
    {
     "data": {
      "image/png": "[encoded data removed]",
      "text/plain": [
       "<matplotlib.figure.Figure at 0x12948e290>"
      ]
     },
     "metadata": {},
     "output_type": "display_data"
    }
   ],
   "source": [
    "fig, ax = plt.subplots()\n",
    "ax.plot(theta, phi, '.')\n",
    "ax.plot(np.radians(117.5), np.radians(30.), 'ro')\n",
    "ax.set_xlabel('theta')\n",
    "ax.set_ylabel('phi')"
   ]
  },
  {
   "cell_type": "code",
   "execution_count": 134,
   "metadata": {
    "collapsed": false
   },
   "outputs": [],
   "source": [
    "dists = np.arccos(np.dot(vec, center_vec))"
   ]
  },
  {
   "cell_type": "code",
   "execution_count": 143,
   "metadata": {
    "collapsed": false
   },
   "outputs": [
    {
     "data": {
      "text/plain": [
       "0.00015715731546150899"
      ]
     },
     "execution_count": 143,
     "metadata": {},
     "output_type": "execute_result"
    }
   ],
   "source": [
    "dists[7196]"
   ]
  },
  {
   "cell_type": "code",
   "execution_count": 30,
   "metadata": {
    "collapsed": true
   },
   "outputs": [],
   "source": [
    "d = 23 * 60.0 * 60 + 56 * 60 + 4.091"
   ]
  },
  {
   "cell_type": "code",
   "execution_count": 33,
   "metadata": {
    "collapsed": false
   },
   "outputs": [
    {
     "data": {
      "text/plain": [
       "0.14205453638453633"
      ]
     },
     "execution_count": 33,
     "metadata": {},
     "output_type": "execute_result"
    }
   ],
   "source": [
    "34 * 360.0/ d"
   ]
  },
  {
   "cell_type": "code",
   "execution_count": 34,
   "metadata": {
    "collapsed": false
   },
   "outputs": [
    {
     "name": "stdout",
     "output_type": "stream",
     "text": [
      "/Users/rbiswas/doc/projects/supernovae/LSST/OpSimSummary/example\r\n"
     ]
    }
   ],
   "source": [
    "!pwd"
   ]
  },
  {
   "cell_type": "code",
   "execution_count": 26,
   "metadata": {
    "collapsed": false
   },
   "outputs": [],
   "source": [
    "from opsimsummary import PointingTree"
   ]
  },
  {
   "cell_type": "code",
   "execution_count": 27,
   "metadata": {
    "collapsed": true
   },
   "outputs": [],
   "source": [
    "from opsimsummary import OpSimOutput"
   ]
  },
  {
   "cell_type": "code",
   "execution_count": 28,
   "metadata": {
    "collapsed": true
   },
   "outputs": [],
   "source": [
    "import opsimsummary as oss"
   ]
  },
  {
   "cell_type": "code",
   "execution_count": 29,
   "metadata": {
    "collapsed": true
   },
   "outputs": [],
   "source": [
    "import os"
   ]
  },
  {
   "cell_type": "code",
   "execution_count": 30,
   "metadata": {
    "collapsed": true
   },
   "outputs": [],
   "source": [
    "opsimtest = os.path.join(os.path.split(oss.__file__)[0], 'example_data', 'enigma_1189_micro.db')"
   ]
  },
  {
   "cell_type": "code",
   "execution_count": 31,
   "metadata": {
    "collapsed": false
   },
   "outputs": [
    {
     "name": "stdout",
     "output_type": "stream",
     "text": [
      " reading from database sqlite:////Users/rbiswas/.local/lib/python2.7/site-packages/opsimsummary/example_data/enigma_1189_micro.db\n",
      "SELECT * FROM Summary WHERE PROPID in (366, 364)\n"
     ]
    }
   ],
   "source": [
    "opsout = OpSimOutput.fromOpSimDB(opsimtest)"
   ]
  },
  {
   "cell_type": "code",
   "execution_count": 32,
   "metadata": {
    "collapsed": false
   },
   "outputs": [],
   "source": [
    "pt = PointingTree(pointings=opsout.summary.iloc[:10])"
   ]
  },
  {
   "cell_type": "code",
   "execution_count": 33,
   "metadata": {
    "collapsed": false
   },
   "outputs": [
    {
     "data": {
      "text/html": [
       "<div>\n",
       "<table border=\"1\" class=\"dataframe\">\n",
       "  <thead>\n",
       "    <tr style=\"text-align: right;\">\n",
       "      <th></th>\n",
       "      <th>obsHistID</th>\n",
       "    </tr>\n",
       "    <tr>\n",
       "      <th>intindex</th>\n",
       "      <th></th>\n",
       "    </tr>\n",
       "  </thead>\n",
       "  <tbody>\n",
       "    <tr>\n",
       "      <th>0</th>\n",
       "      <td>272424</td>\n",
       "    </tr>\n",
       "    <tr>\n",
       "      <th>1</th>\n",
       "      <td>237806</td>\n",
       "    </tr>\n",
       "    <tr>\n",
       "      <th>2</th>\n",
       "      <td>237805</td>\n",
       "    </tr>\n",
       "    <tr>\n",
       "      <th>3</th>\n",
       "      <td>237804</td>\n",
       "    </tr>\n",
       "    <tr>\n",
       "      <th>4</th>\n",
       "      <td>237803</td>\n",
       "    </tr>\n",
       "    <tr>\n",
       "      <th>5</th>\n",
       "      <td>237802</td>\n",
       "    </tr>\n",
       "    <tr>\n",
       "      <th>6</th>\n",
       "      <td>237801</td>\n",
       "    </tr>\n",
       "    <tr>\n",
       "      <th>7</th>\n",
       "      <td>237807</td>\n",
       "    </tr>\n",
       "    <tr>\n",
       "      <th>8</th>\n",
       "      <td>237800</td>\n",
       "    </tr>\n",
       "    <tr>\n",
       "      <th>9</th>\n",
       "      <td>237798</td>\n",
       "    </tr>\n",
       "  </tbody>\n",
       "</table>\n",
       "</div>"
      ],
      "text/plain": [
       "          obsHistID\n",
       "intindex           \n",
       "0            272424\n",
       "1            237806\n",
       "2            237805\n",
       "3            237804\n",
       "4            237803\n",
       "5            237802\n",
       "6            237801\n",
       "7            237807\n",
       "8            237800\n",
       "9            237798"
      ]
     },
     "execution_count": 33,
     "metadata": {},
     "output_type": "execute_result"
    }
   ],
   "source": [
    "pt.indMapping"
   ]
  },
  {
   "cell_type": "code",
   "execution_count": 34,
   "metadata": {
    "collapsed": false
   },
   "outputs": [
    {
     "data": {
      "text/plain": [
       "obsHistID\n",
       "272424    2786\n",
       "237806     744\n",
       "237805     744\n",
       "237804     744\n",
       "237803     744\n",
       "237802     744\n",
       "237801     744\n",
       "237807     744\n",
       "237800     744\n",
       "237798     744\n",
       "Name: fieldID, dtype: int64"
      ]
     },
     "execution_count": 34,
     "metadata": {},
     "output_type": "execute_result"
    }
   ],
   "source": [
    "opsout.summary.fieldID[:10]"
   ]
  },
  {
   "cell_type": "code",
   "execution_count": 35,
   "metadata": {
    "collapsed": false
   },
   "outputs": [
    {
     "data": {
      "text/plain": [
       "array([2, 3])"
      ]
     },
     "execution_count": 35,
     "metadata": {},
     "output_type": "execute_result"
    }
   ],
   "source": [
    "np.ravel(np.array([2, 3]))"
   ]
  },
  {
   "cell_type": "code",
   "execution_count": 36,
   "metadata": {
    "collapsed": false
   },
   "outputs": [
    {
     "ename": "TypeError",
     "evalue": "pointingsEnclosing() takes at least 4 arguments (1 given)",
     "output_type": "error",
     "traceback": [
      "\u001b[0;31m---------------------------------------------------------------------------\u001b[0m",
      "\u001b[0;31mTypeError\u001b[0m                                 Traceback (most recent call last)",
      "\u001b[0;32m<ipython-input-36-5c23b874aa79>\u001b[0m in \u001b[0;36m<module>\u001b[0;34m()\u001b[0m\n\u001b[0;32m----> 1\u001b[0;31m \u001b[0mpt\u001b[0m\u001b[0;34m.\u001b[0m\u001b[0mpointingsEnclosing\u001b[0m\u001b[0;34m(\u001b[0m\u001b[0;34m)\u001b[0m\u001b[0;34m\u001b[0m\u001b[0m\n\u001b[0m",
      "\u001b[0;31mTypeError\u001b[0m: pointingsEnclosing() takes at least 4 arguments (1 given)"
     ]
    }
   ],
   "source": [
    "pt.pointingsEnclosing()"
   ]
  },
  {
   "cell_type": "code",
   "execution_count": 39,
   "metadata": {
    "collapsed": true
   },
   "outputs": [],
   "source": [
    "import numpy as np"
   ]
  },
  {
   "cell_type": "code",
   "execution_count": 40,
   "metadata": {
    "collapsed": false
   },
   "outputs": [],
   "source": [
    "ravals = opsout.summary.query('fieldID==744').fieldRA.apply(np.degrees)\n",
    "decvals = opsout.summary.query('fieldID==744').fieldDec.apply(np.degrees)"
   ]
  },
  {
   "cell_type": "code",
   "execution_count": 41,
   "metadata": {
    "collapsed": false
   },
   "outputs": [
    {
     "data": {
      "text/plain": [
       "obsHistID\n",
       "237806   -45.524533\n",
       "237805   -45.524533\n",
       "237804   -45.524533\n",
       "237803   -45.524533\n",
       "237802   -45.524533\n",
       "237801   -45.524533\n",
       "237807   -45.524533\n",
       "237800   -45.524533\n",
       "237798   -45.524533\n",
       "237797   -45.524533\n",
       "237796   -45.524533\n",
       "237795   -45.524533\n",
       "237794   -45.524533\n",
       "237793   -45.524533\n",
       "237799   -45.524533\n",
       "237792   -45.524533\n",
       "237808   -45.524533\n",
       "237810   -45.524533\n",
       "237824   -45.524533\n",
       "237823   -45.524533\n",
       "237822   -45.524533\n",
       "237821   -45.524533\n",
       "237820   -45.524533\n",
       "237819   -45.524533\n",
       "237809   -45.524533\n",
       "237818   -45.524533\n",
       "237816   -45.524533\n",
       "237815   -45.524533\n",
       "237814   -45.524533\n",
       "237813   -45.524533\n",
       "            ...    \n",
       "212468   -45.524533\n",
       "212466   -45.524533\n",
       "212462   -45.524533\n",
       "211789   -45.524533\n",
       "211788   -45.524533\n",
       "211722   -45.524533\n",
       "211712   -45.524533\n",
       "211692   -45.524533\n",
       "219549   -45.524533\n",
       "219497   -45.524533\n",
       "219495   -45.524533\n",
       "219473   -45.524533\n",
       "219453   -45.524533\n",
       "219423   -45.524533\n",
       "219499   -45.524533\n",
       "219501   -45.524533\n",
       "219503   -45.524533\n",
       "219505   -45.524533\n",
       "219519   -45.524533\n",
       "219517   -45.524533\n",
       "219515   -45.524533\n",
       "219513   -45.524533\n",
       "219511   -45.524533\n",
       "219509   -45.524533\n",
       "219507   -45.524533\n",
       "200790   -45.524533\n",
       "200789   -45.524533\n",
       "200723   -45.524533\n",
       "200713   -45.524533\n",
       "200693   -45.524533\n",
       "Name: fieldDec, dtype: float64"
      ]
     },
     "execution_count": 41,
     "metadata": {},
     "output_type": "execute_result"
    }
   ],
   "source": [
    "decvals"
   ]
  },
  {
   "cell_type": "code",
   "execution_count": 42,
   "metadata": {
    "collapsed": true
   },
   "outputs": [],
   "source": [
    "from sklearn.neighbors import BallTree"
   ]
  },
  {
   "cell_type": "code",
   "execution_count": 43,
   "metadata": {
    "collapsed": false
   },
   "outputs": [
    {
     "data": {
      "text/plain": [
       "intindex\n",
       "0    272424\n",
       "1    237806\n",
       "2    237805\n",
       "3    237804\n",
       "4    237803\n",
       "5    237802\n",
       "6    237801\n",
       "7    237807\n",
       "8    237800\n",
       "9    237798\n",
       "Name: obsHistID, dtype: int64"
      ]
     },
     "execution_count": 43,
     "metadata": {},
     "output_type": "execute_result"
    }
   ],
   "source": [
    "pt.indMapping.obsHistID"
   ]
  },
  {
   "cell_type": "code",
   "execution_count": 44,
   "metadata": {
    "collapsed": false
   },
   "outputs": [
    {
     "data": {
      "text/plain": [
       "array([ 0.])"
      ]
     },
     "execution_count": 44,
     "metadata": {},
     "output_type": "execute_result"
    }
   ],
   "source": [
    "ravals.unique()"
   ]
  },
  {
   "cell_type": "code",
   "execution_count": 45,
   "metadata": {
    "collapsed": false
   },
   "outputs": [],
   "source": [
    "xx = pt.indMapping"
   ]
  },
  {
   "cell_type": "code",
   "execution_count": 46,
   "metadata": {
    "collapsed": false
   },
   "outputs": [
    {
     "data": {
      "text/plain": [
       "array([272424, 237806, 237805, 237804, 237803, 237802, 237801, 237807,\n",
       "       237800, 237798])"
      ]
     },
     "execution_count": 46,
     "metadata": {},
     "output_type": "execute_result"
    }
   ],
   "source": [
    "pt.indMapping.obsHistID.values"
   ]
  },
  {
   "cell_type": "code",
   "execution_count": 47,
   "metadata": {
    "collapsed": false
   },
   "outputs": [
    {
     "data": {
      "text/plain": [
       "array([ True,  True,  True,  True,  True,  True,  True,  True,  True,  True], dtype=bool)"
      ]
     },
     "execution_count": 47,
     "metadata": {},
     "output_type": "execute_result"
    }
   ],
   "source": [
    "pt.indMapping.obsHistID.loc[:10].values == opsout.summary.index.values[:10]"
   ]
  },
  {
   "cell_type": "code",
   "execution_count": 48,
   "metadata": {
    "collapsed": false
   },
   "outputs": [
    {
     "data": {
      "text/plain": [
       "array([237806, 237805, 237804, 237803, 237802, 237801, 237807, 237800,\n",
       "       237798])"
      ]
     },
     "execution_count": 48,
     "metadata": {},
     "output_type": "execute_result"
    }
   ],
   "source": [
    "pt.pointingsEnclosing(ravals, decvals, 0.)[0] "
   ]
  },
  {
   "cell_type": "code",
   "execution_count": 49,
   "metadata": {
    "collapsed": false
   },
   "outputs": [
    {
     "ename": "KeyError",
     "evalue": "'the label [obsHistID] is not in the [index]'",
     "output_type": "error",
     "traceback": [
      "\u001b[0;31m---------------------------------------------------------------------------\u001b[0m",
      "\u001b[0;31mKeyError\u001b[0m                                  Traceback (most recent call last)",
      "\u001b[0;32m<ipython-input-49-4de17debdac0>\u001b[0m in \u001b[0;36m<module>\u001b[0;34m()\u001b[0m\n\u001b[0;32m----> 1\u001b[0;31m \u001b[0mlist\u001b[0m\u001b[0;34m(\u001b[0m\u001b[0mxx\u001b[0m\u001b[0;34m.\u001b[0m\u001b[0mobsHistID\u001b[0m\u001b[0;34m.\u001b[0m\u001b[0mloc\u001b[0m\u001b[0;34m[\u001b[0m\u001b[0mptval\u001b[0m\u001b[0;34m]\u001b[0m \u001b[0;32mfor\u001b[0m \u001b[0mptval\u001b[0m \u001b[0;32min\u001b[0m \u001b[0mxx\u001b[0m\u001b[0;34m)\u001b[0m\u001b[0;34m\u001b[0m\u001b[0m\n\u001b[0m",
      "\u001b[0;32m<ipython-input-49-4de17debdac0>\u001b[0m in \u001b[0;36m<genexpr>\u001b[0;34m((ptval,))\u001b[0m\n\u001b[0;32m----> 1\u001b[0;31m \u001b[0mlist\u001b[0m\u001b[0;34m(\u001b[0m\u001b[0mxx\u001b[0m\u001b[0;34m.\u001b[0m\u001b[0mobsHistID\u001b[0m\u001b[0;34m.\u001b[0m\u001b[0mloc\u001b[0m\u001b[0;34m[\u001b[0m\u001b[0mptval\u001b[0m\u001b[0;34m]\u001b[0m \u001b[0;32mfor\u001b[0m \u001b[0mptval\u001b[0m \u001b[0;32min\u001b[0m \u001b[0mxx\u001b[0m\u001b[0;34m)\u001b[0m\u001b[0;34m\u001b[0m\u001b[0m\n\u001b[0m",
      "\u001b[0;32m/usr/local/miniconda/lib/python2.7/site-packages/pandas/core/indexing.pyc\u001b[0m in \u001b[0;36m__getitem__\u001b[0;34m(self, key)\u001b[0m\n\u001b[1;32m   1309\u001b[0m             \u001b[0;32mreturn\u001b[0m \u001b[0mself\u001b[0m\u001b[0;34m.\u001b[0m\u001b[0m_getitem_tuple\u001b[0m\u001b[0;34m(\u001b[0m\u001b[0mkey\u001b[0m\u001b[0;34m)\u001b[0m\u001b[0;34m\u001b[0m\u001b[0m\n\u001b[1;32m   1310\u001b[0m         \u001b[0;32melse\u001b[0m\u001b[0;34m:\u001b[0m\u001b[0;34m\u001b[0m\u001b[0m\n\u001b[0;32m-> 1311\u001b[0;31m             \u001b[0;32mreturn\u001b[0m \u001b[0mself\u001b[0m\u001b[0;34m.\u001b[0m\u001b[0m_getitem_axis\u001b[0m\u001b[0;34m(\u001b[0m\u001b[0mkey\u001b[0m\u001b[0;34m,\u001b[0m \u001b[0maxis\u001b[0m\u001b[0;34m=\u001b[0m\u001b[0;36m0\u001b[0m\u001b[0;34m)\u001b[0m\u001b[0;34m\u001b[0m\u001b[0m\n\u001b[0m\u001b[1;32m   1312\u001b[0m \u001b[0;34m\u001b[0m\u001b[0m\n\u001b[1;32m   1313\u001b[0m     \u001b[0;32mdef\u001b[0m \u001b[0m_getitem_axis\u001b[0m\u001b[0;34m(\u001b[0m\u001b[0mself\u001b[0m\u001b[0;34m,\u001b[0m \u001b[0mkey\u001b[0m\u001b[0;34m,\u001b[0m \u001b[0maxis\u001b[0m\u001b[0;34m=\u001b[0m\u001b[0;36m0\u001b[0m\u001b[0;34m)\u001b[0m\u001b[0;34m:\u001b[0m\u001b[0;34m\u001b[0m\u001b[0m\n",
      "\u001b[0;32m/usr/local/miniconda/lib/python2.7/site-packages/pandas/core/indexing.pyc\u001b[0m in \u001b[0;36m_getitem_axis\u001b[0;34m(self, key, axis)\u001b[0m\n\u001b[1;32m   1479\u001b[0m \u001b[0;34m\u001b[0m\u001b[0m\n\u001b[1;32m   1480\u001b[0m         \u001b[0;31m# fall thru to straight lookup\u001b[0m\u001b[0;34m\u001b[0m\u001b[0;34m\u001b[0m\u001b[0m\n\u001b[0;32m-> 1481\u001b[0;31m         \u001b[0mself\u001b[0m\u001b[0;34m.\u001b[0m\u001b[0m_has_valid_type\u001b[0m\u001b[0;34m(\u001b[0m\u001b[0mkey\u001b[0m\u001b[0;34m,\u001b[0m \u001b[0maxis\u001b[0m\u001b[0;34m)\u001b[0m\u001b[0;34m\u001b[0m\u001b[0m\n\u001b[0m\u001b[1;32m   1482\u001b[0m         \u001b[0;32mreturn\u001b[0m \u001b[0mself\u001b[0m\u001b[0;34m.\u001b[0m\u001b[0m_get_label\u001b[0m\u001b[0;34m(\u001b[0m\u001b[0mkey\u001b[0m\u001b[0;34m,\u001b[0m \u001b[0maxis\u001b[0m\u001b[0;34m=\u001b[0m\u001b[0maxis\u001b[0m\u001b[0;34m)\u001b[0m\u001b[0;34m\u001b[0m\u001b[0m\n\u001b[1;32m   1483\u001b[0m \u001b[0;34m\u001b[0m\u001b[0m\n",
      "\u001b[0;32m/usr/local/miniconda/lib/python2.7/site-packages/pandas/core/indexing.pyc\u001b[0m in \u001b[0;36m_has_valid_type\u001b[0;34m(self, key, axis)\u001b[0m\n\u001b[1;32m   1416\u001b[0m                 \u001b[0;32mraise\u001b[0m\u001b[0;34m\u001b[0m\u001b[0m\n\u001b[1;32m   1417\u001b[0m             \u001b[0;32mexcept\u001b[0m\u001b[0;34m:\u001b[0m\u001b[0;34m\u001b[0m\u001b[0m\n\u001b[0;32m-> 1418\u001b[0;31m                 \u001b[0merror\u001b[0m\u001b[0;34m(\u001b[0m\u001b[0;34m)\u001b[0m\u001b[0;34m\u001b[0m\u001b[0m\n\u001b[0m\u001b[1;32m   1419\u001b[0m \u001b[0;34m\u001b[0m\u001b[0m\n\u001b[1;32m   1420\u001b[0m         \u001b[0;32mreturn\u001b[0m \u001b[0mTrue\u001b[0m\u001b[0;34m\u001b[0m\u001b[0m\n",
      "\u001b[0;32m/usr/local/miniconda/lib/python2.7/site-packages/pandas/core/indexing.pyc\u001b[0m in \u001b[0;36merror\u001b[0;34m()\u001b[0m\n\u001b[1;32m   1403\u001b[0m                                     \"key\")\n\u001b[1;32m   1404\u001b[0m                 raise KeyError(\"the label [%s] is not in the [%s]\" %\n\u001b[0;32m-> 1405\u001b[0;31m                                (key, self.obj._get_axis_name(axis)))\n\u001b[0m\u001b[1;32m   1406\u001b[0m \u001b[0;34m\u001b[0m\u001b[0m\n\u001b[1;32m   1407\u001b[0m             \u001b[0;32mtry\u001b[0m\u001b[0;34m:\u001b[0m\u001b[0;34m\u001b[0m\u001b[0m\n",
      "\u001b[0;31mKeyError\u001b[0m: 'the label [obsHistID] is not in the [index]'"
     ]
    }
   ],
   "source": [
    "list(xx.obsHistID.loc[ptval] for ptval in xx)"
   ]
  },
  {
   "cell_type": "code",
   "execution_count": 51,
   "metadata": {
    "collapsed": true
   },
   "outputs": [],
   "source": [
    "import healpy as hp"
   ]
  },
  {
   "cell_type": "code",
   "execution_count": null,
   "metadata": {
    "collapsed": true
   },
   "outputs": [],
   "source": [
    "hp.pix2ang()"
   ]
  },
  {
   "cell_type": "code",
   "execution_count": 52,
   "metadata": {
    "collapsed": false
   },
   "outputs": [
    {
     "data": {
      "text/plain": [
       "0.0041725607373000809"
      ]
     },
     "execution_count": 52,
     "metadata": {},
     "output_type": "execute_result"
    }
   ],
   "source": [
    "hp.max_pixrad(nside=256)"
   ]
  },
  {
   "cell_type": "code",
   "execution_count": 50,
   "metadata": {
    "collapsed": false
   },
   "outputs": [],
   "source": [
    "pts = pt.pointingsEnclosing(ra=ravals.iloc[:5].values, dec=decvals.iloc[:5].values, circRadius=0.)"
   ]
  },
  {
   "cell_type": "code",
   "execution_count": 24,
   "metadata": {
    "collapsed": false
   },
   "outputs": [
    {
     "data": {
      "text/plain": [
       "array([237806, 237805, 237804, 237803, 237802, 237801, 237807, 237800,\n",
       "       237798])"
      ]
     },
     "execution_count": 24,
     "metadata": {},
     "output_type": "execute_result"
    }
   ],
   "source": [
    "pts[0]"
   ]
  },
  {
   "cell_type": "code",
   "execution_count": 25,
   "metadata": {
    "collapsed": false
   },
   "outputs": [
    {
     "data": {
      "text/plain": [
       "array([272424, 237806, 237805, ..., 205449, 205447, 220956])"
      ]
     },
     "execution_count": 25,
     "metadata": {},
     "output_type": "execute_result"
    }
   ],
   "source": [
    "opsout.summary.index.values"
   ]
  },
  {
   "cell_type": "code",
   "execution_count": 29,
   "metadata": {
    "collapsed": false
   },
   "outputs": [
    {
     "ename": "KeyError",
     "evalue": "'None of [[52001 52002 52576 52000 52575 48963 48961 48962 52015 52567 52568 52569\\n 52570 52571 52572 52573 52574 52017 52018 52031 61037 60988 61008 61009\\n 61026 61029 61030 61031 61032 61033 61034 61035 61036   858   171   237\\n   238   239   240   241   242   243   244   245   246   247   248   249\\n   250   251   263   264   265   266     9   267   268   236   269   288\\n   435   581   582   583   589   591   592   593   594   595   596   597\\n   598   599   617   618   619   620   621   622   623   624   625   626\\n   628   629   630   631   632   633   634   635   636   637   638   639\\n   640   641   642   643   644   645   646   647   648   649   650   651\\n   652     2   654   728   729   800    19   803    20   804   805   806\\n   807   808   809    21   810   811   812   813   814   815   816   817\\n   818   819   820   821   822   823   824   825    22   826   827   828\\n   829   830   831   832   833   834    23   835    24   836   837   838\\n   857   627   860   859   861   862   863   864   865   866    25   876\\n   877     3   878   879   880   882   892   893   897   898    26   899\\n   900   901    27    28   902    29    30   903   904   905   906     4\\n   907   908   966   967    31   968    32   969   970    33   971   972\\n   973   974   975   976   977   978   979   980    34   981  1095  1096\\n  1097  1098  1099    35    36    37    38  1100  1101  1102    39  1103\\n  1104  1105    40  1106  1109  1111    41  1119  1123  1124    42  1125\\n    43  1126     1    44    45    10    46    47    48    49    50    51\\n    52    53    11    54    55    56    57    58    12    59    60    61\\n    13    62    63    14    15    16    17    18     5     6     7    64\\n    65    66    67    68    69    70   142   143   144   145   164   165\\n   166   167     8   168   169   172   178   215   217   218   219   220\\n   221   222   225   235  1112 52032 52033 52034 48974 48967 48959 48965\\n 48960 48964 48966 61038 60985 60986 60984 60126 60127 60142 60143 47145\\n 47146 47147 47148 47149 71119 71120 71121 71122 71142 60124 44942 44943\\n 44944 44945 44957 44959 44960 44974 44975 44976 62804 62807 62805 62806\\n 62621 62775 62776 62777 62778 62779 62781 62790 62791 62792 62801 62802\\n 62803 16540 16543 16544 16545 14499 14147 16549 16546 16541  4394 14351\\n 16547 16548 16550 16562 17578 17579 17580  4287 16571 16572 16573 16592\\n 16539 14629 16542 16369 39166 39364 24194 50654 39409 39404 39408 39410\\n 39411 39415 39416 39412 39419 39377 46303 46304 39413 46305 39407 46306\\n 46307 39418 39420 39414 39417 61719 61673 14558 14556 14544 14545 14557\\n 14560 14547 14548 14549 14550 14551 14518 14553 14559 14554 14555 63866\\n 63767  4286 62093  4387 62089 62091 62092 62090 61607 61574 61603 57593\\n 61588 57667 61590 57688 48814 58471 61604 58467 58468 61573 57689 57594\\n 42308 58473 58466 42315 57494 58418 58419 57495 57496 58469 58470 59697\\n 59699 59698 61605 59700 61606 57517 58465 48862 57690 61591]] are in the [index]'",
     "output_type": "error",
     "traceback": [
      "\u001b[0;31m---------------------------------------------------------------------------\u001b[0m",
      "\u001b[0;31mKeyError\u001b[0m                                  Traceback (most recent call last)",
      "\u001b[0;32m<ipython-input-29-605e5decd07a>\u001b[0m in \u001b[0;36m<module>\u001b[0;34m()\u001b[0m\n\u001b[0;32m----> 1\u001b[0;31m \u001b[0;36m9\u001b[0m \u001b[0;32min\u001b[0m \u001b[0mopsout\u001b[0m\u001b[0;34m.\u001b[0m\u001b[0msummary\u001b[0m\u001b[0;34m.\u001b[0m\u001b[0mloc\u001b[0m\u001b[0;34m[\u001b[0m\u001b[0mpts\u001b[0m\u001b[0;34m[\u001b[0m\u001b[0;36m0\u001b[0m\u001b[0;34m]\u001b[0m\u001b[0;34m]\u001b[0m\u001b[0;34m\u001b[0m\u001b[0m\n\u001b[0m",
      "\u001b[0;32m/usr/local/miniconda/lib/python2.7/site-packages/pandas/core/indexing.pyc\u001b[0m in \u001b[0;36m__getitem__\u001b[0;34m(self, key)\u001b[0m\n\u001b[1;32m   1309\u001b[0m             \u001b[0;32mreturn\u001b[0m \u001b[0mself\u001b[0m\u001b[0;34m.\u001b[0m\u001b[0m_getitem_tuple\u001b[0m\u001b[0;34m(\u001b[0m\u001b[0mkey\u001b[0m\u001b[0;34m)\u001b[0m\u001b[0;34m\u001b[0m\u001b[0m\n\u001b[1;32m   1310\u001b[0m         \u001b[0;32melse\u001b[0m\u001b[0;34m:\u001b[0m\u001b[0;34m\u001b[0m\u001b[0m\n\u001b[0;32m-> 1311\u001b[0;31m             \u001b[0;32mreturn\u001b[0m \u001b[0mself\u001b[0m\u001b[0;34m.\u001b[0m\u001b[0m_getitem_axis\u001b[0m\u001b[0;34m(\u001b[0m\u001b[0mkey\u001b[0m\u001b[0;34m,\u001b[0m \u001b[0maxis\u001b[0m\u001b[0;34m=\u001b[0m\u001b[0;36m0\u001b[0m\u001b[0;34m)\u001b[0m\u001b[0;34m\u001b[0m\u001b[0m\n\u001b[0m\u001b[1;32m   1312\u001b[0m \u001b[0;34m\u001b[0m\u001b[0m\n\u001b[1;32m   1313\u001b[0m     \u001b[0;32mdef\u001b[0m \u001b[0m_getitem_axis\u001b[0m\u001b[0;34m(\u001b[0m\u001b[0mself\u001b[0m\u001b[0;34m,\u001b[0m \u001b[0mkey\u001b[0m\u001b[0;34m,\u001b[0m \u001b[0maxis\u001b[0m\u001b[0;34m=\u001b[0m\u001b[0;36m0\u001b[0m\u001b[0;34m)\u001b[0m\u001b[0;34m:\u001b[0m\u001b[0;34m\u001b[0m\u001b[0m\n",
      "\u001b[0;32m/usr/local/miniconda/lib/python2.7/site-packages/pandas/core/indexing.pyc\u001b[0m in \u001b[0;36m_getitem_axis\u001b[0;34m(self, key, axis)\u001b[0m\n\u001b[1;32m   1469\u001b[0m                     \u001b[0;32mraise\u001b[0m \u001b[0mValueError\u001b[0m\u001b[0;34m(\u001b[0m\u001b[0;34m'Cannot index with multidimensional key'\u001b[0m\u001b[0;34m)\u001b[0m\u001b[0;34m\u001b[0m\u001b[0m\n\u001b[1;32m   1470\u001b[0m \u001b[0;34m\u001b[0m\u001b[0m\n\u001b[0;32m-> 1471\u001b[0;31m                 \u001b[0;32mreturn\u001b[0m \u001b[0mself\u001b[0m\u001b[0;34m.\u001b[0m\u001b[0m_getitem_iterable\u001b[0m\u001b[0;34m(\u001b[0m\u001b[0mkey\u001b[0m\u001b[0;34m,\u001b[0m \u001b[0maxis\u001b[0m\u001b[0;34m=\u001b[0m\u001b[0maxis\u001b[0m\u001b[0;34m)\u001b[0m\u001b[0;34m\u001b[0m\u001b[0m\n\u001b[0m\u001b[1;32m   1472\u001b[0m \u001b[0;34m\u001b[0m\u001b[0m\n\u001b[1;32m   1473\u001b[0m             \u001b[0;31m# nested tuple slicing\u001b[0m\u001b[0;34m\u001b[0m\u001b[0;34m\u001b[0m\u001b[0m\n",
      "\u001b[0;32m/usr/local/miniconda/lib/python2.7/site-packages/pandas/core/indexing.pyc\u001b[0m in \u001b[0;36m_getitem_iterable\u001b[0;34m(self, key, axis)\u001b[0m\n\u001b[1;32m   1033\u001b[0m     \u001b[0;32mdef\u001b[0m \u001b[0m_getitem_iterable\u001b[0m\u001b[0;34m(\u001b[0m\u001b[0mself\u001b[0m\u001b[0;34m,\u001b[0m \u001b[0mkey\u001b[0m\u001b[0;34m,\u001b[0m \u001b[0maxis\u001b[0m\u001b[0;34m=\u001b[0m\u001b[0;36m0\u001b[0m\u001b[0;34m)\u001b[0m\u001b[0;34m:\u001b[0m\u001b[0;34m\u001b[0m\u001b[0m\n\u001b[1;32m   1034\u001b[0m         \u001b[0;32mif\u001b[0m \u001b[0mself\u001b[0m\u001b[0;34m.\u001b[0m\u001b[0m_should_validate_iterable\u001b[0m\u001b[0;34m(\u001b[0m\u001b[0maxis\u001b[0m\u001b[0;34m)\u001b[0m\u001b[0;34m:\u001b[0m\u001b[0;34m\u001b[0m\u001b[0m\n\u001b[0;32m-> 1035\u001b[0;31m             \u001b[0mself\u001b[0m\u001b[0;34m.\u001b[0m\u001b[0m_has_valid_type\u001b[0m\u001b[0;34m(\u001b[0m\u001b[0mkey\u001b[0m\u001b[0;34m,\u001b[0m \u001b[0maxis\u001b[0m\u001b[0;34m)\u001b[0m\u001b[0;34m\u001b[0m\u001b[0m\n\u001b[0m\u001b[1;32m   1036\u001b[0m \u001b[0;34m\u001b[0m\u001b[0m\n\u001b[1;32m   1037\u001b[0m         \u001b[0mlabels\u001b[0m \u001b[0;34m=\u001b[0m \u001b[0mself\u001b[0m\u001b[0;34m.\u001b[0m\u001b[0mobj\u001b[0m\u001b[0;34m.\u001b[0m\u001b[0m_get_axis\u001b[0m\u001b[0;34m(\u001b[0m\u001b[0maxis\u001b[0m\u001b[0;34m)\u001b[0m\u001b[0;34m\u001b[0m\u001b[0m\n",
      "\u001b[0;32m/usr/local/miniconda/lib/python2.7/site-packages/pandas/core/indexing.pyc\u001b[0m in \u001b[0;36m_has_valid_type\u001b[0;34m(self, key, axis)\u001b[0m\n\u001b[1;32m   1392\u001b[0m \u001b[0;34m\u001b[0m\u001b[0m\n\u001b[1;32m   1393\u001b[0m                 raise KeyError(\"None of [%s] are in the [%s]\" %\n\u001b[0;32m-> 1394\u001b[0;31m                                (key, self.obj._get_axis_name(axis)))\n\u001b[0m\u001b[1;32m   1395\u001b[0m \u001b[0;34m\u001b[0m\u001b[0m\n\u001b[1;32m   1396\u001b[0m             \u001b[0;32mreturn\u001b[0m \u001b[0mTrue\u001b[0m\u001b[0;34m\u001b[0m\u001b[0m\n",
      "\u001b[0;31mKeyError\u001b[0m: 'None of [[52001 52002 52576 52000 52575 48963 48961 48962 52015 52567 52568 52569\\n 52570 52571 52572 52573 52574 52017 52018 52031 61037 60988 61008 61009\\n 61026 61029 61030 61031 61032 61033 61034 61035 61036   858   171   237\\n   238   239   240   241   242   243   244   245   246   247   248   249\\n   250   251   263   264   265   266     9   267   268   236   269   288\\n   435   581   582   583   589   591   592   593   594   595   596   597\\n   598   599   617   618   619   620   621   622   623   624   625   626\\n   628   629   630   631   632   633   634   635   636   637   638   639\\n   640   641   642   643   644   645   646   647   648   649   650   651\\n   652     2   654   728   729   800    19   803    20   804   805   806\\n   807   808   809    21   810   811   812   813   814   815   816   817\\n   818   819   820   821   822   823   824   825    22   826   827   828\\n   829   830   831   832   833   834    23   835    24   836   837   838\\n   857   627   860   859   861   862   863   864   865   866    25   876\\n   877     3   878   879   880   882   892   893   897   898    26   899\\n   900   901    27    28   902    29    30   903   904   905   906     4\\n   907   908   966   967    31   968    32   969   970    33   971   972\\n   973   974   975   976   977   978   979   980    34   981  1095  1096\\n  1097  1098  1099    35    36    37    38  1100  1101  1102    39  1103\\n  1104  1105    40  1106  1109  1111    41  1119  1123  1124    42  1125\\n    43  1126     1    44    45    10    46    47    48    49    50    51\\n    52    53    11    54    55    56    57    58    12    59    60    61\\n    13    62    63    14    15    16    17    18     5     6     7    64\\n    65    66    67    68    69    70   142   143   144   145   164   165\\n   166   167     8   168   169   172   178   215   217   218   219   220\\n   221   222   225   235  1112 52032 52033 52034 48974 48967 48959 48965\\n 48960 48964 48966 61038 60985 60986 60984 60126 60127 60142 60143 47145\\n 47146 47147 47148 47149 71119 71120 71121 71122 71142 60124 44942 44943\\n 44944 44945 44957 44959 44960 44974 44975 44976 62804 62807 62805 62806\\n 62621 62775 62776 62777 62778 62779 62781 62790 62791 62792 62801 62802\\n 62803 16540 16543 16544 16545 14499 14147 16549 16546 16541  4394 14351\\n 16547 16548 16550 16562 17578 17579 17580  4287 16571 16572 16573 16592\\n 16539 14629 16542 16369 39166 39364 24194 50654 39409 39404 39408 39410\\n 39411 39415 39416 39412 39419 39377 46303 46304 39413 46305 39407 46306\\n 46307 39418 39420 39414 39417 61719 61673 14558 14556 14544 14545 14557\\n 14560 14547 14548 14549 14550 14551 14518 14553 14559 14554 14555 63866\\n 63767  4286 62093  4387 62089 62091 62092 62090 61607 61574 61603 57593\\n 61588 57667 61590 57688 48814 58471 61604 58467 58468 61573 57689 57594\\n 42308 58473 58466 42315 57494 58418 58419 57495 57496 58469 58470 59697\\n 59699 59698 61605 59700 61606 57517 58465 48862 57690 61591]] are in the [index]'"
     ]
    }
   ],
   "source": [
    "9 in opsout.summary.loc[pts[0]]"
   ]
  },
  {
   "cell_type": "code",
   "execution_count": 62,
   "metadata": {
    "collapsed": false
   },
   "outputs": [
    {
     "data": {
      "text/plain": [
       "[array([176619, 176617, 175744, 176621, 175746, 177641, 177645, 177643,\n",
       "        176623, 175762, 175760, 175758, 175756, 175754, 175752, 175750,\n",
       "        175748, 176625, 176629, 176635, 209197, 209272, 209270, 209266,\n",
       "        209268, 209264, 209262, 209260, 209258, 209256, 209210, 209201,\n",
       "        209199, 233104, 236216, 237752, 237751, 237750, 237749, 237748,\n",
       "        237747, 237737, 237746, 237744, 237743, 237742, 237741, 237740,\n",
       "        237739, 237745, 236232, 236231, 236230, 236229, 237798, 236228,\n",
       "        236227, 237738, 236233, 236225, 235449, 235448, 235447, 235446,\n",
       "        233191, 233190, 233188, 233187, 233186, 233185, 233184, 233183,\n",
       "        233189, 233182, 233181, 233180, 233179, 233159, 233158, 233157,\n",
       "        233156, 233155, 233154, 233160, 233151, 233150, 233149, 233148,\n",
       "        233147, 233146, 233152, 233161, 233162, 233163, 233178, 233177,\n",
       "        233176, 233175, 233174, 233173, 233172, 233171, 233170, 233169,\n",
       "        233168, 233167, 233166, 233165, 233164, 237805, 233145, 233144,\n",
       "        233142, 233143, 237824, 233123, 237823, 233122, 233121, 233120,\n",
       "        233119, 233118, 233124, 237822, 233117, 233115, 233114, 233113,\n",
       "        233112, 233111, 233110, 233116, 233109, 233125, 233127, 233141,\n",
       "        233140, 233139, 233138, 233137, 237821, 233136, 233126, 233135,\n",
       "        233133, 233132, 233131, 233130, 233129, 233128, 237820, 233134,\n",
       "        237819, 233108, 233107, 233106, 233105, 233153, 233102, 233103,\n",
       "        233101, 233100, 233099, 233098, 233097, 233096, 237809, 234676,\n",
       "        234675, 237804, 234674, 234673, 234672, 234677, 234678, 234680,\n",
       "        234691, 234690, 237818, 234689, 234679, 234688, 237816, 237815,\n",
       "        234686, 237814, 237813, 234685, 234684, 234683, 234682, 237803,\n",
       "        234681, 234687, 235431, 235445, 237812, 235444, 237811, 235443,\n",
       "        235442, 237817, 235441, 235440, 235430, 235439, 235437, 235436,\n",
       "        235435, 235434, 235433, 235432, 237825, 235438, 233926, 233925,\n",
       "        233924, 233923, 233922, 237791, 237789, 237770, 237769, 233921,\n",
       "        233927, 233920, 237768, 233918, 233917, 233916, 237767, 233915,\n",
       "        233919, 233928, 237766, 233929, 233934, 233933, 237765, 233932,\n",
       "        237771, 233931, 237806, 237764, 237762, 237797, 237761, 237760,\n",
       "        237759, 237758, 237757, 237763, 237790, 237772, 237796, 237774,\n",
       "        237788, 237787, 237786, 237785, 237795, 237784, 237783, 237773,\n",
       "        237794, 237782, 237780, 237793, 237799, 237792, 237808, 237810,\n",
       "        237802, 237801, 237807, 237779, 237778, 237777, 237776, 237775,\n",
       "        237781, 237826, 237756, 237755, 237754, 237753, 236222, 236221,\n",
       "        236220, 236219, 237800, 236218, 236217, 236214, 236215, 236223,\n",
       "        236224, 236226, 237734, 237733, 237732, 237731, 237735, 237736,\n",
       "        233930, 176633, 176631, 176627, 177651, 177633, 177649, 177637,\n",
       "        177647, 177639, 177635, 209180, 209276, 209274, 209277, 209669,\n",
       "        209745, 209746, 209679, 193999, 193998, 193932, 193922, 193902,\n",
       "        200790, 200789, 200723, 200713, 200693, 209649, 196706, 196704,\n",
       "        196702, 196700, 196708, 196710, 196714, 196718, 196716, 196712,\n",
       "        219513, 219507, 219511, 219509, 219549, 219497, 219495, 219473,\n",
       "        219453, 219423, 219499, 219501, 219503, 219505, 219519, 219517,\n",
       "        219515, 229393, 229399, 229401, 229403, 221962, 221715, 229411,\n",
       "        229405, 229395, 237857, 221741, 229407, 229409, 229413, 229389,\n",
       "        230930, 230920, 230900, 237827, 229367, 229347, 229335, 229317,\n",
       "        229391, 222011, 229397, 229443, 188655, 188608, 262450, 175159,\n",
       "        188598, 188556, 188600, 188596, 188594, 188586, 188584, 188592,\n",
       "        188578, 188632, 191240, 191239, 188590, 191173, 188602, 191163,\n",
       "        191143, 188580, 188536, 188588, 188582, 210960, 211005, 221929,\n",
       "        221933, 221885, 221905, 221931, 221939, 221951, 221949, 221947,\n",
       "        221945, 221943, 221981, 221941, 221927, 221937, 221935, 220894,\n",
       "        220862, 237828, 211692, 237858, 211789, 211722, 211712, 211788,\n",
       "        212462, 212454, 212472, 213495, 212458, 213493, 212460, 213489,\n",
       "        177854, 213240, 212470, 213248, 213246, 212456, 213487, 213491,\n",
       "        187862, 213236, 213250, 187818, 213503, 213234, 213238, 213501,\n",
       "        213499, 213244, 213242, 214344, 214340, 214342, 212468, 214338,\n",
       "        212466, 213497, 213252, 177804, 213485, 212464]),\n",
       " array([176619, 176617, 175744, 176621, 175746, 177641, 177645, 177643,\n",
       "        176623, 175762, 175760, 175758, 175756, 175754, 175752, 175750,\n",
       "        175748, 176625, 176629, 176635, 209197, 209272, 209270, 209266,\n",
       "        209268, 209264, 209262, 209260, 209258, 209256, 209210, 209201,\n",
       "        209199, 233104, 236216, 237752, 237751, 237750, 237749, 237748,\n",
       "        237747, 237737, 237746, 237744, 237743, 237742, 237741, 237740,\n",
       "        237739, 237745, 236232, 236231, 236230, 236229, 237798, 236228,\n",
       "        236227, 237738, 236233, 236225, 235449, 235448, 235447, 235446,\n",
       "        233191, 233190, 233188, 233187, 233186, 233185, 233184, 233183,\n",
       "        233189, 233182, 233181, 233180, 233179, 233159, 233158, 233157,\n",
       "        233156, 233155, 233154, 233160, 233151, 233150, 233149, 233148,\n",
       "        233147, 233146, 233152, 233161, 233162, 233163, 233178, 233177,\n",
       "        233176, 233175, 233174, 233173, 233172, 233171, 233170, 233169,\n",
       "        233168, 233167, 233166, 233165, 233164, 237805, 233145, 233144,\n",
       "        233142, 233143, 237824, 233123, 237823, 233122, 233121, 233120,\n",
       "        233119, 233118, 233124, 237822, 233117, 233115, 233114, 233113,\n",
       "        233112, 233111, 233110, 233116, 233109, 233125, 233127, 233141,\n",
       "        233140, 233139, 233138, 233137, 237821, 233136, 233126, 233135,\n",
       "        233133, 233132, 233131, 233130, 233129, 233128, 237820, 233134,\n",
       "        237819, 233108, 233107, 233106, 233105, 233153, 233102, 233103,\n",
       "        233101, 233100, 233099, 233098, 233097, 233096, 237809, 234676,\n",
       "        234675, 237804, 234674, 234673, 234672, 234677, 234678, 234680,\n",
       "        234691, 234690, 237818, 234689, 234679, 234688, 237816, 237815,\n",
       "        234686, 237814, 237813, 234685, 234684, 234683, 234682, 237803,\n",
       "        234681, 234687, 235431, 235445, 237812, 235444, 237811, 235443,\n",
       "        235442, 237817, 235441, 235440, 235430, 235439, 235437, 235436,\n",
       "        235435, 235434, 235433, 235432, 237825, 235438, 233926, 233925,\n",
       "        233924, 233923, 233922, 237791, 237789, 237770, 237769, 233921,\n",
       "        233927, 233920, 237768, 233918, 233917, 233916, 237767, 233915,\n",
       "        233919, 233928, 237766, 233929, 233934, 233933, 237765, 233932,\n",
       "        237771, 233931, 237806, 237764, 237762, 237797, 237761, 237760,\n",
       "        237759, 237758, 237757, 237763, 237790, 237772, 237796, 237774,\n",
       "        237788, 237787, 237786, 237785, 237795, 237784, 237783, 237773,\n",
       "        237794, 237782, 237780, 237793, 237799, 237792, 237808, 237810,\n",
       "        237802, 237801, 237807, 237779, 237778, 237777, 237776, 237775,\n",
       "        237781, 237826, 237756, 237755, 237754, 237753, 236222, 236221,\n",
       "        236220, 236219, 237800, 236218, 236217, 236214, 236215, 236223,\n",
       "        236224, 236226, 237734, 237733, 237732, 237731, 237735, 237736,\n",
       "        233930, 176633, 176631, 176627, 177651, 177633, 177649, 177637,\n",
       "        177647, 177639, 177635, 209180, 209276, 209274, 209277, 209669,\n",
       "        209745, 209746, 209679, 193999, 193998, 193932, 193922, 193902,\n",
       "        200790, 200789, 200723, 200713, 200693, 209649, 196706, 196704,\n",
       "        196702, 196700, 196708, 196710, 196714, 196718, 196716, 196712,\n",
       "        219513, 219507, 219511, 219509, 219549, 219497, 219495, 219473,\n",
       "        219453, 219423, 219499, 219501, 219503, 219505, 219519, 219517,\n",
       "        219515, 229393, 229399, 229401, 229403, 221962, 221715, 229411,\n",
       "        229405, 229395, 237857, 221741, 229407, 229409, 229413, 229389,\n",
       "        230930, 230920, 230900, 237827, 229367, 229347, 229335, 229317,\n",
       "        229391, 222011, 229397, 229443, 188655, 188608, 262450, 175159,\n",
       "        188598, 188556, 188600, 188596, 188594, 188586, 188584, 188592,\n",
       "        188578, 188632, 191240, 191239, 188590, 191173, 188602, 191163,\n",
       "        191143, 188580, 188536, 188588, 188582, 210960, 211005, 221929,\n",
       "        221933, 221885, 221905, 221931, 221939, 221951, 221949, 221947,\n",
       "        221945, 221943, 221981, 221941, 221927, 221937, 221935, 220894,\n",
       "        220862, 237828, 211692, 237858, 211789, 211722, 211712, 211788,\n",
       "        212462, 212454, 212472, 213495, 212458, 213493, 212460, 213489,\n",
       "        177854, 213240, 212470, 213248, 213246, 212456, 213487, 213491,\n",
       "        187862, 213236, 213250, 187818, 213503, 213234, 213238, 213501,\n",
       "        213499, 213244, 213242, 214344, 214340, 214342, 212468, 214338,\n",
       "        212466, 213497, 213252, 177804, 213485, 212464]),\n",
       " array([176619, 176617, 175744, 176621, 175746, 177641, 177645, 177643,\n",
       "        176623, 175762, 175760, 175758, 175756, 175754, 175752, 175750,\n",
       "        175748, 176625, 176629, 176635, 209197, 209272, 209270, 209266,\n",
       "        209268, 209264, 209262, 209260, 209258, 209256, 209210, 209201,\n",
       "        209199, 233104, 236216, 237752, 237751, 237750, 237749, 237748,\n",
       "        237747, 237737, 237746, 237744, 237743, 237742, 237741, 237740,\n",
       "        237739, 237745, 236232, 236231, 236230, 236229, 237798, 236228,\n",
       "        236227, 237738, 236233, 236225, 235449, 235448, 235447, 235446,\n",
       "        233191, 233190, 233188, 233187, 233186, 233185, 233184, 233183,\n",
       "        233189, 233182, 233181, 233180, 233179, 233159, 233158, 233157,\n",
       "        233156, 233155, 233154, 233160, 233151, 233150, 233149, 233148,\n",
       "        233147, 233146, 233152, 233161, 233162, 233163, 233178, 233177,\n",
       "        233176, 233175, 233174, 233173, 233172, 233171, 233170, 233169,\n",
       "        233168, 233167, 233166, 233165, 233164, 237805, 233145, 233144,\n",
       "        233142, 233143, 237824, 233123, 237823, 233122, 233121, 233120,\n",
       "        233119, 233118, 233124, 237822, 233117, 233115, 233114, 233113,\n",
       "        233112, 233111, 233110, 233116, 233109, 233125, 233127, 233141,\n",
       "        233140, 233139, 233138, 233137, 237821, 233136, 233126, 233135,\n",
       "        233133, 233132, 233131, 233130, 233129, 233128, 237820, 233134,\n",
       "        237819, 233108, 233107, 233106, 233105, 233153, 233102, 233103,\n",
       "        233101, 233100, 233099, 233098, 233097, 233096, 237809, 234676,\n",
       "        234675, 237804, 234674, 234673, 234672, 234677, 234678, 234680,\n",
       "        234691, 234690, 237818, 234689, 234679, 234688, 237816, 237815,\n",
       "        234686, 237814, 237813, 234685, 234684, 234683, 234682, 237803,\n",
       "        234681, 234687, 235431, 235445, 237812, 235444, 237811, 235443,\n",
       "        235442, 237817, 235441, 235440, 235430, 235439, 235437, 235436,\n",
       "        235435, 235434, 235433, 235432, 237825, 235438, 233926, 233925,\n",
       "        233924, 233923, 233922, 237791, 237789, 237770, 237769, 233921,\n",
       "        233927, 233920, 237768, 233918, 233917, 233916, 237767, 233915,\n",
       "        233919, 233928, 237766, 233929, 233934, 233933, 237765, 233932,\n",
       "        237771, 233931, 237806, 237764, 237762, 237797, 237761, 237760,\n",
       "        237759, 237758, 237757, 237763, 237790, 237772, 237796, 237774,\n",
       "        237788, 237787, 237786, 237785, 237795, 237784, 237783, 237773,\n",
       "        237794, 237782, 237780, 237793, 237799, 237792, 237808, 237810,\n",
       "        237802, 237801, 237807, 237779, 237778, 237777, 237776, 237775,\n",
       "        237781, 237826, 237756, 237755, 237754, 237753, 236222, 236221,\n",
       "        236220, 236219, 237800, 236218, 236217, 236214, 236215, 236223,\n",
       "        236224, 236226, 237734, 237733, 237732, 237731, 237735, 237736,\n",
       "        233930, 176633, 176631, 176627, 177651, 177633, 177649, 177637,\n",
       "        177647, 177639, 177635, 209180, 209276, 209274, 209277, 209669,\n",
       "        209745, 209746, 209679, 193999, 193998, 193932, 193922, 193902,\n",
       "        200790, 200789, 200723, 200713, 200693, 209649, 196706, 196704,\n",
       "        196702, 196700, 196708, 196710, 196714, 196718, 196716, 196712,\n",
       "        219513, 219507, 219511, 219509, 219549, 219497, 219495, 219473,\n",
       "        219453, 219423, 219499, 219501, 219503, 219505, 219519, 219517,\n",
       "        219515, 229393, 229399, 229401, 229403, 221962, 221715, 229411,\n",
       "        229405, 229395, 237857, 221741, 229407, 229409, 229413, 229389,\n",
       "        230930, 230920, 230900, 237827, 229367, 229347, 229335, 229317,\n",
       "        229391, 222011, 229397, 229443, 188655, 188608, 262450, 175159,\n",
       "        188598, 188556, 188600, 188596, 188594, 188586, 188584, 188592,\n",
       "        188578, 188632, 191240, 191239, 188590, 191173, 188602, 191163,\n",
       "        191143, 188580, 188536, 188588, 188582, 210960, 211005, 221929,\n",
       "        221933, 221885, 221905, 221931, 221939, 221951, 221949, 221947,\n",
       "        221945, 221943, 221981, 221941, 221927, 221937, 221935, 220894,\n",
       "        220862, 237828, 211692, 237858, 211789, 211722, 211712, 211788,\n",
       "        212462, 212454, 212472, 213495, 212458, 213493, 212460, 213489,\n",
       "        177854, 213240, 212470, 213248, 213246, 212456, 213487, 213491,\n",
       "        187862, 213236, 213250, 187818, 213503, 213234, 213238, 213501,\n",
       "        213499, 213244, 213242, 214344, 214340, 214342, 212468, 214338,\n",
       "        212466, 213497, 213252, 177804, 213485, 212464]),\n",
       " array([176619, 176617, 175744, 176621, 175746, 177641, 177645, 177643,\n",
       "        176623, 175762, 175760, 175758, 175756, 175754, 175752, 175750,\n",
       "        175748, 176625, 176629, 176635, 209197, 209272, 209270, 209266,\n",
       "        209268, 209264, 209262, 209260, 209258, 209256, 209210, 209201,\n",
       "        209199, 233104, 236216, 237752, 237751, 237750, 237749, 237748,\n",
       "        237747, 237737, 237746, 237744, 237743, 237742, 237741, 237740,\n",
       "        237739, 237745, 236232, 236231, 236230, 236229, 237798, 236228,\n",
       "        236227, 237738, 236233, 236225, 235449, 235448, 235447, 235446,\n",
       "        233191, 233190, 233188, 233187, 233186, 233185, 233184, 233183,\n",
       "        233189, 233182, 233181, 233180, 233179, 233159, 233158, 233157,\n",
       "        233156, 233155, 233154, 233160, 233151, 233150, 233149, 233148,\n",
       "        233147, 233146, 233152, 233161, 233162, 233163, 233178, 233177,\n",
       "        233176, 233175, 233174, 233173, 233172, 233171, 233170, 233169,\n",
       "        233168, 233167, 233166, 233165, 233164, 237805, 233145, 233144,\n",
       "        233142, 233143, 237824, 233123, 237823, 233122, 233121, 233120,\n",
       "        233119, 233118, 233124, 237822, 233117, 233115, 233114, 233113,\n",
       "        233112, 233111, 233110, 233116, 233109, 233125, 233127, 233141,\n",
       "        233140, 233139, 233138, 233137, 237821, 233136, 233126, 233135,\n",
       "        233133, 233132, 233131, 233130, 233129, 233128, 237820, 233134,\n",
       "        237819, 233108, 233107, 233106, 233105, 233153, 233102, 233103,\n",
       "        233101, 233100, 233099, 233098, 233097, 233096, 237809, 234676,\n",
       "        234675, 237804, 234674, 234673, 234672, 234677, 234678, 234680,\n",
       "        234691, 234690, 237818, 234689, 234679, 234688, 237816, 237815,\n",
       "        234686, 237814, 237813, 234685, 234684, 234683, 234682, 237803,\n",
       "        234681, 234687, 235431, 235445, 237812, 235444, 237811, 235443,\n",
       "        235442, 237817, 235441, 235440, 235430, 235439, 235437, 235436,\n",
       "        235435, 235434, 235433, 235432, 237825, 235438, 233926, 233925,\n",
       "        233924, 233923, 233922, 237791, 237789, 237770, 237769, 233921,\n",
       "        233927, 233920, 237768, 233918, 233917, 233916, 237767, 233915,\n",
       "        233919, 233928, 237766, 233929, 233934, 233933, 237765, 233932,\n",
       "        237771, 233931, 237806, 237764, 237762, 237797, 237761, 237760,\n",
       "        237759, 237758, 237757, 237763, 237790, 237772, 237796, 237774,\n",
       "        237788, 237787, 237786, 237785, 237795, 237784, 237783, 237773,\n",
       "        237794, 237782, 237780, 237793, 237799, 237792, 237808, 237810,\n",
       "        237802, 237801, 237807, 237779, 237778, 237777, 237776, 237775,\n",
       "        237781, 237826, 237756, 237755, 237754, 237753, 236222, 236221,\n",
       "        236220, 236219, 237800, 236218, 236217, 236214, 236215, 236223,\n",
       "        236224, 236226, 237734, 237733, 237732, 237731, 237735, 237736,\n",
       "        233930, 176633, 176631, 176627, 177651, 177633, 177649, 177637,\n",
       "        177647, 177639, 177635, 209180, 209276, 209274, 209277, 209669,\n",
       "        209745, 209746, 209679, 193999, 193998, 193932, 193922, 193902,\n",
       "        200790, 200789, 200723, 200713, 200693, 209649, 196706, 196704,\n",
       "        196702, 196700, 196708, 196710, 196714, 196718, 196716, 196712,\n",
       "        219513, 219507, 219511, 219509, 219549, 219497, 219495, 219473,\n",
       "        219453, 219423, 219499, 219501, 219503, 219505, 219519, 219517,\n",
       "        219515, 229393, 229399, 229401, 229403, 221962, 221715, 229411,\n",
       "        229405, 229395, 237857, 221741, 229407, 229409, 229413, 229389,\n",
       "        230930, 230920, 230900, 237827, 229367, 229347, 229335, 229317,\n",
       "        229391, 222011, 229397, 229443, 188655, 188608, 262450, 175159,\n",
       "        188598, 188556, 188600, 188596, 188594, 188586, 188584, 188592,\n",
       "        188578, 188632, 191240, 191239, 188590, 191173, 188602, 191163,\n",
       "        191143, 188580, 188536, 188588, 188582, 210960, 211005, 221929,\n",
       "        221933, 221885, 221905, 221931, 221939, 221951, 221949, 221947,\n",
       "        221945, 221943, 221981, 221941, 221927, 221937, 221935, 220894,\n",
       "        220862, 237828, 211692, 237858, 211789, 211722, 211712, 211788,\n",
       "        212462, 212454, 212472, 213495, 212458, 213493, 212460, 213489,\n",
       "        177854, 213240, 212470, 213248, 213246, 212456, 213487, 213491,\n",
       "        187862, 213236, 213250, 187818, 213503, 213234, 213238, 213501,\n",
       "        213499, 213244, 213242, 214344, 214340, 214342, 212468, 214338,\n",
       "        212466, 213497, 213252, 177804, 213485, 212464]),\n",
       " array([176619, 176617, 175744, 176621, 175746, 177641, 177645, 177643,\n",
       "        176623, 175762, 175760, 175758, 175756, 175754, 175752, 175750,\n",
       "        175748, 176625, 176629, 176635, 209197, 209272, 209270, 209266,\n",
       "        209268, 209264, 209262, 209260, 209258, 209256, 209210, 209201,\n",
       "        209199, 233104, 236216, 237752, 237751, 237750, 237749, 237748,\n",
       "        237747, 237737, 237746, 237744, 237743, 237742, 237741, 237740,\n",
       "        237739, 237745, 236232, 236231, 236230, 236229, 237798, 236228,\n",
       "        236227, 237738, 236233, 236225, 235449, 235448, 235447, 235446,\n",
       "        233191, 233190, 233188, 233187, 233186, 233185, 233184, 233183,\n",
       "        233189, 233182, 233181, 233180, 233179, 233159, 233158, 233157,\n",
       "        233156, 233155, 233154, 233160, 233151, 233150, 233149, 233148,\n",
       "        233147, 233146, 233152, 233161, 233162, 233163, 233178, 233177,\n",
       "        233176, 233175, 233174, 233173, 233172, 233171, 233170, 233169,\n",
       "        233168, 233167, 233166, 233165, 233164, 237805, 233145, 233144,\n",
       "        233142, 233143, 237824, 233123, 237823, 233122, 233121, 233120,\n",
       "        233119, 233118, 233124, 237822, 233117, 233115, 233114, 233113,\n",
       "        233112, 233111, 233110, 233116, 233109, 233125, 233127, 233141,\n",
       "        233140, 233139, 233138, 233137, 237821, 233136, 233126, 233135,\n",
       "        233133, 233132, 233131, 233130, 233129, 233128, 237820, 233134,\n",
       "        237819, 233108, 233107, 233106, 233105, 233153, 233102, 233103,\n",
       "        233101, 233100, 233099, 233098, 233097, 233096, 237809, 234676,\n",
       "        234675, 237804, 234674, 234673, 234672, 234677, 234678, 234680,\n",
       "        234691, 234690, 237818, 234689, 234679, 234688, 237816, 237815,\n",
       "        234686, 237814, 237813, 234685, 234684, 234683, 234682, 237803,\n",
       "        234681, 234687, 235431, 235445, 237812, 235444, 237811, 235443,\n",
       "        235442, 237817, 235441, 235440, 235430, 235439, 235437, 235436,\n",
       "        235435, 235434, 235433, 235432, 237825, 235438, 233926, 233925,\n",
       "        233924, 233923, 233922, 237791, 237789, 237770, 237769, 233921,\n",
       "        233927, 233920, 237768, 233918, 233917, 233916, 237767, 233915,\n",
       "        233919, 233928, 237766, 233929, 233934, 233933, 237765, 233932,\n",
       "        237771, 233931, 237806, 237764, 237762, 237797, 237761, 237760,\n",
       "        237759, 237758, 237757, 237763, 237790, 237772, 237796, 237774,\n",
       "        237788, 237787, 237786, 237785, 237795, 237784, 237783, 237773,\n",
       "        237794, 237782, 237780, 237793, 237799, 237792, 237808, 237810,\n",
       "        237802, 237801, 237807, 237779, 237778, 237777, 237776, 237775,\n",
       "        237781, 237826, 237756, 237755, 237754, 237753, 236222, 236221,\n",
       "        236220, 236219, 237800, 236218, 236217, 236214, 236215, 236223,\n",
       "        236224, 236226, 237734, 237733, 237732, 237731, 237735, 237736,\n",
       "        233930, 176633, 176631, 176627, 177651, 177633, 177649, 177637,\n",
       "        177647, 177639, 177635, 209180, 209276, 209274, 209277, 209669,\n",
       "        209745, 209746, 209679, 193999, 193998, 193932, 193922, 193902,\n",
       "        200790, 200789, 200723, 200713, 200693, 209649, 196706, 196704,\n",
       "        196702, 196700, 196708, 196710, 196714, 196718, 196716, 196712,\n",
       "        219513, 219507, 219511, 219509, 219549, 219497, 219495, 219473,\n",
       "        219453, 219423, 219499, 219501, 219503, 219505, 219519, 219517,\n",
       "        219515, 229393, 229399, 229401, 229403, 221962, 221715, 229411,\n",
       "        229405, 229395, 237857, 221741, 229407, 229409, 229413, 229389,\n",
       "        230930, 230920, 230900, 237827, 229367, 229347, 229335, 229317,\n",
       "        229391, 222011, 229397, 229443, 188655, 188608, 262450, 175159,\n",
       "        188598, 188556, 188600, 188596, 188594, 188586, 188584, 188592,\n",
       "        188578, 188632, 191240, 191239, 188590, 191173, 188602, 191163,\n",
       "        191143, 188580, 188536, 188588, 188582, 210960, 211005, 221929,\n",
       "        221933, 221885, 221905, 221931, 221939, 221951, 221949, 221947,\n",
       "        221945, 221943, 221981, 221941, 221927, 221937, 221935, 220894,\n",
       "        220862, 237828, 211692, 237858, 211789, 211722, 211712, 211788,\n",
       "        212462, 212454, 212472, 213495, 212458, 213493, 212460, 213489,\n",
       "        177854, 213240, 212470, 213248, 213246, 212456, 213487, 213491,\n",
       "        187862, 213236, 213250, 187818, 213503, 213234, 213238, 213501,\n",
       "        213499, 213244, 213242, 214344, 214340, 214342, 212468, 214338,\n",
       "        212466, 213497, 213252, 177804, 213485, 212464])]"
      ]
     },
     "execution_count": 62,
     "metadata": {},
     "output_type": "execute_result"
    }
   ],
   "source": [
    "list(pt.indMapping.obsHistID.loc[ptval].values for ptval in pts)"
   ]
  },
  {
   "cell_type": "code",
   "execution_count": 33,
   "metadata": {
    "collapsed": false
   },
   "outputs": [
    {
     "data": {
      "text/plain": [
       "(478,)"
      ]
     },
     "execution_count": 33,
     "metadata": {},
     "output_type": "execute_result"
    }
   ],
   "source": [
    "pts[0].shape"
   ]
  },
  {
   "cell_type": "code",
   "execution_count": 58,
   "metadata": {
    "collapsed": false
   },
   "outputs": [
    {
     "data": {
      "text/plain": [
       "array([ array([52001, 52002, 52576, 52000, 52575, 48963, 48961, 48962, 52015,\n",
       "       52567, 52568, 52569, 52570, 52571, 52572, 52573, 52574, 52017,\n",
       "       52018, 52031, 61037, 60988, 61008, 61009, 61026, 61029, 61030,\n",
       "       61031, 61032, 61033, 61034, 61035, 61036,   858,   171,   237,\n",
       "         238,   239,   240,   241,   242,   243,   244,   245,   246,\n",
       "         247,   248,   249,   250,   251,   263,   264,   265,   266,\n",
       "           9,   267,   268,   236,   269,   288,   435,   581,   582,\n",
       "         583,   589,   591,   592,   593,   594,   595,   596,   597,\n",
       "         598,   599,   617,   618,   619,   620,   621,   622,   623,\n",
       "         624,   625,   626,   628,   629,   630,   631,   632,   633,\n",
       "         634,   635,   636,   637,   638,   639,   640,   641,   642,\n",
       "         643,   644,   645,   646,   647,   648,   649,   650,   651,\n",
       "         652,     2,   654,   728,   729,   800,    19,   803,    20,\n",
       "         804,   805,   806,   807,   808,   809,    21,   810,   811,\n",
       "         812,   813,   814,   815,   816,   817,   818,   819,   820,\n",
       "         821,   822,   823,   824,   825,    22,   826,   827,   828,\n",
       "         829,   830,   831,   832,   833,   834,    23,   835,    24,\n",
       "         836,   837,   838,   857,   627,   860,   859,   861,   862,\n",
       "         863,   864,   865,   866,    25,   876,   877,     3,   878,\n",
       "         879,   880,   882,   892,   893,   897,   898,    26,   899,\n",
       "         900,   901,    27,    28,   902,    29,    30,   903,   904,\n",
       "         905,   906,     4,   907,   908,   966,   967,    31,   968,\n",
       "          32,   969,   970,    33,   971,   972,   973,   974,   975,\n",
       "         976,   977,   978,   979,   980,    34,   981,  1095,  1096,\n",
       "        1097,  1098,  1099,    35,    36,    37,    38,  1100,  1101,\n",
       "        1102,    39,  1103,  1104,  1105,    40,  1106,  1109,  1111,\n",
       "          41,  1119,  1123,  1124,    42,  1125,    43,  1126,     1,\n",
       "          44,    45,    10,    46,    47,    48,    49,    50,    51,\n",
       "          52,    53,    11,    54,    55,    56,    57,    58,    12,\n",
       "          59,    60,    61,    13,    62,    63,    14,    15,    16,\n",
       "          17,    18,     5,     6,     7,    64,    65,    66,    67,\n",
       "          68,    69,    70,   142,   143,   144,   145,   164,   165,\n",
       "         166,   167,     8,   168,   169,   172,   178,   215,   217,\n",
       "         218,   219,   220,   221,   222,   225,   235,  1112, 52032,\n",
       "       52033, 52034, 48974, 48967, 48959, 48965, 48960, 48964, 48966,\n",
       "       61038, 60985, 60986, 60984, 60126, 60127, 60142, 60143, 47145,\n",
       "       47146, 47147, 47148, 47149, 71119, 71120, 71121, 71122, 71142,\n",
       "       60124, 44942, 44943, 44944, 44945, 44957, 44959, 44960, 44974,\n",
       "       44975, 44976, 62804, 62807, 62805, 62806, 62621, 62775, 62776,\n",
       "       62777, 62778, 62779, 62781, 62790, 62791, 62792, 62801, 62802,\n",
       "       62803, 16540, 16543, 16544, 16545, 14499, 14147, 16549, 16546,\n",
       "       16541,  4394, 14351, 16547, 16548, 16550, 16562, 17578, 17579,\n",
       "       17580,  4287, 16571, 16572, 16573, 16592, 16539, 14629, 16542,\n",
       "       16369, 39166, 39364, 24194, 50654, 39409, 39404, 39408, 39410,\n",
       "       39411, 39415, 39416, 39412, 39419, 39377, 46303, 46304, 39413,\n",
       "       46305, 39407, 46306, 46307, 39418, 39420, 39414, 39417, 61719,\n",
       "       61673, 14558, 14556, 14544, 14545, 14557, 14560, 14547, 14548,\n",
       "       14549, 14550, 14551, 14518, 14553, 14559, 14554, 14555, 63866,\n",
       "       63767,  4286, 62093,  4387, 62089, 62091, 62092, 62090, 61607,\n",
       "       61574, 61603, 57593, 61588, 57667, 61590, 57688, 48814, 58471,\n",
       "       61604, 58467, 58468, 61573, 57689, 57594, 42308, 58473, 58466,\n",
       "       42315, 57494, 58418, 58419, 57495, 57496, 58469, 58470, 59697,\n",
       "       59699, 59698, 61605, 59700, 61606, 57517, 58465, 48862, 57690, 61591]),\n",
       "       array([52001, 52002, 52576, 52000, 52575, 48963, 48961, 48962, 52015,\n",
       "       52567, 52568, 52569, 52570, 52571, 52572, 52573, 52574, 52017,\n",
       "       52018, 52031, 61037, 60988, 61008, 61009, 61026, 61029, 61030,\n",
       "       61031, 61032, 61033, 61034, 61035, 61036,   858,   171,   237,\n",
       "         238,   239,   240,   241,   242,   243,   244,   245,   246,\n",
       "         247,   248,   249,   250,   251,   263,   264,   265,   266,\n",
       "           9,   267,   268,   236,   269,   288,   435,   581,   582,\n",
       "         583,   589,   591,   592,   593,   594,   595,   596,   597,\n",
       "         598,   599,   617,   618,   619,   620,   621,   622,   623,\n",
       "         624,   625,   626,   628,   629,   630,   631,   632,   633,\n",
       "         634,   635,   636,   637,   638,   639,   640,   641,   642,\n",
       "         643,   644,   645,   646,   647,   648,   649,   650,   651,\n",
       "         652,     2,   654,   728,   729,   800,    19,   803,    20,\n",
       "         804,   805,   806,   807,   808,   809,    21,   810,   811,\n",
       "         812,   813,   814,   815,   816,   817,   818,   819,   820,\n",
       "         821,   822,   823,   824,   825,    22,   826,   827,   828,\n",
       "         829,   830,   831,   832,   833,   834,    23,   835,    24,\n",
       "         836,   837,   838,   857,   627,   860,   859,   861,   862,\n",
       "         863,   864,   865,   866,    25,   876,   877,     3,   878,\n",
       "         879,   880,   882,   892,   893,   897,   898,    26,   899,\n",
       "         900,   901,    27,    28,   902,    29,    30,   903,   904,\n",
       "         905,   906,     4,   907,   908,   966,   967,    31,   968,\n",
       "          32,   969,   970,    33,   971,   972,   973,   974,   975,\n",
       "         976,   977,   978,   979,   980,    34,   981,  1095,  1096,\n",
       "        1097,  1098,  1099,    35,    36,    37,    38,  1100,  1101,\n",
       "        1102,    39,  1103,  1104,  1105,    40,  1106,  1109,  1111,\n",
       "          41,  1119,  1123,  1124,    42,  1125,    43,  1126,     1,\n",
       "          44,    45,    10,    46,    47,    48,    49,    50,    51,\n",
       "          52,    53,    11,    54,    55,    56,    57,    58,    12,\n",
       "          59,    60,    61,    13,    62,    63,    14,    15,    16,\n",
       "          17,    18,     5,     6,     7,    64,    65,    66,    67,\n",
       "          68,    69,    70,   142,   143,   144,   145,   164,   165,\n",
       "         166,   167,     8,   168,   169,   172,   178,   215,   217,\n",
       "         218,   219,   220,   221,   222,   225,   235,  1112, 52032,\n",
       "       52033, 52034, 48974, 48967, 48959, 48965, 48960, 48964, 48966,\n",
       "       61038, 60985, 60986, 60984, 60126, 60127, 60142, 60143, 47145,\n",
       "       47146, 47147, 47148, 47149, 71119, 71120, 71121, 71122, 71142,\n",
       "       60124, 44942, 44943, 44944, 44945, 44957, 44959, 44960, 44974,\n",
       "       44975, 44976, 62804, 62807, 62805, 62806, 62621, 62775, 62776,\n",
       "       62777, 62778, 62779, 62781, 62790, 62791, 62792, 62801, 62802,\n",
       "       62803, 16540, 16543, 16544, 16545, 14499, 14147, 16549, 16546,\n",
       "       16541,  4394, 14351, 16547, 16548, 16550, 16562, 17578, 17579,\n",
       "       17580,  4287, 16571, 16572, 16573, 16592, 16539, 14629, 16542,\n",
       "       16369, 39166, 39364, 24194, 50654, 39409, 39404, 39408, 39410,\n",
       "       39411, 39415, 39416, 39412, 39419, 39377, 46303, 46304, 39413,\n",
       "       46305, 39407, 46306, 46307, 39418, 39420, 39414, 39417, 61719,\n",
       "       61673, 14558, 14556, 14544, 14545, 14557, 14560, 14547, 14548,\n",
       "       14549, 14550, 14551, 14518, 14553, 14559, 14554, 14555, 63866,\n",
       "       63767,  4286, 62093,  4387, 62089, 62091, 62092, 62090, 61607,\n",
       "       61574, 61603, 57593, 61588, 57667, 61590, 57688, 48814, 58471,\n",
       "       61604, 58467, 58468, 61573, 57689, 57594, 42308, 58473, 58466,\n",
       "       42315, 57494, 58418, 58419, 57495, 57496, 58469, 58470, 59697,\n",
       "       59699, 59698, 61605, 59700, 61606, 57517, 58465, 48862, 57690, 61591]),\n",
       "       array([52001, 52002, 52576, 52000, 52575, 48963, 48961, 48962, 52015,\n",
       "       52567, 52568, 52569, 52570, 52571, 52572, 52573, 52574, 52017,\n",
       "       52018, 52031, 61037, 60988, 61008, 61009, 61026, 61029, 61030,\n",
       "       61031, 61032, 61033, 61034, 61035, 61036,   858,   171,   237,\n",
       "         238,   239,   240,   241,   242,   243,   244,   245,   246,\n",
       "         247,   248,   249,   250,   251,   263,   264,   265,   266,\n",
       "           9,   267,   268,   236,   269,   288,   435,   581,   582,\n",
       "         583,   589,   591,   592,   593,   594,   595,   596,   597,\n",
       "         598,   599,   617,   618,   619,   620,   621,   622,   623,\n",
       "         624,   625,   626,   628,   629,   630,   631,   632,   633,\n",
       "         634,   635,   636,   637,   638,   639,   640,   641,   642,\n",
       "         643,   644,   645,   646,   647,   648,   649,   650,   651,\n",
       "         652,     2,   654,   728,   729,   800,    19,   803,    20,\n",
       "         804,   805,   806,   807,   808,   809,    21,   810,   811,\n",
       "         812,   813,   814,   815,   816,   817,   818,   819,   820,\n",
       "         821,   822,   823,   824,   825,    22,   826,   827,   828,\n",
       "         829,   830,   831,   832,   833,   834,    23,   835,    24,\n",
       "         836,   837,   838,   857,   627,   860,   859,   861,   862,\n",
       "         863,   864,   865,   866,    25,   876,   877,     3,   878,\n",
       "         879,   880,   882,   892,   893,   897,   898,    26,   899,\n",
       "         900,   901,    27,    28,   902,    29,    30,   903,   904,\n",
       "         905,   906,     4,   907,   908,   966,   967,    31,   968,\n",
       "          32,   969,   970,    33,   971,   972,   973,   974,   975,\n",
       "         976,   977,   978,   979,   980,    34,   981,  1095,  1096,\n",
       "        1097,  1098,  1099,    35,    36,    37,    38,  1100,  1101,\n",
       "        1102,    39,  1103,  1104,  1105,    40,  1106,  1109,  1111,\n",
       "          41,  1119,  1123,  1124,    42,  1125,    43,  1126,     1,\n",
       "          44,    45,    10,    46,    47,    48,    49,    50,    51,\n",
       "          52,    53,    11,    54,    55,    56,    57,    58,    12,\n",
       "          59,    60,    61,    13,    62,    63,    14,    15,    16,\n",
       "          17,    18,     5,     6,     7,    64,    65,    66,    67,\n",
       "          68,    69,    70,   142,   143,   144,   145,   164,   165,\n",
       "         166,   167,     8,   168,   169,   172,   178,   215,   217,\n",
       "         218,   219,   220,   221,   222,   225,   235,  1112, 52032,\n",
       "       52033, 52034, 48974, 48967, 48959, 48965, 48960, 48964, 48966,\n",
       "       61038, 60985, 60986, 60984, 60126, 60127, 60142, 60143, 47145,\n",
       "       47146, 47147, 47148, 47149, 71119, 71120, 71121, 71122, 71142,\n",
       "       60124, 44942, 44943, 44944, 44945, 44957, 44959, 44960, 44974,\n",
       "       44975, 44976, 62804, 62807, 62805, 62806, 62621, 62775, 62776,\n",
       "       62777, 62778, 62779, 62781, 62790, 62791, 62792, 62801, 62802,\n",
       "       62803, 16540, 16543, 16544, 16545, 14499, 14147, 16549, 16546,\n",
       "       16541,  4394, 14351, 16547, 16548, 16550, 16562, 17578, 17579,\n",
       "       17580,  4287, 16571, 16572, 16573, 16592, 16539, 14629, 16542,\n",
       "       16369, 39166, 39364, 24194, 50654, 39409, 39404, 39408, 39410,\n",
       "       39411, 39415, 39416, 39412, 39419, 39377, 46303, 46304, 39413,\n",
       "       46305, 39407, 46306, 46307, 39418, 39420, 39414, 39417, 61719,\n",
       "       61673, 14558, 14556, 14544, 14545, 14557, 14560, 14547, 14548,\n",
       "       14549, 14550, 14551, 14518, 14553, 14559, 14554, 14555, 63866,\n",
       "       63767,  4286, 62093,  4387, 62089, 62091, 62092, 62090, 61607,\n",
       "       61574, 61603, 57593, 61588, 57667, 61590, 57688, 48814, 58471,\n",
       "       61604, 58467, 58468, 61573, 57689, 57594, 42308, 58473, 58466,\n",
       "       42315, 57494, 58418, 58419, 57495, 57496, 58469, 58470, 59697,\n",
       "       59699, 59698, 61605, 59700, 61606, 57517, 58465, 48862, 57690, 61591]),\n",
       "       array([52001, 52002, 52576, 52000, 52575, 48963, 48961, 48962, 52015,\n",
       "       52567, 52568, 52569, 52570, 52571, 52572, 52573, 52574, 52017,\n",
       "       52018, 52031, 61037, 60988, 61008, 61009, 61026, 61029, 61030,\n",
       "       61031, 61032, 61033, 61034, 61035, 61036,   858,   171,   237,\n",
       "         238,   239,   240,   241,   242,   243,   244,   245,   246,\n",
       "         247,   248,   249,   250,   251,   263,   264,   265,   266,\n",
       "           9,   267,   268,   236,   269,   288,   435,   581,   582,\n",
       "         583,   589,   591,   592,   593,   594,   595,   596,   597,\n",
       "         598,   599,   617,   618,   619,   620,   621,   622,   623,\n",
       "         624,   625,   626,   628,   629,   630,   631,   632,   633,\n",
       "         634,   635,   636,   637,   638,   639,   640,   641,   642,\n",
       "         643,   644,   645,   646,   647,   648,   649,   650,   651,\n",
       "         652,     2,   654,   728,   729,   800,    19,   803,    20,\n",
       "         804,   805,   806,   807,   808,   809,    21,   810,   811,\n",
       "         812,   813,   814,   815,   816,   817,   818,   819,   820,\n",
       "         821,   822,   823,   824,   825,    22,   826,   827,   828,\n",
       "         829,   830,   831,   832,   833,   834,    23,   835,    24,\n",
       "         836,   837,   838,   857,   627,   860,   859,   861,   862,\n",
       "         863,   864,   865,   866,    25,   876,   877,     3,   878,\n",
       "         879,   880,   882,   892,   893,   897,   898,    26,   899,\n",
       "         900,   901,    27,    28,   902,    29,    30,   903,   904,\n",
       "         905,   906,     4,   907,   908,   966,   967,    31,   968,\n",
       "          32,   969,   970,    33,   971,   972,   973,   974,   975,\n",
       "         976,   977,   978,   979,   980,    34,   981,  1095,  1096,\n",
       "        1097,  1098,  1099,    35,    36,    37,    38,  1100,  1101,\n",
       "        1102,    39,  1103,  1104,  1105,    40,  1106,  1109,  1111,\n",
       "          41,  1119,  1123,  1124,    42,  1125,    43,  1126,     1,\n",
       "          44,    45,    10,    46,    47,    48,    49,    50,    51,\n",
       "          52,    53,    11,    54,    55,    56,    57,    58,    12,\n",
       "          59,    60,    61,    13,    62,    63,    14,    15,    16,\n",
       "          17,    18,     5,     6,     7,    64,    65,    66,    67,\n",
       "          68,    69,    70,   142,   143,   144,   145,   164,   165,\n",
       "         166,   167,     8,   168,   169,   172,   178,   215,   217,\n",
       "         218,   219,   220,   221,   222,   225,   235,  1112, 52032,\n",
       "       52033, 52034, 48974, 48967, 48959, 48965, 48960, 48964, 48966,\n",
       "       61038, 60985, 60986, 60984, 60126, 60127, 60142, 60143, 47145,\n",
       "       47146, 47147, 47148, 47149, 71119, 71120, 71121, 71122, 71142,\n",
       "       60124, 44942, 44943, 44944, 44945, 44957, 44959, 44960, 44974,\n",
       "       44975, 44976, 62804, 62807, 62805, 62806, 62621, 62775, 62776,\n",
       "       62777, 62778, 62779, 62781, 62790, 62791, 62792, 62801, 62802,\n",
       "       62803, 16540, 16543, 16544, 16545, 14499, 14147, 16549, 16546,\n",
       "       16541,  4394, 14351, 16547, 16548, 16550, 16562, 17578, 17579,\n",
       "       17580,  4287, 16571, 16572, 16573, 16592, 16539, 14629, 16542,\n",
       "       16369, 39166, 39364, 24194, 50654, 39409, 39404, 39408, 39410,\n",
       "       39411, 39415, 39416, 39412, 39419, 39377, 46303, 46304, 39413,\n",
       "       46305, 39407, 46306, 46307, 39418, 39420, 39414, 39417, 61719,\n",
       "       61673, 14558, 14556, 14544, 14545, 14557, 14560, 14547, 14548,\n",
       "       14549, 14550, 14551, 14518, 14553, 14559, 14554, 14555, 63866,\n",
       "       63767,  4286, 62093,  4387, 62089, 62091, 62092, 62090, 61607,\n",
       "       61574, 61603, 57593, 61588, 57667, 61590, 57688, 48814, 58471,\n",
       "       61604, 58467, 58468, 61573, 57689, 57594, 42308, 58473, 58466,\n",
       "       42315, 57494, 58418, 58419, 57495, 57496, 58469, 58470, 59697,\n",
       "       59699, 59698, 61605, 59700, 61606, 57517, 58465, 48862, 57690, 61591]),\n",
       "       array([52001, 52002, 52576, 52000, 52575, 48963, 48961, 48962, 52015,\n",
       "       52567, 52568, 52569, 52570, 52571, 52572, 52573, 52574, 52017,\n",
       "       52018, 52031, 61037, 60988, 61008, 61009, 61026, 61029, 61030,\n",
       "       61031, 61032, 61033, 61034, 61035, 61036,   858,   171,   237,\n",
       "         238,   239,   240,   241,   242,   243,   244,   245,   246,\n",
       "         247,   248,   249,   250,   251,   263,   264,   265,   266,\n",
       "           9,   267,   268,   236,   269,   288,   435,   581,   582,\n",
       "         583,   589,   591,   592,   593,   594,   595,   596,   597,\n",
       "         598,   599,   617,   618,   619,   620,   621,   622,   623,\n",
       "         624,   625,   626,   628,   629,   630,   631,   632,   633,\n",
       "         634,   635,   636,   637,   638,   639,   640,   641,   642,\n",
       "         643,   644,   645,   646,   647,   648,   649,   650,   651,\n",
       "         652,     2,   654,   728,   729,   800,    19,   803,    20,\n",
       "         804,   805,   806,   807,   808,   809,    21,   810,   811,\n",
       "         812,   813,   814,   815,   816,   817,   818,   819,   820,\n",
       "         821,   822,   823,   824,   825,    22,   826,   827,   828,\n",
       "         829,   830,   831,   832,   833,   834,    23,   835,    24,\n",
       "         836,   837,   838,   857,   627,   860,   859,   861,   862,\n",
       "         863,   864,   865,   866,    25,   876,   877,     3,   878,\n",
       "         879,   880,   882,   892,   893,   897,   898,    26,   899,\n",
       "         900,   901,    27,    28,   902,    29,    30,   903,   904,\n",
       "         905,   906,     4,   907,   908,   966,   967,    31,   968,\n",
       "          32,   969,   970,    33,   971,   972,   973,   974,   975,\n",
       "         976,   977,   978,   979,   980,    34,   981,  1095,  1096,\n",
       "        1097,  1098,  1099,    35,    36,    37,    38,  1100,  1101,\n",
       "        1102,    39,  1103,  1104,  1105,    40,  1106,  1109,  1111,\n",
       "          41,  1119,  1123,  1124,    42,  1125,    43,  1126,     1,\n",
       "          44,    45,    10,    46,    47,    48,    49,    50,    51,\n",
       "          52,    53,    11,    54,    55,    56,    57,    58,    12,\n",
       "          59,    60,    61,    13,    62,    63,    14,    15,    16,\n",
       "          17,    18,     5,     6,     7,    64,    65,    66,    67,\n",
       "          68,    69,    70,   142,   143,   144,   145,   164,   165,\n",
       "         166,   167,     8,   168,   169,   172,   178,   215,   217,\n",
       "         218,   219,   220,   221,   222,   225,   235,  1112, 52032,\n",
       "       52033, 52034, 48974, 48967, 48959, 48965, 48960, 48964, 48966,\n",
       "       61038, 60985, 60986, 60984, 60126, 60127, 60142, 60143, 47145,\n",
       "       47146, 47147, 47148, 47149, 71119, 71120, 71121, 71122, 71142,\n",
       "       60124, 44942, 44943, 44944, 44945, 44957, 44959, 44960, 44974,\n",
       "       44975, 44976, 62804, 62807, 62805, 62806, 62621, 62775, 62776,\n",
       "       62777, 62778, 62779, 62781, 62790, 62791, 62792, 62801, 62802,\n",
       "       62803, 16540, 16543, 16544, 16545, 14499, 14147, 16549, 16546,\n",
       "       16541,  4394, 14351, 16547, 16548, 16550, 16562, 17578, 17579,\n",
       "       17580,  4287, 16571, 16572, 16573, 16592, 16539, 14629, 16542,\n",
       "       16369, 39166, 39364, 24194, 50654, 39409, 39404, 39408, 39410,\n",
       "       39411, 39415, 39416, 39412, 39419, 39377, 46303, 46304, 39413,\n",
       "       46305, 39407, 46306, 46307, 39418, 39420, 39414, 39417, 61719,\n",
       "       61673, 14558, 14556, 14544, 14545, 14557, 14560, 14547, 14548,\n",
       "       14549, 14550, 14551, 14518, 14553, 14559, 14554, 14555, 63866,\n",
       "       63767,  4286, 62093,  4387, 62089, 62091, 62092, 62090, 61607,\n",
       "       61574, 61603, 57593, 61588, 57667, 61590, 57688, 48814, 58471,\n",
       "       61604, 58467, 58468, 61573, 57689, 57594, 42308, 58473, 58466,\n",
       "       42315, 57494, 58418, 58419, 57495, 57496, 58469, 58470, 59697,\n",
       "       59699, 59698, 61605, 59700, 61606, 57517, 58465, 48862, 57690, 61591])], dtype=object)"
      ]
     },
     "execution_count": 58,
     "metadata": {},
     "output_type": "execute_result"
    }
   ],
   "source": [
    "ptval for p"
   ]
  },
  {
   "cell_type": "code",
   "execution_count": 28,
   "metadata": {
    "collapsed": false
   },
   "outputs": [
    {
     "data": {
      "text/plain": [
       "array([176619, 176617, 175744, 176621, 175746, 177641, 177645, 177643,\n",
       "       176623, 175762, 175760, 175758, 175756, 175754, 175752, 175750,\n",
       "       175748, 176625, 176629, 176635, 209197, 209272, 209270, 209266,\n",
       "       209268, 209264, 209262, 209260, 209258, 209256, 209210, 209201,\n",
       "       209199, 233104, 236216, 237752, 237751, 237750, 237749, 237748,\n",
       "       237747, 237737, 237746, 237744, 237743, 237742, 237741, 237740,\n",
       "       237739, 237745, 236232, 236231, 236230, 236229, 237798, 236228,\n",
       "       236227, 237738, 236233, 236225, 235449, 235448, 235447, 235446,\n",
       "       233191, 233190, 233188, 233187, 233186, 233185, 233184, 233183,\n",
       "       233189, 233182, 233181, 233180, 233179, 233159, 233158, 233157,\n",
       "       233156, 233155, 233154, 233160, 233151, 233150, 233149, 233148,\n",
       "       233147, 233146, 233152, 233161, 233162, 233163, 233178, 233177,\n",
       "       233176, 233175, 233174, 233173, 233172, 233171, 233170, 233169,\n",
       "       233168, 233167, 233166, 233165, 233164, 237805, 233145, 233144,\n",
       "       233142, 233143, 237824, 233123, 237823, 233122, 233121, 233120,\n",
       "       233119, 233118, 233124, 237822, 233117, 233115, 233114, 233113,\n",
       "       233112, 233111, 233110, 233116, 233109, 233125, 233127, 233141,\n",
       "       233140, 233139, 233138, 233137, 237821, 233136, 233126, 233135,\n",
       "       233133, 233132, 233131, 233130, 233129, 233128, 237820, 233134,\n",
       "       237819, 233108, 233107, 233106, 233105, 233153, 233102, 233103,\n",
       "       233101, 233100, 233099, 233098, 233097, 233096, 237809, 234676,\n",
       "       234675, 237804, 234674, 234673, 234672, 234677, 234678, 234680,\n",
       "       234691, 234690, 237818, 234689, 234679, 234688, 237816, 237815,\n",
       "       234686, 237814, 237813, 234685, 234684, 234683, 234682, 237803,\n",
       "       234681, 234687, 235431, 235445, 237812, 235444, 237811, 235443,\n",
       "       235442, 237817, 235441, 235440, 235430, 235439, 235437, 235436,\n",
       "       235435, 235434, 235433, 235432, 237825, 235438, 233926, 233925,\n",
       "       233924, 233923, 233922, 237791, 237789, 237770, 237769, 233921,\n",
       "       233927, 233920, 237768, 233918, 233917, 233916, 237767, 233915,\n",
       "       233919, 233928, 237766, 233929, 233934, 233933, 237765, 233932,\n",
       "       237771, 233931, 237806, 237764, 237762, 237797, 237761, 237760,\n",
       "       237759, 237758, 237757, 237763, 237790, 237772, 237796, 237774,\n",
       "       237788, 237787, 237786, 237785, 237795, 237784, 237783, 237773,\n",
       "       237794, 237782, 237780, 237793, 237799, 237792, 237808, 237810,\n",
       "       237802, 237801, 237807, 237779, 237778, 237777, 237776, 237775,\n",
       "       237781, 237826, 237756, 237755, 237754, 237753, 236222, 236221,\n",
       "       236220, 236219, 237800, 236218, 236217, 236214, 236215, 236223,\n",
       "       236224, 236226, 237734, 237733, 237732, 237731, 237735, 237736,\n",
       "       233930, 176633, 176631, 176627, 177651, 177633, 177649, 177637,\n",
       "       177647, 177639, 177635, 209180, 209276, 209274, 209277, 209669,\n",
       "       209745, 209746, 209679, 193999, 193998, 193932, 193922, 193902,\n",
       "       200790, 200789, 200723, 200713, 200693, 209649, 196706, 196704,\n",
       "       196702, 196700, 196708, 196710, 196714, 196718, 196716, 196712,\n",
       "       219513, 219507, 219511, 219509, 219549, 219497, 219495, 219473,\n",
       "       219453, 219423, 219499, 219501, 219503, 219505, 219519, 219517,\n",
       "       219515, 229393, 229399, 229401, 229403, 221962, 221715, 229411,\n",
       "       229405, 229395, 237857, 221741, 229407, 229409, 229413, 229389,\n",
       "       230930, 230920, 230900, 237827, 229367, 229347, 229335, 229317,\n",
       "       229391, 222011, 229397, 229443, 188655, 188608, 262450, 175159,\n",
       "       188598, 188556, 188600, 188596, 188594, 188586, 188584, 188592,\n",
       "       188578, 188632, 191240, 191239, 188590, 191173, 188602, 191163,\n",
       "       191143, 188580, 188536, 188588, 188582, 210960, 211005, 221929,\n",
       "       221933, 221885, 221905, 221931, 221939, 221951, 221949, 221947,\n",
       "       221945, 221943, 221981, 221941, 221927, 221937, 221935, 220894,\n",
       "       220862, 237828, 211692, 237858, 211789, 211722, 211712, 211788,\n",
       "       212462, 212454, 212472, 213495, 212458, 213493, 212460, 213489,\n",
       "       177854, 213240, 212470, 213248, 213246, 212456, 213487, 213491,\n",
       "       187862, 213236, 213250, 187818, 213503, 213234, 213238, 213501,\n",
       "       213499, 213244, 213242, 214344, 214340, 214342, 212468, 214338,\n",
       "       212466, 213497, 213252, 177804, 213485, 212464])"
      ]
     },
     "execution_count": 28,
     "metadata": {},
     "output_type": "execute_result"
    }
   ],
   "source": [
    "pt.indMapping.loc[pts[0]].values.reshape(len(pts[0]))"
   ]
  },
  {
   "cell_type": "code",
   "execution_count": null,
   "metadata": {
    "collapsed": true
   },
   "outputs": [],
   "source": [
    "hp.pix2ang()"
   ]
  }
 ],
 "metadata": {
  "anaconda-cloud": {},
  "kernelspec": {
   "display_name": "Python [default]",
   "language": "python",
   "name": "python2"
  },
  "language_info": {
   "codemirror_mode": {
    "name": "ipython",
    "version": 2
   },
   "file_extension": ".py",
   "mimetype": "text/x-python",
   "name": "python",
   "nbconvert_exporter": "python",
   "pygments_lexer": "ipython2",
   "version": "2.7.12"
  }
 },
 "nbformat": 4,
 "nbformat_minor": 1
}
