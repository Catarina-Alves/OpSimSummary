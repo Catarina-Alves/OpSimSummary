{
 "cells": [
  {
   "cell_type": "code",
   "execution_count": 1,
   "metadata": {
    "collapsed": true
   },
   "outputs": [],
   "source": [
    "import os\n",
    "import numpy as np\n",
    "import pandas as pd"
   ]
  },
  {
   "cell_type": "markdown",
   "metadata": {},
   "source": [
    "Note For this to work, you will need the `lsst.sims` stack to be installed. \n",
    " - opsimsummary uses `healpy` which is installed with the sims stack, but also available from pip/conda\n",
    " - snsims uses the `lsst.sims` stack."
   ]
  },
  {
   "cell_type": "code",
   "execution_count": 13,
   "metadata": {
    "collapsed": false
   },
   "outputs": [],
   "source": [
    "import opsimsummary as oss\n",
    "from opsimsummary import Tiling, HealpixTiles\n",
    "# import snsims\n",
    "import healpy as hp"
   ]
  },
  {
   "cell_type": "code",
   "execution_count": 3,
   "metadata": {
    "collapsed": true
   },
   "outputs": [],
   "source": [
    "%matplotlib inline\n",
    "import matplotlib.pyplot as plt"
   ]
  },
  {
   "cell_type": "markdown",
   "metadata": {},
   "source": [
    "## This section pertains to how to write a new Tiling class"
   ]
  },
  {
   "cell_type": "markdown",
   "metadata": {
    "collapsed": false
   },
   "source": [
    "```\n",
    "noTile = snsims.Tiling()\n",
    "---------------------------------------------------------------------------\n",
    "TypeError                                 Traceback (most recent call last)\n",
    "<ipython-input-9-5f6f8a94508e> in <module>()\n",
    "----> 1 noTile = snsims.Tiling()\n",
    "\n",
    "TypeError: Can't instantiate abstract class Tiling with abstract methods __init__, area, pointingSequenceForTile, tileIDSequence, tileIDsForSN\n",
    "```"
   ]
  },
  {
   "cell_type": "markdown",
   "metadata": {},
   "source": [
    "The class `snsims.Tiling` is an abstract Base class. Therefore, this cannot be instantiated. It must be subclassed, and the set of methods outlined have to be implemented for this to work."
   ]
  },
  {
   "cell_type": "code",
   "execution_count": 8,
   "metadata": {
    "collapsed": false
   },
   "outputs": [],
   "source": [
    "class NoTile(Tiling):\n",
    "    pass"
   ]
  },
  {
   "cell_type": "code",
   "execution_count": 9,
   "metadata": {
    "collapsed": false
   },
   "outputs": [
    {
     "ename": "TypeError",
     "evalue": "Can't instantiate abstract class NoTile with abstract methods __init__, area, pointingSequenceForTile, positions, tileIDSequence, tileIDsForSN",
     "output_type": "error",
     "traceback": [
      "\u001b[0;31m---------------------------------------------------------------------------\u001b[0m",
      "\u001b[0;31mTypeError\u001b[0m                                 Traceback (most recent call last)",
      "\u001b[0;32m<ipython-input-9-8ddedac7fb97>\u001b[0m in \u001b[0;36m<module>\u001b[0;34m()\u001b[0m\n\u001b[0;32m----> 1\u001b[0;31m \u001b[0mnoTile\u001b[0m \u001b[0;34m=\u001b[0m \u001b[0mNoTile\u001b[0m\u001b[0;34m(\u001b[0m\u001b[0;34m)\u001b[0m\u001b[0;34m\u001b[0m\u001b[0m\n\u001b[0m",
      "\u001b[0;31mTypeError\u001b[0m: Can't instantiate abstract class NoTile with abstract methods __init__, area, pointingSequenceForTile, positions, tileIDSequence, tileIDsForSN"
     ]
    }
   ],
   "source": [
    "noTile = NoTile()"
   ]
  },
  {
   "cell_type": "markdown",
   "metadata": {
    "collapsed": false
   },
   "source": [
    "\n",
    "```\n",
    "\"\"\"noTile = NoTile()\n",
    "---------------------------------------------------------------------------\n",
    "TypeError                                 Traceback (most recent call last)\n",
    "<ipython-input-4-8ddedac7fb97> in <module>()\n",
    "----> 1 noTile = NoTile()\n",
    "\n",
    "TypeError: Can't instantiate abstract class NoTile with abstract methods __init__, area, pointingSequenceForTile, positions, tileIDSequence, tileIDsForSN\n",
    "\"\"\"\n",
    "```"
   ]
  },
  {
   "cell_type": "markdown",
   "metadata": {},
   "source": [
    "The above fails because the methods are not implemented. Below is a stupid (ie. not useful) but minimalist class that would work:"
   ]
  },
  {
   "cell_type": "code",
   "execution_count": 10,
   "metadata": {
    "collapsed": false
   },
   "outputs": [],
   "source": [
    "class MyTile(Tiling):\n",
    "    def __init__(self):\n",
    "        pass\n",
    "    @property\n",
    "    def tileIDSequence(self):\n",
    "        return np.arange(100)\n",
    "    \n",
    "    def tileIDsForSN(self, ra, dec):\n",
    "        x = ra + dec\n",
    "        y = np.remainder(x, 100.)\n",
    "        return np.floor(y)\n",
    "    def area(self, tileID):\n",
    "        return 1.\n",
    "    def pointingSequenceForTile(self, tileID, pointings):\n",
    "        return None\n",
    "    def positions(self):\n",
    "        pass\n",
    "    "
   ]
  },
  {
   "cell_type": "code",
   "execution_count": 11,
   "metadata": {
    "collapsed": false
   },
   "outputs": [],
   "source": [
    "myTile = MyTile()"
   ]
  },
  {
   "cell_type": "markdown",
   "metadata": {},
   "source": [
    "## Using the class HealpixTiles"
   ]
  },
  {
   "cell_type": "markdown",
   "metadata": {},
   "source": [
    "Currently there is only concrete tiling class that has been implemented. This is the `snsims.HealpixTiles` class.\n",
    "\n",
    "This shows how to use the HealpixTiles Class"
   ]
  },
  {
   "cell_type": "code",
   "execution_count": 14,
   "metadata": {
    "collapsed": false
   },
   "outputs": [
    {
     "data": {
      "text/plain": [
       "True"
      ]
     },
     "execution_count": 14,
     "metadata": {},
     "output_type": "execute_result"
    }
   ],
   "source": [
    "issubclass(HealpixTiles, Tiling)"
   ]
  },
  {
   "cell_type": "code",
   "execution_count": 16,
   "metadata": {
    "collapsed": false
   },
   "outputs": [
    {
     "name": "stdout",
     "output_type": "stream",
     "text": [
      "Help on class HealpixTiles in module opsimsummary.healpixTiles:\n",
      "\n",
      "class HealpixTiles(opsimsummary.tessellations.Tiling)\n",
      " |  A concrete Tiling class based on Healpix Tiles. The user is\n",
      " |  allowed to choose the following parameters:\n",
      " |  \n",
      " |  Attributes\n",
      " |  ----------\n",
      " |  nside : int, power of 2, defaults to 256\n",
      " |      healpix nside parameter\n",
      " |  \n",
      " |  Method resolution order:\n",
      " |      HealpixTiles\n",
      " |      opsimsummary.tessellations.Tiling\n",
      " |      __builtin__.object\n",
      " |  \n",
      " |  Methods defined here:\n",
      " |  \n",
      " |  __init__(self, nside=256, healpixelizedOpSim=None, preComputedMap=None)\n",
      " |      nside : int, power of 2, defaults to 256\n",
      " |          nside parameter of healpix. determines the size of the tiles\n",
      " |          so that there are 12 * nside **2 equally sized tiles covering\n",
      " |          the sphere.\n",
      " |  \n",
      " |  area(self, tileID)\n",
      " |  \n",
      " |  pointingSequenceForTile(self, tileID, allPointings=None, columns=None, **kwargs)\n",
      " |      return a maximal sequence of pointings for a particular tileID.\n",
      " |  \n",
      " |  positions(self, tileID, numSamples, rng=None)\n",
      " |      Return a tuple of (res_phi, res_theta) where res_phi and res_theta are\n",
      " |      spatially uniform samples  of positions of size numSamples within the\n",
      " |      healpix Tile with ipix=tileID in the nested scheme. The return values\n",
      " |      should be in degrees, with the convention that theta is 0 on the equator and \n",
      " |      90 degrees at the North Pole.\n",
      " |      \n",
      " |      Parameters\n",
      " |      ---------\n",
      " |      tileID : int, mandatory\n",
      " |      \n",
      " |      numSamples : number of positions required\n",
      " |      \n",
      " |      rng : instance of `np.random.RandomState`\n",
      " |      \n",
      " |      \n",
      " |      Returns\n",
      " |      -------\n",
      " |      \n",
      " |      .. notes : 1. The inelegant method is sampling a circle with a radius\n",
      " |          twice that required to have an area equal to the healpix tile. This\n",
      " |          operation can be done by self.samplePatchOnSphere and returns \n",
      " |          numSamples, some of which are not on the healpixTiles.\n",
      " |          2. `self._angularSamples` returns only those of this sequence which\n",
      " |          lie on the original tile.\n",
      " |          3. by repeating the process till the number obtained matches the number\n",
      " |          requested, we obtain nsamples on the tile.\n",
      " |          4. The method works as long as the radius is large enough so that\n",
      " |          corners of the tile are not outside the circle sampled.\n",
      " |  \n",
      " |  tileIDsForSN(self, ra, dec)\n",
      " |      Parameters\n",
      " |      ----------\n",
      " |      ra : `numpyp.ndarray` or float, degrees, mandatory\n",
      " |      dec : `numpy.ndarray` or float, degrees, mandatory\n",
      " |  \n",
      " |  tilesForPointing(self, pointing, alltiles=None, **kwargs)\n",
      " |      return a maximal sequence of tile ID s for a particular OpSim pointing\n",
      " |  \n",
      " |  ----------------------------------------------------------------------\n",
      " |  Data descriptors defined here:\n",
      " |  \n",
      " |  preComputedEngine\n",
      " |  \n",
      " |  preComputedMap\n",
      " |  \n",
      " |  tileIDSequence\n",
      " |  \n",
      " |  ----------------------------------------------------------------------\n",
      " |  Data and other attributes defined here:\n",
      " |  \n",
      " |  __abstractmethods__ = frozenset([])\n",
      " |  \n",
      " |  ----------------------------------------------------------------------\n",
      " |  Static methods inherited from opsimsummary.tessellations.Tiling:\n",
      " |  \n",
      " |  samplePatchOnSphere(phi, theta, delta, size, rng, degrees=True)\n",
      " |      Uniformly distributes samples on a patch on a sphere between\n",
      " |      phi \\pm delta, and theta \\pm delta on a sphere. Uniform distribution\n",
      " |      implies that the number of points in a patch of sphere is proportional\n",
      " |      to the area of the patch. Here, the coordinate system is the usual\n",
      " |      spherical coordinate system with the azimuthal angle theta going from\n",
      " |      0 degrees at the North Pole, to 90 degrees at the South Pole, through\n",
      " |      0. at the equator.\n",
      " |      \n",
      " |      This function is not equipped to handle wrap-around the ranges of theta\n",
      " |      phi and therefore does not work at the poles.\n",
      " |      \n",
      " |      Parameters\n",
      " |      ----------\n",
      " |      phi: float, mandatory, degrees\n",
      " |          center of the spherical patch in ra with range \n",
      " |      theta: float, mandatory, degrees\n",
      " |      delta: float, mandatory, degrees\n",
      " |      size: int, mandatory\n",
      " |          number of samples\n",
      " |      seed : int, optional, defaults to 1\n",
      " |          random Seed used for generating values\n",
      " |      degrees : bool, optional, defaults to True\n",
      " |          if True, returns angles in degrees, else in\n",
      " |          radians\n",
      " |      \n",
      " |      Returns\n",
      " |      -------\n",
      " |      tuple of (phivals, thetavals) where phivals and thetavals are arrays of \n",
      " |          size size in degrees.\n",
      " |  \n",
      " |  ----------------------------------------------------------------------\n",
      " |  Data descriptors inherited from opsimsummary.tessellations.Tiling:\n",
      " |  \n",
      " |  __dict__\n",
      " |      dictionary for instance variables (if defined)\n",
      " |  \n",
      " |  __weakref__\n",
      " |      list of weak references to the object (if defined)\n",
      "\n"
     ]
    }
   ],
   "source": [
    "help(HealpixTiles)"
   ]
  },
  {
   "cell_type": "code",
   "execution_count": 17,
   "metadata": {
    "collapsed": false
   },
   "outputs": [],
   "source": [
    "datadir = os.path.join(oss.__path__[0], 'example_data')\n",
    "opsimdb = os.path.join(datadir, 'enigma_1189_micro.db')"
   ]
  },
  {
   "cell_type": "code",
   "execution_count": 18,
   "metadata": {
    "collapsed": true
   },
   "outputs": [],
   "source": [
    "NSIDE = 4"
   ]
  },
  {
   "cell_type": "code",
   "execution_count": 19,
   "metadata": {
    "collapsed": false
   },
   "outputs": [
    {
     "name": "stdout",
     "output_type": "stream",
     "text": [
      " reading from database sqlite:////Users/rbiswas/.local/lib/python2.7/site-packages/opsimsummary/example_data/enigma_1189_micro.db\n",
      "SELECT * FROM Summary WHERE PROPID in (366, 364)\n"
     ]
    }
   ],
   "source": [
    "hpOpSim = oss.HealPixelizedOpSim.fromOpSimDB(opsimdb, NSIDE=NSIDE)"
   ]
  },
  {
   "cell_type": "code",
   "execution_count": 20,
   "metadata": {
    "collapsed": false
   },
   "outputs": [
    {
     "data": {
      "text/plain": [
       "4"
      ]
     },
     "execution_count": 20,
     "metadata": {},
     "output_type": "execute_result"
    }
   ],
   "source": [
    "NSIDE"
   ]
  },
  {
   "cell_type": "code",
   "execution_count": 22,
   "metadata": {
    "collapsed": false
   },
   "outputs": [],
   "source": [
    "hpTileshpOpSim = HealpixTiles(healpixelizedOpSim=hpOpSim, nside=NSIDE)"
   ]
  },
  {
   "cell_type": "code",
   "execution_count": 23,
   "metadata": {
    "collapsed": false
   },
   "outputs": [
    {
     "data": {
      "text/plain": [
       "array([], dtype=int64)"
      ]
     },
     "execution_count": 23,
     "metadata": {},
     "output_type": "execute_result"
    }
   ],
   "source": [
    "hpTileshpOpSim.pointingSequenceForTile(1, allPointings=None)"
   ]
  },
  {
   "cell_type": "code",
   "execution_count": 24,
   "metadata": {
    "collapsed": false
   },
   "outputs": [],
   "source": [
    "phi, theta = hpTileshpOpSim.positions(1, 10000)"
   ]
  },
  {
   "cell_type": "code",
   "execution_count": 25,
   "metadata": {
    "collapsed": false
   },
   "outputs": [],
   "source": [
    "mapvals = np.ones(hp.nside2npix(NSIDE)) * hp.UNSEEN"
   ]
  },
  {
   "cell_type": "code",
   "execution_count": 26,
   "metadata": {
    "collapsed": true
   },
   "outputs": [],
   "source": [
    "mapvals[1] = 100"
   ]
  },
  {
   "cell_type": "code",
   "execution_count": null,
   "metadata": {
    "collapsed": true
   },
   "outputs": [],
   "source": []
  },
  {
   "cell_type": "code",
   "execution_count": 27,
   "metadata": {
    "collapsed": false
   },
   "outputs": [
    {
     "data": {
      "text/plain": [
       "array([13, 13, 13, ..., 13, 15, 15])"
      ]
     },
     "execution_count": 27,
     "metadata": {},
     "output_type": "execute_result"
    }
   ],
   "source": [
    "hp.ang2pix(NSIDE, np.radians(theta), np.radians(phi), nest=True)"
   ]
  },
  {
   "cell_type": "code",
   "execution_count": 28,
   "metadata": {
    "collapsed": true
   },
   "outputs": [],
   "source": [
    "theta_c, phi_c = hp.pix2ang(4, 1, nest=True)"
   ]
  },
  {
   "cell_type": "code",
   "execution_count": 29,
   "metadata": {
    "collapsed": false
   },
   "outputs": [
    {
     "data": {
      "text/plain": [
       "<matplotlib.collections.PathCollection at 0x10bddaf10>"
      ]
     },
     "execution_count": 29,
     "metadata": {},
     "output_type": "execute_result"
    },
    {
     "data": {
      "image/png": "[encoded data removed]",
      "text/plain": [
       "<matplotlib.figure.Figure at 0x10850aad0>"
      ]
     },
     "metadata": {},
     "output_type": "display_data"
    }
   ],
   "source": [
    "hp.mollview(mapvals, nest=True)\n",
    "hp.projscatter(np.radians(theta), np.radians(phi), **dict(s=0.0002))\n",
    "hp.projscatter(theta_c, phi_c, **dict(s=8., c='r'))"
   ]
  },
  {
   "cell_type": "code",
   "execution_count": 30,
   "metadata": {
    "collapsed": false
   },
   "outputs": [
    {
     "name": "stdout",
     "output_type": "stream",
     "text": [
      "100 loops, best of 3: 2.52 ms per loop\n"
     ]
    }
   ],
   "source": [
    "%timeit hpTileshpOpSim.pointingSequenceForTile(33, allPointings=None)"
   ]
  },
  {
   "cell_type": "code",
   "execution_count": 31,
   "metadata": {
    "collapsed": true
   },
   "outputs": [],
   "source": [
    "preCompMap = os.path.join(oss.__path__[0], 'example_data', 'healpixels_micro.db')"
   ]
  },
  {
   "cell_type": "code",
   "execution_count": 33,
   "metadata": {
    "collapsed": false
   },
   "outputs": [],
   "source": [
    "hpTilesMap = HealpixTiles(nside=1, preComputedMap=preCompMap)"
   ]
  },
  {
   "cell_type": "code",
   "execution_count": 34,
   "metadata": {
    "collapsed": false
   },
   "outputs": [
    {
     "data": {
      "text/plain": [
       "array([171077, 171078, 171079, ..., 272594, 272626, 272656])"
      ]
     },
     "execution_count": 34,
     "metadata": {},
     "output_type": "execute_result"
    }
   ],
   "source": [
    "hpTilesMap.pointingSequenceForTile(10, allPointings=None)"
   ]
  },
  {
   "cell_type": "code",
   "execution_count": 35,
   "metadata": {
    "collapsed": false
   },
   "outputs": [
    {
     "name": "stdout",
     "output_type": "stream",
     "text": [
      "100 loops, best of 3: 2.49 ms per loop\n"
     ]
    }
   ],
   "source": [
    "%timeit hpOpSim.obsHistIdsForTile(34)"
   ]
  },
  {
   "cell_type": "code",
   "execution_count": 36,
   "metadata": {
    "collapsed": true
   },
   "outputs": [],
   "source": [
    "hpTiles = HealpixTiles(healpixelizedOpSim=hpOpSim)"
   ]
  },
  {
   "cell_type": "code",
   "execution_count": 37,
   "metadata": {
    "collapsed": false
   },
   "outputs": [
    {
     "data": {
      "text/plain": [
       "array([], dtype=int64)"
      ]
     },
     "execution_count": 37,
     "metadata": {},
     "output_type": "execute_result"
    }
   ],
   "source": [
    "hpTiles.pointingSequenceForTile(34, allPointings=None)"
   ]
  },
  {
   "cell_type": "code",
   "execution_count": null,
   "metadata": {
    "collapsed": true
   },
   "outputs": [],
   "source": []
  },
  {
   "cell_type": "code",
   "execution_count": null,
   "metadata": {
    "collapsed": true
   },
   "outputs": [],
   "source": []
  }
 ],
 "metadata": {
  "anaconda-cloud": {},
  "kernelspec": {
   "display_name": "Python [default]",
   "language": "python",
   "name": "python2"
  },
  "language_info": {
   "codemirror_mode": {
    "name": "ipython",
    "version": 2
   },
   "file_extension": ".py",
   "mimetype": "text/x-python",
   "name": "python",
   "nbconvert_exporter": "python",
   "pygments_lexer": "ipython2",
   "version": "2.7.12"
  }
 },
 "nbformat": 4,
 "nbformat_minor": 0
}
